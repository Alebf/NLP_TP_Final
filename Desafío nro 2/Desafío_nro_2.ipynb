{
  "nbformat": 4,
  "nbformat_minor": 0,
  "metadata": {
    "colab": {
      "name": "Desafío nro 2.ipynb",
      "provenance": []
    },
    "kernelspec": {
      "name": "python3",
      "display_name": "Python 3"
    },
    "language_info": {
      "name": "python"
    },
    "widgets": {
      "application/vnd.jupyter.widget-state+json": {
        "c5014e4c4d5d4ab5ba3457b1de92237e": {
          "model_module": "@jupyter-widgets/controls",
          "model_name": "HBoxModel",
          "model_module_version": "1.5.0",
          "state": {
            "_dom_classes": [],
            "_model_module": "@jupyter-widgets/controls",
            "_model_module_version": "1.5.0",
            "_model_name": "HBoxModel",
            "_view_count": null,
            "_view_module": "@jupyter-widgets/controls",
            "_view_module_version": "1.5.0",
            "_view_name": "HBoxView",
            "box_style": "",
            "children": [
              "IPY_MODEL_4084889bb4e8415da7f66569ea89dcf7",
              "IPY_MODEL_b7a2aff19e514b3dba89dd3486fcb52a",
              "IPY_MODEL_3051b4268aa1424280a4e1253b42bb1f"
            ],
            "layout": "IPY_MODEL_241ec865dac84d3d94d3d6d5e15fab93"
          }
        },
        "4084889bb4e8415da7f66569ea89dcf7": {
          "model_module": "@jupyter-widgets/controls",
          "model_name": "HTMLModel",
          "model_module_version": "1.5.0",
          "state": {
            "_dom_classes": [],
            "_model_module": "@jupyter-widgets/controls",
            "_model_module_version": "1.5.0",
            "_model_name": "HTMLModel",
            "_view_count": null,
            "_view_module": "@jupyter-widgets/controls",
            "_view_module_version": "1.5.0",
            "_view_name": "HTMLView",
            "description": "",
            "description_tooltip": null,
            "layout": "IPY_MODEL_474b5aaf35f749cfb72595c304f03704",
            "placeholder": "​",
            "style": "IPY_MODEL_48874bd07b6a433daef4a535a0f9642d",
            "value": "Downloading https://raw.githubusercontent.com/stanfordnlp/stanza-resources/main/resources_1.2.2.json: "
          }
        },
        "b7a2aff19e514b3dba89dd3486fcb52a": {
          "model_module": "@jupyter-widgets/controls",
          "model_name": "FloatProgressModel",
          "model_module_version": "1.5.0",
          "state": {
            "_dom_classes": [],
            "_model_module": "@jupyter-widgets/controls",
            "_model_module_version": "1.5.0",
            "_model_name": "FloatProgressModel",
            "_view_count": null,
            "_view_module": "@jupyter-widgets/controls",
            "_view_module_version": "1.5.0",
            "_view_name": "ProgressView",
            "bar_style": "success",
            "description": "",
            "description_tooltip": null,
            "layout": "IPY_MODEL_482083b500034d6fa52e6d16a529c73c",
            "max": 24144,
            "min": 0,
            "orientation": "horizontal",
            "style": "IPY_MODEL_9853fa5f6e4b48ec82e3f09d1b770123",
            "value": 24144
          }
        },
        "3051b4268aa1424280a4e1253b42bb1f": {
          "model_module": "@jupyter-widgets/controls",
          "model_name": "HTMLModel",
          "model_module_version": "1.5.0",
          "state": {
            "_dom_classes": [],
            "_model_module": "@jupyter-widgets/controls",
            "_model_module_version": "1.5.0",
            "_model_name": "HTMLModel",
            "_view_count": null,
            "_view_module": "@jupyter-widgets/controls",
            "_view_module_version": "1.5.0",
            "_view_name": "HTMLView",
            "description": "",
            "description_tooltip": null,
            "layout": "IPY_MODEL_7be43e52559749d4b4dbc401dba53e25",
            "placeholder": "​",
            "style": "IPY_MODEL_40a17f352c6a463b9a5b96a7b484a48e",
            "value": " 140k/? [00:00&lt;00:00, 3.05MB/s]"
          }
        },
        "241ec865dac84d3d94d3d6d5e15fab93": {
          "model_module": "@jupyter-widgets/base",
          "model_name": "LayoutModel",
          "model_module_version": "1.2.0",
          "state": {
            "_model_module": "@jupyter-widgets/base",
            "_model_module_version": "1.2.0",
            "_model_name": "LayoutModel",
            "_view_count": null,
            "_view_module": "@jupyter-widgets/base",
            "_view_module_version": "1.2.0",
            "_view_name": "LayoutView",
            "align_content": null,
            "align_items": null,
            "align_self": null,
            "border": null,
            "bottom": null,
            "display": null,
            "flex": null,
            "flex_flow": null,
            "grid_area": null,
            "grid_auto_columns": null,
            "grid_auto_flow": null,
            "grid_auto_rows": null,
            "grid_column": null,
            "grid_gap": null,
            "grid_row": null,
            "grid_template_areas": null,
            "grid_template_columns": null,
            "grid_template_rows": null,
            "height": null,
            "justify_content": null,
            "justify_items": null,
            "left": null,
            "margin": null,
            "max_height": null,
            "max_width": null,
            "min_height": null,
            "min_width": null,
            "object_fit": null,
            "object_position": null,
            "order": null,
            "overflow": null,
            "overflow_x": null,
            "overflow_y": null,
            "padding": null,
            "right": null,
            "top": null,
            "visibility": null,
            "width": null
          }
        },
        "474b5aaf35f749cfb72595c304f03704": {
          "model_module": "@jupyter-widgets/base",
          "model_name": "LayoutModel",
          "model_module_version": "1.2.0",
          "state": {
            "_model_module": "@jupyter-widgets/base",
            "_model_module_version": "1.2.0",
            "_model_name": "LayoutModel",
            "_view_count": null,
            "_view_module": "@jupyter-widgets/base",
            "_view_module_version": "1.2.0",
            "_view_name": "LayoutView",
            "align_content": null,
            "align_items": null,
            "align_self": null,
            "border": null,
            "bottom": null,
            "display": null,
            "flex": null,
            "flex_flow": null,
            "grid_area": null,
            "grid_auto_columns": null,
            "grid_auto_flow": null,
            "grid_auto_rows": null,
            "grid_column": null,
            "grid_gap": null,
            "grid_row": null,
            "grid_template_areas": null,
            "grid_template_columns": null,
            "grid_template_rows": null,
            "height": null,
            "justify_content": null,
            "justify_items": null,
            "left": null,
            "margin": null,
            "max_height": null,
            "max_width": null,
            "min_height": null,
            "min_width": null,
            "object_fit": null,
            "object_position": null,
            "order": null,
            "overflow": null,
            "overflow_x": null,
            "overflow_y": null,
            "padding": null,
            "right": null,
            "top": null,
            "visibility": null,
            "width": null
          }
        },
        "48874bd07b6a433daef4a535a0f9642d": {
          "model_module": "@jupyter-widgets/controls",
          "model_name": "DescriptionStyleModel",
          "model_module_version": "1.5.0",
          "state": {
            "_model_module": "@jupyter-widgets/controls",
            "_model_module_version": "1.5.0",
            "_model_name": "DescriptionStyleModel",
            "_view_count": null,
            "_view_module": "@jupyter-widgets/base",
            "_view_module_version": "1.2.0",
            "_view_name": "StyleView",
            "description_width": ""
          }
        },
        "482083b500034d6fa52e6d16a529c73c": {
          "model_module": "@jupyter-widgets/base",
          "model_name": "LayoutModel",
          "model_module_version": "1.2.0",
          "state": {
            "_model_module": "@jupyter-widgets/base",
            "_model_module_version": "1.2.0",
            "_model_name": "LayoutModel",
            "_view_count": null,
            "_view_module": "@jupyter-widgets/base",
            "_view_module_version": "1.2.0",
            "_view_name": "LayoutView",
            "align_content": null,
            "align_items": null,
            "align_self": null,
            "border": null,
            "bottom": null,
            "display": null,
            "flex": null,
            "flex_flow": null,
            "grid_area": null,
            "grid_auto_columns": null,
            "grid_auto_flow": null,
            "grid_auto_rows": null,
            "grid_column": null,
            "grid_gap": null,
            "grid_row": null,
            "grid_template_areas": null,
            "grid_template_columns": null,
            "grid_template_rows": null,
            "height": null,
            "justify_content": null,
            "justify_items": null,
            "left": null,
            "margin": null,
            "max_height": null,
            "max_width": null,
            "min_height": null,
            "min_width": null,
            "object_fit": null,
            "object_position": null,
            "order": null,
            "overflow": null,
            "overflow_x": null,
            "overflow_y": null,
            "padding": null,
            "right": null,
            "top": null,
            "visibility": null,
            "width": null
          }
        },
        "9853fa5f6e4b48ec82e3f09d1b770123": {
          "model_module": "@jupyter-widgets/controls",
          "model_name": "ProgressStyleModel",
          "model_module_version": "1.5.0",
          "state": {
            "_model_module": "@jupyter-widgets/controls",
            "_model_module_version": "1.5.0",
            "_model_name": "ProgressStyleModel",
            "_view_count": null,
            "_view_module": "@jupyter-widgets/base",
            "_view_module_version": "1.2.0",
            "_view_name": "StyleView",
            "bar_color": null,
            "description_width": ""
          }
        },
        "7be43e52559749d4b4dbc401dba53e25": {
          "model_module": "@jupyter-widgets/base",
          "model_name": "LayoutModel",
          "model_module_version": "1.2.0",
          "state": {
            "_model_module": "@jupyter-widgets/base",
            "_model_module_version": "1.2.0",
            "_model_name": "LayoutModel",
            "_view_count": null,
            "_view_module": "@jupyter-widgets/base",
            "_view_module_version": "1.2.0",
            "_view_name": "LayoutView",
            "align_content": null,
            "align_items": null,
            "align_self": null,
            "border": null,
            "bottom": null,
            "display": null,
            "flex": null,
            "flex_flow": null,
            "grid_area": null,
            "grid_auto_columns": null,
            "grid_auto_flow": null,
            "grid_auto_rows": null,
            "grid_column": null,
            "grid_gap": null,
            "grid_row": null,
            "grid_template_areas": null,
            "grid_template_columns": null,
            "grid_template_rows": null,
            "height": null,
            "justify_content": null,
            "justify_items": null,
            "left": null,
            "margin": null,
            "max_height": null,
            "max_width": null,
            "min_height": null,
            "min_width": null,
            "object_fit": null,
            "object_position": null,
            "order": null,
            "overflow": null,
            "overflow_x": null,
            "overflow_y": null,
            "padding": null,
            "right": null,
            "top": null,
            "visibility": null,
            "width": null
          }
        },
        "40a17f352c6a463b9a5b96a7b484a48e": {
          "model_module": "@jupyter-widgets/controls",
          "model_name": "DescriptionStyleModel",
          "model_module_version": "1.5.0",
          "state": {
            "_model_module": "@jupyter-widgets/controls",
            "_model_module_version": "1.5.0",
            "_model_name": "DescriptionStyleModel",
            "_view_count": null,
            "_view_module": "@jupyter-widgets/base",
            "_view_module_version": "1.2.0",
            "_view_name": "StyleView",
            "description_width": ""
          }
        }
      }
    }
  },
  "cells": [
    {
      "cell_type": "code",
      "source": [
        "# La última versión de spacy-stanza (>1.0) es compatible solo con spacy >=3.0\n",
        "# Nota: spacy 3.0 incorpora al pepiline nlp transformers\n",
        "!pip install -U spacy==3.1 --quiet\n",
        "!pip install -U spacy-stanza==1.0.0 --quiet"
      ],
      "metadata": {
        "id": "vdn6RWTYz8IE"
      },
      "execution_count": null,
      "outputs": []
    },
    {
      "cell_type": "code",
      "source": [
        "import json\n",
        "import string\n",
        "import random \n",
        "import numpy as np\n",
        "\n",
        "import tensorflow as tf \n",
        "from tensorflow.keras import Sequential \n",
        "from tensorflow.keras.layers import Dense, Dropout\n",
        "import re\n",
        "import urllib.request\n",
        "\n",
        "# Para leer y parsear el texto en HTML de wikipedia\n",
        "import bs4 as bs\n",
        "\n",
        "import nltk\n",
        "nltk.download(\"punkt\")\n",
        "nltk.download('wordnet')"
      ],
      "metadata": {
        "colab": {
          "base_uri": "https://localhost:8080/"
        },
        "id": "BKaVOjT30Gs_",
        "outputId": "c6cfe1e6-70c3-4497-eeb1-a8707d15425d"
      },
      "execution_count": null,
      "outputs": [
        {
          "output_type": "stream",
          "name": "stdout",
          "text": [
            "[nltk_data] Downloading package punkt to /root/nltk_data...\n",
            "[nltk_data]   Package punkt is already up-to-date!\n",
            "[nltk_data] Downloading package wordnet to /root/nltk_data...\n",
            "[nltk_data]   Package wordnet is already up-to-date!\n"
          ]
        },
        {
          "output_type": "execute_result",
          "data": {
            "text/plain": [
              "True"
            ]
          },
          "metadata": {},
          "execution_count": 2
        }
      ]
    },
    {
      "cell_type": "code",
      "execution_count": null,
      "metadata": {
        "id": "Joh9qb2nmENy",
        "colab": {
          "base_uri": "https://localhost:8080/",
          "height": 448,
          "referenced_widgets": [
            "c5014e4c4d5d4ab5ba3457b1de92237e",
            "4084889bb4e8415da7f66569ea89dcf7",
            "b7a2aff19e514b3dba89dd3486fcb52a",
            "3051b4268aa1424280a4e1253b42bb1f",
            "241ec865dac84d3d94d3d6d5e15fab93",
            "474b5aaf35f749cfb72595c304f03704",
            "48874bd07b6a433daef4a535a0f9642d",
            "482083b500034d6fa52e6d16a529c73c",
            "9853fa5f6e4b48ec82e3f09d1b770123",
            "7be43e52559749d4b4dbc401dba53e25",
            "40a17f352c6a463b9a5b96a7b484a48e"
          ]
        },
        "outputId": "08c8f376-e473-4727-d115-9fc95c5e8ef8"
      },
      "outputs": [
        {
          "output_type": "display_data",
          "data": {
            "text/plain": [
              "Downloading https://raw.githubusercontent.com/stanfordnlp/stanza-resources/main/resources_1.2.2.json:   0%|   …"
            ],
            "application/vnd.jupyter.widget-view+json": {
              "version_major": 2,
              "version_minor": 0,
              "model_id": "c5014e4c4d5d4ab5ba3457b1de92237e"
            }
          },
          "metadata": {}
        },
        {
          "output_type": "stream",
          "name": "stderr",
          "text": [
            "2022-03-18 18:08:38 INFO: Downloading default packages for language: es (Spanish)...\n",
            "2022-03-18 18:08:41 INFO: File exists: /root/stanza_resources/es/default.zip.\n",
            "2022-03-18 18:08:49 INFO: Finished downloading models and saved to /root/stanza_resources.\n",
            "2022-03-18 18:08:49 INFO: Loading these models for language: es (Spanish):\n",
            "=======================\n",
            "| Processor | Package |\n",
            "-----------------------\n",
            "| tokenize  | ancora  |\n",
            "| mwt       | ancora  |\n",
            "| pos       | ancora  |\n",
            "| lemma     | ancora  |\n",
            "| depparse  | ancora  |\n",
            "| ner       | conll02 |\n",
            "=======================\n",
            "\n",
            "2022-03-18 18:08:49 INFO: Use device: cpu\n",
            "2022-03-18 18:08:49 INFO: Loading: tokenize\n",
            "2022-03-18 18:08:49 INFO: Loading: mwt\n",
            "2022-03-18 18:08:49 INFO: Loading: pos\n",
            "2022-03-18 18:08:49 INFO: Loading: lemma\n",
            "2022-03-18 18:08:49 INFO: Loading: depparse\n",
            "2022-03-18 18:08:50 INFO: Loading: ner\n",
            "2022-03-18 18:08:51 INFO: Done loading processors!\n"
          ]
        }
      ],
      "source": [
        "import stanza\n",
        "import spacy_stanza\n",
        "\n",
        "# Vamos a usar SpaCy-Stanza. Stanza es una librería de NLP de Stanford\n",
        "# SpaCy armó un wrapper para los pipelines y modelos de Stanza\n",
        "# https://stanfordnlp.github.io/stanza/\n",
        "\n",
        "# Descargar el diccionario en español y armar el pipeline de NLP con spacy\n",
        "stanza.download(\"es\")\n",
        "nlp = spacy_stanza.load_pipeline(\"es\")"
      ]
    },
    {
      "cell_type": "markdown",
      "source": [
        "## **Datos**\n",
        "\n",
        "Se obtienen los datos del artículo de wikipedia sobre el deporte \"fútbol\" en catellano."
      ],
      "metadata": {
        "id": "ptVzQSnYOam5"
      }
    },
    {
      "cell_type": "code",
      "source": [
        "raw_html = urllib.request.urlopen('https://es.wikipedia.org/wiki/F%C3%BAtbol')\n",
        "raw_html = raw_html.read()\n",
        "\n",
        "article_html = bs.BeautifulSoup(raw_html, 'lxml')\n",
        "\n",
        "article_paragraphs = article_html.find_all('p')\n",
        "\n",
        "article_text = ''\n",
        "\n",
        "for para in article_paragraphs:\n",
        "    article_text += para.text\n",
        "\n",
        "article_text = article_text.lower()"
      ],
      "metadata": {
        "id": "oYhxYwFA0sB-"
      },
      "execution_count": null,
      "outputs": []
    },
    {
      "cell_type": "code",
      "source": [
        "# Demos un vistazo\n",
        "article_text\n"
      ],
      "metadata": {
        "colab": {
          "base_uri": "https://localhost:8080/",
          "height": 105
        },
        "id": "xpXupZBC1WrO",
        "outputId": "1350514a-8262-4579-fa21-b22af95e6548"
      },
      "execution_count": null,
      "outputs": [
        {
          "output_type": "execute_result",
          "data": {
            "text/plain": [
              "'el fútbol o futbol[2]\\u200b (del inglés británico football, traducido como balompié)[3]\\u200b es un deporte de equipo jugado entre dos conjuntos de once jugadores cada uno mientras que algunos árbitros que se ocupan de que las normas se cumplan correctamente. es ampliamente considerado el deporte más popular del mundo, pues lo practican unas 270\\xa0millones de personas.[4]\\u200b también se le conoce como futbol asociación o fútbol asociación, nombre derivado de the football association, primera federación oficial del mundo en este deporte y que utilizó ese nombre para distinguirlo de otros deportes que incluyen la palabra \"futbol\" o \"fútbol\".[5]\\u200b en algunos países de habla inglesa también se le conoce como soccer, abreviatura de association, puesto que el nombre de football en esos países se asocia mayoritariamente a otros deportes con esa denominación (principalmente en estados unidos, donde el nombre football aplica para el fútbol americano, un deporte totalmente distinto).\\nel terreno de juego es rectangular de césped natural o artificial, con una portería o arco a cada lado del campo. se juega mediante una pelota que se debe desplazar a través del campo con cualquier parte del cuerpo que no sean los brazos o las manos, y mayoritariamente con los pies (de ahí su nombre). el objetivo es introducirla dentro de la portería o arco contrario, acción que se denomina marcar un gol. el equipo que logre más goles al cabo del partido, de una duración de 90\\xa0minutos, es el que resulta ganador del encuentro.\\nel juego moderno fue reinventado en inglaterra tras la formación de la football association, cuyas reglas de 1863 son la base del deporte en la actualidad. el organismo rector del fútbol es la federación internacional de fútbol asociación, más conocida por su acrónimo fifa. la competición internacional de fútbol más prestigiosa es la copa mundial de fútbol, organizada cada cuatro años por dicho organismo. este evento es el más famoso y el que cuenta con mayor cantidad de espectadores del mundo, doblando la audiencia de los juegos olímpicos.[6]\\u200b\\nel fútbol se juega siguiendo una serie de reglas, llamadas oficialmente reglas de juego. este deporte se practica con una pelota esférica (de cuero u otro material con una circunferencia no mayor a 70\\xa0cm y no inferior a 68\\xa0cm, y un peso no superior a 450\\xa0g y no inferior a 410\\xa0g al comienzo del partido), donde dos equipos de once jugadores cada uno (diez jugadores \"de campo\" y un guardameta) compiten por encajar la misma en la portería rival, marcando así un gol. el equipo que más goles haya marcado al final del partido es el ganador; si ambos equipos no marcan, o marcan la misma cantidad de goles, entonces se declara un empate. puede haber excepciones a esta regla; véase duración y resultado más abajo.\\nla regla principal es que los jugadores, excepto los guardametas, no pueden tocar intencionalmente la pelota con sus brazos o manos durante el juego, aunque deben usar sus manos para los saques de banda.\\nen un juego típico, los jugadores intentan llevar la pelota hasta la portería rival, lo que se denomina gol, a través del control individual de la misma, conocido como regate, o de pases a compañeros o tiros a la portería, la cual está protegida por un guardameta. los jugadores rivales intentan recuperar el control de la pelota interceptando los pases o quitándole la pelota al jugador que la lleva; sin embargo, el contacto físico está limitado. el juego en el fútbol fluye libremente, y se detiene solamente cuando la pelota sale del terreno de juego o cuando el árbitro decide que debe detenerse. luego de cada pausa, se reinicia el juego con una jugada específica. al final del partido, el árbitro compensa el tiempo total en minutos que se suspendió el juego en diferentes momentos.\\na nivel profesional, en la mayoría de los partidos se marcan solo unos pocos goles. por ejemplo, durante la temporada 2006/07 de la primera división de españa, la liga de fútbol española, se marcó un promedio de 2,48 goles por partido.[7]\\u200b\\nlas reglas no especifican ninguna otra posición de los jugadores aparte de la del guardameta, portero o arquero, pero con el paso del tiempo se han desarrollado una serie de posiciones en el resto del campo. a grandes rasgos, se identifican tres categorías principales: los delanteros, cuya tarea principal es marcar los goles; los defensas o defensores, ubicados cerca de su portería, quienes intentan frenar a los delanteros rivales; y los centrocampistas, mediocampistas o volantes, que manejan la pelota entre las posiciones anteriores. a estos jugadores se los conoce como jugadores de campo, para diferenciarlos del guardameta. a su vez, estas posiciones se subdividen en los lados del campo en que los jugadores se desempeñan la mayor parte del tiempo. así, por ejemplo pueden existir centrocampistas derechos, centrales (de contención) e izquierdos. los diez jugadores de campo pueden distribuirse en cualquier combinación. por ejemplo, puede haber cuatro defensas, cuatro centrocampistas y dos delanteros (4-4-2); o tres defensas, cuatro centrocampistas y tres delanteros (3-4-3), y la cantidad de jugadores en cada posición determina el estilo de juego del equipo: más delanteros y menos defensas (por ejemplo 3-3-4) creará un juego más agresivo y ofensivo, mientras que lo contrario (por ejemplo 5-3-2) generará un juego más lento y defensivo. aunque los jugadores suelen mantenerse durante la mayoría del tiempo en una posición, hay pocas restricciones acerca de su movimiento en el campo. el esquema de los jugadores en el terreno de juego se llama la formación del equipo, y esta, junto con la táctica, es trabajo del entrenador.\\nel guardameta, también conocido como portero, arquero o golero, es el jugador cuyo principal objetivo es evitar que la pelota entre a su meta durante el juego, acto conocido como gol. el guardameta es el único jugador que puede tocar la pelota con las manos durante el juego activo, aunque solo dentro de su propia área. cada equipo debe presentar un único guardameta en su alineación. en caso de que el jugador deba abandonar el terreno de juego por cualquier motivo, deberá ser sustituido por otro futbolista, ya sea uno que se encuentre jugando o un sustituto. este tipo de jugadores deben llevar una vestimenta diferente a la de sus compañeros, sus rivales (incluido el guardameta) y el cuerpo arbitral. por lo general suelen llevar el número 1 estampado sobre la camiseta.\\nel defensa, también conocido como defensor, es el jugador ubicado una línea delante del guardameta y una por detrás de los centrocampistas, cuyo principal objetivo es detener los ataques del equipo rival. generalmente esta línea de jugadores se encuentra en forma arqueada, quedando algunos defensas más cerca del guardameta que los demás. si es solo un jugador el ubicado más atrás, recibe el nombre de líbero; si son dos o más, reciben el nombre de zagueros. los defensores posicionados en los costados del terreno son llamados laterales o stoppers (en el caso de que haya un líbero), y debido a su colocación (más cerca de los centrocampistas) estos pueden avanzar más en el terreno si lo desean. para nombrarlos se agrega la zona a la palabra defensa: por ejemplo, un defensa que juega por la derecha (mirando hacia la meta rival) sería un lateral derecho. también el arquero debe proteger y dar instrucciones a los defensas.\\nel centrocampista, mediocampista o volante es la persona que juega en el mediocampo en un campo de fútbol. entre sus funciones se encuentran las de recuperar balones, propiciar la creación de jugadas y explotar el juego ofensivo. de acuerdo a estas funciones podemos distinguir: los volantes carrileros (los que juegan más cerca de la línea de banda); los de contención, que juegan casi a la misma altura que los defensores laterales para contribuir a la defensa y pueden ser uno o dos jugadores (el apodo de \"cinco\" que se da a estos jugadores se debe a que es el número que suelen llevar en la camiseta); y los de creación o enganches, que se sitúan entre la línea de los carrileros y delanteros (son el cerebro del ataque y se caracterizan por su habilidad).\\nun delantero o atacante es un jugador de un equipo de fútbol que se destaca en la posición de ataque, la más cercana a la portería del equipo rival, y es por ello el principal responsable de marcar los goles. es muy importante estar en movimiento y buscar siempre pase, es decir, desmarcarse para que le sea más fácil al que lleva la pelota pasársela. la velocidad es esencial.\\nel fútbol incluye una actividad física muy importante. durante un partido de fútbol profesional de 90 minutos, un jugador, dependiendo de su posición y de las dimensiones del campo, recorre entre 12 y 15\\xa0km.[8]\\u200b[9]\\u200b[10]\\u200b también durante un partido de similares características, un futbolista pierde alrededor de 2\\xa0kg de líquidos, parte de los cuales son recuperados durante el tiempo de descanso.[11]\\u200b en partidos que se juegan con altas temperaturas, los árbitros tienen el derecho de detener el encuentro, generalmente a mediados de un período, para que los jugadores y el cuerpo arbitral se hidraten.[12]\\u200b\\npero al mismo tiempo, el fútbol es uno de los deportes con mayor número de lesiones,[13]\\u200b aunque la mayoría de ellas no son de gravedad. las lesiones más comunes ocurren en las rodillas y los tobillos, debido a los movimientos rotativos a los que son sometidos. las roturas de meniscos y ligamentos cruzados junto a los desgarros musculares, son lesiones habituales dentro del fútbol. las probabilidades de lesión aumentan cuando el jugador no recibe una preparación física adecuada, particularmente en un deportista aficionado, y cuando el juego se desarrolla sobre un terreno irregular. para futbolistas profesionales o semiprofesionales es de vital importancia la presencia de un preparador físico que regule el tipo de ejercicio físico, así como la duración y regularidad del mismo. el trabajo del preparador físico se debe complementar con una correcta alimentación, donde también es recomendable la presencia de un profesional en la materia.\\nlos jugadores de fútbol deben ser capaces de controlar los balones que reciben. la forma más fácil suele ser parar la pelota; en este caso, el balón debería ser situado en la posición ideal para el próximo toque. los jugadores avanzados pueden usar el primer toque para hacer que el balón se mueva de forma rápida hacia donde tienen planeado correr. también pueden utilizar el primer toque para pasar el balón. evitar el balón en vez de recibirlo puede despistar a los jugadores oponentes.\\nes una acción muy utilizada durante un partido, con el objetivo de recibir el balón, controlarlo y ponerlo a su servicio para desarrollar en buenas condiciones una acción posterior. la recepción en parada es aquella en la que se consigue controlar totalmente el balón en los pies, perdiendo el componente de velocidad pero aumentando la precisión en el manejo posterior del esférico.\\nla recepción en semiparada es para conseguir que el balón pierda parte de su valor inicial. la recepción de amortiguamiento se utiliza para controlar balones aéreos, con trayectoria descendente, y se produce una amortiguación de la aceleración con el que llega la pelota.\\nel control del balón puede ser al ras de suelo, o bien con la cara interna de la bota, o con la planta del pie, con la punta hacia arriba y encajando la pelota entre la planta y el suelo. en los balones altos, se debe conseguir llevar el balón al suelo con posibilidades de ser jugado adecuadamente.\\npara mantener la posesión del balón es esencial tener capacidad para pasarlo en corto entre los jugadores cercanos de forma precisa y a tiempo. los pases largos precisos permiten una mayor variedad de situaciones y un juego más directo. generalmente, los pases que crean ocasiones de gol se les llama asistencia, aunque cualquier jugador en el campo podría hacer este tipo de jugadas, generalmente es un mediocampista ofensivo quien lo hace, es trabajo usual de los jugadores marcados con el 10 o el 8 en sus camisetas.\\nlos jugadores deben tener un equilibrio a la hora de tirar a puerta: ni hacerlo en demasiadas ocasiones ni tampoco dejar de intentarlo cuando tienen ocasión. los tiros deberían ser precisos y potentes, aunque generalmente no se logra esta precisión y potencia al mismo tiempo. elegir precisión o potencia depende de la situación y de las características del jugador.\\nla elección del lugar de la portería al cual disparar es un tema controvertido y depende de cuántos jugadores estén cubriéndola. cuando el jugador encara solo al guardameta, los tiros deberían situarse cerca de uno de los postes. de forma ideal, el tiro debería ir dirigido a la escuadra, pero es menos difícil y también efectivo hacerlo a ras de suelo. cuando el guardameta está demasiado adelantado, se puede intentar un globo.\\nla humanidad ha realizado a lo largo de su historia diversos juegos de pelota, desde la antigüedad. se conoce que este entretenimiento existía tanto en la cultura del mar mediterráneo como en américa.[15]\\u200b el hallazgo más antiguo y revelador se remonta a un relieve de la antigua grecia (400 a. c.), donde un hombre domina una pelota sobre su muslo. este deporte era el episkyros,[16]\\u200b[17]\\u200b que se jugaba con una pelota de cuero pintada con colores brillantes y dos equipos de 12 a 14 jugadores. la fifa lo reconoció como una de las formas más antiguas del actual fútbol.[18]\\u200b más tarde, en roma, el mismo recibió el nombre de harpastum.[19]\\u200b\\nen europa, ya a finales de la edad media y siglos posteriores, se desarrollaron en las islas británicas y zonas aledañas distintos juegos de equipo, a los cuales se los conocía como códigos de fútbol. estos códigos se fueron unificando con el paso del tiempo, pero fue en la segunda mitad del siglo xvii cuando se dieron las primeras grandes unificaciones del fútbol, que más tarde dieron origen al fútbol de rugby, al fútbol americano, al fútbol australiano y al deporte que hoy se conoce en gran parte del mundo como fútbol a secas.[cita\\xa0requerida]\\nen otras zonas del mundo también se practicaban juegos en los que una pelota era impulsada con los pies. entre ellas pueden mencionarse las reducciones jesuíticas de la zona guaraní, más específicamente en la de san ignacio miní en el siglo xvii, en la región que ahora se conoce como misiones. el jesuita español josé manuel peramás escribió en su libro de vita et moribus tredecim virorum paraguaycorum: «solían también jugar con un balón, que, aún siendo de goma llena, era tan ligero y rápido que, cada vez que lo golpeaban, seguía rebotando algún tiempo, sin pararse, impulsado por su propio peso. no lanzaban la pelota con la mano, como nosotros, sino con la parte superior del pie desnudo, pasándola y recibiéndola con gran agilidad y precisión».[cita\\xa0requerida] “sí, los guaraníes jugaban un juego de pelota con los pies. lo describe el padre jesuita josé cardiel, en el libro las misiones del paraguay” (madrid, historia 16, 1989, p. 135): los guaraníes no juegan a la pelota como nosotros con la mano, sino que la envían y la vuelven a recibir con la parte superior del pie descalzo con gran rapidez y mucha destreza” (josé manuel peramás, platón y los guaraníes. asunción, cepag, 2004, p. 97).\\nlos primeros códigos británicos se caracterizaban por tener pocas reglas y por su extrema violencia.[20]\\u200b uno de los más populares fue el fútbol de carnaval. por dicha razón el fútbol de carnaval fue prohibido en inglaterra por decreto del rey eduardo iii y permaneció prohibido durante 500 años.[21]\\u200b el fútbol de carnaval no fue el único código de la época; de hecho existieron otros códigos más organizados, menos violentos e incluso que se desarrollaron fuera de las islas británicas. uno de los juegos más conocidos fue el calcio florentino, originario de la ciudad de florencia (italia). este deporte influenció en varios aspectos al fútbol actual, no solo por sus reglas, sino también por el ambiente de fiesta en que se jugaban estos encuentros.[22]\\u200b\\nlos colegios británicos se dividieron frente al código rugby; mientras varios decidieron seguirlo, otros decidieron rechazarlo debido a que en ellos la práctica era no tocar el balón con la mano. entre estos últimos colegios se encontraban los de eton, harrow, winchester, charterhouse y westminster.[23]\\u200b\\na mediados del siglo xix se dieron los primeros pasos para unificar todos los códigos del fútbol en uno. el primer intento fue en 1848, cuando en la universidad de cambridge, henry de winton y john charles thring hicieron un llamamiento a miembros de otras escuelas para reglamentar un nuevo código, el código cambridge, también conocido como las reglas de cambridge.[24]\\u200b las reglas presentaban un importante parecido a las reglas del fútbol actual. quizás el más importante de todos fue la limitación de las manos para tocar la pelota, pasando la responsabilidad de trasladar la misma a los pies. el objetivo del juego era hacer pasar una pelota entre dos postes verticales y por debajo de una cinta que los unía, y el equipo que marcaba más goles era el ganador. incluso se creó una regla de fuera de juego similar a la actual.[25]\\u200b los documentos originales de 1848 se perdieron, pero se conserva una copia de las reglas de 1856.[26]\\u200b\\nentre 1857 y 1878 se utilizó un código del fútbol que también aportaría características al fútbol moderno: el código sheffield, también conocido como las reglas de sheffield. el código, creado por nathaniel creswick y william prest, adoptó reglas que se ven reflejadas en el fútbol actual, como el uso de un travesaño (poste horizontal) de material rígido, en lugar de la cinta que se usaba hasta el momento. también se adoptó la utilización de tiros libres, saques de esquina y saques de banda como métodos de reanudación del juego.[27]\\u200b\\n\\nsi bien con estas unificaciones del fútbol se lograron varios avances para la creación del fútbol moderno, se considera que el día de su nacimiento es el 26 de octubre de 1863, cuando the football association se reunió por primera vez.[28]\\u200b ese día, ebenezer cobb morley inició una serie de seis reuniones entre doce clubes de distintas escuelas londinenses en la taberna freemason\\'s, con el objetivo de crear un código de fútbol universal y definitivo, que tuviera la aceptación de la mayoría. finalizadas las reuniones, el 8 de diciembre, once de los doce clubes lograron el consenso para establecer 14 reglas del nuevo código, el cual recibiría el nombre de fútbol asociación (association football en inglés), para diferenciarlo de otros códigos del fútbol de la época. solo el club blackheath se negó a la creación de estas reglas, que más tarde se convertiría en uno de los creadores de otro famoso deporte, el rugby.[29]\\u200b\\nel reglamento utilizado como base para el fútbol fue el código cambridge, excepto por dos puntos del mismo, los cuales eran considerados de mucha importancia para los códigos actuales: el uso de las manos para trasladar el balón y el uso de los tackles (contacto físico brusco para quitarle la pelota al rival) contra los adversarios. este fue el motivo del abandono del club blackheath.\\njunto a la creación del nuevo código se creó la the football association (fa), órgano que rige hasta la actualidad el fútbol en inglaterra. en esos momentos, los estudiantes de las escuelas inglesas desarrollaron las abreviaturas \"rugger\" y \"soccer\" (derivado de \"association\"), para designar a ambos deportes: el rugby y el fútbol, respectivamente. con este último término es mayoritariamente conocido el fútbol en los estados unidos.[30]\\u200b\\nya con el fútbol bien definido, se comenzaron a disputar los primeros encuentros con este nuevo código.\\nel 20 de julio de 1871, un periódico británico anunció la creación de un torneo organizado por la fa, el primer paso para la creación de la copa de inglaterra.[31]\\u200b ese año, la fa estaba compuesta por 50 equipos, pero solo 12 decidieron participar en la primera edición del torneo,[32]\\u200b 1871-1872, que fue ganada por el wanderers fc.[33]\\u200b el 30 de noviembre de 1872, escocia e inglaterra disputaron el primer partido oficial entre selecciones nacionales, encuentro que concluyó en empate sin goles. el partido se disputó en el hamilton crescent, actual campo de críquet, en partick (escocia).[34]\\u200b\\nentre enero y marzo de 1884, se disputó la primera edición del british home championship, que hasta su desaparición en 1984 fue el torneo de selecciones más antiguo de la historia. el primer título correspondió a escocia.[35]\\u200b la primera competición de liga llegó en la temporada 1888-1889 con la creación de la football league. participaron 12 equipos afiliados a la fa, y cada uno jugó un total de 22 encuentros. dicho torneo quedó en manos del preston north end football club, que además lo logró sin ser vencido.[36]\\u200b\\ncon el pasar de los años, el fútbol se expandió rápidamente en las islas británicas, donde se crearon nuevas asociaciones de fútbol, aparte de la inglesa (fundada en 1863), que representaban a las cuatro regiones del por entonces reino unido de gran bretaña e irlanda: la scottish football association (escocia, 1873), la football association of wales (gales, 1876) y la irish football association (irlanda, 1880).[37]\\u200b a finales de los años 1880 el fútbol comenzó a expandirse rápidamente fuera del reino unido, principalmente debido a la influencia internacional del imperio británico. los primeros países en iniciar sus asociaciones de fútbol fueron dinamarca y los países bajos (1889),[37]\\u200b a los que luego se sumaron las asociaciones de nueva zelanda (1891), argentina (1893), bélgica, chile y suiza (1895), italia (1898), alemania y uruguay (1900), hungría (1901), noruega (1902), suecia (1904) y españa (1913).[37]\\u200b[38]\\u200b\\nel auge del fútbol a nivel mundial motivó la creación de la fifa el 21 de mayo de 1904. las asociaciones fundadoras fueron bélgica, españa (representada por el madrid f. c.), dinamarca, francia, países bajos, suecia y suiza. las cuatro asociaciones de fútbol del reino unido, las denominadas home nations, se opusieron a la creación de dicho órgano.[38]\\u200b debido al crecimiento del fútbol, la fifa había anunciado la primera competición internacional de selecciones para 1906, pero por problemas internos de varias asociaciones la misma no se desarrolló.[38]\\u200b el fútbol ya se había presentado al mundo por medio de una serie de encuentros de exhibición durante los juegos olímpicos de 1900, 1904, 1906 (juegos intercalados), todos a nivel de clubes, hasta que la edición de 1908 recibió por primera vez una competición de selecciones. la medalla de oro quedó en manos de la selección de fútbol del reino unido.\\nen 1916 se fundó la confederación sudamericana de fútbol (conmebol), que ese mismo año organizó la primera edición del campeonato sudamericano de fútbol, actual copa américa —dicho torneo se mantiene como el más antiguo de la historia del fútbol a nivel de selecciones, de los que todavía existen—.[39]\\u200b en esa primera edición participaron argentina, brasil, chile y uruguay, resultando campeón este último.\\nla primera guerra mundial hizo retroceder el desarrollo del fútbol, pero las ediciones de 1924 y 1928 de los juegos olímpicos revitalizaron el deporte, en particular las actuaciones de la selección uruguaya. este nuevo crecimiento del fútbol motivó que la fifa confirmara el 28 de mayo de 1928 en ámsterdam la realización de un campeonato mundial de selecciones, cuya sede sería confirmada el 18 de mayo de 1929 en el congreso de barcelona. uruguay sería sede de la primera edición de la copa mundial de fútbol, que se celebraría en conjunto con el centésimo aniversario de la primera constitución uruguaya. la selección uruguaya se quedó con el primer título de la historia de la competición. la segunda edición del torneo se realizó en 1934 en italia, y fue utilizada por el dictador benito mussolini como propaganda de su régimen. la competición se vio deslucida debido a la intervención de mussolini, que hizo todo para que su selección italiana obtuviera el torneo, incluso con amenazas a los árbitros de la final.[40]\\u200b la tercera edición del torneo también se vio deslucida debido a mussolini, que antes de la final entre italia y hungría envió un telegrama a su selección amenazándolos de muerte. finalmente la selección azzurra, que vistió un uniforme completamente negro representando al partido nacional fascista, se impuso en la final por 4 goles a 2.[41]\\u200b\\nla segunda guerra mundial también tuvo un efecto similar sobre el fútbol. en 1946 las home nations, que se habían desafiliado de la fifa tras la primera guerra mundial, volvieron al órgano internacional. el 10 de mayo de 1947 se considera una fecha de vital importancia para el resurgimiento de la fifa y del fútbol mundial, gracias a la realización del encuentro amistoso entre la selección británica y un combinado de futbolistas europeos, el resto de europa xi, en el denominado partido del siglo. el encuentro se disputó en hampden park, glasgow, escocia, ante 135\\xa0000 espectadores. el conjunto británico ganó el partido con un marcador de 6 goles a 1, y la recaudación del partido fue donada a la fifa para ayudarla en su relanzamiento.[38]\\u200b la primera edición de la copa mundial posterior a la segunda guerra mundial se desarrolló en brasil durante 1950. el triunfo de la selección uruguaya en el recordado maracanazo coronó el resurgimiento de la fifa y del fútbol mundial.\\nla castellanización de la palabra se produce a principios del siglo xx.[42]\\u200b[página\\xa0requerida]\\nel juego de la pelota o balompié, que ya es bastante popular en inglaterra, aparece por primera vez en una revista gráfica de españa en 1868. la revista \"el panorama\", publicada en valencia entre 1867 y 1869, incluyó un pequeño reportaje de curiosidades hablando por primera vez del \"football\" inglés en su número del 30 de abril de 1868, e incorporando una ilustración gráfica del mismo.[43]\\u200b\\na partir de entonces se empieza a extender el juego del football en españa y otros países hispanoamericanos (argentina, paraguay) y son muchas las referencias a este juego, utilizando la denominación original.[44]\\u200b   para entonces los primeros clubes y equipos en españa y argentina incorporan la palabra inglesa a sus denominaciones originales. son muy comunes las denominaciones sport club, sporting club, racing club, athletic club, recreation club o foot-ball club que acompañaban a la localidad que representaban.[18]\\u200b  en 1908, mariano de cavia propone que se denomine al nuevo juego \"balompié\"[45]\\u200b y en septiembre de ese mismo año ya algunos nuevos equipos lo incorporan, como el recién creado \"sevilla balompié\", antecedente inmediato del real betis balompié.[46]\\u200b \\nen 1922, la real academia de la lengua española, a instancias de gabriel maura y gamazo, quien fuera presidente de la real federación española de football, incorpora la palabra \"futbol\" sin tilde, aunque se seguía utilizando asiduamente la denominación inglesa. con la llegada de la república, en 1931, la federación española incorpora definitivamente la palabra \"fútbol\" a su denominación y empieza a utilizarla asiduamente, oficializándola.[18]\\u200b\\nal término de la guerra civil hubo una política clara de \"castellanización\" y \"depuración\" del franquismo de todas las palabras y vocablos, incluidos los extranjeros. mediante la orden del ministerio de la gobernación de 16 de mayo de 1940,[47]\\u200b se prohibió el empleo de vocablos genéricos extranjeros en todo tipo de rótulos, carteles y espacios públicos, lo que llevó al cambio definitivo hacia la denominación \"futbol\" tanto de los clubes como de su comunicación, utilizándose de facto todas aquellas palabras del léxico que ya habían sido incorporadas por el diccionario de la real academia española.\\nel consejo nacional de deportes, bajo cuyo mando quedó la federación española de fútbol, impuso a todas las federaciones nacionales una limpieza idiomática, unificando la terminología del fútbol mediante una decisión tomada el 20 de diciembre de 1940.[18]\\u200b la federación trasladó la voluntad del gobierno a sus asociados mediante la circular federativa 3. 149, comunicada el 21 de diciembre de 1940, por la que se obligaba a todos los clubes a cambiar su denominación, lo que debía hacerse antes del 1 de febrero de 1941. así fue como el real madrid f.c. pasó a ser real madrid c. f., el f. c. barcelona a c.f. barcelona, el valencia f.c. a valencia c. f., el athletic club a atlético de bilbao y el athletic-aviación club a club atlético-aviación, mientras que otros, como el real sporting de gijón o el real santander racing club quedaron en real gijón y real santander sd. a partir de ese momento se unificó totalmente el léxico futbolístico adoptándose por los medios de comunicación y las instituciones del fútbol gran parte de la terminología que ha llegado hasta el siglo xxi.\\nla segunda mitad del siglo xx sería la época de mayor crecimiento del fútbol. el fútbol sudamericano ya se encontraba organizado desde 1916, año en que se fundó la confederación sudamericana de fútbol, pero el deporte en otras zonas se comenzaría a agrupar en los años 1950 y 60. en 1954 el fútbol europeo y asiático se organizaría en la unión de asociaciones europeas de fútbol y la confederación asiática de fútbol respectivamente. en europa se consolidan los clubes con mayores presupuestos, fundados en su mayoría a finales del s. xix, pero que alcanzan grandes cotas de éxito en la segunda mitad del s. xx. entre ellos destaca el club español real madrid club de fútbol, declarado por fifa \"mejor club del mundo en el s. xx\". en áfrica se fundaría la confederación africana de fútbol en 1957; en américa del norte, central y el caribe, la concacaf en 1961; y por último en oceanía, la confederación de fútbol de oceanía en 1966. dichas organizaciones se afiliarían a la fifa bajo el nombre de confederaciones.\\nen paralelo con las creaciones de las nuevas confederaciones se comenzaron a disputar los primeros torneos regionales de selecciones, excepto por la confederación sudamericana de fútbol, que ya disputaba su campeonato sudamericano de selecciones desde 1916. en 1956 la confederación asiática de fútbol realizó la primera edición de la copa asiática, y al año siguiente la confederación africana de fútbol organizó la copa africana de naciones. en 1960 se crea la eurocopa, que agrupa a las selecciones de la uefa. por su parte, la concacaf disputaría por primera vez la copa concacaf en 1963, que más tarde sería reemplazada por la copa de oro. la confederación de fútbol de oceanía sería la última en crear su propio torneo, la copa de las naciones de la ofc, celebrada por primera vez en 1973.\\ndebido a la creación de las confederaciones se comenzaron a disputar los primeros campeonatos internacionales a nivel de clubes, siendo la primera de su tipo la campeonato sudamericano de campeones, que reunió a siete equipos de sudamérica. luego apareció la liga de campeones de la uefa, que reúne a los distintos campeones de las principales ligas de los países de la uefa a partir de 1955. cinco años más tarde se inició la copa libertadores de américa, máximo evento para clubes afiliados a la conmebol, que se disputó por primera vez en 1960.\\nese mismo año se disputó la primera edición de la copa intercontinental, que reunió a los campeones de los torneos continentales de sudamérica y europa. este torneo se reemplazó en 2005 por la copa mundial de clubes de la fifa, que además recibie a los campeones de las demás confederaciones.\\nmientras tanto, la copa mundial de fútbol se consolidó como el evento deportivo de mayor importancia en el mundo entero, incluso superando en audiencia a los propios juegos olímpicos.[6]\\u200b\\nsegún una encuesta realizada por la fifa en el año 2006,[4]\\u200b aproximadamente 270 millones de personas en el mundo están activamente involucradas en el fútbol, incluyendo a futbolistas, árbitros y directivos. de estas, 265 millones juegan al fútbol regularmente de manera profesional, semi-profesional o amateur, considerando tanto a hombres, mujeres, jóvenes y niños. dicha cifra representa alrededor del 4\\xa0% de la población mundial. la confederación con mayor porcentaje de personas activamente involucradas con el fútbol es la concacaf, con el 8,53\\xa0% de la población. su contraparte se da en la zona de la afc, donde el porcentaje es de solo un 2,22\\xa0%. la uefa tiene un porcentaje de participación del 7,59\\xa0%; la conmebol de 7,47\\xa0%; la ofc de 4,68\\xa0%; y la confederación africana de fútbol del 5,16\\xa0%. existen más de 1,7 millones de equipos en el mundo y aproximadamente 301\\xa0000 clubes.[48]\\u200b\\nel país con más futbolistas que se desempeñan regularmente (excepto niños) es china, que posee 26,1 millones de futbolistas. lo siguen: estados unidos (24,4 millones), india (20,5), alemania (16,3), brasil (13,1), colombia (9,2) y méxico (8,4). por otro lado, las federaciones con menor cantidad de futbolistas regulares (excepto niños) son montserrat, con 300 futbolistas, las islas vírgenes británicas (658), anguila (760) y las islas turcas y caicos (950).\\nel fútbol femenino ha tenido un crecimiento lento en el fútbol moderno, principalmente por obstáculos sociales y culturales que no permiten el ingreso pleno de la mujer al deporte.[49]\\u200b el primer encuentro femenino bajo las reglas del fútbol asociación del cual se tienen registros sucedió en 1892 en glasgow, escocia.[50]\\u200b a finales de 1921 el fútbol femenino fue prohibido en inglaterra, hecho que no le permitió expandirse al resto del mundo. en 1969 el fútbol femenino se volvió a organizar en inglaterra, motivo por el cual comenzó a expandirse fuera de su territorio. el primer encuentro internacional de selecciones de fútbol femenino ocurrió en 1972, casualmente 100 años después del primer encuentro masculino, donde inglaterra venció a escocia por 3 a 2.[51]\\u200b los primeros torneos mundiales comenzaron a disputarse en los años 1990: la copa mundial femenina de fútbol a partir de 1991 y como deporte de los juegos olímpicos desde 1996.\\nsegún una encuesta realizada por la fifa, existen alrededor de 26 millones de jugadoras en el mundo. en promedio, por cada 10 futbolistas (de ambos sexos) existe una mujer futbolista en el mundo.[4]\\u200b\\nsegún estimaciones de la fifa, durante el período 2003-2006 dicho organismo tuvo ingresos por 3238 millones de francos suizos (chf)[52]\\u200b y gastos por 2422 millones de chf, lo cual da un superávit de 816 millones de chf. el 92\\xa0% (2986 millones de chf) de los ingresos están relacionados con las competiciones internacionales, particularmente la retransmisión por televisión de la copa mundial de fútbol de 2006, que comprende 1660 millones de chf de ese valor. el resto de los ingresos se dividen en partes iguales entre ingresos financieros y otros ingresos de explotación. del total de los ingresos, 714 millones de chf se consiguen por concepto de derechos de merchandising. muchos de estos ingresos se dan en puntos de venta en los alrededores de los estadios de la copa mundial de fútbol.[53]\\u200b en cuanto a los gastos, el 69\\xa0% (1682 millones de chf) de los mismos están dedicados a la organización de campeonatos y al desarrollo del deporte: un 46\\xa0% de los gastos totales (1.125 millones de chf) y un 23\\xa0% (557 millones de chf) respectivamente. el 26\\xa0% (622 millones de chf) se dedicó a gastos operativos, como lo son el transporte, alquileres, gastos jurídicos, comunicaciones, entre otros. el otro 5\\xa0% (118 millones de chf) corre por efectos del cambio de divisas e intereses.[54]\\u200b\\nlos presupuestos de los clubes de fútbol se pueden encontrar en diferentes valores dependiendo de la zona del mundo donde se encuentren. los mayores presupuestos se pueden encontrar en europa, particularmente en las principales ligas de alemania, españa, italia e inglaterra.[55]\\u200b en gran parte de américa del sur los mayores ingresos se deben a la transferencia de jugadores a las ligas europeas, los fondos aportados por las transmisiones de la televisión y la publicidad en las camisetas.[56]\\u200b[57]\\u200b por el lado de los europeos, los derechos televisivos, la publicidad, la venta de entradas y el merchandising cubren gran parte del presupuesto.[58]\\u200b[59]\\u200b\\nel fútbol también cumple un rol solidario. uno de los principales aportes de la fifa al desarrollo del deporte en áreas donde esto se hace difícil por falta de materiales y técnicas de desarrollo es el programa goal. por otro lado, la fifa trabaja con unicef desde 1999, brindando material de trabajo relacionado con el fútbol para que este sea repartido por esta organización de las naciones unidas.[60]\\u200b regularmente se realizan en todo el mundo encuentros amistosos con propósitos benéficos, cuyos promovedores suelen ser estrellas del fútbol mundial.[61]\\u200b[62]\\u200b[63]\\u200b\\nse entiende por fichaje o pase, a la transferencia de un futbolista de un club a otro a cambio de una suma económica que paga el club que recibe al jugador al que lo entrega. algunos de estos fichajes pueden alcanzar precios muy altos. los diez fichajes más caros en la historia del fútbol son los siguientes:[64]\\u200b\\nla lucha contra el dopaje en el fútbol se remonta a 1966, cuando la fifa se convirtió en una de las primeras federaciones internacionales en crear reglas para controlar al mismo.[72]\\u200b anualmente se hacen 20\\xa0000 pruebas anti dopaje a futbolistas de todo el mundo, de las cuales entre 80 y 90 dan positivas, mayoritariamente por el uso de cocaína o cannabis.[73]\\u200b se entiende por dopaje positivo lo siguiente:\\n.mw-parser-output .flexquote{display:flex;flex-direction:column;background-color:#f9f9f9;border-left:3px solid #c8ccd1;font-size:90%;margin:1em 4em;padding:.4em .8em}.mw-parser-output .flexquote>.flex{display:flex;flex-direction:row}.mw-parser-output .flexquote>.flex>.quote{width:100%}.mw-parser-output .flexquote>.flex>.separator{border-left:1px solid #c8ccd1;border-top:1px solid #c8ccd1;margin:.4em .8em}.mw-parser-output .flexquote>.cite{text-align:right}@media all and (max-width:600px){.mw-parser-output .flexquote>.flex{flex-direction:column}}\\nel procedimiento para una prueba de dopaje se inicia en el descanso de un partido, cuando se sortean dos jugadores por equipo. quince minutos antes de la finalización del encuentro se le entrega un sobre a él o los delegados en el terreno, identificados por un chaleco blanco con una cruz verde, los cuales eligen al azar dos de ellos (uno por equipo). una vez terminado el encuentro informarán a los dos jugadores elegidos que deben dirigirse a la zona de pruebas para ser controlados. los jugadores expulsados durante el encuentro también pueden ser citados. más tarde los jugadores seleccionados deberán dar una muestra de orina. previamente a esto, los seleccionados no pueden ingresar a sus vestuarios, pero si a una sala donde pueden beber bebidas analcohólicas e incluso tomar una ducha. la muestra tomada por un profesional del mismo sexo que el del jugador envía la misma a un laboratorio para su análisis.[75]\\u200b\\nen caso de que la muestra dé positiva, el informe sobre la misma se envía la subcomisión del control de dopaje de la fifa, la cual investiga la veracidad del estudio y, una vez aprobado, pasa a manos del director de control de dopaje de la fifa, el cual verificará la información para autorizar su envío a la comisión disciplinaria, a la comisión de medicina deportiva y a la asociación a la cual pertenezca el jugador. la comisión disciplinaria decidirá qué pena se le aplica al jugador.[76]\\u200b\\nquizás el caso más conocido de dopaje en el fútbol fue el de diego armando maradona, que tras un partido por la copa mundial de fútbol de 1994 en estados unidos fue seleccionado para la realización de la prueba. su muestra dio positiva y se le aplicó una pena de 15 meses.[77]\\u200b\\nla violencia en el fútbol es casi tan antigua como el deporte mismo. sus orígenes se remontan a los encuentros de fútbol de carnaval durante la edad media, los cuales se caracterizaban por no tener reglas y por el uso desmedido de la violencia. en 1314, se realizó la primera prohibición de este deporte, para evitar la creciente ola de violencia que producía.[78]\\u200b la primera aparición de la violencia en el fútbol moderno, de 1863 en adelante, ocurrió en 1885, cuando un encuentro entre los equipos ingleses de preston north end y aston villa terminó con una brutal pelea entre jugadores de ambos equipos.[79]\\u200b\\nlos grupos violentos de una hinchada reciben varios nombres, pero se destacan algunos como barra bravas, hooligans o ultras. por ejemplo, en argentina ha habido más de doscientas muertes relacionadas con incidentes en campos de fútbol y sus alrededores.[80]\\u200b en italia, la violencia de los denominados ultras italianos se caracteriza por sus insultos racistas e incluso por la fabricación de armamento para las batallas que efectúan antes, durante y después de los encuentros.[81]\\u200b\\nla violencia en el fútbol ha generado cosas aún peores, tal como lo fue la denominada guerra del fútbol. dicho conflicto se agudizó por la serie de encuentros que disputaron las selecciones de fútbol de el salvador y honduras. los encuentros eran válidos por la clasificación para la copa mundial de fútbol de 1970, a disputarse en méxico.[82]\\u200b\\npara evitar estos males del fútbol, la fifa promueve una campaña llamada fair play o juego limpio, la cual invita a los participantes de este deporte a mostrar valores que hacen crecer al fútbol.[83]\\u200b anualmente, el mismo organismo entrega uno o más premios a personas, clubes, asociaciones o entidades de cualquier tipo que transmiten los valores del fair play.[84]\\u200b\\nfuera de la cancha, también se han dado casos: el árbitro mexicano adalid maganda fue víctima de actitudes de racismo por parte del público, de los jugadores, del arbitraje (comisión de arbitraje) y de la federación mexicana de fútbol.[85]\\u200b\\nla cultura es el conjunto de expresiones de una sociedad, y como tal el fútbol no está exento de la misma. uno de los institutos que promueven el fútbol como cultura a nivel internacional es el goethe-institut, que ha realizado exposiciones alrededor del mundo cuyos temas eran el fútbol.[86]\\u200b\\nuna importante muestra de cultura se dio durante la copa mundial de fútbol de 2006 disputada en alemania. el walk of ideas fue una muestra exhibida en ese país durante ese año, la cual constaba de una serie de obras plásticas que representaban a alemania, siendo una de ellas un par de zapatos de fútbol.\\nel diseño gráfico aporta su parte a la cultura de este deporte, ya que el diseño de los afiches y demás elementos gráficos deben representar al país donde se realiza la competición a la cual le fueron asignados dichos trabajos. también valen destacar trabajos como los del humorista gráfico y escritor argentino roberto fontanarrosa, ya que muchos de los mismos estaban relacionados con el fútbol.[87]\\u200b\\nla relación con la literatura fue más problemática. habiendo sido popularmente rechazada por los escritores desde sus inicios, recién a partir de los años 1960 y 1970 los literatos se acercan al mundo del fútbol.[88]\\u200b este acercamiento puede relacionarse con el auge de los estudios semióticos, que revalorizaron las manifestaciones culturales de carácter masivo y popular.[89]\\u200b\\nen el cine y la televisión se suele ver contenido relacionado con este deporte. en cuando al primero, existen muchas películas dedicadas a este juego, aunque pocas creadas con el apoyo de la fifa. dentro de las más conocidas se destacan la trilogía ¡goool!: ¡goool! (2005), ¡goool! 2: viviendo el sueño (2007) y ¡goool! 3: el juego final (2008), todas con el apoyo de fifa.[90]\\u200b la fifa también lanzó una película relacionada con la copa mundial de fútbol de 2006.[91]\\u200b en televisión se pueden destacar series animadas como el anime capitán tsubasa, que prácticamente popularizó el fútbol en dicho país; también se pueden mencionar producciones mexicanas[92]\\u200b y argentinas[93]\\u200b que lo toman como ingrediente principal o secundario.\\nen cuanto a la música, voices from the fifa world cup contiene una serie de canciones de autores conocidos. este fue el álbum musical realizado para la celebración de la copa mundial de fútbol de 2006 en alemania.\\nla relación entre los videojuegos y el fútbol es muy fructífera. uno de los primeros videojuegos futbolísticos exitosos fue el pele\\'s soccer de la consola atari 2600.[94]\\u200b muchas ediciones se volvieron clásicos, como el fifa series, el pro evolution soccer/winning eleven y el pc fútbol.\\nel fútbol está reglamentado por 17 leyes o reglas, las cuales se utilizan universalmente, aunque dentro de las mismas se permiten ciertas modificaciones para facilitar el desarrollo del fútbol femenino, infantil y sénior. si bien las reglas están claramente definidas, existen ciertas diferencias en las aplicaciones de las mismas que se deben a varios aspectos. un aspecto importante es la región futbolística donde se desarrolla el juego. por ejemplo, en europa, particularmente en inglaterra, los árbitros se destacan por ser más permisivos con las faltas e infracciones, reduciendo de esta manera las amonestaciones y expulsiones, mientras que en otros lugares, por ejemplo en sudamérica, las faltas son penadas con tarjetas más a menudo.\\nlas reglas del juego están definidas por la international football association board, organismo integrado por la fifa y las cuatro asociaciones del reino unido. para aprobarse una modificación a las mismas se deben tener por lo menos los votos de la fifa y de 2 de los 4 votos de las asociaciones del reino unido.\\nel fútbol se juega en un terreno de césped natural o artificial de forma rectangular. las medidas permitidas del terreno son de 90 a 120 metros de largo y de 45 a 90 metros de ancho, pero para partidos internacionales se recomiendan las siguientes medidas: entre 100 y 110 metros de largo, y entre 64 y 75 metros de ancho. las dos líneas ubicadas a lo largo del terreno reciben el nombre de líneas laterales o de banda, mientras que las otras son llamadas líneas de meta o finales. los puntos medios de cada línea de banda son unidos por otra línea, la línea media.\\nsobre el centro de cada línea de meta y adentrándose en el terreno, se ubican las áreas penales, las áreas de meta y las metas o porterías. las llamadas metas, también conocidas como porterías o arcos, constan de dos postes verticales (conocidos como palos o verticales) de 2,44 metros de alto ubicados a 7,32 metros de separación y sobre el centro de cada línea de meta. las partes superiores de los postes son unidas por otro poste horizontal, conocido como travesaño o larguero.\\nlas áreas penales son áreas rectangulares ubicadas en el centro de las metas y adentrándose en el terreno. estas se trazan a 16,5 metros de los postes verticales, adentrándose también 16,5 metros hacia el interior del terreno, y luego uniéndose por otra línea mayor. el trazado del área de meta es igual, pero utilizando una medida de 5,5 metros.\\ncada uno de los dos equipos consta de un máximo de 11 jugadores y un mínimo de 7. durante el partido se podrán cambiar a estos jugadores por otros, los denominados suplentes o sustitutos. uno de los jugadores titulares deberá ser el guardameta. está permitido que un guardameta y otro jugador del equipo se intercambien de posición durante el encuentro, siempre y cuando sea durante una interrupción con el consentimiento del árbitro.\\ncada jugador deberá tener una indumentaria básica, la cual consta de una camiseta o jersey con mangas, unos pantalones cortos, medias, canilleras o espinilleras y un calzado adecuado. los colores de la indumentaria de ambos equipos y la de ambos guardametas deben ser claramente diferenciables para la vista. los capitanes (jugadores representantes de cada equipo) deberán llevar alguna marca identificadora para ser llamados por el árbitro cuando sea necesario, que generalmente es un brazalete.\\nel fútbol se juega con un balón o pelota de forma esférica. deberá ser de cuero u otro material adecuado. su circunferencia será de entre 68 y 70 centímetros, su masa de entre 410 y 450 gramos y su presión de entre 0,6 y 1,1 atmósferas al nivel del mar. los jugadores pueden tocar y mover el balón con cualquier parte de su cuerpo excepto los brazos. el guardameta tiene la ventaja de poder utilizar cualquier parte de su cuerpo para esto, pero solo dentro de su área penal.\\ncada encuentro será controlado por un árbitro principal designado por la organización de la competición en cuestión, quien será la autoridad máxima del partido y el encargado de hacer cumplir las reglas del juego. todas las decisiones del árbitro son definitivas. solo él puede modificar una decisión, siempre que no haya reanudado el juego o el partido haya finalizado. además tendrá a su disposición 2 árbitros asistentes o lineman (hombre de línea) para ayudarlo en la toma de decisiones. posee también un cuarto árbitro a su disposición quien es el que lo corrobora, y además controla a los suplentes y cuerpo técnico. el cuarto árbitro además indica las sustituciones y el aumento del tiempo reglamentario.\\npara iniciar el encuentro, uno o más jugadores de un equipo moverán el balón hacia la portería rival desde el punto medio de la línea media, momento donde empezará a correr el tiempo reglamentario. esta situación se da con el equipo contrario al comienzo de la segunda mitad. también ocurre luego de cada gol, donde el equipo que lo recibió ejecuta el saque.\\nla duración de un partido, especificada en la regla 7 del reglamento[¿cuál?], será de dos tiempos iguales de 45 minutos, con un periodo intermedio de descanso que no podrá exceder los 15 minutos, debiendo establecer su duración el reglamento de cada competición. la duración de cada mitad de tiempo solo podrá alterarse si lo permiten las reglas de la competición, y si existe acuerdo entre el árbitro y los dos equipos participantes antes de iniciarse el partido. el tiempo perdido durante la disputa del partido deberá recuperarse al final de cada periodo, quedando a criterio del árbitro principal la duración de esos periodos de recuperación.\\nel objetivo del deporte es marcar más goles que el rival. se considera que un equipo ha marcado un gol cuando el balón rebase por completo la línea de meta entre los postes verticales y por debajo del poste horizontal de la portería rival, siempre y cuando no se haya cometido una infracción a las reglas del juego previamente. el gol es la única forma de marcar en el fútbol, cosa que no sucede en otros códigos del fútbol. si ambos equipos marcan la misma cantidad de goles, el partido se considera empatado.\\nen muchos casos, cuando el partido termina en empate, se debe buscar alguna forma de que uno de los dos equipos sea considerado el ganador del encuentro, y para lograr esto existen varias formas. si el partido termina empatado, se puede jugar una prórroga o tiempo extra, la cual consta de dos tiempos, generalmente, de 15 minutos cada uno, donde se continua el partido inicial. además, existen dos formas de que la prórroga culmine antes de tiempo: el gol de oro y el gol de plata, aunque estas formas han sido dejadas de lado en los últimos años.\\nsi persiste la igualdad, se ejecutará una serie de tiros penales o penaltis. la misma consiste en que cada equipo lance penaltis de forma alternada hasta totalizar 5 cada uno. si al cabo de los 10 penaltis o penales[95]\\u200b ejecutados persiste la igualdad, se continuará ejecutando un penalti por equipo hasta que se defina un ganador.\\nla utilización de la prórroga y los tiros penales son un formato muy utilizado en el fútbol moderno, siendo el principal exponente de esto las fases eliminatorias de la fase final de la copa mundial de fútbol. en algunas competiciones se pasa a la ejecución de penales directamente después de la culminación del partido inicial, sin utilizar la prórroga. un claro ejemplo de este sistema son las fases eliminatorias de la copa américa.\\nen todos estos ejemplos se jugaba un único encuentro, pero existen otros torneos donde las fases eliminatorias se juegan a dos encuentros, los denominados partidos de ida y vuelta. para determinar si la llave (ambos partidos) terminó en empate, se suman los goles a favor de ambos equipos en los dos partidos, y si dan lo mismo, se dice que la llave terminó en empate. en algunos casos, si la llave terminó empatada, se utiliza un sistema de desempate con prórroga o tiros penales, los cuales se ejecutan al finalizar el segundo partido de la llave.\\nen algunas fases eliminatorias se considera otra forma de desempate previo a la prórroga o los penaltis: los goles de visitantes. si al cabo de ambos partidos ningún equipo superó al otro en goles a favor, se contarán la cantidad de goles convertidos por cada equipo en el partido que jugó como visitante. si un equipo marcó más goles de visitante al cabo de ambos partidos, será el ganador de la llave, pero si persiste la igualdad también en los goles de visitante, se procederá con la prórroga o los penales. un ejemplo de este sistema son las fases eliminatorias de la copa libertadores de américa y de la liga de campeones de la uefa.\\ncada vez que un jugador intente golpear o golpee a otro, lo empuje, lo retenga para sacar una ventaja, lo escupa o toque el balón con sus manos (excepto el guardameta), el árbitro marcará un tiro libre directo a favor del equipo que no cometió la infracción, que se ejecutará desde el lugar de la infracción. si ocurrió dentro del área penal propia, independientemente de la posición del balón y si el balón está en juego, se marcará un tiro penal en contra del equipo infractor.\\nsi un jugador juega de forma peligrosa, obstaculiza a un adversario o impide al guardameta sacar el balón con sus manos, se marcará un tiro libre indirecto a favor del equipo que no cometió la infracción, que se ejecutará desde el lugar de la infracción. además se marcará un tiro libre indirecto si el guardameta mantiene la pelota en sus manos por más de 6 segundos o toca el balón luego de haberlo tocado anteriormente, lo recibe de un compañero o directamente de un saque de banda.\\nun jugador podrá ser merecedor de recibir una tarjeta amarilla (amonestación) o roja (expulsión), si comete alguna infracción de las especificadas en el reglamento. si un jugador recibe una tarjeta roja, será expulsado del terreno y no podrá ser reemplazado por otro. si un jugador recibe dos tarjetas amarillas en un mismo partido, recibirá una tarjeta roja y será expulsado. las tarjetas son una forma de hacer cumplir las reglas del juego por parte de los jugadores.\\nsi el balón abandona el terreno de juego por una línea de meta luego de ser tocado por un jugador defensa, se concederá un saque de esquina al equipo rival. si es tocado por última vez por un atacante, se concederá un saque de meta al equipo defensor. si el balón abandona el campo por una de las líneas de banda, se concederá un saque de banda al equipo que no tocó el balón por última vez.\\nexisten muchas variantes de fútbol, las principales son:\\nel fútbol sala o futsal se juega entre dos equipos de 5 jugadores cada uno, siendo uno de ellos el guardameta. se juegan dos tiempos de 20 minutos cada uno. cada encuentro se juega sobre una superficie de material sólido de unos 40 por 20 metros. el resto de las reglas son prácticamente iguales a las del fútbol tradicional, con algunas diferencias, como la falta del fuera de juego y el uso de los pies para efectuar los saques de banda.[96]\\u200b\\ndesde 1989 se juega el campeonato mundial de futsal, el equivalente de la copa mundial de fútbol para este deporte, que también es organizado por la fifa.\\nal igual que el fútbol sala o fútbol de salón, el fútbol playa contiene grandes similitudes con el fútbol tradicional. participan dos equipos de cinco jugadores cada uno, siendo uno de ellos el guardameta. se juega en un campo de unos 35 por 25 metros, el cual está cubierto íntegramente por arena. cada partido consta de tres tiempos de 12 minutos cada uno y a diferencia de otras variantes del fútbol (fútbol sala por ejemplo), el tiempo se detiene cuando el árbitro marca un tiro libre, marca un tiro penal o consta que un jugador está haciendo pasar el tiempo de forma inapropiada. todos los tiros libres son directos y sin barrera del equipo rival. si un jugador recibe dos tarjetas amarillas, recibirá una tarjeta azul y deberá salir del campo de juego por 2 minutos sin poder ser reemplazado por otro jugador. si un jugador recibe una tarjeta roja o tres amarillas, será expulsado y no podrá ser reemplazado por otro. los saques de banda pueden ejecutarse con los pies. el resto de las reglas son prácticamente iguales a las del fútbol tradicional.[97]\\u200b\\nla competición más importante en la actualidad es la copa mundial de fútbol playa de fifa, que se disputa desde 1995, aunque solo desde 2005 bajo el mandato de la fifa.\\nen la actualidad, particularmente en los juegos paralímpicos, existen dos versiones del fútbol adaptadas a personas con algún tipo de discapacidad: el fútbol 5, para personas que sufren de ceguera, y el fútbol 7, para personas con parálisis cerebral. se utilizan reglas similares a las del fútbol tradicional y a las del futsal, pero con modificaciones para adaptarlas a la discapacidad en cuestión.\\nel fútbol 5 se juega entre dos equipos de 5 jugadores cada uno, donde uno de ellos, el guardameta, no debe sufrir de ceguera total (ceguera b-1). para evitar trampas, los 4 jugadores de campo llevan una venda sobre sus ojos, independientemente de su nivel de ceguera. se juegan dos tiempos de 25 minutos cada uno. el terreno es de forma rectangular, su largo es de entre 38 y 42 metros y su ancho entre 18 y 22 metros. posee una meta o portería, un área penal y otras características similares a la del fútbol tradicional. se utiliza un balón que al girar sobre sí mismo emite un sonido claramente identificable por los jugadores. el objetivo del juego es marcar más goles que el rival y para esto se debe hacer pasar el balón por la portería rival utilizando cualquier parte del cuerpo, excepto los brazos. al igual que en el fútbol tradicional, cada encuentro es controlado por varios árbitros, los cuales están encargados de hacer respetar las reglas y sancionar a los jugadores de ser necesario.[98]\\u200b\\nel fútbol 7 es prácticamente igual al fútbol tradicional. las diferencias más notorias son el menor tamaño del terreno de juego y las porterías, el número de jugadores por equipo (7 en lugar de 11), la inexistencia del fuera de juego y la libertad para efectuar un saque de banda de la forma que el jugador lo desee. solo pueden participar jugadores que sufran parálisis cerebral de clase 5 a 8.[99]\\u200b\\nel showbol es parecido al fútbol sala, jugado en una cancha con las dimensiones de una pista de hockey, muchas veces en pasto sintético, con paredes laterales que rodean la cancha contra las cuales se puede rebotar el balón sin que esté fuera del juego. en sudamérica han creado muchos aficionados los ex jugadores diego armando maradona (argentino) e iván zamorano (chileno). una variante de cinco jugadores se juega en españa bajo el nombre de fútbol indoor.\\naparte de las principales variantes mencionadas más arriba, existen otros deportes que comparten grandes similitudes con el fútbol tradicional o que incluso combinan aspectos de otros deportes, aunque las reglas de los mismos varían de acuerdo al lugar donde se juegue y a los elementos disponibles.\\nel juego denominado bossaball combina aspectos del fútbol tradicional y del voleibol. basado en las reglas del voleibol, se juega sobre una superficie de colchones hinchables y camas elásticas, lo cual permite mayor número de toques y mucha más espectacularidad en los saltos. se juega entre dos equipos de hasta 5 jugadores, los cuales deben pasar la pelota por encima de una red utilizando cualquier parte de su cuerpo, aunque con un número limitado de toques.\\npor su parte el fútbol tenis, como lo indica su nombre, combina aspectos del fútbol tradicional y el tenis. se juega sobre un terreno similar o incluso igual al campo de tenis, donde cada uno de los dos equipos debe pasar la pelota por encima de la red utilizando la cabeza y los pies. la altura de la red puede variar, con lo cual el terreno podría ser reemplazado por un campo de voleibol.\\nun nuevo deporte es el padbol, que es una variante del fútbol-tenis pero con el agregado de las paredes del pádel y nuevas reglas para hacerlo más dinámico.\\nuno de los juegos de mesa más tradicionales relacionados con el fútbol es el fútbol de mesa (junto con su variante española, el futbolín). el mismo consta de una mesa con una réplica de un terreno de juego en su interior, la cual posee varios muñecos representando a los futbolistas. el ancho de la mesa es atravesado por una serie de barras rotantes donde se encastran los jugadores. cada uno de los equipos tiene sus barras de forma alternada. dichas barras se giran con las manos gracias a gomas en sus extremos. si bien este juego es de carácter informal, particularmente por sus reglas y el formato de la mesa, existe una organización llamada international table soccer federation que estipula reglas[100]\\u200b y organiza campeonatos de forma regular.\\ntambién vale destacar al subbuteo, un juego de mesa similar al fútbol de mesa donde la principal diferencia es que los futbolistas no se encuentran encastrados en una barra, sino que se apoyan individualmente sobre una peana de forma cóncava. para que un jugador pueda mover la pelota se le debe pegar con el dedo a uno de los muñecos para que este golpee el esférico.\\nel fútbol también tiene una gran importancia a nivel de programación de videojuegos y robots. a nivel de videojuegos se destacan simuladores como fifa y pro evolution soccer (también conocido como winning eleven), los cuales permiten emular encuentros de fútbol controlando los movimientos de los futbolistas, y otros como football manager, el cual permite controlar equipos desde el punto de vista dirigencial. también existen competiciones como la robocup, las cuales simulan encuentros de fútbol utilizando pequeños robots.\\nel ente rector del fútbol a nivel internacional es la fédération internationale de football association, más conocida por su acrónimo fifa, con sede en zúrich, suiza. dicho organismo se plantea 5 puntos principales para garantizar el buen desarrollo del deporte: mejorar el fútbol desde su carácter universal, educativo y cultural, así como mejorar los valores humanos que plantea el mismo; organizar competiciones del deporte; elaborar un reglamento para mantener el espíritu del juego; controlar las distintas formas del fútbol, adoptando medidas para mejorar las mismas; e impedir ciertas prácticas que afecten la esencia del deporte.[101]\\u200b\\nla fifa no se centra únicamente en los detalles organizativos del deporte, sino que también promueve mejoras en la infraestructura futbolística de cada país, en particular en los más pobres, por medio del programa goal. el mismo inculca aspectos tácticos, técnicos, de salud y organizativos a las poblaciones de dichos países, ayudándolos a crecer futbolísticamente. el programa no financia la construcción de estadios, pero sí lo hace con terrenos de entrenamiento, material para entrenar y elementos de oficina para las asociaciones.[102]\\u200b en la actualidad, 185 asociaciones nacionales se benefician del programa, el cual ha completado o está trabajando en un total de 292 proyectos.[103]\\u200b\\ndebido al constante crecimiento de la fifa, se han creado a lo largo de la historia seis confederaciones regionales, cuyos objetivos son similares a los de la fifa. las mismas están encargadas de coordinar todos los aspectos del deporte en cada región. para que una asociación sea miembro de una confederación, no necesariamente debe serlo de la fifa.\\na su vez, dentro de cada confederación hay asociaciones de fútbol, las cuales representan a un país y, en algunas ocasiones, un territorio o estado no reconocido internacionalmente. salvo casos excepcionales, hay una sola asociación por país o territorio, y en caso de existir más de una, solo una puede estar afiliada a su confederación. en algunos casos la asociación principal del país tiene afiliadas otras sub asociaciones para ayudar en la organización del fútbol. cada asociación organiza el fútbol de su país independientemente de su confederación, pero en algunos casos, por ejemplo para clasificar clubes a torneos internacionales, dichos clubes deben estar avalados por la asociación ante la confederación. en algunos casos, un equipo puede estar afiliado directa o indirectamente a una asociación sin estar afiliado a una confederación.\\ntambién hay que mencionar a la nf-board, organización que agrupa a las asociaciones no afiliadas ni a la fifa, ni a ninguna de sus confederaciones. la gran mayoría de sus asociaciones pertenecen a territorios y estados no reconocidos políticamente a nivel internacional. la única competición de dicho organismo es la copa mundial viva.\\na nivel de selecciones nacionales, el torneo más importante es la copa mundial de fútbol, que se disputa desde 1930. previo a la creación de la copa mundial, en particular durante los años 1920, la competición de fútbol de los juegos olímpicos era considerada la máxima competición del deporte, aunque en la actualidad se mantiene como un torneo secundario donde se permiten jugadores menores de 23 años, con hasta 3 jugadores que sobrepasen ese límite de edad por equipo. a nivel femenino, el equivalente de la copa mundial es la copa mundial femenina de fútbol.\\na nivel de las confederaciones de fifa, los torneos más importantes son la copa américa (américa del sur) y la eurocopa (europa); y, ubicándose a un nivel inferior, se encuentran la copa africana de naciones (áfrica), la copa de oro de la concacaf (américa del norte, central y el caribe), la copa asiática (asia) y la copa de las naciones de la ofc (oceanía).\\nel torneo más importante para jugadores jóvenes es la copa mundial de fútbol sub-20, la cual recibe a equipos clasificados desde el campeonato sudamericano sub-20 (américa del sur), el campeonato europeo de la uefa sub-19 (europa), el campeonato juvenil de la caf (áfrica), el campeonato sub-20 de la concacaf (américa del norte, central y el caribe), el campeonato juvenil de la afc (asia) y el campeonato sub-20 de la ofc (oceanía).\\nen cada país los clubes de fútbol suelen federarse en asociaciones o ligas que organizan torneos oficiales entre ellos, de donde surgen los campeones de cada país y los equipos que participarán en torneos internacionales. no existe un sistema único de torneos y cada liga nacional los organiza de acuerdo a sus tradiciones. en general, la mayoría de los países tienen dos torneos principales al año: colombia (apertura y clausura) (la temporada arranca según el calendario europeo), méxico (ídem, pero en el orden inverso), chile (torneo nacional y copa chile), españa (liga y copa del rey), italia (serie a y copa italia), etc. en algunos casos los campeones de ambos torneos disputan \"supercopas\" anuales y \"recopas\" entre sí. inglaterra tiene un sistema de campeonato principal (la premier league) y luego varias copas en las que participan equipos de distintas divisiones. brasil tiene un sistema de campeonatos por estado (paulista, carioca, mineiro, gaúcho, etc.), además de tener un campeonato nacional (brasileirão).\\na nivel mundial la competición más importante es la copa mundial de clubes de la fifa que se disputa desde el año 2000 y en la que participan los campeones de las diferentes conferencias que conforman la fifa.\\na nivel continental las competiciones más importantes son la copa libertadores de américa (américa del sur), la liga de campeones de la uefa (europa), la liga de campeones de la caf (áfrica), la concacaf liga campeones (américa del norte, central y el caribe), la liga de campeones de la afc (asia) y la liga de campeones de la ofc (oceanía).\\ntambién a nivel continental se destacan las competiciones secundarias de américa del sur y europa: la copa sudamericana y la europa league (ex copa uefa), respectivamente.\\nen algunos casos clubes de otras confederaciones son invitados a certámenes de una confederación determinada. por ejemplo en el caso de la participación de equipos mexicanos afiliados a la concacaf en la copa libertadores de américa, organizada por la conmebol.\\ncuando se creó la football association en 1863, junto a la creación del deporte, se eligió el nombre de fútbol asociación (association football en inglés) para este nuevo juego. se optó por ese nombre para diferenciarlo de otros códigos de fútbol de la época, principalmente del rugby fútbol, uno de los más populares del momento.\\nel significado de la palabra fútbol varía de acuerdo al lugar donde se mencione. en gran parte de los países hispanohablantes el término fútbol hace referencia al fútbol asociación. en otros países, donde el fútbol asociación no es el código más popular, el término fútbol es asociado con otros códigos del fútbol. en dichos países se suele utilizar el término soccer (derivado de association football en los años 1880)[104]\\u200b para referirse al fútbol asociación. en los países de habla española también son aceptados los términos balompié, utilizado en algunas zonas de españa y en los nombres de varios clubes de dicho país,  futbol o fútbol/futbol soccer (nótese la palabra aguda) en méxico, américa central (a excepción de belice que lo traduce como football) y las grandes antillas y simplemente fútbol en américa del sur (a excepción de brasil que lo traduce como futebol, surinam como voetbal y guyana y guayana francesa como football).\\nen españa se documenta el uso de foot-ball en 1878 y la grafía fútbol en 1915. sin embargo, ya en 1908 mariano de cavia había propuesto el calco balompié, aunque algunos lo rechazaron por considerarlo un galicismo. azorín incluso trajo el término esferomaquia, usado por los romanos.[105]\\u200b\\n'"
            ],
            "application/vnd.google.colaboratory.intrinsic+json": {
              "type": "string"
            }
          },
          "metadata": {},
          "execution_count": 5
        }
      ]
    },
    {
      "cell_type": "code",
      "source": [
        "print(\"Cantidad de caracteres en la nota:\", len(article_text))"
      ],
      "metadata": {
        "colab": {
          "base_uri": "https://localhost:8080/"
        },
        "id": "TSQIMRBm1efm",
        "outputId": "2586807d-d857-46b1-d600-1243ce7b0875"
      },
      "execution_count": null,
      "outputs": [
        {
          "output_type": "stream",
          "name": "stdout",
          "text": [
            "Cantidad de caracteres en la nota: 69567\n"
          ]
        }
      ]
    },
    {
      "cell_type": "code",
      "source": [
        "import re\n",
        "import unicodedata\n",
        "\n",
        "def preprocess_clean_text(text):    \n",
        "    # sacar tildes de las palabras\n",
        "    text = unicodedata.normalize('NFKD', text).encode('ascii', 'ignore').decode('utf-8', 'ignore')\n",
        "    # quitar caracteres especiales\n",
        "    pattern = r'[^a-zA-z0-9.,!?/:;\\\"\\'\\s]' \n",
        "    text = re.sub(pattern, '', text)\n",
        "    pattern = r'[^a-zA-z.,!?/:;\\\"\\'\\s]' \n",
        "    # quitar números\n",
        "    text = re.sub(pattern, '', text)\n",
        "    # quitar caracteres de puntiación\n",
        "    text = ''.join([c for c in text if c not in string.punctuation])\n",
        "    return text"
      ],
      "metadata": {
        "id": "AL3KPSGm1yYU"
      },
      "execution_count": null,
      "outputs": []
    },
    {
      "cell_type": "code",
      "source": [
        "nota = preprocess_clean_text(article_text.lower())"
      ],
      "metadata": {
        "id": "_qrv2lg812Jb"
      },
      "execution_count": null,
      "outputs": []
    },
    {
      "cell_type": "code",
      "source": [
        "print(\"Cantidad de caracteres en la nota:\", len(nota))"
      ],
      "metadata": {
        "colab": {
          "base_uri": "https://localhost:8080/"
        },
        "id": "kU8bK1Zw7OjZ",
        "outputId": "fc43b60d-5051-4e79-a019-cd76f5922d27"
      },
      "execution_count": null,
      "outputs": [
        {
          "output_type": "stream",
          "name": "stdout",
          "text": [
            "Cantidad de caracteres en la nota: 66571\n"
          ]
        }
      ]
    },
    {
      "cell_type": "code",
      "source": [
        "nota"
      ],
      "metadata": {
        "colab": {
          "base_uri": "https://localhost:8080/",
          "height": 165
        },
        "id": "yCseWftd4T2i",
        "outputId": "e721a32d-1e03-47b4-9f30-169d7099d5e9"
      },
      "execution_count": null,
      "outputs": [
        {
          "output_type": "error",
          "ename": "NameError",
          "evalue": "ignored",
          "traceback": [
            "\u001b[0;31m---------------------------------------------------------------------------\u001b[0m",
            "\u001b[0;31mNameError\u001b[0m                                 Traceback (most recent call last)",
            "\u001b[0;32m<ipython-input-1-75a902621ba2>\u001b[0m in \u001b[0;36m<module>\u001b[0;34m()\u001b[0m\n\u001b[0;32m----> 1\u001b[0;31m \u001b[0mnota\u001b[0m\u001b[0;34m\u001b[0m\u001b[0;34m\u001b[0m\u001b[0m\n\u001b[0m",
            "\u001b[0;31mNameError\u001b[0m: name 'nota' is not defined"
          ]
        }
      ]
    },
    {
      "cell_type": "code",
      "source": [
        "# Elimino algunos caracteres que no deberían estar\n",
        "text = re.sub(r'\\[[0-9]*\\]', ' ', article_text)\n",
        "text = re.sub(r'\\s+', ' ', text)\n",
        "text = text.replace('\\u200b', '')"
      ],
      "metadata": {
        "id": "uqLzI5ek7X36"
      },
      "execution_count": null,
      "outputs": []
    },
    {
      "cell_type": "code",
      "source": [
        "# Demos un vistazo\n",
        "text"
      ],
      "metadata": {
        "colab": {
          "base_uri": "https://localhost:8080/",
          "height": 105
        },
        "id": "SQ9iaYp187r5",
        "outputId": "a8b96fda-cfe4-4c50-cf86-2efea492cc80"
      },
      "execution_count": null,
      "outputs": [
        {
          "output_type": "execute_result",
          "data": {
            "text/plain": [
              "'el fútbol o futbol  (del inglés británico football, traducido como balompié)  es un deporte de equipo jugado entre dos conjuntos de once jugadores cada uno mientras que algunos árbitros que se ocupan de que las normas se cumplan correctamente. es ampliamente considerado el deporte más popular del mundo, pues lo practican unas 270 millones de personas.  también se le conoce como futbol asociación o fútbol asociación, nombre derivado de the football association, primera federación oficial del mundo en este deporte y que utilizó ese nombre para distinguirlo de otros deportes que incluyen la palabra \"futbol\" o \"fútbol\".  en algunos países de habla inglesa también se le conoce como soccer, abreviatura de association, puesto que el nombre de football en esos países se asocia mayoritariamente a otros deportes con esa denominación (principalmente en estados unidos, donde el nombre football aplica para el fútbol americano, un deporte totalmente distinto). el terreno de juego es rectangular de césped natural o artificial, con una portería o arco a cada lado del campo. se juega mediante una pelota que se debe desplazar a través del campo con cualquier parte del cuerpo que no sean los brazos o las manos, y mayoritariamente con los pies (de ahí su nombre). el objetivo es introducirla dentro de la portería o arco contrario, acción que se denomina marcar un gol. el equipo que logre más goles al cabo del partido, de una duración de 90 minutos, es el que resulta ganador del encuentro. el juego moderno fue reinventado en inglaterra tras la formación de la football association, cuyas reglas de 1863 son la base del deporte en la actualidad. el organismo rector del fútbol es la federación internacional de fútbol asociación, más conocida por su acrónimo fifa. la competición internacional de fútbol más prestigiosa es la copa mundial de fútbol, organizada cada cuatro años por dicho organismo. este evento es el más famoso y el que cuenta con mayor cantidad de espectadores del mundo, doblando la audiencia de los juegos olímpicos.  el fútbol se juega siguiendo una serie de reglas, llamadas oficialmente reglas de juego. este deporte se practica con una pelota esférica (de cuero u otro material con una circunferencia no mayor a 70 cm y no inferior a 68 cm, y un peso no superior a 450 g y no inferior a 410 g al comienzo del partido), donde dos equipos de once jugadores cada uno (diez jugadores \"de campo\" y un guardameta) compiten por encajar la misma en la portería rival, marcando así un gol. el equipo que más goles haya marcado al final del partido es el ganador; si ambos equipos no marcan, o marcan la misma cantidad de goles, entonces se declara un empate. puede haber excepciones a esta regla; véase duración y resultado más abajo. la regla principal es que los jugadores, excepto los guardametas, no pueden tocar intencionalmente la pelota con sus brazos o manos durante el juego, aunque deben usar sus manos para los saques de banda. en un juego típico, los jugadores intentan llevar la pelota hasta la portería rival, lo que se denomina gol, a través del control individual de la misma, conocido como regate, o de pases a compañeros o tiros a la portería, la cual está protegida por un guardameta. los jugadores rivales intentan recuperar el control de la pelota interceptando los pases o quitándole la pelota al jugador que la lleva; sin embargo, el contacto físico está limitado. el juego en el fútbol fluye libremente, y se detiene solamente cuando la pelota sale del terreno de juego o cuando el árbitro decide que debe detenerse. luego de cada pausa, se reinicia el juego con una jugada específica. al final del partido, el árbitro compensa el tiempo total en minutos que se suspendió el juego en diferentes momentos. a nivel profesional, en la mayoría de los partidos se marcan solo unos pocos goles. por ejemplo, durante la temporada 2006/07 de la primera división de españa, la liga de fútbol española, se marcó un promedio de 2,48 goles por partido.  las reglas no especifican ninguna otra posición de los jugadores aparte de la del guardameta, portero o arquero, pero con el paso del tiempo se han desarrollado una serie de posiciones en el resto del campo. a grandes rasgos, se identifican tres categorías principales: los delanteros, cuya tarea principal es marcar los goles; los defensas o defensores, ubicados cerca de su portería, quienes intentan frenar a los delanteros rivales; y los centrocampistas, mediocampistas o volantes, que manejan la pelota entre las posiciones anteriores. a estos jugadores se los conoce como jugadores de campo, para diferenciarlos del guardameta. a su vez, estas posiciones se subdividen en los lados del campo en que los jugadores se desempeñan la mayor parte del tiempo. así, por ejemplo pueden existir centrocampistas derechos, centrales (de contención) e izquierdos. los diez jugadores de campo pueden distribuirse en cualquier combinación. por ejemplo, puede haber cuatro defensas, cuatro centrocampistas y dos delanteros (4-4-2); o tres defensas, cuatro centrocampistas y tres delanteros (3-4-3), y la cantidad de jugadores en cada posición determina el estilo de juego del equipo: más delanteros y menos defensas (por ejemplo 3-3-4) creará un juego más agresivo y ofensivo, mientras que lo contrario (por ejemplo 5-3-2) generará un juego más lento y defensivo. aunque los jugadores suelen mantenerse durante la mayoría del tiempo en una posición, hay pocas restricciones acerca de su movimiento en el campo. el esquema de los jugadores en el terreno de juego se llama la formación del equipo, y esta, junto con la táctica, es trabajo del entrenador. el guardameta, también conocido como portero, arquero o golero, es el jugador cuyo principal objetivo es evitar que la pelota entre a su meta durante el juego, acto conocido como gol. el guardameta es el único jugador que puede tocar la pelota con las manos durante el juego activo, aunque solo dentro de su propia área. cada equipo debe presentar un único guardameta en su alineación. en caso de que el jugador deba abandonar el terreno de juego por cualquier motivo, deberá ser sustituido por otro futbolista, ya sea uno que se encuentre jugando o un sustituto. este tipo de jugadores deben llevar una vestimenta diferente a la de sus compañeros, sus rivales (incluido el guardameta) y el cuerpo arbitral. por lo general suelen llevar el número 1 estampado sobre la camiseta. el defensa, también conocido como defensor, es el jugador ubicado una línea delante del guardameta y una por detrás de los centrocampistas, cuyo principal objetivo es detener los ataques del equipo rival. generalmente esta línea de jugadores se encuentra en forma arqueada, quedando algunos defensas más cerca del guardameta que los demás. si es solo un jugador el ubicado más atrás, recibe el nombre de líbero; si son dos o más, reciben el nombre de zagueros. los defensores posicionados en los costados del terreno son llamados laterales o stoppers (en el caso de que haya un líbero), y debido a su colocación (más cerca de los centrocampistas) estos pueden avanzar más en el terreno si lo desean. para nombrarlos se agrega la zona a la palabra defensa: por ejemplo, un defensa que juega por la derecha (mirando hacia la meta rival) sería un lateral derecho. también el arquero debe proteger y dar instrucciones a los defensas. el centrocampista, mediocampista o volante es la persona que juega en el mediocampo en un campo de fútbol. entre sus funciones se encuentran las de recuperar balones, propiciar la creación de jugadas y explotar el juego ofensivo. de acuerdo a estas funciones podemos distinguir: los volantes carrileros (los que juegan más cerca de la línea de banda); los de contención, que juegan casi a la misma altura que los defensores laterales para contribuir a la defensa y pueden ser uno o dos jugadores (el apodo de \"cinco\" que se da a estos jugadores se debe a que es el número que suelen llevar en la camiseta); y los de creación o enganches, que se sitúan entre la línea de los carrileros y delanteros (son el cerebro del ataque y se caracterizan por su habilidad). un delantero o atacante es un jugador de un equipo de fútbol que se destaca en la posición de ataque, la más cercana a la portería del equipo rival, y es por ello el principal responsable de marcar los goles. es muy importante estar en movimiento y buscar siempre pase, es decir, desmarcarse para que le sea más fácil al que lleva la pelota pasársela. la velocidad es esencial. el fútbol incluye una actividad física muy importante. durante un partido de fútbol profesional de 90 minutos, un jugador, dependiendo de su posición y de las dimensiones del campo, recorre entre 12 y 15 km.    también durante un partido de similares características, un futbolista pierde alrededor de 2 kg de líquidos, parte de los cuales son recuperados durante el tiempo de descanso.  en partidos que se juegan con altas temperaturas, los árbitros tienen el derecho de detener el encuentro, generalmente a mediados de un período, para que los jugadores y el cuerpo arbitral se hidraten.  pero al mismo tiempo, el fútbol es uno de los deportes con mayor número de lesiones,  aunque la mayoría de ellas no son de gravedad. las lesiones más comunes ocurren en las rodillas y los tobillos, debido a los movimientos rotativos a los que son sometidos. las roturas de meniscos y ligamentos cruzados junto a los desgarros musculares, son lesiones habituales dentro del fútbol. las probabilidades de lesión aumentan cuando el jugador no recibe una preparación física adecuada, particularmente en un deportista aficionado, y cuando el juego se desarrolla sobre un terreno irregular. para futbolistas profesionales o semiprofesionales es de vital importancia la presencia de un preparador físico que regule el tipo de ejercicio físico, así como la duración y regularidad del mismo. el trabajo del preparador físico se debe complementar con una correcta alimentación, donde también es recomendable la presencia de un profesional en la materia. los jugadores de fútbol deben ser capaces de controlar los balones que reciben. la forma más fácil suele ser parar la pelota; en este caso, el balón debería ser situado en la posición ideal para el próximo toque. los jugadores avanzados pueden usar el primer toque para hacer que el balón se mueva de forma rápida hacia donde tienen planeado correr. también pueden utilizar el primer toque para pasar el balón. evitar el balón en vez de recibirlo puede despistar a los jugadores oponentes. es una acción muy utilizada durante un partido, con el objetivo de recibir el balón, controlarlo y ponerlo a su servicio para desarrollar en buenas condiciones una acción posterior. la recepción en parada es aquella en la que se consigue controlar totalmente el balón en los pies, perdiendo el componente de velocidad pero aumentando la precisión en el manejo posterior del esférico. la recepción en semiparada es para conseguir que el balón pierda parte de su valor inicial. la recepción de amortiguamiento se utiliza para controlar balones aéreos, con trayectoria descendente, y se produce una amortiguación de la aceleración con el que llega la pelota. el control del balón puede ser al ras de suelo, o bien con la cara interna de la bota, o con la planta del pie, con la punta hacia arriba y encajando la pelota entre la planta y el suelo. en los balones altos, se debe conseguir llevar el balón al suelo con posibilidades de ser jugado adecuadamente. para mantener la posesión del balón es esencial tener capacidad para pasarlo en corto entre los jugadores cercanos de forma precisa y a tiempo. los pases largos precisos permiten una mayor variedad de situaciones y un juego más directo. generalmente, los pases que crean ocasiones de gol se les llama asistencia, aunque cualquier jugador en el campo podría hacer este tipo de jugadas, generalmente es un mediocampista ofensivo quien lo hace, es trabajo usual de los jugadores marcados con el 10 o el 8 en sus camisetas. los jugadores deben tener un equilibrio a la hora de tirar a puerta: ni hacerlo en demasiadas ocasiones ni tampoco dejar de intentarlo cuando tienen ocasión. los tiros deberían ser precisos y potentes, aunque generalmente no se logra esta precisión y potencia al mismo tiempo. elegir precisión o potencia depende de la situación y de las características del jugador. la elección del lugar de la portería al cual disparar es un tema controvertido y depende de cuántos jugadores estén cubriéndola. cuando el jugador encara solo al guardameta, los tiros deberían situarse cerca de uno de los postes. de forma ideal, el tiro debería ir dirigido a la escuadra, pero es menos difícil y también efectivo hacerlo a ras de suelo. cuando el guardameta está demasiado adelantado, se puede intentar un globo. la humanidad ha realizado a lo largo de su historia diversos juegos de pelota, desde la antigüedad. se conoce que este entretenimiento existía tanto en la cultura del mar mediterráneo como en américa.  el hallazgo más antiguo y revelador se remonta a un relieve de la antigua grecia (400 a. c.), donde un hombre domina una pelota sobre su muslo. este deporte era el episkyros,   que se jugaba con una pelota de cuero pintada con colores brillantes y dos equipos de 12 a 14 jugadores. la fifa lo reconoció como una de las formas más antiguas del actual fútbol.  más tarde, en roma, el mismo recibió el nombre de harpastum.  en europa, ya a finales de la edad media y siglos posteriores, se desarrollaron en las islas británicas y zonas aledañas distintos juegos de equipo, a los cuales se los conocía como códigos de fútbol. estos códigos se fueron unificando con el paso del tiempo, pero fue en la segunda mitad del siglo xvii cuando se dieron las primeras grandes unificaciones del fútbol, que más tarde dieron origen al fútbol de rugby, al fútbol americano, al fútbol australiano y al deporte que hoy se conoce en gran parte del mundo como fútbol a secas.[cita requerida] en otras zonas del mundo también se practicaban juegos en los que una pelota era impulsada con los pies. entre ellas pueden mencionarse las reducciones jesuíticas de la zona guaraní, más específicamente en la de san ignacio miní en el siglo xvii, en la región que ahora se conoce como misiones. el jesuita español josé manuel peramás escribió en su libro de vita et moribus tredecim virorum paraguaycorum: «solían también jugar con un balón, que, aún siendo de goma llena, era tan ligero y rápido que, cada vez que lo golpeaban, seguía rebotando algún tiempo, sin pararse, impulsado por su propio peso. no lanzaban la pelota con la mano, como nosotros, sino con la parte superior del pie desnudo, pasándola y recibiéndola con gran agilidad y precisión».[cita requerida] “sí, los guaraníes jugaban un juego de pelota con los pies. lo describe el padre jesuita josé cardiel, en el libro las misiones del paraguay” (madrid, historia 16, 1989, p. 135): los guaraníes no juegan a la pelota como nosotros con la mano, sino que la envían y la vuelven a recibir con la parte superior del pie descalzo con gran rapidez y mucha destreza” (josé manuel peramás, platón y los guaraníes. asunción, cepag, 2004, p. 97). los primeros códigos británicos se caracterizaban por tener pocas reglas y por su extrema violencia.  uno de los más populares fue el fútbol de carnaval. por dicha razón el fútbol de carnaval fue prohibido en inglaterra por decreto del rey eduardo iii y permaneció prohibido durante 500 años.  el fútbol de carnaval no fue el único código de la época; de hecho existieron otros códigos más organizados, menos violentos e incluso que se desarrollaron fuera de las islas británicas. uno de los juegos más conocidos fue el calcio florentino, originario de la ciudad de florencia (italia). este deporte influenció en varios aspectos al fútbol actual, no solo por sus reglas, sino también por el ambiente de fiesta en que se jugaban estos encuentros.  los colegios británicos se dividieron frente al código rugby; mientras varios decidieron seguirlo, otros decidieron rechazarlo debido a que en ellos la práctica era no tocar el balón con la mano. entre estos últimos colegios se encontraban los de eton, harrow, winchester, charterhouse y westminster.  a mediados del siglo xix se dieron los primeros pasos para unificar todos los códigos del fútbol en uno. el primer intento fue en 1848, cuando en la universidad de cambridge, henry de winton y john charles thring hicieron un llamamiento a miembros de otras escuelas para reglamentar un nuevo código, el código cambridge, también conocido como las reglas de cambridge.  las reglas presentaban un importante parecido a las reglas del fútbol actual. quizás el más importante de todos fue la limitación de las manos para tocar la pelota, pasando la responsabilidad de trasladar la misma a los pies. el objetivo del juego era hacer pasar una pelota entre dos postes verticales y por debajo de una cinta que los unía, y el equipo que marcaba más goles era el ganador. incluso se creó una regla de fuera de juego similar a la actual.  los documentos originales de 1848 se perdieron, pero se conserva una copia de las reglas de 1856.  entre 1857 y 1878 se utilizó un código del fútbol que también aportaría características al fútbol moderno: el código sheffield, también conocido como las reglas de sheffield. el código, creado por nathaniel creswick y william prest, adoptó reglas que se ven reflejadas en el fútbol actual, como el uso de un travesaño (poste horizontal) de material rígido, en lugar de la cinta que se usaba hasta el momento. también se adoptó la utilización de tiros libres, saques de esquina y saques de banda como métodos de reanudación del juego.  si bien con estas unificaciones del fútbol se lograron varios avances para la creación del fútbol moderno, se considera que el día de su nacimiento es el 26 de octubre de 1863, cuando the football association se reunió por primera vez.  ese día, ebenezer cobb morley inició una serie de seis reuniones entre doce clubes de distintas escuelas londinenses en la taberna freemason\\'s, con el objetivo de crear un código de fútbol universal y definitivo, que tuviera la aceptación de la mayoría. finalizadas las reuniones, el 8 de diciembre, once de los doce clubes lograron el consenso para establecer 14 reglas del nuevo código, el cual recibiría el nombre de fútbol asociación (association football en inglés), para diferenciarlo de otros códigos del fútbol de la época. solo el club blackheath se negó a la creación de estas reglas, que más tarde se convertiría en uno de los creadores de otro famoso deporte, el rugby.  el reglamento utilizado como base para el fútbol fue el código cambridge, excepto por dos puntos del mismo, los cuales eran considerados de mucha importancia para los códigos actuales: el uso de las manos para trasladar el balón y el uso de los tackles (contacto físico brusco para quitarle la pelota al rival) contra los adversarios. este fue el motivo del abandono del club blackheath. junto a la creación del nuevo código se creó la the football association (fa), órgano que rige hasta la actualidad el fútbol en inglaterra. en esos momentos, los estudiantes de las escuelas inglesas desarrollaron las abreviaturas \"rugger\" y \"soccer\" (derivado de \"association\"), para designar a ambos deportes: el rugby y el fútbol, respectivamente. con este último término es mayoritariamente conocido el fútbol en los estados unidos.  ya con el fútbol bien definido, se comenzaron a disputar los primeros encuentros con este nuevo código. el 20 de julio de 1871, un periódico británico anunció la creación de un torneo organizado por la fa, el primer paso para la creación de la copa de inglaterra.  ese año, la fa estaba compuesta por 50 equipos, pero solo 12 decidieron participar en la primera edición del torneo,  1871-1872, que fue ganada por el wanderers fc.  el 30 de noviembre de 1872, escocia e inglaterra disputaron el primer partido oficial entre selecciones nacionales, encuentro que concluyó en empate sin goles. el partido se disputó en el hamilton crescent, actual campo de críquet, en partick (escocia).  entre enero y marzo de 1884, se disputó la primera edición del british home championship, que hasta su desaparición en 1984 fue el torneo de selecciones más antiguo de la historia. el primer título correspondió a escocia.  la primera competición de liga llegó en la temporada 1888-1889 con la creación de la football league. participaron 12 equipos afiliados a la fa, y cada uno jugó un total de 22 encuentros. dicho torneo quedó en manos del preston north end football club, que además lo logró sin ser vencido.  con el pasar de los años, el fútbol se expandió rápidamente en las islas británicas, donde se crearon nuevas asociaciones de fútbol, aparte de la inglesa (fundada en 1863), que representaban a las cuatro regiones del por entonces reino unido de gran bretaña e irlanda: la scottish football association (escocia, 1873), la football association of wales (gales, 1876) y la irish football association (irlanda, 1880).  a finales de los años 1880 el fútbol comenzó a expandirse rápidamente fuera del reino unido, principalmente debido a la influencia internacional del imperio británico. los primeros países en iniciar sus asociaciones de fútbol fueron dinamarca y los países bajos (1889),  a los que luego se sumaron las asociaciones de nueva zelanda (1891), argentina (1893), bélgica, chile y suiza (1895), italia (1898), alemania y uruguay (1900), hungría (1901), noruega (1902), suecia (1904) y españa (1913).   el auge del fútbol a nivel mundial motivó la creación de la fifa el 21 de mayo de 1904. las asociaciones fundadoras fueron bélgica, españa (representada por el madrid f. c.), dinamarca, francia, países bajos, suecia y suiza. las cuatro asociaciones de fútbol del reino unido, las denominadas home nations, se opusieron a la creación de dicho órgano.  debido al crecimiento del fútbol, la fifa había anunciado la primera competición internacional de selecciones para 1906, pero por problemas internos de varias asociaciones la misma no se desarrolló.  el fútbol ya se había presentado al mundo por medio de una serie de encuentros de exhibición durante los juegos olímpicos de 1900, 1904, 1906 (juegos intercalados), todos a nivel de clubes, hasta que la edición de 1908 recibió por primera vez una competición de selecciones. la medalla de oro quedó en manos de la selección de fútbol del reino unido. en 1916 se fundó la confederación sudamericana de fútbol (conmebol), que ese mismo año organizó la primera edición del campeonato sudamericano de fútbol, actual copa américa —dicho torneo se mantiene como el más antiguo de la historia del fútbol a nivel de selecciones, de los que todavía existen—.  en esa primera edición participaron argentina, brasil, chile y uruguay, resultando campeón este último. la primera guerra mundial hizo retroceder el desarrollo del fútbol, pero las ediciones de 1924 y 1928 de los juegos olímpicos revitalizaron el deporte, en particular las actuaciones de la selección uruguaya. este nuevo crecimiento del fútbol motivó que la fifa confirmara el 28 de mayo de 1928 en ámsterdam la realización de un campeonato mundial de selecciones, cuya sede sería confirmada el 18 de mayo de 1929 en el congreso de barcelona. uruguay sería sede de la primera edición de la copa mundial de fútbol, que se celebraría en conjunto con el centésimo aniversario de la primera constitución uruguaya. la selección uruguaya se quedó con el primer título de la historia de la competición. la segunda edición del torneo se realizó en 1934 en italia, y fue utilizada por el dictador benito mussolini como propaganda de su régimen. la competición se vio deslucida debido a la intervención de mussolini, que hizo todo para que su selección italiana obtuviera el torneo, incluso con amenazas a los árbitros de la final.  la tercera edición del torneo también se vio deslucida debido a mussolini, que antes de la final entre italia y hungría envió un telegrama a su selección amenazándolos de muerte. finalmente la selección azzurra, que vistió un uniforme completamente negro representando al partido nacional fascista, se impuso en la final por 4 goles a 2.  la segunda guerra mundial también tuvo un efecto similar sobre el fútbol. en 1946 las home nations, que se habían desafiliado de la fifa tras la primera guerra mundial, volvieron al órgano internacional. el 10 de mayo de 1947 se considera una fecha de vital importancia para el resurgimiento de la fifa y del fútbol mundial, gracias a la realización del encuentro amistoso entre la selección británica y un combinado de futbolistas europeos, el resto de europa xi, en el denominado partido del siglo. el encuentro se disputó en hampden park, glasgow, escocia, ante 135 000 espectadores. el conjunto británico ganó el partido con un marcador de 6 goles a 1, y la recaudación del partido fue donada a la fifa para ayudarla en su relanzamiento.  la primera edición de la copa mundial posterior a la segunda guerra mundial se desarrolló en brasil durante 1950. el triunfo de la selección uruguaya en el recordado maracanazo coronó el resurgimiento de la fifa y del fútbol mundial. la castellanización de la palabra se produce a principios del siglo xx. [página requerida] el juego de la pelota o balompié, que ya es bastante popular en inglaterra, aparece por primera vez en una revista gráfica de españa en 1868. la revista \"el panorama\", publicada en valencia entre 1867 y 1869, incluyó un pequeño reportaje de curiosidades hablando por primera vez del \"football\" inglés en su número del 30 de abril de 1868, e incorporando una ilustración gráfica del mismo.  a partir de entonces se empieza a extender el juego del football en españa y otros países hispanoamericanos (argentina, paraguay) y son muchas las referencias a este juego, utilizando la denominación original.  para entonces los primeros clubes y equipos en españa y argentina incorporan la palabra inglesa a sus denominaciones originales. son muy comunes las denominaciones sport club, sporting club, racing club, athletic club, recreation club o foot-ball club que acompañaban a la localidad que representaban.  en 1908, mariano de cavia propone que se denomine al nuevo juego \"balompié\"  y en septiembre de ese mismo año ya algunos nuevos equipos lo incorporan, como el recién creado \"sevilla balompié\", antecedente inmediato del real betis balompié.  en 1922, la real academia de la lengua española, a instancias de gabriel maura y gamazo, quien fuera presidente de la real federación española de football, incorpora la palabra \"futbol\" sin tilde, aunque se seguía utilizando asiduamente la denominación inglesa. con la llegada de la república, en 1931, la federación española incorpora definitivamente la palabra \"fútbol\" a su denominación y empieza a utilizarla asiduamente, oficializándola.  al término de la guerra civil hubo una política clara de \"castellanización\" y \"depuración\" del franquismo de todas las palabras y vocablos, incluidos los extranjeros. mediante la orden del ministerio de la gobernación de 16 de mayo de 1940,  se prohibió el empleo de vocablos genéricos extranjeros en todo tipo de rótulos, carteles y espacios públicos, lo que llevó al cambio definitivo hacia la denominación \"futbol\" tanto de los clubes como de su comunicación, utilizándose de facto todas aquellas palabras del léxico que ya habían sido incorporadas por el diccionario de la real academia española. el consejo nacional de deportes, bajo cuyo mando quedó la federación española de fútbol, impuso a todas las federaciones nacionales una limpieza idiomática, unificando la terminología del fútbol mediante una decisión tomada el 20 de diciembre de 1940.  la federación trasladó la voluntad del gobierno a sus asociados mediante la circular federativa 3. 149, comunicada el 21 de diciembre de 1940, por la que se obligaba a todos los clubes a cambiar su denominación, lo que debía hacerse antes del 1 de febrero de 1941. así fue como el real madrid f.c. pasó a ser real madrid c. f., el f. c. barcelona a c.f. barcelona, el valencia f.c. a valencia c. f., el athletic club a atlético de bilbao y el athletic-aviación club a club atlético-aviación, mientras que otros, como el real sporting de gijón o el real santander racing club quedaron en real gijón y real santander sd. a partir de ese momento se unificó totalmente el léxico futbolístico adoptándose por los medios de comunicación y las instituciones del fútbol gran parte de la terminología que ha llegado hasta el siglo xxi. la segunda mitad del siglo xx sería la época de mayor crecimiento del fútbol. el fútbol sudamericano ya se encontraba organizado desde 1916, año en que se fundó la confederación sudamericana de fútbol, pero el deporte en otras zonas se comenzaría a agrupar en los años 1950 y 60. en 1954 el fútbol europeo y asiático se organizaría en la unión de asociaciones europeas de fútbol y la confederación asiática de fútbol respectivamente. en europa se consolidan los clubes con mayores presupuestos, fundados en su mayoría a finales del s. xix, pero que alcanzan grandes cotas de éxito en la segunda mitad del s. xx. entre ellos destaca el club español real madrid club de fútbol, declarado por fifa \"mejor club del mundo en el s. xx\". en áfrica se fundaría la confederación africana de fútbol en 1957; en américa del norte, central y el caribe, la concacaf en 1961; y por último en oceanía, la confederación de fútbol de oceanía en 1966. dichas organizaciones se afiliarían a la fifa bajo el nombre de confederaciones. en paralelo con las creaciones de las nuevas confederaciones se comenzaron a disputar los primeros torneos regionales de selecciones, excepto por la confederación sudamericana de fútbol, que ya disputaba su campeonato sudamericano de selecciones desde 1916. en 1956 la confederación asiática de fútbol realizó la primera edición de la copa asiática, y al año siguiente la confederación africana de fútbol organizó la copa africana de naciones. en 1960 se crea la eurocopa, que agrupa a las selecciones de la uefa. por su parte, la concacaf disputaría por primera vez la copa concacaf en 1963, que más tarde sería reemplazada por la copa de oro. la confederación de fútbol de oceanía sería la última en crear su propio torneo, la copa de las naciones de la ofc, celebrada por primera vez en 1973. debido a la creación de las confederaciones se comenzaron a disputar los primeros campeonatos internacionales a nivel de clubes, siendo la primera de su tipo la campeonato sudamericano de campeones, que reunió a siete equipos de sudamérica. luego apareció la liga de campeones de la uefa, que reúne a los distintos campeones de las principales ligas de los países de la uefa a partir de 1955. cinco años más tarde se inició la copa libertadores de américa, máximo evento para clubes afiliados a la conmebol, que se disputó por primera vez en 1960. ese mismo año se disputó la primera edición de la copa intercontinental, que reunió a los campeones de los torneos continentales de sudamérica y europa. este torneo se reemplazó en 2005 por la copa mundial de clubes de la fifa, que además recibie a los campeones de las demás confederaciones. mientras tanto, la copa mundial de fútbol se consolidó como el evento deportivo de mayor importancia en el mundo entero, incluso superando en audiencia a los propios juegos olímpicos.  según una encuesta realizada por la fifa en el año 2006,  aproximadamente 270 millones de personas en el mundo están activamente involucradas en el fútbol, incluyendo a futbolistas, árbitros y directivos. de estas, 265 millones juegan al fútbol regularmente de manera profesional, semi-profesional o amateur, considerando tanto a hombres, mujeres, jóvenes y niños. dicha cifra representa alrededor del 4 % de la población mundial. la confederación con mayor porcentaje de personas activamente involucradas con el fútbol es la concacaf, con el 8,53 % de la población. su contraparte se da en la zona de la afc, donde el porcentaje es de solo un 2,22 %. la uefa tiene un porcentaje de participación del 7,59 %; la conmebol de 7,47 %; la ofc de 4,68 %; y la confederación africana de fútbol del 5,16 %. existen más de 1,7 millones de equipos en el mundo y aproximadamente 301 000 clubes.  el país con más futbolistas que se desempeñan regularmente (excepto niños) es china, que posee 26,1 millones de futbolistas. lo siguen: estados unidos (24,4 millones), india (20,5), alemania (16,3), brasil (13,1), colombia (9,2) y méxico (8,4). por otro lado, las federaciones con menor cantidad de futbolistas regulares (excepto niños) son montserrat, con 300 futbolistas, las islas vírgenes británicas (658), anguila (760) y las islas turcas y caicos (950). el fútbol femenino ha tenido un crecimiento lento en el fútbol moderno, principalmente por obstáculos sociales y culturales que no permiten el ingreso pleno de la mujer al deporte.  el primer encuentro femenino bajo las reglas del fútbol asociación del cual se tienen registros sucedió en 1892 en glasgow, escocia.  a finales de 1921 el fútbol femenino fue prohibido en inglaterra, hecho que no le permitió expandirse al resto del mundo. en 1969 el fútbol femenino se volvió a organizar en inglaterra, motivo por el cual comenzó a expandirse fuera de su territorio. el primer encuentro internacional de selecciones de fútbol femenino ocurrió en 1972, casualmente 100 años después del primer encuentro masculino, donde inglaterra venció a escocia por 3 a 2.  los primeros torneos mundiales comenzaron a disputarse en los años 1990: la copa mundial femenina de fútbol a partir de 1991 y como deporte de los juegos olímpicos desde 1996. según una encuesta realizada por la fifa, existen alrededor de 26 millones de jugadoras en el mundo. en promedio, por cada 10 futbolistas (de ambos sexos) existe una mujer futbolista en el mundo.  según estimaciones de la fifa, durante el período 2003-2006 dicho organismo tuvo ingresos por 3238 millones de francos suizos (chf)  y gastos por 2422 millones de chf, lo cual da un superávit de 816 millones de chf. el 92 % (2986 millones de chf) de los ingresos están relacionados con las competiciones internacionales, particularmente la retransmisión por televisión de la copa mundial de fútbol de 2006, que comprende 1660 millones de chf de ese valor. el resto de los ingresos se dividen en partes iguales entre ingresos financieros y otros ingresos de explotación. del total de los ingresos, 714 millones de chf se consiguen por concepto de derechos de merchandising. muchos de estos ingresos se dan en puntos de venta en los alrededores de los estadios de la copa mundial de fútbol.  en cuanto a los gastos, el 69 % (1682 millones de chf) de los mismos están dedicados a la organización de campeonatos y al desarrollo del deporte: un 46 % de los gastos totales (1.125 millones de chf) y un 23 % (557 millones de chf) respectivamente. el 26 % (622 millones de chf) se dedicó a gastos operativos, como lo son el transporte, alquileres, gastos jurídicos, comunicaciones, entre otros. el otro 5 % (118 millones de chf) corre por efectos del cambio de divisas e intereses.  los presupuestos de los clubes de fútbol se pueden encontrar en diferentes valores dependiendo de la zona del mundo donde se encuentren. los mayores presupuestos se pueden encontrar en europa, particularmente en las principales ligas de alemania, españa, italia e inglaterra.  en gran parte de américa del sur los mayores ingresos se deben a la transferencia de jugadores a las ligas europeas, los fondos aportados por las transmisiones de la televisión y la publicidad en las camisetas.   por el lado de los europeos, los derechos televisivos, la publicidad, la venta de entradas y el merchandising cubren gran parte del presupuesto.   el fútbol también cumple un rol solidario. uno de los principales aportes de la fifa al desarrollo del deporte en áreas donde esto se hace difícil por falta de materiales y técnicas de desarrollo es el programa goal. por otro lado, la fifa trabaja con unicef desde 1999, brindando material de trabajo relacionado con el fútbol para que este sea repartido por esta organización de las naciones unidas.  regularmente se realizan en todo el mundo encuentros amistosos con propósitos benéficos, cuyos promovedores suelen ser estrellas del fútbol mundial.    se entiende por fichaje o pase, a la transferencia de un futbolista de un club a otro a cambio de una suma económica que paga el club que recibe al jugador al que lo entrega. algunos de estos fichajes pueden alcanzar precios muy altos. los diez fichajes más caros en la historia del fútbol son los siguientes:  la lucha contra el dopaje en el fútbol se remonta a 1966, cuando la fifa se convirtió en una de las primeras federaciones internacionales en crear reglas para controlar al mismo.  anualmente se hacen 20 000 pruebas anti dopaje a futbolistas de todo el mundo, de las cuales entre 80 y 90 dan positivas, mayoritariamente por el uso de cocaína o cannabis.  se entiende por dopaje positivo lo siguiente: .mw-parser-output .flexquote{display:flex;flex-direction:column;background-color:#f9f9f9;border-left:3px solid #c8ccd1;font-size:90%;margin:1em 4em;padding:.4em .8em}.mw-parser-output .flexquote>.flex{display:flex;flex-direction:row}.mw-parser-output .flexquote>.flex>.quote{width:100%}.mw-parser-output .flexquote>.flex>.separator{border-left:1px solid #c8ccd1;border-top:1px solid #c8ccd1;margin:.4em .8em}.mw-parser-output .flexquote>.cite{text-align:right}@media all and (max-width:600px){.mw-parser-output .flexquote>.flex{flex-direction:column}} el procedimiento para una prueba de dopaje se inicia en el descanso de un partido, cuando se sortean dos jugadores por equipo. quince minutos antes de la finalización del encuentro se le entrega un sobre a él o los delegados en el terreno, identificados por un chaleco blanco con una cruz verde, los cuales eligen al azar dos de ellos (uno por equipo). una vez terminado el encuentro informarán a los dos jugadores elegidos que deben dirigirse a la zona de pruebas para ser controlados. los jugadores expulsados durante el encuentro también pueden ser citados. más tarde los jugadores seleccionados deberán dar una muestra de orina. previamente a esto, los seleccionados no pueden ingresar a sus vestuarios, pero si a una sala donde pueden beber bebidas analcohólicas e incluso tomar una ducha. la muestra tomada por un profesional del mismo sexo que el del jugador envía la misma a un laboratorio para su análisis.  en caso de que la muestra dé positiva, el informe sobre la misma se envía la subcomisión del control de dopaje de la fifa, la cual investiga la veracidad del estudio y, una vez aprobado, pasa a manos del director de control de dopaje de la fifa, el cual verificará la información para autorizar su envío a la comisión disciplinaria, a la comisión de medicina deportiva y a la asociación a la cual pertenezca el jugador. la comisión disciplinaria decidirá qué pena se le aplica al jugador.  quizás el caso más conocido de dopaje en el fútbol fue el de diego armando maradona, que tras un partido por la copa mundial de fútbol de 1994 en estados unidos fue seleccionado para la realización de la prueba. su muestra dio positiva y se le aplicó una pena de 15 meses.  la violencia en el fútbol es casi tan antigua como el deporte mismo. sus orígenes se remontan a los encuentros de fútbol de carnaval durante la edad media, los cuales se caracterizaban por no tener reglas y por el uso desmedido de la violencia. en 1314, se realizó la primera prohibición de este deporte, para evitar la creciente ola de violencia que producía.  la primera aparición de la violencia en el fútbol moderno, de 1863 en adelante, ocurrió en 1885, cuando un encuentro entre los equipos ingleses de preston north end y aston villa terminó con una brutal pelea entre jugadores de ambos equipos.  los grupos violentos de una hinchada reciben varios nombres, pero se destacan algunos como barra bravas, hooligans o ultras. por ejemplo, en argentina ha habido más de doscientas muertes relacionadas con incidentes en campos de fútbol y sus alrededores.  en italia, la violencia de los denominados ultras italianos se caracteriza por sus insultos racistas e incluso por la fabricación de armamento para las batallas que efectúan antes, durante y después de los encuentros.  la violencia en el fútbol ha generado cosas aún peores, tal como lo fue la denominada guerra del fútbol. dicho conflicto se agudizó por la serie de encuentros que disputaron las selecciones de fútbol de el salvador y honduras. los encuentros eran válidos por la clasificación para la copa mundial de fútbol de 1970, a disputarse en méxico.  para evitar estos males del fútbol, la fifa promueve una campaña llamada fair play o juego limpio, la cual invita a los participantes de este deporte a mostrar valores que hacen crecer al fútbol.  anualmente, el mismo organismo entrega uno o más premios a personas, clubes, asociaciones o entidades de cualquier tipo que transmiten los valores del fair play.  fuera de la cancha, también se han dado casos: el árbitro mexicano adalid maganda fue víctima de actitudes de racismo por parte del público, de los jugadores, del arbitraje (comisión de arbitraje) y de la federación mexicana de fútbol.  la cultura es el conjunto de expresiones de una sociedad, y como tal el fútbol no está exento de la misma. uno de los institutos que promueven el fútbol como cultura a nivel internacional es el goethe-institut, que ha realizado exposiciones alrededor del mundo cuyos temas eran el fútbol.  una importante muestra de cultura se dio durante la copa mundial de fútbol de 2006 disputada en alemania. el walk of ideas fue una muestra exhibida en ese país durante ese año, la cual constaba de una serie de obras plásticas que representaban a alemania, siendo una de ellas un par de zapatos de fútbol. el diseño gráfico aporta su parte a la cultura de este deporte, ya que el diseño de los afiches y demás elementos gráficos deben representar al país donde se realiza la competición a la cual le fueron asignados dichos trabajos. también valen destacar trabajos como los del humorista gráfico y escritor argentino roberto fontanarrosa, ya que muchos de los mismos estaban relacionados con el fútbol.  la relación con la literatura fue más problemática. habiendo sido popularmente rechazada por los escritores desde sus inicios, recién a partir de los años 1960 y 1970 los literatos se acercan al mundo del fútbol.  este acercamiento puede relacionarse con el auge de los estudios semióticos, que revalorizaron las manifestaciones culturales de carácter masivo y popular.  en el cine y la televisión se suele ver contenido relacionado con este deporte. en cuando al primero, existen muchas películas dedicadas a este juego, aunque pocas creadas con el apoyo de la fifa. dentro de las más conocidas se destacan la trilogía ¡goool!: ¡goool! (2005), ¡goool! 2: viviendo el sueño (2007) y ¡goool! 3: el juego final (2008), todas con el apoyo de fifa.  la fifa también lanzó una película relacionada con la copa mundial de fútbol de 2006.  en televisión se pueden destacar series animadas como el anime capitán tsubasa, que prácticamente popularizó el fútbol en dicho país; también se pueden mencionar producciones mexicanas  y argentinas  que lo toman como ingrediente principal o secundario. en cuanto a la música, voices from the fifa world cup contiene una serie de canciones de autores conocidos. este fue el álbum musical realizado para la celebración de la copa mundial de fútbol de 2006 en alemania. la relación entre los videojuegos y el fútbol es muy fructífera. uno de los primeros videojuegos futbolísticos exitosos fue el pele\\'s soccer de la consola atari 2600.  muchas ediciones se volvieron clásicos, como el fifa series, el pro evolution soccer/winning eleven y el pc fútbol. el fútbol está reglamentado por 17 leyes o reglas, las cuales se utilizan universalmente, aunque dentro de las mismas se permiten ciertas modificaciones para facilitar el desarrollo del fútbol femenino, infantil y sénior. si bien las reglas están claramente definidas, existen ciertas diferencias en las aplicaciones de las mismas que se deben a varios aspectos. un aspecto importante es la región futbolística donde se desarrolla el juego. por ejemplo, en europa, particularmente en inglaterra, los árbitros se destacan por ser más permisivos con las faltas e infracciones, reduciendo de esta manera las amonestaciones y expulsiones, mientras que en otros lugares, por ejemplo en sudamérica, las faltas son penadas con tarjetas más a menudo. las reglas del juego están definidas por la international football association board, organismo integrado por la fifa y las cuatro asociaciones del reino unido. para aprobarse una modificación a las mismas se deben tener por lo menos los votos de la fifa y de 2 de los 4 votos de las asociaciones del reino unido. el fútbol se juega en un terreno de césped natural o artificial de forma rectangular. las medidas permitidas del terreno son de 90 a 120 metros de largo y de 45 a 90 metros de ancho, pero para partidos internacionales se recomiendan las siguientes medidas: entre 100 y 110 metros de largo, y entre 64 y 75 metros de ancho. las dos líneas ubicadas a lo largo del terreno reciben el nombre de líneas laterales o de banda, mientras que las otras son llamadas líneas de meta o finales. los puntos medios de cada línea de banda son unidos por otra línea, la línea media. sobre el centro de cada línea de meta y adentrándose en el terreno, se ubican las áreas penales, las áreas de meta y las metas o porterías. las llamadas metas, también conocidas como porterías o arcos, constan de dos postes verticales (conocidos como palos o verticales) de 2,44 metros de alto ubicados a 7,32 metros de separación y sobre el centro de cada línea de meta. las partes superiores de los postes son unidas por otro poste horizontal, conocido como travesaño o larguero. las áreas penales son áreas rectangulares ubicadas en el centro de las metas y adentrándose en el terreno. estas se trazan a 16,5 metros de los postes verticales, adentrándose también 16,5 metros hacia el interior del terreno, y luego uniéndose por otra línea mayor. el trazado del área de meta es igual, pero utilizando una medida de 5,5 metros. cada uno de los dos equipos consta de un máximo de 11 jugadores y un mínimo de 7. durante el partido se podrán cambiar a estos jugadores por otros, los denominados suplentes o sustitutos. uno de los jugadores titulares deberá ser el guardameta. está permitido que un guardameta y otro jugador del equipo se intercambien de posición durante el encuentro, siempre y cuando sea durante una interrupción con el consentimiento del árbitro. cada jugador deberá tener una indumentaria básica, la cual consta de una camiseta o jersey con mangas, unos pantalones cortos, medias, canilleras o espinilleras y un calzado adecuado. los colores de la indumentaria de ambos equipos y la de ambos guardametas deben ser claramente diferenciables para la vista. los capitanes (jugadores representantes de cada equipo) deberán llevar alguna marca identificadora para ser llamados por el árbitro cuando sea necesario, que generalmente es un brazalete. el fútbol se juega con un balón o pelota de forma esférica. deberá ser de cuero u otro material adecuado. su circunferencia será de entre 68 y 70 centímetros, su masa de entre 410 y 450 gramos y su presión de entre 0,6 y 1,1 atmósferas al nivel del mar. los jugadores pueden tocar y mover el balón con cualquier parte de su cuerpo excepto los brazos. el guardameta tiene la ventaja de poder utilizar cualquier parte de su cuerpo para esto, pero solo dentro de su área penal. cada encuentro será controlado por un árbitro principal designado por la organización de la competición en cuestión, quien será la autoridad máxima del partido y el encargado de hacer cumplir las reglas del juego. todas las decisiones del árbitro son definitivas. solo él puede modificar una decisión, siempre que no haya reanudado el juego o el partido haya finalizado. además tendrá a su disposición 2 árbitros asistentes o lineman (hombre de línea) para ayudarlo en la toma de decisiones. posee también un cuarto árbitro a su disposición quien es el que lo corrobora, y además controla a los suplentes y cuerpo técnico. el cuarto árbitro además indica las sustituciones y el aumento del tiempo reglamentario. para iniciar el encuentro, uno o más jugadores de un equipo moverán el balón hacia la portería rival desde el punto medio de la línea media, momento donde empezará a correr el tiempo reglamentario. esta situación se da con el equipo contrario al comienzo de la segunda mitad. también ocurre luego de cada gol, donde el equipo que lo recibió ejecuta el saque. la duración de un partido, especificada en la regla 7 del reglamento[¿cuál?], será de dos tiempos iguales de 45 minutos, con un periodo intermedio de descanso que no podrá exceder los 15 minutos, debiendo establecer su duración el reglamento de cada competición. la duración de cada mitad de tiempo solo podrá alterarse si lo permiten las reglas de la competición, y si existe acuerdo entre el árbitro y los dos equipos participantes antes de iniciarse el partido. el tiempo perdido durante la disputa del partido deberá recuperarse al final de cada periodo, quedando a criterio del árbitro principal la duración de esos periodos de recuperación. el objetivo del deporte es marcar más goles que el rival. se considera que un equipo ha marcado un gol cuando el balón rebase por completo la línea de meta entre los postes verticales y por debajo del poste horizontal de la portería rival, siempre y cuando no se haya cometido una infracción a las reglas del juego previamente. el gol es la única forma de marcar en el fútbol, cosa que no sucede en otros códigos del fútbol. si ambos equipos marcan la misma cantidad de goles, el partido se considera empatado. en muchos casos, cuando el partido termina en empate, se debe buscar alguna forma de que uno de los dos equipos sea considerado el ganador del encuentro, y para lograr esto existen varias formas. si el partido termina empatado, se puede jugar una prórroga o tiempo extra, la cual consta de dos tiempos, generalmente, de 15 minutos cada uno, donde se continua el partido inicial. además, existen dos formas de que la prórroga culmine antes de tiempo: el gol de oro y el gol de plata, aunque estas formas han sido dejadas de lado en los últimos años. si persiste la igualdad, se ejecutará una serie de tiros penales o penaltis. la misma consiste en que cada equipo lance penaltis de forma alternada hasta totalizar 5 cada uno. si al cabo de los 10 penaltis o penales  ejecutados persiste la igualdad, se continuará ejecutando un penalti por equipo hasta que se defina un ganador. la utilización de la prórroga y los tiros penales son un formato muy utilizado en el fútbol moderno, siendo el principal exponente de esto las fases eliminatorias de la fase final de la copa mundial de fútbol. en algunas competiciones se pasa a la ejecución de penales directamente después de la culminación del partido inicial, sin utilizar la prórroga. un claro ejemplo de este sistema son las fases eliminatorias de la copa américa. en todos estos ejemplos se jugaba un único encuentro, pero existen otros torneos donde las fases eliminatorias se juegan a dos encuentros, los denominados partidos de ida y vuelta. para determinar si la llave (ambos partidos) terminó en empate, se suman los goles a favor de ambos equipos en los dos partidos, y si dan lo mismo, se dice que la llave terminó en empate. en algunos casos, si la llave terminó empatada, se utiliza un sistema de desempate con prórroga o tiros penales, los cuales se ejecutan al finalizar el segundo partido de la llave. en algunas fases eliminatorias se considera otra forma de desempate previo a la prórroga o los penaltis: los goles de visitantes. si al cabo de ambos partidos ningún equipo superó al otro en goles a favor, se contarán la cantidad de goles convertidos por cada equipo en el partido que jugó como visitante. si un equipo marcó más goles de visitante al cabo de ambos partidos, será el ganador de la llave, pero si persiste la igualdad también en los goles de visitante, se procederá con la prórroga o los penales. un ejemplo de este sistema son las fases eliminatorias de la copa libertadores de américa y de la liga de campeones de la uefa. cada vez que un jugador intente golpear o golpee a otro, lo empuje, lo retenga para sacar una ventaja, lo escupa o toque el balón con sus manos (excepto el guardameta), el árbitro marcará un tiro libre directo a favor del equipo que no cometió la infracción, que se ejecutará desde el lugar de la infracción. si ocurrió dentro del área penal propia, independientemente de la posición del balón y si el balón está en juego, se marcará un tiro penal en contra del equipo infractor. si un jugador juega de forma peligrosa, obstaculiza a un adversario o impide al guardameta sacar el balón con sus manos, se marcará un tiro libre indirecto a favor del equipo que no cometió la infracción, que se ejecutará desde el lugar de la infracción. además se marcará un tiro libre indirecto si el guardameta mantiene la pelota en sus manos por más de 6 segundos o toca el balón luego de haberlo tocado anteriormente, lo recibe de un compañero o directamente de un saque de banda. un jugador podrá ser merecedor de recibir una tarjeta amarilla (amonestación) o roja (expulsión), si comete alguna infracción de las especificadas en el reglamento. si un jugador recibe una tarjeta roja, será expulsado del terreno y no podrá ser reemplazado por otro. si un jugador recibe dos tarjetas amarillas en un mismo partido, recibirá una tarjeta roja y será expulsado. las tarjetas son una forma de hacer cumplir las reglas del juego por parte de los jugadores. si el balón abandona el terreno de juego por una línea de meta luego de ser tocado por un jugador defensa, se concederá un saque de esquina al equipo rival. si es tocado por última vez por un atacante, se concederá un saque de meta al equipo defensor. si el balón abandona el campo por una de las líneas de banda, se concederá un saque de banda al equipo que no tocó el balón por última vez. existen muchas variantes de fútbol, las principales son: el fútbol sala o futsal se juega entre dos equipos de 5 jugadores cada uno, siendo uno de ellos el guardameta. se juegan dos tiempos de 20 minutos cada uno. cada encuentro se juega sobre una superficie de material sólido de unos 40 por 20 metros. el resto de las reglas son prácticamente iguales a las del fútbol tradicional, con algunas diferencias, como la falta del fuera de juego y el uso de los pies para efectuar los saques de banda.  desde 1989 se juega el campeonato mundial de futsal, el equivalente de la copa mundial de fútbol para este deporte, que también es organizado por la fifa. al igual que el fútbol sala o fútbol de salón, el fútbol playa contiene grandes similitudes con el fútbol tradicional. participan dos equipos de cinco jugadores cada uno, siendo uno de ellos el guardameta. se juega en un campo de unos 35 por 25 metros, el cual está cubierto íntegramente por arena. cada partido consta de tres tiempos de 12 minutos cada uno y a diferencia de otras variantes del fútbol (fútbol sala por ejemplo), el tiempo se detiene cuando el árbitro marca un tiro libre, marca un tiro penal o consta que un jugador está haciendo pasar el tiempo de forma inapropiada. todos los tiros libres son directos y sin barrera del equipo rival. si un jugador recibe dos tarjetas amarillas, recibirá una tarjeta azul y deberá salir del campo de juego por 2 minutos sin poder ser reemplazado por otro jugador. si un jugador recibe una tarjeta roja o tres amarillas, será expulsado y no podrá ser reemplazado por otro. los saques de banda pueden ejecutarse con los pies. el resto de las reglas son prácticamente iguales a las del fútbol tradicional.  la competición más importante en la actualidad es la copa mundial de fútbol playa de fifa, que se disputa desde 1995, aunque solo desde 2005 bajo el mandato de la fifa. en la actualidad, particularmente en los juegos paralímpicos, existen dos versiones del fútbol adaptadas a personas con algún tipo de discapacidad: el fútbol 5, para personas que sufren de ceguera, y el fútbol 7, para personas con parálisis cerebral. se utilizan reglas similares a las del fútbol tradicional y a las del futsal, pero con modificaciones para adaptarlas a la discapacidad en cuestión. el fútbol 5 se juega entre dos equipos de 5 jugadores cada uno, donde uno de ellos, el guardameta, no debe sufrir de ceguera total (ceguera b-1). para evitar trampas, los 4 jugadores de campo llevan una venda sobre sus ojos, independientemente de su nivel de ceguera. se juegan dos tiempos de 25 minutos cada uno. el terreno es de forma rectangular, su largo es de entre 38 y 42 metros y su ancho entre 18 y 22 metros. posee una meta o portería, un área penal y otras características similares a la del fútbol tradicional. se utiliza un balón que al girar sobre sí mismo emite un sonido claramente identificable por los jugadores. el objetivo del juego es marcar más goles que el rival y para esto se debe hacer pasar el balón por la portería rival utilizando cualquier parte del cuerpo, excepto los brazos. al igual que en el fútbol tradicional, cada encuentro es controlado por varios árbitros, los cuales están encargados de hacer respetar las reglas y sancionar a los jugadores de ser necesario.  el fútbol 7 es prácticamente igual al fútbol tradicional. las diferencias más notorias son el menor tamaño del terreno de juego y las porterías, el número de jugadores por equipo (7 en lugar de 11), la inexistencia del fuera de juego y la libertad para efectuar un saque de banda de la forma que el jugador lo desee. solo pueden participar jugadores que sufran parálisis cerebral de clase 5 a 8.  el showbol es parecido al fútbol sala, jugado en una cancha con las dimensiones de una pista de hockey, muchas veces en pasto sintético, con paredes laterales que rodean la cancha contra las cuales se puede rebotar el balón sin que esté fuera del juego. en sudamérica han creado muchos aficionados los ex jugadores diego armando maradona (argentino) e iván zamorano (chileno). una variante de cinco jugadores se juega en españa bajo el nombre de fútbol indoor. aparte de las principales variantes mencionadas más arriba, existen otros deportes que comparten grandes similitudes con el fútbol tradicional o que incluso combinan aspectos de otros deportes, aunque las reglas de los mismos varían de acuerdo al lugar donde se juegue y a los elementos disponibles. el juego denominado bossaball combina aspectos del fútbol tradicional y del voleibol. basado en las reglas del voleibol, se juega sobre una superficie de colchones hinchables y camas elásticas, lo cual permite mayor número de toques y mucha más espectacularidad en los saltos. se juega entre dos equipos de hasta 5 jugadores, los cuales deben pasar la pelota por encima de una red utilizando cualquier parte de su cuerpo, aunque con un número limitado de toques. por su parte el fútbol tenis, como lo indica su nombre, combina aspectos del fútbol tradicional y el tenis. se juega sobre un terreno similar o incluso igual al campo de tenis, donde cada uno de los dos equipos debe pasar la pelota por encima de la red utilizando la cabeza y los pies. la altura de la red puede variar, con lo cual el terreno podría ser reemplazado por un campo de voleibol. un nuevo deporte es el padbol, que es una variante del fútbol-tenis pero con el agregado de las paredes del pádel y nuevas reglas para hacerlo más dinámico. uno de los juegos de mesa más tradicionales relacionados con el fútbol es el fútbol de mesa (junto con su variante española, el futbolín). el mismo consta de una mesa con una réplica de un terreno de juego en su interior, la cual posee varios muñecos representando a los futbolistas. el ancho de la mesa es atravesado por una serie de barras rotantes donde se encastran los jugadores. cada uno de los equipos tiene sus barras de forma alternada. dichas barras se giran con las manos gracias a gomas en sus extremos. si bien este juego es de carácter informal, particularmente por sus reglas y el formato de la mesa, existe una organización llamada international table soccer federation que estipula reglas  y organiza campeonatos de forma regular. también vale destacar al subbuteo, un juego de mesa similar al fútbol de mesa donde la principal diferencia es que los futbolistas no se encuentran encastrados en una barra, sino que se apoyan individualmente sobre una peana de forma cóncava. para que un jugador pueda mover la pelota se le debe pegar con el dedo a uno de los muñecos para que este golpee el esférico. el fútbol también tiene una gran importancia a nivel de programación de videojuegos y robots. a nivel de videojuegos se destacan simuladores como fifa y pro evolution soccer (también conocido como winning eleven), los cuales permiten emular encuentros de fútbol controlando los movimientos de los futbolistas, y otros como football manager, el cual permite controlar equipos desde el punto de vista dirigencial. también existen competiciones como la robocup, las cuales simulan encuentros de fútbol utilizando pequeños robots. el ente rector del fútbol a nivel internacional es la fédération internationale de football association, más conocida por su acrónimo fifa, con sede en zúrich, suiza. dicho organismo se plantea 5 puntos principales para garantizar el buen desarrollo del deporte: mejorar el fútbol desde su carácter universal, educativo y cultural, así como mejorar los valores humanos que plantea el mismo; organizar competiciones del deporte; elaborar un reglamento para mantener el espíritu del juego; controlar las distintas formas del fútbol, adoptando medidas para mejorar las mismas; e impedir ciertas prácticas que afecten la esencia del deporte.  la fifa no se centra únicamente en los detalles organizativos del deporte, sino que también promueve mejoras en la infraestructura futbolística de cada país, en particular en los más pobres, por medio del programa goal. el mismo inculca aspectos tácticos, técnicos, de salud y organizativos a las poblaciones de dichos países, ayudándolos a crecer futbolísticamente. el programa no financia la construcción de estadios, pero sí lo hace con terrenos de entrenamiento, material para entrenar y elementos de oficina para las asociaciones.  en la actualidad, 185 asociaciones nacionales se benefician del programa, el cual ha completado o está trabajando en un total de 292 proyectos.  debido al constante crecimiento de la fifa, se han creado a lo largo de la historia seis confederaciones regionales, cuyos objetivos son similares a los de la fifa. las mismas están encargadas de coordinar todos los aspectos del deporte en cada región. para que una asociación sea miembro de una confederación, no necesariamente debe serlo de la fifa. a su vez, dentro de cada confederación hay asociaciones de fútbol, las cuales representan a un país y, en algunas ocasiones, un territorio o estado no reconocido internacionalmente. salvo casos excepcionales, hay una sola asociación por país o territorio, y en caso de existir más de una, solo una puede estar afiliada a su confederación. en algunos casos la asociación principal del país tiene afiliadas otras sub asociaciones para ayudar en la organización del fútbol. cada asociación organiza el fútbol de su país independientemente de su confederación, pero en algunos casos, por ejemplo para clasificar clubes a torneos internacionales, dichos clubes deben estar avalados por la asociación ante la confederación. en algunos casos, un equipo puede estar afiliado directa o indirectamente a una asociación sin estar afiliado a una confederación. también hay que mencionar a la nf-board, organización que agrupa a las asociaciones no afiliadas ni a la fifa, ni a ninguna de sus confederaciones. la gran mayoría de sus asociaciones pertenecen a territorios y estados no reconocidos políticamente a nivel internacional. la única competición de dicho organismo es la copa mundial viva. a nivel de selecciones nacionales, el torneo más importante es la copa mundial de fútbol, que se disputa desde 1930. previo a la creación de la copa mundial, en particular durante los años 1920, la competición de fútbol de los juegos olímpicos era considerada la máxima competición del deporte, aunque en la actualidad se mantiene como un torneo secundario donde se permiten jugadores menores de 23 años, con hasta 3 jugadores que sobrepasen ese límite de edad por equipo. a nivel femenino, el equivalente de la copa mundial es la copa mundial femenina de fútbol. a nivel de las confederaciones de fifa, los torneos más importantes son la copa américa (américa del sur) y la eurocopa (europa); y, ubicándose a un nivel inferior, se encuentran la copa africana de naciones (áfrica), la copa de oro de la concacaf (américa del norte, central y el caribe), la copa asiática (asia) y la copa de las naciones de la ofc (oceanía). el torneo más importante para jugadores jóvenes es la copa mundial de fútbol sub-20, la cual recibe a equipos clasificados desde el campeonato sudamericano sub-20 (américa del sur), el campeonato europeo de la uefa sub-19 (europa), el campeonato juvenil de la caf (áfrica), el campeonato sub-20 de la concacaf (américa del norte, central y el caribe), el campeonato juvenil de la afc (asia) y el campeonato sub-20 de la ofc (oceanía). en cada país los clubes de fútbol suelen federarse en asociaciones o ligas que organizan torneos oficiales entre ellos, de donde surgen los campeones de cada país y los equipos que participarán en torneos internacionales. no existe un sistema único de torneos y cada liga nacional los organiza de acuerdo a sus tradiciones. en general, la mayoría de los países tienen dos torneos principales al año: colombia (apertura y clausura) (la temporada arranca según el calendario europeo), méxico (ídem, pero en el orden inverso), chile (torneo nacional y copa chile), españa (liga y copa del rey), italia (serie a y copa italia), etc. en algunos casos los campeones de ambos torneos disputan \"supercopas\" anuales y \"recopas\" entre sí. inglaterra tiene un sistema de campeonato principal (la premier league) y luego varias copas en las que participan equipos de distintas divisiones. brasil tiene un sistema de campeonatos por estado (paulista, carioca, mineiro, gaúcho, etc.), además de tener un campeonato nacional (brasileirão). a nivel mundial la competición más importante es la copa mundial de clubes de la fifa que se disputa desde el año 2000 y en la que participan los campeones de las diferentes conferencias que conforman la fifa. a nivel continental las competiciones más importantes son la copa libertadores de américa (américa del sur), la liga de campeones de la uefa (europa), la liga de campeones de la caf (áfrica), la concacaf liga campeones (américa del norte, central y el caribe), la liga de campeones de la afc (asia) y la liga de campeones de la ofc (oceanía). también a nivel continental se destacan las competiciones secundarias de américa del sur y europa: la copa sudamericana y la europa league (ex copa uefa), respectivamente. en algunos casos clubes de otras confederaciones son invitados a certámenes de una confederación determinada. por ejemplo en el caso de la participación de equipos mexicanos afiliados a la concacaf en la copa libertadores de américa, organizada por la conmebol. cuando se creó la football association en 1863, junto a la creación del deporte, se eligió el nombre de fútbol asociación (association football en inglés) para este nuevo juego. se optó por ese nombre para diferenciarlo de otros códigos de fútbol de la época, principalmente del rugby fútbol, uno de los más populares del momento. el significado de la palabra fútbol varía de acuerdo al lugar donde se mencione. en gran parte de los países hispanohablantes el término fútbol hace referencia al fútbol asociación. en otros países, donde el fútbol asociación no es el código más popular, el término fútbol es asociado con otros códigos del fútbol. en dichos países se suele utilizar el término soccer (derivado de association football en los años 1880)  para referirse al fútbol asociación. en los países de habla española también son aceptados los términos balompié, utilizado en algunas zonas de españa y en los nombres de varios clubes de dicho país, futbol o fútbol/futbol soccer (nótese la palabra aguda) en méxico, américa central (a excepción de belice que lo traduce como football) y las grandes antillas y simplemente fútbol en américa del sur (a excepción de brasil que lo traduce como futebol, surinam como voetbal y guyana y guayana francesa como football). en españa se documenta el uso de foot-ball en 1878 y la grafía fútbol en 1915. sin embargo, ya en 1908 mariano de cavia había propuesto el calco balompié, aunque algunos lo rechazaron por considerarlo un galicismo. azorín incluso trajo el término esferomaquia, usado por los romanos.  '"
            ],
            "application/vnd.google.colaboratory.intrinsic+json": {
              "type": "string"
            }
          },
          "metadata": {},
          "execution_count": 12
        }
      ]
    },
    {
      "cell_type": "code",
      "source": [
        "print(\"Cantidad de caracteres en el texto:\", len(text))"
      ],
      "metadata": {
        "colab": {
          "base_uri": "https://localhost:8080/"
        },
        "id": "CYEsMamg9FFU",
        "outputId": "a477613d-752f-4b1f-8c40-c9e72745c4ca"
      },
      "execution_count": null,
      "outputs": [
        {
          "output_type": "stream",
          "name": "stdout",
          "text": [
            "Cantidad de caracteres en el texto: 69142\n"
          ]
        }
      ]
    },
    {
      "cell_type": "code",
      "source": [
        "corpus = nltk.sent_tokenize(text)\n",
        "\n",
        "words = nltk.word_tokenize(text)\n"
      ],
      "metadata": {
        "id": "oAeLtRJj-A99"
      },
      "execution_count": null,
      "outputs": []
    },
    {
      "cell_type": "code",
      "source": [
        "# Demos un vistazo\n",
        "corpus[:10]"
      ],
      "metadata": {
        "colab": {
          "base_uri": "https://localhost:8080/"
        },
        "id": "k4RJGzzH_e0C",
        "outputId": "1c874ffc-d201-4d9e-9c20-c2c546605206"
      },
      "execution_count": null,
      "outputs": [
        {
          "output_type": "execute_result",
          "data": {
            "text/plain": [
              "['el fútbol o futbol  (del inglés británico football, traducido como balompié)  es un deporte de equipo jugado entre dos conjuntos de once jugadores cada uno mientras que algunos árbitros que se ocupan de que las normas se cumplan correctamente.',\n",
              " 'es ampliamente considerado el deporte más popular del mundo, pues lo practican unas 270 millones de personas.',\n",
              " 'también se le conoce como futbol asociación o fútbol asociación, nombre derivado de the football association, primera federación oficial del mundo en este deporte y que utilizó ese nombre para distinguirlo de otros deportes que incluyen la palabra \"futbol\" o \"fútbol\".',\n",
              " 'en algunos países de habla inglesa también se le conoce como soccer, abreviatura de association, puesto que el nombre de football en esos países se asocia mayoritariamente a otros deportes con esa denominación (principalmente en estados unidos, donde el nombre football aplica para el fútbol americano, un deporte totalmente distinto).',\n",
              " 'el terreno de juego es rectangular de césped natural o artificial, con una portería o arco a cada lado del campo.',\n",
              " 'se juega mediante una pelota que se debe desplazar a través del campo con cualquier parte del cuerpo que no sean los brazos o las manos, y mayoritariamente con los pies (de ahí su nombre).',\n",
              " 'el objetivo es introducirla dentro de la portería o arco contrario, acción que se denomina marcar un gol.',\n",
              " 'el equipo que logre más goles al cabo del partido, de una duración de 90 minutos, es el que resulta ganador del encuentro.',\n",
              " 'el juego moderno fue reinventado en inglaterra tras la formación de la football association, cuyas reglas de 1863 son la base del deporte en la actualidad.',\n",
              " 'el organismo rector del fútbol es la federación internacional de fútbol asociación, más conocida por su acrónimo fifa.']"
            ]
          },
          "metadata": {},
          "execution_count": 15
        }
      ]
    },
    {
      "cell_type": "code",
      "source": [
        "# Demos un vistazo\n",
        "words[:20]"
      ],
      "metadata": {
        "colab": {
          "base_uri": "https://localhost:8080/"
        },
        "id": "lVBmnMzF_neP",
        "outputId": "2c28dec6-3b08-413d-b565-e64f40c6fcde"
      },
      "execution_count": null,
      "outputs": [
        {
          "output_type": "execute_result",
          "data": {
            "text/plain": [
              "['el',\n",
              " 'fútbol',\n",
              " 'o',\n",
              " 'futbol',\n",
              " '(',\n",
              " 'del',\n",
              " 'inglés',\n",
              " 'británico',\n",
              " 'football',\n",
              " ',',\n",
              " 'traducido',\n",
              " 'como',\n",
              " 'balompié',\n",
              " ')',\n",
              " 'es',\n",
              " 'un',\n",
              " 'deporte',\n",
              " 'de',\n",
              " 'equipo',\n",
              " 'jugado']"
            ]
          },
          "metadata": {},
          "execution_count": 16
        }
      ]
    },
    {
      "cell_type": "code",
      "source": [
        "print(\"Vocabulario:\", len(words))"
      ],
      "metadata": {
        "colab": {
          "base_uri": "https://localhost:8080/"
        },
        "id": "v0KYVAgR_tNX",
        "outputId": "a4458c6c-c896-4799-befe-5bb19b7e3f15"
      },
      "execution_count": null,
      "outputs": [
        {
          "output_type": "stream",
          "name": "stdout",
          "text": [
            "Vocabulario: 12965\n"
          ]
        }
      ]
    },
    {
      "cell_type": "markdown",
      "source": [
        "Voy a utilizar SnowballStemmer para trajar en español."
      ],
      "metadata": {
        "id": "YITGMW2-Pn3d"
      }
    },
    {
      "cell_type": "code",
      "source": [
        "from nltk.stem import WordNetLemmatizer\n",
        "lemmatizer = WordNetLemmatizer()\n",
        "from nltk.stem import SnowballStemmer\n",
        "spanish_stemmer = SnowballStemmer('spanish')\n",
        "\n",
        "#def perform_lemmatization(tokens):\n",
        "#    return [lemmatizer.lemmatize(token) for token in tokens]\n",
        "\n",
        "def perform_lemmatization(tokens):\n",
        "    return [spanish_stemmer.stem(token) for token in tokens]\n",
        "\n",
        "punctuation_removal = dict((ord(punctuation), None) for punctuation in string.punctuation)\n",
        "\n",
        "def get_processed_text(document):\n",
        "    # 1 - reduce el texto a mínuscula\n",
        "    # 2 - quitar los simbolos de puntuacion\n",
        "    # 3 - realiza la tokenización\n",
        "    # 4 - realiza la lematización\n",
        "    return perform_lemmatization(nltk.word_tokenize(document.lower().translate(punctuation_removal)))"
      ],
      "metadata": {
        "id": "x3oZJOU8_z1G"
      },
      "execution_count": null,
      "outputs": []
    },
    {
      "cell_type": "code",
      "source": [
        "from sklearn.feature_extraction.text import TfidfVectorizer\n",
        "from sklearn.metrics.pairwise import cosine_similarity\n",
        "from nltk.corpus import stopwords\n",
        "nltk.download('stopwords')\n",
        "def generate_response(user_input, corpus):\n",
        "    response = ''\n",
        "    # Sumar al corpus la pregunta del usuario para calcular\n",
        "    # su cercania con otros documentos/sentencias\n",
        "    corpus.append(user_input)\n",
        "\n",
        "    # Crear un vectorizar TFIDF que quite las \"stop words\" del ingles y utilice\n",
        "    # nuestra funcion para obtener los tokens lematizados \"get_processed_text\"\n",
        "    word_vectorizer = TfidfVectorizer(tokenizer=get_processed_text, stop_words=stopwords.words(\"spanish\"))\n",
        "\n",
        "    # Crear los vectores a partir del corpus\n",
        "    all_word_vectors = word_vectorizer.fit_transform(corpus)\n",
        "\n",
        "    # Calcular la similitud coseno entre todas los documentos excepto el agregado (el útlimo \"-1\")\n",
        "    # NOTA: con los word embedings veremos más en detalle esta matriz de similitud\n",
        "\n",
        "    similar_vector_values = cosine_similarity(all_word_vectors[-1], all_word_vectors)\n",
        "\n",
        "    # Obtener el índice del vector más cercano a nuestra oración\n",
        "    # --> descartando la similitud contra nuestor vector propio\n",
        "    similar_sentence_number = similar_vector_values.argsort()[0][-2]\n",
        "    matched_vector = similar_vector_values.flatten()\n",
        "    matched_vector.sort()\n",
        "    vector_matched = matched_vector[-2]\n",
        "\n",
        "    if vector_matched == 0:\n",
        "        response = \"Lo siento, no puedo entenderlo\"\n",
        "    else:\n",
        "        response = corpus[similar_sentence_number]\n",
        "    \n",
        "    corpus.remove(user_input)\n",
        "    return response"
      ],
      "metadata": {
        "colab": {
          "base_uri": "https://localhost:8080/"
        },
        "id": "qEp7YAdJ_1-m",
        "outputId": "93416495-1a4b-4169-8e82-3236be4a5441"
      },
      "execution_count": null,
      "outputs": [
        {
          "output_type": "stream",
          "name": "stdout",
          "text": [
            "[nltk_data] Downloading package stopwords to /root/nltk_data...\n",
            "[nltk_data]   Package stopwords is already up-to-date!\n"
          ]
        }
      ]
    },
    {
      "cell_type": "code",
      "source": [
        "# Se utilizará gradio para ensayar el bot\n",
        "# Herramienta poderosa para crear interfaces rápidas para ensayar modelos\n",
        "# https://gradio.app/\n",
        "import sys\n",
        "!{sys.executable} -m pip install gradio --quiet"
      ],
      "metadata": {
        "id": "vT5ts32c_793"
      },
      "execution_count": null,
      "outputs": []
    },
    {
      "cell_type": "code",
      "source": [
        "import gradio as gr\n",
        "\n",
        "def bot_response(human_text):\n",
        "    print(human_text)\n",
        "    return generate_response(human_text.lower(), corpus)\n",
        "\n",
        "examples = [[\"Gol\"],[\"¿Cuántos jugadores participan de un partido?\"]]\n",
        "iface = gr.Interface(\n",
        "    fn=bot_response,\n",
        "    inputs=[\"textbox\"],\n",
        "    outputs=\"text\",\n",
        "    layout=\"vertical\",\n",
        "    examples=examples\n",
        ")\n",
        "\n",
        "iface.launch(debug=True)"
      ],
      "metadata": {
        "colab": {
          "base_uri": "https://localhost:8080/",
          "height": 715
        },
        "id": "uF_aefWzABcW",
        "outputId": "164be170-1b7e-4d2e-ef58-446b8610ef01"
      },
      "execution_count": null,
      "outputs": [
        {
          "output_type": "stream",
          "name": "stdout",
          "text": [
            "Colab notebook detected. This cell will run indefinitely so that you can see errors and logs. To turn off, set debug=False in launch().\n",
            "Running on public URL: https://43257.gradio.app\n",
            "\n",
            "This share link expires in 72 hours. For free permanent hosting, check out Spaces (https://huggingface.co/spaces)\n"
          ]
        },
        {
          "output_type": "display_data",
          "data": {
            "text/plain": [
              "<IPython.lib.display.IFrame at 0x7fa0dd626910>"
            ],
            "text/html": [
              "\n",
              "        <iframe\n",
              "            width=\"900\"\n",
              "            height=\"500\"\n",
              "            src=\"https://43257.gradio.app\"\n",
              "            frameborder=\"0\"\n",
              "            allowfullscreen\n",
              "        ></iframe>\n",
              "        "
            ]
          },
          "metadata": {}
        },
        {
          "output_type": "stream",
          "name": "stdout",
          "text": [
            "Gol\n"
          ]
        },
        {
          "output_type": "stream",
          "name": "stderr",
          "text": [
            "/usr/local/lib/python3.7/dist-packages/sklearn/feature_extraction/text.py:401: UserWarning: Your stop_words may be inconsistent with your preprocessing. Tokenizing the stop words generated tokens ['algun', 'com', 'contr', 'cuand', 'desd', 'dond', 'durant', 'eram', 'estab', 'estais', 'estam', 'estan', 'estand', 'estaran', 'estaras', 'esteis', 'estem', 'esten', 'estes', 'estuv', 'fuer', 'fues', 'fuim', 'fuist', 'hab', 'habr', 'habran', 'habras', 'hast', 'hem', 'hub', 'mas', 'mia', 'mias', 'mio', 'mios', 'much', 'nad', 'nosotr', 'nuestr', 'par', 'per', 'poc', 'porqu', 'qui', 'seais', 'seam', 'sent', 'ser', 'seran', 'seras', 'si', 'sient', 'sint', 'sobr', 'som', 'suy', 'tambien', 'tant', 'ten', 'tendr', 'tendran', 'tendras', 'teng', 'tien', 'tod', 'tuv', 'tuy', 'vosotr', 'vuestr'] not in stop_words.\n",
            "  % sorted(inconsistent)\n"
          ]
        },
        {
          "output_type": "stream",
          "name": "stdout",
          "text": [
            "¿Cuántos jugadores participan de un partido?\n"
          ]
        },
        {
          "output_type": "stream",
          "name": "stderr",
          "text": [
            "/usr/local/lib/python3.7/dist-packages/sklearn/feature_extraction/text.py:401: UserWarning: Your stop_words may be inconsistent with your preprocessing. Tokenizing the stop words generated tokens ['algun', 'com', 'contr', 'cuand', 'desd', 'dond', 'durant', 'eram', 'estab', 'estais', 'estam', 'estan', 'estand', 'estaran', 'estaras', 'esteis', 'estem', 'esten', 'estes', 'estuv', 'fuer', 'fues', 'fuim', 'fuist', 'hab', 'habr', 'habran', 'habras', 'hast', 'hem', 'hub', 'mas', 'mia', 'mias', 'mio', 'mios', 'much', 'nad', 'nosotr', 'nuestr', 'par', 'per', 'poc', 'porqu', 'qui', 'seais', 'seam', 'sent', 'ser', 'seran', 'seras', 'si', 'sient', 'sint', 'sobr', 'som', 'suy', 'tambien', 'tant', 'ten', 'tendr', 'tendran', 'tendras', 'teng', 'tien', 'tod', 'tuv', 'tuy', 'vosotr', 'vuestr'] not in stop_words.\n",
            "  % sorted(inconsistent)\n"
          ]
        }
      ]
    }
  ]
}