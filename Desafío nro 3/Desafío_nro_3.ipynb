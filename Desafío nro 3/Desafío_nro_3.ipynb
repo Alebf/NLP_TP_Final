{
  "nbformat": 4,
  "nbformat_minor": 0,
  "metadata": {
    "colab": {
      "name": "Desafío nro 3.ipynb",
      "provenance": []
    },
    "kernelspec": {
      "name": "python3",
      "display_name": "Python 3"
    },
    "language_info": {
      "name": "python"
    }
  },
  "cells": [
    {
      "cell_type": "markdown",
      "source": [
        "## **Custom embedddings con Gensim**"
      ],
      "metadata": {
        "id": "2fFm-esgMeZ5"
      }
    },
    {
      "cell_type": "code",
      "execution_count": null,
      "metadata": {
        "colab": {
          "base_uri": "https://localhost:8080/"
        },
        "id": "lmy_6WaP3jCL",
        "outputId": "381fc688-6077-4f36-db91-05fd90a189f5"
      },
      "outputs": [
        {
          "output_type": "stream",
          "name": "stdout",
          "text": [
            "[nltk_data] Downloading package punkt to /root/nltk_data...\n",
            "[nltk_data]   Package punkt is already up-to-date!\n"
          ]
        },
        {
          "output_type": "execute_result",
          "data": {
            "text/plain": [
              "True"
            ]
          },
          "metadata": {},
          "execution_count": 1
        }
      ],
      "source": [
        "import pandas as pd\n",
        "import matplotlib.pyplot as plt\n",
        "import seaborn as sns\n",
        "\n",
        "import multiprocessing\n",
        "from gensim.models import Word2Vec\n",
        "\n",
        "import urllib\n",
        "# Para leer y parsear el texto en HTML\n",
        "import bs4 as bs\n",
        "import nltk\n",
        "nltk.download('punkt')"
      ]
    },
    {
      "cell_type": "markdown",
      "source": [
        "# **Datos**\n",
        "Se utiliza como dataset el último discurso presidencial de apertura de sesiones ordinarias en el congreso"
      ],
      "metadata": {
        "id": "c4_BMA5yMimu"
      }
    },
    {
      "cell_type": "code",
      "source": [
        "raw_html = urllib.request.urlopen('https://www.casarosada.gob.ar/informacion/discursos/48505-palabras-del-presidente-de-la-nacion-alberto-fernandez-en-la-apertura-del-140-periodo-de-sesiones-ordinarias-en-el-congreso-de-la-nacion-argentina')\n",
        "raw_html = raw_html.read()\n",
        "\n",
        "article_html = bs.BeautifulSoup(raw_html, 'lxml')\n",
        "\n",
        "article_paragraphs = article_html.find_all('p')\n",
        "\n",
        "article_text = ''\n",
        "\n",
        "for para in article_paragraphs:\n",
        "    article_text += para.text\n",
        "\n",
        "article_text = article_text.lower()\n",
        "\n",
        "article_text"
      ],
      "metadata": {
        "colab": {
          "base_uri": "https://localhost:8080/",
          "height": 122
        },
        "id": "2IIHnjTH3yPI",
        "outputId": "6127b8e2-eb4f-408b-a6eb-715fc445fab8"
      },
      "execution_count": null,
      "outputs": [
        {
          "output_type": "execute_result",
          "data": {
            "text/plain": [
              "'palabras del presidente de la nación, alberto fernández, en la apertura del 140 período de sesiones ordinarias, en el congreso de la nación argentina.querido pueblo argentino, gracias honorable asamblea legislativa por recibirme una vez más: nos han tocado tiempos difíciles signados por crisis sanitarias, económicas y bélicas.el mundo está conmovido. la tragedia de una pandemia contra la que aún luchamos ha dejado al descubierto las inequidades en las que vivimos. pudimos ver el modo en que la riqueza se concentra en pocos, mientras la pobreza y la marginalidad se distribuyen en millones de seres humanos que claman por dignidad y justicia.ahora - cuando empezamos a controlar la ferocidad del virus - vemos con pesar que tanto dolor y tanta muerte no ha logrado conmover la ética de los poderosos que encerrados en la lógica de un capitalismo financiero que busca perfeccionar su renta, solo logra profundizar aquella desigualdad.en ese contexto, la paz del mundo se altera, por la invasión militar de la federación de rusia sobre ucrania. europa se conmueve, mientras el fantasma de una guerra vuelve a levantarse. otra vez la violencia bélica arrasa vidas humanas. por esas vidas humanas y por las vidas, que perdimos - durante el covid - les pido a todos hacer un minuto de silencio. (minuto de silencio) muchísimas gracias. (aplauso)si el mundo no comprende que es este el momento preciso en que debemos darle una oportunidad a la paz y que debemos construir nuevas reglas que saquen de la postergación a los millones de desposeídos que apenas sobreviven, otra vez la humanidad estará siendo condenada a padecer la indecencia de los poderosos.argentina es parte de ese mundo y no puede escapar al contexto en el que está inmersa. la guerra, en un mundo que se ha globalizado, indefectiblemente genera consecuencias sobre nuestro paísaún así, cuando esa realidad parece producir un enorme desaliento, estoy convencido que estamos viviendo un momento verdaderamente histórico para la argentina; un tiempo bisagra a partir del cual podemos construir el país que nos merecemos.hemos atravesado uno de los momentos más graves de nuestra historia. la pandemia, que asola a la humanidad, se combinó aquí con una enorme crisis económica y social desatada, en 2018, y que se hizo visible en toda su magnitud.tal vez tengamos – ahora - la oportunidad de ingresar en un sendero de desarrollo integral convirtiéndonos en verdaderos artífices de nuestro futuro. seguramente lo atravesaremos encontrando coincidencias y diferencias. si en esa diversidad logramos afianzar algunos pilares básicos, será un camino seguro con logros paulatinos y continuos. nada se resuelve de un día para otro. los argentinos y argentinas podremos constatar esos avances, que se exteriorizaran en mejores condiciones de vida.nuestra sociedad ha demostrado, a lo largo de su historia, su enorme capacidad para sobreponerse a la adversidad. padecimos golpes institucionales; persecuciones; torturas; muertes y desapariciones forzadas. sobrevivimos al terrorismo de estado enjuiciando a los genocidas. cargamos el dolor de la guerra por malvinas. sufrimos desastres económicos, que aparejaron endeudamiento, inflación, cierres de fuentes de trabajo y aumento de la pobreza. una y otra vez fuimos capaces de volver a ponernos de pie y retomar nuestra marcha.ahora, el destino nos enfrenta a un futuro, que debemos construir como sociedad. de nosotros depende cómo edificar ese mañana más próspero.yo sé que cuando describimos la cruda realidad, que nos tocó enfrentar, en la primera parte del gobierno, hay quienes quieren escuchar en esa descripción un decálogo de excusas, pero la realidad es que el mundo ha vivido un período excepcional y eso ha golpeado con mayor ferocidad, en la argentina, por la situación económica y social que vivíamos en ese momento. había un sistema productivo muy deteriorado, el empleo en crisis, un sistema de salud abandonado, una deuda insostenible con el fondo monetario internacional, otra deuda - virtualmente impaga - con acreedores privados, una inflación desatada y una pobreza creciente.permítanme hacer una cita: “la pandemia de covid-19 ha afectado al mundo entero, poniendo en peligro todas las dimensiones de nuestro bienestar y generando una aguda sensación de temor, en todo el planeta. por primera vez, los indicadores de desarrollo humano disminuyeron, y lo hicieron de manera drástica, como no se había experimentado en otras crisis mundiales recientes. la pandemia ha infectado y matado a millones de personas en todo el mundo. ha perturbado la economía mundial, interrumpido sueños educativos, retrasado la administración de vacunas y tratamientos médicos y trastocado vidas y medios de subsistencia”.lo que acabo de decir, no es otra cosa, que la exacta descripción que la organización de las naciones unidas ha hecho sobre el fenómeno de la pandemia.hemos vivido una crisis que no tiene precedentes. querer politizar tamaña tragedia cargándole culpas a quienes tuvimos el deber de gobernar - en ese instante de la humanidad - es tentador para algunos, pero es definitivamente inaceptable.las consecuencias del covid fueron multidimensionales. abarcaron la salud física y mental, la vida, la economía, el trabajo, la educación y el bienestar en todas sus esferas.mientras la crisis económica, de 2018 y 2019, había destruido decenas de miles de puestos de trabajo registrados, la pandemia y las restricciones dispuestas, a la movilidad en 2020, afectaron principalmente a las trabajadoras y trabajadores no registrados, muchos de ellos parte de la economía popular. por eso, en 2021, generamos nuevas medidas que afectaron lo menos posible la movilidad en los horarios más intensos de trabajo. quisimos minimizar el daño, que la pandemia causaba en el sector más vulnerable de nuestra economía.en ese equilibrio difícil, complejo, hubo quienes criticaron la implementación de medidas de cuidado que implicaban restricciones. oí en todos los medios de comunicación dominantes esas voces detractoras que - a mi juicio - fueron muy poco constructivas y sumaron desánimos y desconfianzas.el pueblo argentino me adjudicó - a través del voto - la responsabilidad de tomar decisiones en situaciones críticas. he debido enfrentar dilemas que siempre he resuelto pensando en la salud y la vida de nuestra gente. todo, absolutamente todo lo que hice combatiendo la pandemia, no tuvo otro objetivo que no haya sido el de salvar la mayor cantidad de vidas, en un contexto difícil e imprevisible. no soy infalible; estoy lejos de serlo, soy un ser humana. me he equivocado en ocasiones, pero tengo la íntima tranquilidad que ninguna persona, que habita nuestro país, quedó sin la atención sanitaria que su salud reclamaba.con esa obsesión, sumada al esfuerzo de los hombres y mujeres que, denodadamente, trabajaron en nuestro sistema sanitario y al cuidado de millones de argentinos y argentinas, pudimos hacer posible, que el sistema de salud, no llegara a su saturación y que las personas pudieran recibir la atención que merecían. (aplausos).mientras el virus atacaba impiadoso a toda la humanidad, el mundo se vio afectado por una inflación global de los alimentos. con los gravísimos problemas, que arrastraba la economía argentina, que se vieron agravados en la pandemia, y con esa costumbre seriamente arraigada en muchos sectores de “remarcar precios, por las dudas”, no logramos reducir, en plena pandemia, la muy alta inflación que heredamos.la inflación es el gran problema que tienen los argentinos y las argentinas en este momento y, sin ninguna duda, es también la principal preocupación y el principal desafío del gobierno. hay muchos factores que inciden en la inflación y todos tienen que ser atacados coordinadamente.en este momento histórico tenemos que asumir que la realidad tiene dos caras: toda la intensidad de la crisis, del malestar y de las pérdidas; y también todos los logros sanitarios y económicos, que van desde la vacunación hasta la recuperación del trabajo y la producción.sería un grave error quedarse con los logros y no ver el sufrimiento, porque la combinación de ambas crisis produjo desgracias personales y colectivas, que van desde cuestiones económicas hasta la pérdida de seres queridos. pero también sería un error ver sólo lo negativo y obviar los datos, que indican una recuperación creciente y constante. esos logros son muy reales.sé que hay personas interesadas en instalar la idea de que cualquier problema, que tienen los argentinos, es producto de la ineficiencia del estado. quieren hacernos creer que si alguien consigue trabajo o un aumento en su salario es sólo fruto de su logro individual; que el estado no sirve ni impulsa el desarrollo personal y social, y por lo tanto buscan debilitarlo. con un estado débil ganan siempre los más poderosos y pierden las mayorías populares.uno de los desafíos más grandes que tiene la sociedad argentina es enfrentar al fatalismo. derrotar la falsa creencia que quieren instalar de que la argentina no tiene salida.sé bien que solo las acciones del estado no bastan. es imprescindible la confianza colectiva, en la argentina. reconstruir la confianza en nuestros compañeros y compañeras de trabajo; en nuestros vecinos y vecinas; en nuestra comunidad, en nuestra argentina, es un paso decisivo para potenciar nuestro futuro.le pido a cada argentino y a cada argentina que confíe en su propio país y en las personas que los rodean: en nuestra sociedad. que se hagan dueños de la construcción del futuro. para un argentino nada debe ser más importante que otro argentino. así perón, hace muchos años, quiso poner fin a la discrepancia social, que muchos sembraban.entendamos que no habrá soluciones individuales, si no construimos soluciones colectivas.la campaña de vacunación y la recuperación económica han sido dos pasos cruciales que dimos con ese espíritu.la argentina necesita poner en valor un hecho: ha llevado a cabo la mayor campaña de vacunación de su historia. debemos estar orgullosos de lo que fuimos capaces de hacer.la campaña comenzó, el 29 de diciembre, de 2020 en las 24 jurisdicciones argentinas, inicialmente con la vacuna sputnik, producida por el instituto gamaleya. en los meses siguientes se incorporaron las vacunas de astrazeneca, covishield y sinopharm. y – posteriormente - se sumaron las vacunas de moderna, pfizer y cansino. es decir, la argentina compró vacunas creadas o producidas en rusia, china, india, estados unidos y países de europa. y, además, comenzamos a producir, en el país, algunas de esas vacunas.la llegada de dosis nos permitió ir incorporando grupos de población con menor riesgo de exposición y de enfermedad grave. en los primeros seis meses de la campaña alcanzamos más de 21 millones de dosis aplicadas.en argentina se implementaron estrategias de vacunación similares a otros países, como el reino unido, israel o canadá, generando evidencia a nivel local de su efectividad para prevenir mortalidad y seguridad. a principios de agosto de 2021 se decidió la incorporación de esquemas heterólogos, de combinación de diferentes vacunas. también se fueron incorporando nuevos grupos vacunados, hasta alcanzar a la población, a partir de los 3 años de edad.la llegada de la tercera ola, con la variante omicrón, planteó un nuevo escenario en el que los contagios diarios se aceleraron como nunca antes. sin embargo, las vacunas protegieron a los argentinos y argentinas. (aplausos) la mortalidad y letalidad se redujeron de manera drástica y a pesar de la cantidad de casos, nunca estuvo en riesgo la capacidad del sistema sanitario.la argentina ha recibido 112 millones de dosis, de 7 laboratorios diferentes, con eficacia y seguridad probada, logrando de esta manera una cobertura de la población del 89 % con primera dosis; 79 % de esquema completo y más de 13 millones, que recibieron dosis de refuerzo.esta enorme campaña se logró por la cantidad y diversidad de vacunas conseguidas y la capacidad instalada de distribución y vacunación de los equipos del programa de inmunizaciones, de todo el país.hoy, entre los países - con más de 30 millones de habitantes - argentina exhibe los mayores porcentajes de vacunación, en un podio que comparte con china y españa. debajo de nuestros porcentajes aparecen potencias mundiales, como el reino unido, estados unidos, alemania y rusia, todos ellas productoras de formulaciones autóctonas de dosis contra el covid-19.los momentos más duros que vivimos, durante 2020 y durante el segundo trimestre de 2021, han quedado atrás. hoy los argentinos y argentinas estamos protegidos contra el covid-19. hemos logrado una inmunidad, que nos permite avanzar hacia el mañana respetando los cuidados necesarios, sabiendo que la pandemia aún no ha terminado.precisamente por eso seguimos vacunando y prestamos ayuda a otros países para que se vacune su población, porque creemos en la solidaridad y porque el covid es un problema global.quiero expresar mi más profundo agradecimiento a todos los argentinos y las argentinas que, con esfuerzo personal, ayudaron al cuidado colectivo. quiero agradecer a los trabajadores y las trabajadoras de la salud; a los vacunadores y vacunadoras; a los científicos y científicas; a los gobernadores y gobernadoras, y a los ministros y las ministras de salud de todas las provincias.la economía asistió, a un fin de año, de 2021 exhibiendo una profunda recuperación del 10,3 % del pbi, muy superior a la esperada. esa recuperación nos permitió revertir la caída generada por la pandemia; en el año 2020.hubo varios motores importantes de esa recuperación: la obra pública ha sido y será un motor fundamental del desarrollo integral. no detuvimos la obra pública con la pandemia y no la detendremos en el futuro. tenemos 3.700 obras iniciadas, a lo largo y a lo ancho del país. obras pensadas con criterio federal y ejecutadas con transparencia y equidad.la industria sin dudas fue otro factor relevante que explica el crecimiento. en 2021, no solo recuperó lo perdido, en 2020, sino que se ubicó 7 % por encima, de 2019. esta reactivación industrial fue una de las más aceleradas del mundo, comparando contra 2019.la producción automotriz creció 38 % contra 2019; una de las recuperaciones más veloces del mundo.la producción de alimentos y bebidas - tuvo en 2021 - el segundo mejor año de la historia, por detrás de 2015. (aplausos)la producción de maquinaria agrícola tuvo un repunte extraordinario y fue la más alta en lo que va del siglo xxi.la recuperación también fue muy fuerte en las pymes industriales, con la utilización de la capacidad instalada industrial y la rentabilidad industrial pyme en su mayor nivel en más de 3 años.esa recuperación fue generalizada y federal, en la amplia mayoría de los sectores y las provincias teniendo hoy más empleo industrial formal que a fines de 2019. no fue obra de la casualidad. tampoco fue un rebote como algunos han dicho. fue posible por el alto nivel de protección que logramos con la vacunación; fue posible porque el estado cuidó a las empresas en la argentina y también el trabajo registrado e impulsó con fuerza esta recuperación; fue posible porque el financiamiento en pesos a empresas alcanzó el mayor nivel, en tres años; fue posible porque la participación de las pymes superó el 52 % en 2021 y fue la más alta en 20 años. (aplausos)hubo una clara política de desarrollo, que convirtió al estado, en una pieza central en el apoyo a los parques industriales, al desarrollo de proveedores, a la baja de retenciones a los bienes finales, a la sustitución selectiva de importaciones y a los incentivos para inversiones, entre muchas otras iniciativas.en 2021, la inversión productiva fue 13 % mayor, que la de 2019. a su vez - entre 2020 y 2021 - hubo más de 1.300 anuncios de inversión en distintos sectores de la economía, por una cifra superior a los 57.000 millones de dólares. dentro de esas inversiones, merece destacarse la de la empresa australiana fortescue, por 8.400 millones de dólares, para producir hidrógeno verde en río negro. es el anuncio de inversión privado más importante, en lo que va del siglo xxi, que posicionará, a la argentina, a la vanguardia de las energías limpias.la construcción fue otro gran motor de la recuperación económica, de la mano de la obra pública y de la obra privada.en 2021, pusimos en marcha la construcción de 85.000 viviendas en todo el país y en diciembre hemos entregado la vivienda número 30 mil. además se otorgaron 88.000 créditos para construcción o refacción de viviendas.los permisos para la construcción, que son un termómetro de obras futuras, tuvieron en 2021, el mayor nivel - en por lo menos - cinco años. asimismo, el empleo formal en la construcción se recuperó mes a mes, y ya logró superar los de los últimos meses de la pre-pandemia.el petróleo y la minería - dos actividades con fuerte impacto provincial, de salarios altos y con gran importancia en materia de generación de divisas - tuvieron una marcada recuperación, en 2021. de la mano de vaca muerta y el plan gas, que pusimos en marcha, la producción de petróleo tuvo el mejor diciembre, desde 2011, y la de gas el mejor diciembre, desde 2008. en esa actividad, el empleo se recuperó fuertemente.las exportaciones de bienes tuvieron una fuerte recuperación en 2021 y alcanzaron los 77.900 millones de dólares, el mayor valor desde 2012, impulsadas por los precios y por las cantidades.el agro - fundamental para el desarrollo regional y las exportaciones - también tuvo un muy buen 2021. la argentina tuvo récords en producción de maíz, de trigo y de cebada. además, llevamos un proceso de industrialización de las materias primas del grano sin precedentes. un ejemplo: tuvimos el mayor valor en la historia para exportaciones de vino fraccionado.en 2021, hemos continuado con la reducción o eliminación de derecho de exportación para la gran mayoría de los productos, originados en las economías regionales. los notables incrementos de producción en estos rubros marcan el camino a seguir.la industria del software no ha parado de crecer desde que iniciamos el gobierno. hoy tiene más de 135.000 puestos de trabajo registrados, una cifra 17 % mayor, a la de 2019, y récord histórico. las 24 provincias incrementaron su empleo en la industria de software. estamos apoyando al sector de la mano de la nueva ley de economía del conocimiento y a través de la formación de programadoras y programadores.los productores y productoras, los empresarios y empresarias, los trabajadores y trabajadoras, que han sido protagonistas de esta recuperación, en 2021, que han batido récords en distintos aspectos, muestran que la argentina tiene futuro. queremos agradecerles por el esfuerzo realizado, aún en el marco de la pandemia.el empleo formal se viene recuperando, mes a mes, desde fines de 2020 y está revirtiendo el daño generado por la doble crisis que mencionamos al iniciar este discurso. la tasa de desocupación fue del 8,2 %, en el tercer trimestre de 2021, la menor en más de tres años.en 2021, alrededor de unas 175 mil personas lograron incorporarse al empleo asalariado, registrado en empresas privadas. también - en ese año - se incorporaron 440 mil personas al trabajo registrado en el sistema de seguridad social (incluyendo empleo asalariado público y privado, y trabajo autónomo y monotributista). al finalizar el año 2021, el número total de personas con trabajos formales es un 2 % mayor al verificado, en febrero de 2020, justo antes de la irrupción de la pandemia.los salarios reales del sector privado registrado, y pese a la elevada inflación, tuvieron una leve recuperación, en 2021, aunque a un ritmo inferior al que queremos. entre noviembre de 2019 y noviembre de 2021, el poder adquisitivo en el segmento privado formal creció 3 %. esta cifra en sí no exhibe nada para celebrar. lo que sí es importante es comprender que estamos transitando un nuevo camino, una nueva etapa también signada por la recuperación del salario real, luego de atravesada la peor etapa de la pandemia.en 2021, el gobierno nacional trabajó para que - en las negociaciones colectivas - pudieran mejorarse los ingresos. por eso en 2021 la pobreza dejó de aumentar. ahora ya estamos en condiciones de iniciar el sendero de su paulatina reducción.la argentina padeció - en distintos momentos de su historia - la aplicación de políticas que determinaron la exclusión de millones de argentinos y argentinas. las políticas aplicadas por la última dictadura militar, las políticas que derivaron en la crisis del 2001 y las políticas impuestas en los cuatro años, que precedieron nuestra llegada al gobierno, son prueba de lo dicho. en todos esos períodos - a los que me estoy refiriendo - aumentaron el desempleo, la informalidad y la pobreza. (aplausos)un verdadero estado debe ser capaz de proteger a cada miembro de la comunidad. pero debe hacerlo haciendo principal hincapié en la necesidad de incluir a todos y a todas al mundo del desarrollo integral. en buena medida, esto depende de la aplicación de políticas activas, que pongan su eje en la producción y el empleo formal, pero inexorablemente también deberán complementarse esas políticas con otras que tengan por objeto la protección social.habiendo pasado lo peor de la pandemia - mientras seguimos reordenando nuestro tremendo endeudamiento y cuando la economía da muestras de recuperarse - debemos enfrentar los problemas de exclusión, que existen hoy en nuestra sociedad.en este tiempo que debemos abordar, no podemos ignorar la existencia de otros actores en nuestra sociedad. me estoy refiriendo a quienes trabajan y producen en el marco de lo que se denomina economía popular.argentina necesita iniciar un proceso de desarrollo inclusivo, que atienda la incorporación de quienes, hoy, reciben planes sociales y a partir de ellos, asociados en cooperativas o prestando trabajos en el estado, buscan mejorar sus condiciones de vida.mientras alguien la necesite, la asistencia del estado seguirá presente, pero es hora de que los argentinos y argentinas que puedan hacerlo, vuelvan – paulatinamente - al empleo formal y puedan ir prescindiendo de los planes sociales. (aplausos) debemos saber que ese trabajo existe en la informalidad y que, hasta aquí, no ha sido regularizado adecuadamente.es hora de reconocer, visualizar y registrar las actividades de la economía popular. debemos avanzar en su productividad y crecimiento construyendo nuevas generaciones de derechos.necesitamos dotarla de créditos para que la producción impulse hacia arriba a los sectores más postergados. debemos facilitar que el estado compre sus insumos y haga partícipes a las cooperativas de trabajo en las pequeñas obras públicas, que el estado realiza. es necesario impulsar su inclusión a través de un monotributo productivo que simplifique su formalización. (aplausos)la economía popular puede colaborar con la producción y abastecimiento local y regional de alimentos necesarios para la vida comunitaria en el interior de nuestra patria. el estado nacional debe ayudar a que eso se concrete con un criterio estrictamente federal. por eso ya estamos promoviendo la producción y distribución de alimentos sanos, seguros y saludables, a través de los programas prohuerta y sembrar soberanía.vamos a asumir el desafío que el papa francisco ha propuesto: empujar desde abajo hacia arriba y desde las periferias hacia el centro. la idea del derrame de la riqueza de los poderosos es solo una quimera que jamás se materializa. ha llegado la hora de que los ingresos se distribuyan en términos de mayor equidad. (aplausos)el crecimiento genera empleo y esas tareas requieren, cada vez, más de saberes y conocimientos. vamos a potenciar la capacitación, a través del programa fomentar, que desplegarán capacitación presencial y virtual para la inserción laboral. en 2022, llegaremos a 350 mil personas.para facilitar la inserción de los y las jóvenes en el mercado de trabajo enviaré al congreso de la nación el proyecto de ley de empleo joven. (aplausos)avanzaremos en convertir los planes sociales en empleo formal recurriendo a la formación en oficios, capacitación y fomento de la terminalidad educativa; mediante la registración de la economía popular y a través de 340 bancos de maquinarias y herramientas.también avanzamos en la política de urbanización, de barrios populares, con 364 barrios, donde viven 317 mil personas. continuaremos con el programa mi pieza y lanzaremos el proyecto para el mejoramiento del espacio público, en los barrios populares.tenemos firmes políticas de seguridad alimentaria y de cuidado de la primera infancia. la tarjeta alimentar está llegando a 4 millones de destinatarios. apoyamos – mensualmente - más de 1.600 comedores comunitarios y 3.400 merenderos.sabemos que los jóvenes están entre los sectores más afectados por la pandemia. y por eso lanzamos varias iniciativas para ayudar a que se sobrepongan.con el programa potenciar inclusión joven generamos capacitación para casi 50 mil jóvenes, junto a una beca de estímulo económico. además, en 2021, hemos otorgado más de un millón de becas progresar.con el curso argentina programa hemos formado a miles de personas en el pensamiento computacional.frente a la situación de mujeres, que no lograban salir de situaciones de violencia de género por falta de recursos económicos, creamos el programa acompañar y ya hay más de 130 mil mujeres han recibido esa ayuda y ese cuidado. (aplausos)todo esto lo hicimos con más inversión pública generada en una mayor recaudación fiscal. la recaudación lleva diecisiete meses consecutivos de crecimiento por encima de la variación de precios. (aplausos) eso se debe al crecimiento económico, a los cambios en la estructura tributaria y al fortalecimiento institucional de la afip.en el momento más difícil de la pandemia, pensando en quienes más la habían padecido en términos comerciales y en la necesidad de facilitar el esparcimiento de nuestra gente, lanzamos el programa pre-viaje que - este año - tuvo su segunda edición. la actual temporada de verano fue histórica, con niveles de ocupación plena, en todos los destinos turísticos. (aplausos). pre-viaje es una muestra de lo que puede hacer el estado y también de la enorme resiliencia de nuestras empresas y de nuestra sociedad, en general.impulsar la industria turística y el crecimiento del empleo sirvió también para promover la formalidad, en la actividad económica. por eso no sorprende que el programa pre-viaje haya obtenido un premio a la excelencia, en el feria de madrid, y haya sido reconocido por la organización mundial del turismo.pre-viaje, también, acompañó a las argentinas y los argentinos que querían tomarse un descanso, luego de tiempos tan difíciles. los ayudó a reencontrarse con sus familias y sus amigos y amigas, a conocer lugares nuevos o a regresar a los conocidos. 4 millones quinientos mil argentinos y argentinas participaron de la segunda edición del programa.una vez más reitero: tengo muy en claro que estos logros son importantes, pero no son suficientes. aún falta mucho para resolver los problemas de los argentinos y argentinas, pero estamos en un camino que debemos consolidar y potenciar.vengo hoy - a esta asamblea legislativa - con la humildad de alguien que sabe que sus convicciones son tan inconmovibles como que su accionar es humano y por consiguiente, susceptible de errores. esa humildad que aquí expreso es necesaria, en toda la dirigencia. es muy ingrato ver que - viniendo de años tan difíciles - los niveles de polarización política están llevando a algunos compatriotas a debates y enfrentamientos estériles.en estos casi 40 años de democracia, es la primera vez que se rechaza un presupuesto, en este recinto, a lo que se debe sumar aquella vez cuando no se trató, en 2010. propusimos un presupuesto, que dejamos a consideración del parlamento con honestidad y humildad, que jamás fue un paquete cerrado, que siempre estuvo abierto a correcciones y mejoras. (aplausos)dicen que los peronistas manejamos el congreso como una escribanía, pero lo cierto es que - en estos casi 40 años - el congreso nacional solo ha dejado sin presupuesto a cristina, en 2010, y a mí en este año. (aplausos)convoco a todos y todas a reflexionar con humildad. y debo dejar tranquilos a los compatriotas que me están escuchando. me dejaron sin la herramienta del presupuesto, es cierto, pero no me han quitado la decisión política de cumplir lo que le prometimos a millones de argentinos y argentinas en la campaña electoral. (aplausos)con esas convicciones, déjenme introducirlos al tema de nuestra deuda externa. propongo recordar como llegamos hasta aquí. en el año 2018, el entonces presidente mauricio macri, decidió endeudar a la argentina, con el fondo monetario internacional, por un monto total de 57 mil millones de dólares.conocimos esa decisión, a través de un discurso transmitido, en cadena nacional. el congreso nacional no autorizó ese endeudamiento, ni fue consultado respecto de las obligaciones que el estado nacional asumía al tiempo de tomar la deuda.el dinero que ingresó de ese préstamo no fortaleció las reservas del banco central porque fue - enteramente utilizado - para pagar deuda externa insostenible y financiar la fuga de capitales. no quedó nada del dinero recibido, en argentina, ni un puente ni una carretera. sólo nos quedó una deuda externa impagable. (aplausos)los compromisos - asumidos en 2018 – eran, definitivamente incumplibles, teniendo en consideración el desmadre que la economía mostraba. téngase en cuenta que tan solo, en este ejercicio 2022, argentina se comprometió a pagar - en concepto de capital e intereses - la suma de 19 mil millones de dólares. y se comprometió a pagar una suma aún mayor, el año próximo. estoy hablando de cifras, que no tienen precedentes en la historia universal de la economía moderna.al acceder al gobierno renuncié a recibir alrededor de 12 mil millones de dólares, que restaban desembolsarse, a efectos de no hacer crecer aún más semejante deuda, con el fondo monetario internacional. mientras tomé esa decisión, di inicio a una serie de negociaciones tendientes a refinanciar la deuda con ese organismo.el 10 de diciembre de 2019 - al asumir como presidente de la nación - me referí con estas palabras al tema de la deuda externa frente a esta asamblea legislativa: “vamos a encarar el problema de la deuda externa”, dije entonces. “no hay pagos de deudas que se puedan sostener si el país no crece. tan simple como esto: para poder pagar hay que crecer primero. buscaremos una relación constructiva y cooperativa, con el fondo monetario internacional y con nuestros acreedores. resolver el problema de una deuda insostenible, que hoy tiene la argentina, no es una cuestión de ganarle una disputa a nadie. el país tiene la voluntad de pagar, pero carece de capacidad para hacerlo”.lo que hemos venido haciendo y lo que voy a anunciar, ahora, me da la tranquilidad de que estamos cumpliendo ese compromiso.en 2020, logramos una exitosa reestructuración de la deuda privada, en moneda extranjera. entonces, argentina logró ahorrar - al cabo de diez años - más de 38.000 millones de dólares. ahora el gobierno de la argentina ha llegado a un acuerdo con el staff del fondo monetario internacional para llevar adelante un programa, que nos permita refinanciar la deuda con ese organismo, que nos dejó el gobierno anterior y al cual siempre nos opusimos en su oportunidad. estamos dando un nuevo paso en este tema, que no es el primero y no será el último.se trata de una deuda inmensa. sufríamos un grave problema y necesitábamos una solución. ahora tenemos un camino para solucionarlo. teníamos una soga al cuello, una espada de damocles, y – ahora - tenemos un sendero que podemos recorrer. sin acuerdo, no podremos ayudar a construir certezas, en nuestra argentina.el acuerdo que anunciamos, semanas atrás, sobre el marco de políticas económicas es el mejor acuerdo que el gobierno de la argentina podía conseguir. me hubiera gustado, que el gobierno anterior, no hubiera recurrido en 2018 al fmi y muchos menos en las condiciones que ya describí. (aplausos). pero esto es lo que sucedió y trabajé - desde el primer día de mi presidencia - para encontrar una solución. con el entendimiento que logramos, podemos ordenar el presente y construir el futuro. repito: este es el mejor acuerdo que se podía lograr. y gobernar es un ejercicio de responsabilidad. gobernamos con convicciones firmes y con el pragmatismo necesario para saber qué es lo mejor para los argentinos y argentinas.el nuevo acuerdo no acumulará nueva deuda a la ya tomada por el gobierno anterior. es una refinanciación de aquél préstamo, que nos permite no usar - en estos años - recursos nacionales para pagar los compromisos. se usará dinero del propio fmi, que empezará a pagarse dentro de 4 años y medio. podremos utilizar ese tiempo para que semejante carga de deuda no detenga el crecimiento. el acuerdo no resuelve el problema de la deuda externa, pero da un paso importante en esa dirección. se iniciarán los pagos, en el año 2026, y terminarán de pagarse, en 2034.logramos un entendimiento inusual en el marco de un programa con el fmi. es un acuerdo sin políticas de ajuste y con incremento del gasto real en todos los años del programa. esto nos pone en un camino transitable, para nuestro país, con mayor previsibilidad, certezas y visión de futuro. (aplausos)habrá una expansión en infraestructura, inversiones en ciencia y tecnología y en políticas sociales.este acuerdo no contempla restricciones que posterguen nuestro desarrollo, a diferencia de otros que la argentina firmó, en el pasado. la reducción gradual del déficit será compatible con una expansión moderada del gasto primario real, que permitirá apuntalar la fuerte recuperación de la economía, en curso.quiero ser muy claro ante esta asamblea legislativa: no habrá una reforma previsional. la edad jubilatoria no será alterada. jubilarse es un derecho y se debe respetar a rajatabla. si por el motivo que fuere una persona deseara continuar trabajando, después de cumplir la edad que establece la ley, nadie, en principio, debería obligarla a retirarse. (aplausos)este acuerdo no restringe los derechos de nuestros jubilados y jubiladas que recuperamos, en el año 2020; derechos de los jubilados que mejoramos con los medicamentos gratis y que acabamos de volver a mejorar con la libertad para elegir médicos y médicas especialistas, que tienen los afiliados y afiliadas a pami. (aplausos)este acuerdo no doblega nuestra soberanía. somos nosotros los que decidiremos nuestro futuro, pero no dejo de reconocer que debimos extremar nuestros esfuerzos por definir con autonomía nuestras políticas públicas, ante un acreedor poderoso. todo es resultado del nivel de endeudamiento externo al que con una frivolidad alarmante nos han dejado expuestos.la argentina necesita ordenar su política monetaria y fiscal. el mayor problema que tenemos, la inflación, es multicausal y es nuestra responsabilidad atender todas sus causas. seguiremos la senda de ordenar las cuentas públicas, sin condicionar nuestras políticas de justicia social.digo también: en argentina se acabaron los tarifazos. (aplausos) vamos a segmentar los subsidios para lograr niveles de tarifas razonables, con justicia y equidad distributiva para los servicios públicos de gas y electricidad. por eso - en principio,- apuntamos a que el 10 % de mayor capacidad económica deje de ser beneficiario de subsidios.para el resto de los usuarios, nuestra política se inspirará en la ley 27.443 - votada en este congreso de nación, en el año 2018 - y vetada por el entonces presidente mauricio macri. (aplausos) esa normativa establecía, que las tarifas solo podrían incrementarse teniendo como tope el coeficiente de variación salarial. lo que nosotros haremos será utilizar ese mismo indicador, pero estableciendo que la evolución de las tarifas estará claramente por debajo de la evolución de los salarios. así, alineamos el tema de las tarifas con una política clara para recomponer los ingresos en términos reales. (aplausos)el estado está construyendo capacidad para hacer de modo justo y razonable esta segmentación. si alguna persona considerara injusto dejar de percibir un subsidio que - a su criterio le corresponde - siempre podrá hacer su reclamo para que su derecho le sea reconocido en tiempo oportuno.quiero también ser claro: no habrá una reforma laboral. (aplausos). los derechos de los que trabajan no pueden ser alterados en su perjuicio. la justicia social jamás puede ser objeto de una negociación. el futuro de los argentinos y argentinas, que trabajan, lo hemos defendido y lo vamos a defender de manera inclaudicable. (aplausos)he escuchado con sorpresa opiniones que critican que hayamos logrado un acuerdo sin los condicionamientos que tantas veces tuvieron consecuencias desastrosas para nuestro país.a esas críticas les contesto: no queremos más ajustes. nunca defendimos los ajustes. trabajo para una argentina grande, con crecimiento y empleo, sin exclusiones y con ampliación de derechos. pero además, al igual que la inmensa mayoría de la sociedad, he luchado toda mi vida por recuperar y consolidar nuestra democracia. así como aceptar condicionamientos externos hubiera debilitado nuestra democracia, no aceptarlos solo la fortalece.este entendimiento prevé sostener la recuperación económica ya iniciada. llevaremos adelante nuestras políticas de crecimiento, desarrollo y justicia social.nadie consultó, al congreso nacional, para tomar esta enorme deuda. (aplausos). en cambio, nosotros, elevaremos los documentos, que constituyan el acuerdo al congreso de la nación con la totalidad de los detalles. necesitamos que nos acompañen y apelo así al compromiso nacional de todos y todas. (aplausos)a partir de esta semana, esperamos que esté en manos de los legisladores y las legisladoras nacionales considerar la aprobación del acuerdo, que se alcance con el staff del fmi para dar previsibilidad a los argentinos y argentinas. ese será el acuerdo, de la argentina toda, y nosotros - como poder administrador - nos ocuparemos de que sea cumplido para que haya más producción, más trabajo, mejores ingresos y menor inflación. (aplausos)aún hoy seguimos negociando aspectos vinculados a la formalización de ese acuerdo que confío concluir a la brevedad. en el contexto mundial que vivimos y teniendo en cuenta la magnitud de los compromisos que asumió argentina y que buscamos modificar, defender los derechos de nuestro pueblo demanda mucho más que cinco minutos. (aplausos)el año pasado, a través del decreto 8/2021, instruí a la procuración del tesoro para que iniciara una querella criminal tendiente a establecer la verdad y las responsabilidades sobre este endeudamiento. quiero dejar constancia, que este acuerdo, tampoco releva, al poder judicial de avanzar en esa investigación. los argentinos y las argentinas tienen el derecho de saber como ocurrieron los hechos y quienes fueron los responsables de tanto desatino. (aplausos)y mientras actuamos, defendiendo los intereses, de nuestra patria, quiero comentarles algo que creo es una buena noticia, en el marco de un multilateralismo, que se debe una profunda reforma para estar de verdad al servicio de los pueblos, seguimos trabajando, junto a las naciones del mundo para lograr una integración que nos fortalezca. y vamos dando pasos para una integración, que potencie nuestras posibilidades productivas y fortalezca la estabilidad de nuestra economía. (aplausos)puedo anunciarles hoy, que ayer he recibido la confirmación del gobierno chino, de que han accedido a nuestro pedido de ampliación y uso del swap, en función de lo expresado en la “declaración conjunta\", que firmáramos en mi visita oficial. china siempre nos ha apoyado en los momentos difíciles, y confiamos en que pronto tendremos la autorización técnica correspondiente. con ello también fortaleceremos la estabilidad cambiaria. (aplausos)invito al pueblo argentino y a las fuerzas políticas a mirar hacia adelante, sin olvidar el pasado; somos un ejemplo ante el mundo de cómo construir verdad, justicia y memoria sobre una tragedia histórica sin detenernos y mirando hacia el futuro. si lo hicimos antes, también podemos hacerlo ahora. (aplausos)de hecho, nuestro proyecto político nació para oponernos a lo que, desde nuestro punto de vista, era el desastre y el desorden de la administración anterior. nacimos para ser una alternativa, para dar una respuesta de esperanza al despropósito.ahora bien, un proyecto político no se sostiene solo como una coalición coyuntural o solo como una respuesta puntual a una crisis específica; un proyecto político se sostiene con su vocación de seguir representando a las mayorías, con propuestas inclusivas y reformadoras, con espíritu de amplitud y diversidad. se potencia construyendo la gran avenida del progreso, del desarrollo y de la justicia social para la argentina. se trata de proponer, se trata de construir.una gran parte de los logros, que tuvimos en la primera etapa de nuestro gobierno, son poco visibles porque concentramos nuestra atención en el ataque a la pandemia. pero mientras lo hacíamos, impedíamos desastres muchos mayores. impedíamos que se saturara el sistema de salud. impedíamos que cerraran miles de empresas. impedimos que el desempleo creciera desmedidamente. impedíamos que la pobreza y la indigencia fueran mucho más altas. impedíamos que la argentina terminara en un default con acreedores privados y organismos internacionales de crédito.evidentemente, los desastres que podrían haber sucedido y que fueron evitados por el estado y por la sociedad, fueron directamente invisibilizados. es necesario tomar conciencia de lo que hubiera ocurrido si no hubiéramos impedido semejantes fracasos.gracias a esos logros - en la segunda mitad de nuestro mandato - con la población mayoritariamente vacunada, dedicaremos nuestros esfuerzos no ya a evitar daños, sino a construir las acciones que marcarán el futuro económico, productivo, educativo, ambiental, sanitario y el desarrollo integral, de la argentinaes el momento, hoy más que nunca, de hablar del mañana. debemos dejar de lado el desaliento, que atrapa a algunos. yo los escucho. recorro el país y hablo con ustedes. y veo como estamos volviendo a ponernos de pie. veo la enorme capacidad y energía social que hay en toda nuestra patria.vengo aquí a compartir con ustedes mis ideas acerca de cómo podemos construir ese nuevo tiempo, que nos merecemos. si aprendemos las lecciones de nuestra historia, la argentina ingresará en un desarrollo sostenido, potenciando la industria, cuidando el ambiente y redistribuyendo con equidad los ingresos.vamos a expandir la inversión pública y dirigir los recursos del estado, allí donde argentina lo requiera.no he venido hoy aquí a pedir que acompañen a un presidente. he venido a pedirles que acompañen a un país, que todavía atraviesa un enorme duelo colectivo, con su dolor y sus enseñanzas. un país que, a pesar de ello, está ingresando en un sendero virtuoso de desarrollo integral.necesitamos planificar. sepamos que el corto, el mediano y el largo plazo comienzan en el mismo momento. es ahora. planificar con una acción colectiva, liderada por el gobierno y acompañada con la fuerza de todos los sectores sociales: la comunidad, la producción, el trabajo, la ciencia y la tecnología. los desafíos requieren continuidad de acciones y compromisos de los actores involucrados.¿cuáles son objetivos realistas, que la argentina se puede proponer para los próximos años?1) podemos crear anualmente, solo con la ampliación de la matriz productiva, al menos 200.000 puestos de trabajo de calidad en el sector privado. (aplausos)2) realmente podemos poner en marcha 10.000 nuevas empresas por año.3) podemos reducir la inflación, de modo sostenido y paulatino.4) podemos alcanzar y superar los 100 mil millones de dólares de exportaciones sumando bienes y servicios. (aplausos)nuestro principal desafío es salir del péndulo de políticas económicas contradictorias. debemos darle sostenibilidad a este desarrollo integral y salir definitivamente de la famosa “restricción externa”.en el mediano plazo, podemos duplicar las exportaciones, de la argentina. necesitamos aumentar las exportaciones, por la vía de una mayor producción, no con menos consumo interno. producir para exportar; no saldos exportables.vamos a impulsar la producción y las exportaciones para generar empleo, mejorar los ingresos, generar divisas y bajar la inflación. no se trata de exportar a costa del mercado interno; se trata de exportar para mejorar la vida de los argentinos.la lógica del futuro es clara: debemos crecer, aumentar y diversificar nuestra oferta exportable para estabilizar nuestra economía. no se trata de estabilizar - para después crecer -, sino de crecer para estabilizar. (aplausos)nuestro plan - para este año - indica que las exportaciones de bienes crecerán entre un 5% y un 13%, respecto a 2021. en materia de servicios - en 2021- se estiman unos 9.000 millones de dólares y también se prevé una mejora, para 2022. por eso, sumando bienes y servicios, existe la posibilidad de que, este mismo año, nos acerquemos a los 100 mil millones de dólares de exportaciones. (aplausos)nuestro plan de desarrollo integral debe contemplar diversos aspectos. la argentina necesita tener una economía ordenada para darles previsibilidad a los trabajadores y a las trabajadoras, a las clases medias, a las empresarias y empresarios. las pymes serán protagonistas de este proceso, junto al movimiento obrero y a las organizaciones de la economía popular.por eso, elaboramos un plan fundado en “nueve misiones industrializadoras”:1) desarrollar una industrialización verde para una transición ecológica justa. reemplazaremos tecnologías y fuentes energéticas contaminantes por otras que reduzcan considerablemente o eliminen emisiones tóxicas. apostamos al hidrógeno verde, al litio, a las energías renovables y a la fabricación nacional de equipamiento, a la reconversión tecnológica, siempre con eje en el trabajo argentino. con la fuerza de nuestras cooperativas avanzaremos en la economía circular y el reciclaje de residuos. reduciremos las emisiones de carbono, impulsando un fuerte despegue productivo.2) desarrollar la explotación de nuestros recursos naturales en consonancia con los objetivos de la transición ecológica justa, con acuerdo social y con estrictos controles ambientales ejecutados por el estado.3) fortalecer la economía de la salud para lograr la autosuficiencia de insumos críticos para la producción de aparatos y medicamentos. vamos a avanzar decisivamente en la producción de vacunas. (aplausos)4) impulsar la economía para la defensa potenciando la implementación del fondo nacional de la defensa. debemos avanzar en la fabricación de radares, buques, drones, indumentaria, industria satelital, entre otras cosas.5) modernizar a los sectores tradicionales de la industria argentina, adoptando nuevos desafíos tecnológicos, de mejora de productividad y de masiva creación de empleo.6) digitalizar el sistema productivo nacional fortaleciendo nuestra economía del conocimiento. pretendemos incrementar las capacidades digitales del aparato productivo y de la sociedad, mejorando la productividad.7) transformar el sistema de producción de alimentos para lograr que el complejo agro-bioindustrial tenga alta intensidad en conocimiento para impulsar la producción industrial de base biológica, en argentina.8) desarrollar la electromovilidad para convertir, a la argentina, en la plataforma sudamericana de vehículos eléctricos.9) duplicar las exportaciones de nuestro país, con 25 complejos productivos de bienes y servicios, que en 2021, exportaron 84.000 millones de dólares y que, para 2030, aspiramos que exporten 170.000 millones de dólares. tendremos así una tasa de crecimiento compatible con equilibrios en la balanza de pagos, de modo tal de eliminar las crisis cíclicas, que sufre nuestro país.estos y otros temas serán objeto de debates legislativos y de acuerdos sectoriales. queremos una industrialización con perspectiva de género, que contribuya a que la argentina tenga un territorio equilibrado; que haya polos productivos potentes, en todas las provincias; que los argentinos y argentinas puedan desarrollar su vida donde hayan nacido. (aplausos)para que esos nueve objetivos puedan alcanzarse, es fundamental, que avancemos en la agenda legislativa, que hemos propuesto en 2021: el desarrollo del cannabis para uso medicinal y cáñamo industrial, que ya tiene media sanción, nos permitirá generar 10.000 puestos de trabajo - en los próximos años – tendrán una clara perspectiva federal.la ley de inversiones automotrices, para estimular nuevos proyectos y crear nuevos puestos de trabajo.la ley de electromovilidad, para estimular la fabricación y difusión local de los vehículos eléctricos y trabajar en la cadena de valor del litio.la ley agro bio industrial, para estimular a la inversión en la cadena agroindustrial y agregar valor en las economías regionales. con el horizonte 2030 esta ley permitirá crear 700 mil puestos de trabajo e impulsar exportaciones por 100 mil millones de dólares.la ley de compre argentino, para fortalecer el poder de compra del estado como elemento de tracción para el desarrollo industrial, en particular en nuestras pymes y cooperativas. más trabajo argentino.la ley de desarrollo hidrocarburífero, que amplíe el potencial de nuestra industria, sea palanca para el desarrollo industrial, la creación de empleos y el desarrollo exportador.a esta agenda agregaremos 3 nuevos proyectos, que serán remitidos durante este año: una ley de nano-biotecnología, que extienda y supere a la actual ley de biotecnología moderna. (aplausos)una ley de hidrógeno, que estimule y reglamente el desarrollo de esta actividad que es presente y es futuro, y donde argentina aspira a presentarse en un lugar de liderazgo mundial.una ley del sistema nacional de calidad para dotar a nuestra producción de mayor autonomía, control y desarrollo, que permita evitar los frecuentes casos en que argentina no puede exportar productos de clase mundial.le pido - a este honorable congreso de la nación - que enriquezca y mejore las propuestas que hemos enviado, como así también las que vamos a enviar. por nuestra argentina, por nuestros hijos e hijas, espero que cada uno de estos proyectos de ley se concrete, lo antes posible.así estamos construyendo la argentina del futuro. necesitamos alcanzar con nuestras políticas a todos los nichos productivos, que existen.por eso lanzamos y profundizaremos argentina programa, las herramientas para que chicas y chicos, de todo el país, se formen en programación, una llave central para conseguir trabajo. apuntamos a formar 200.000 jóvenes, en todo el país.lanzamos el plan ganadería argentina para aumentar la producción de carne con el doble objetivo de cumplir con la demanda interna e incrementar la oferta de exportación. además, incluimos una línea de créditos y una bonificación de la tasa de crédito de los bancos adheridos.avanzaremos en un plan nacional de forestación para la plantación y el cuidado de 100 millones de árboles nuevos, hasta fin de 2023. los árboles son el mecanismo natural manejable más eficiente para la captura de carbono. (aplausos)vamos a consolidar a la argentina como un gran productor audiovisual que aliente el talento que tenemos y disfrutamos. un país productor de películas, series y libros con una fuerte industria cultural.el futuro exige dar un enorme impulso a la ciencia y la tecnología. son herramientas fundamentales para resolver los problemas que afectan a la humanidad. hay que continuar invirtiendo para lograr una creciente autonomía científico-tecnológica que nos permita aportar a la resolución de los problemas del país.quiero agradecer a este congreso el haber aprobado las leyes de financiamiento de la ciencia y la de economía del conocimiento. (aplausos). así podremos alcanzar - en los próximos años - una inversión de más del 1 % del pbi, lo que implica multiplicar por 4 el presupuesto actual. la segunda ley garantizará que la inversión pública traccione también inversión privada en investigación y desarrollo. estoy convencido que - en educación como en ciencia - los argentinos y argentinas debemos avanzar hacia políticas de estado. es por ello que - en los próximos días - estaré enviando a este congreso nacional el proyecto de ley del plan argentino de ciencia y tecnología 2030, que fue debatido y concertado con los actores de la comunidad científica, universitaria y productiva del país. (aplausos)uno de los grandes objetivos del presente año será iniciar un enorme proceso de federalización de la ciencia. agregar valor, fortalecer las cadenas productivas con modernas tecnologías, allí donde esa la producción primaria permitirá abrir numerosas fuentes laborales.este futuro es con la educación en el centro de nuestras prioridades. cada peso invertido en educación es un peso invertido en el futuro, de la argentina. seguiremos construyendo nuevos edificios, dotando de equipamiento y de toda la infraestructura necesaria, con un programa especial para nuevos jardines de infantes. construiremos 100 edificios integrados, para la educación técnica profesional, y mejoraremos la infraestructura existente. continuaremos con el programa de infraestructura universitaria.tenemos un plan para multiplicar la conectividad en las escuelas y un plan para expandir la tecnología informática, para nuestros niños, niñas, jóvenes y nuestros docentes. en los próximos 90 días brindaremos conectividad a 2.700 escuelas, que no tenían. para el resto de 2022, tenemos previsto conectar 10.000 escuelas más. esto significa que 3 millones de chicos y chicas, que no tenían conectividad en sus escuelas, pasarán a estar conectados. sumados estos 3 millones, a los 5.200.000 estudiantes, que ya tienen conectividad en sus escuelas, terminaremos el año cubriendo el 90 % de la matrícula total del sistema educativo argentino. (aplausos)respecto al plan conectar igualdad, estamos distribuyendo 600 mil computadoras, para cada uno de los chicos y chicas de escuelas secundarias públicas. hemos licitado la compra de 1 millón más de computadoras. (aplausos)debo anunciar, además, que este año vamos a comenzar a distribuir computadoras a nuestros y nuestras docentes, de las escuelas primarias de gestión pública. (aplausos). tenemos la obligación de facilitar la inclusión de nuestros educadores y nuestras educadoras a la era digital.vamos a construir 3.000 aulas digitales para los chicos de nivel inicial. esperamos construir 7000 más, en 2023.entregaremos más de 8 millones de libros de lengua y matemática a 3 millones 600 mil estudiantes y docentes de nivel primario, de escuelas públicas.con el trabajo colectivo para revincular estudiantes a la escuela tendremos logros muy importantes. mañana, cuando comience el ciclo lectivo en la mayor parte del país, empezaremos a recuperar el estudio con la vuelta a clases. mañana más de 10 millones de niños, niñas y jóvenes regresarán a las aulas.quiero desearles a todos los chicos y chicas, a los docentes y a las familias, de la argentina, que tengan un buen inicio de clases. comenzamos un ciclo lectivo reparador, con 190 días de clase, con presencialidad plena, segura y continua. (aplausos)pensando en quienes estudian, las becas progresar van a llegar, a fin de este año, a 2 millones, exactamente el doble que, a fin del año pasado.vamos a seguir apoyando a las cooperadoras. y vamos a fortalecer la educación sexual integral. (aplausos). queremos que los niños, niñas y adolescentes, sepan cuidar de sus cuerpos y de su salud reproductiva y sean responsables y tengan respeto con sus pares y - en particular - con las mujeres y las personas de las diversidades sexuales. (aplausos)para el desarrollo integral, potenciando el conocimiento, debemos generar la infraestructura necesaria, que acompañe ese esfuerzo. es momento de grandes obras: tenemos 120 obras, que son el eje para transformar la matriz productiva del país con un desarrollo territorial equilibrado.con la infraestructura, el objetivo es multiplicar y distribuir oportunidades en todo nuestro territorio. la obra pública es una de las principales palancas para realizar un país más integrado, más desarrollado y más justo.el desarrollo requiere mejor infraestructura vial. quienes viajaron a la costa - por las autovías 11 y 56 - saben el cambio, que implica esto para la seguridad vial. otros dos ejemplos emblemáticos son la autopista presidente perón, en el amba, y el puente chaco-corrientes, con una inversión de 600 millones de dólares. (aplausos)en un país, que se desarrolla, toda familia tiene derecho a tener un techo que la proteja. para el 2023, vamos a haber construido 144 mil viviendas; habremos otorgado 120 mil nuevos créditos para la construcción o refacción de viviendas y habremos logrado así, en total, 264 mil soluciones habitacionales. (aplausos)como resultado de las inversiones que hicimos en modernización del sistema ferroviario, ya en 2021 los trenes de carga, que opera el estado, incrementaron un 60% lo transportado en 2019. además, estamos reactivando y renovando líneas ferroviarias de pasajeros en todo el país y realizando obras de infraestructura en 8 aeropuertos. estamos incorporando nuevas ciudades en el uso de la tarjeta sube y queremos que esa tarjeta llegue a todo el país.construiremos un sistema de gasoductos, que es uno de los proyectos más importantes para la estabilidad macroeconómica. el gasoducto - que llevará el nombre, de nuestro siempre recordado néstor kirchner - tendrá 1.000 kilómetros y demandará una inversión de 2.500 millones de dólares. (aplausos)este año, ypf cumple 100 años. hemos recuperado ypf y la volvimos a poner en el camino del crecimiento. ypf cerró uno de los mejores años, desde 2012. invirtió 2.700 millones de dólares, en 2021, y este año sus inversiones aumentarán un 40 %. tenemos enormes recursos por desarrollar. de la mano de ypf podemos generar un proceso de desarrollo, que ubique al país como un gran exportador de energía. como argentinos y argentinas, tenemos que estar orgullosos de esta empresa, que - con un pie en su historia - sigue mirando al futuro para garantizar la energía, que el país necesita para seguir creciendo.el desarrollo integral requiere más conectividad. con arsat estamos finalizando la actualización de la red federal de fibra óptica, para incrementar 10 veces la capacidad del tráfico de banda ancha. relanzamos nuestro plan geoestacionario con la construcción de arsat sg-1 y – hoy - anuncio la construcción, simultánea, de un segundo satélite: arsat sg-2, para la exportación de servicios de valor agregado en américa del sur y brindar soluciones de conectividad en banda ancha. (aplausos)vamos a continuar profundizando la cultura del diálogo y el encuentro en el marco del consejo económico y social, con participación de trabajadores y trabajadoras, empresarios y empresarias, de todos los sectores, científicos, académicos y miembros de la sociedad civil. la experiencia demuestra, que no resulta utópico ponernos de acuerdo, cuando priman la armonía y el bien común.todas estas acciones y proyectos son medios para nuestro objetivo principal: mejorar la vida de los argentinos y argentinas.buscamos que - en la argentina - no sólo crezca la economía, sino que también crezca el bienestar; que mejoren los empleos y que mejore la convivencia; que disminuya la pobreza y disminuya también la violencia; que suba la inversión y suba también el acceso a derechos; que baje la inflación y también baje la inseguridad.a los problemas hay que llamarlos por su nombre. reconocerlos para poder resolverlos. tenemos un sendero para ir reduciendo paulatinamente la inflación y la pobreza.necesitamos reconocer, también, que hay problemas con el valor de los alquileres. pensando en todos los argentinos y argentinas - que hoy son inquilinos - le pido, al congreso de la nación, que asuma la tarea de avanzar en los cambios que sean necesarios para mejorar la ley actual y generar un mejor acceso a la vivienda. (aplausos)y también debemos admitir el muy serio problema de la inseguridad. luchamos de manera – implacable - contra el narcotráfico y el contrabando. priorizamos la lucha contra el crimen organizado y entendemos a la seguridad democrática como un derecho de los argentinos y argentinas.no hay modo de combatir al crimen organizado, sin un sistema judicial eficiente.queremos que el poder judicial recupere la confianza pública, que ha perdido y supere su crisis de funcionamiento, que sea eficaz y completamente independiente, de todos los poderes, fácticos y políticos.déjenme hacer una observación: en el mes de enero, los servicios de telecomunicaciones registraron el mayor aumento de precios. eso fue posible porque algunos jueces dictaron medidas cautelares, en favor de empresas prestatarias del servicio e impidieron la aplicación del decreto que declaraba servicios públicos a la telefonía celular, internet y la televisión por cable o satelital. a casi dos años, de dictadas esas medidas cautelares, no se expiden sobre el diferendo ni los tribunales que las dictaron ni la corte suprema, que añeja la cuestión, en algún armario. (aplausos)esto que acabo de describir no es otra cosa, que un acto de complicidad judicial con el poder económico real. (aplausos) necesitamos una reforma integral del sistema de la administración de justicia federal.lamentablemente, el proyecto de ley de reforma judicial - que envié, en 2020 - que fue aprobado por el senado ahora ha perdido estado parlamentario. lo que está sucediendo, con el poder judicial, en argentina, es grave.esa reforma que impulsé fue resistida por la oposición para beneficiar a algunos funcionarios del gobierno anterior, que deben rendir cuentas. saben que tienen aliados en fiscales y jueces de la justicia federal. por eso siempre su primer planteo ha sido y sigue siendo reclamar la competencia de los tribunales, afincados en comodoro py. (aplausos). pero lo cierto es que, ese proyecto de ley, además, se creaba el juzgado federal y una fiscalía en san lorenzo y la cámara federal de apelaciones, de rosario, instrumentos jurídicos indispensables en la lucha contra el narcotráfico. también ese proyecto establecía la creación de una nueva sala y una secretaría de narcotráfico, en la cámara federal de apelaciones, de rosario. no se debería demorar más tiempo en tomar decisiones tan fundamentales. (aplausos)yo le solicito - al honorable congreso de la nación - aborde la cuestión, que planteamos. que haga los cambios adecuados, que generen los consensos necesarios y resolvamos este problema.ya hemos enviado el proyecto de ley de reforma del consejo de la magistratura. avanzaremos en la implementación del código procesal penal federal y ampliaremos, también, los mecanismos de acceso a la justicia.la conformación y funcionamiento, de la corte suprema de justicia de la nación, también, debe ser objeto de análisis y decisión en este ejercicio legislativo. (aplausos)yo - como titular del poder ejecutivo nacional,- hice cuanto estuvo a mi alcance para poner fin a las malas prácticas, que se observaban en el sistema judicial.durante la administración anterior, existieron serias interferencias de los servicios de inteligencia, en el funcionamiento de las instituciones de la república, afectando los derechos y garantías de los y las habitantes, de nuestra nación. a la luz, de lo que hoy sabemos, no habíamos llegado a tener real dimensión del enorme daño, que esas intromisiones causaron.cuando asumí la presidencia me comprometí a terminar con los sótanos de la democracia prometiendo que nunca más esas prácticas oscuras pondrían en riesgo la institucionalidad.tengo la tranquilidad de haber cumplido con la palabra que empeñé. me ocupé de que no existan causas armadas entre los servicios de inteligencia, las autoridades de los poderes públicos y miembros que deshonran la administración de justicia. garanticé que no existan nuevos encarcelamientos sin sustento jurídico.además, puse fin a las escuchas o seguimientos ilegales a dirigentes opositores, a sus familiares o a sus representantes jurídicos. (aplausos)en síntesis, dije nunca más a esos sótanos, que propusimos desmantelar y por eso los desmantelamos. lo dijimos, en 2019, y lo sostenemos hoy. este debe ser un compromiso de los tres poderes del estado.en la argentina, de hoy, no hay espionaje político. no se intervienen teléfonos sin causa judicial. en la argentina, de hoy, cada uno piensa y dice lo que se le da la gana. el secreto no puede ser nunca más la excusa para que el estado institucionalice un sistema de espionaje, cuyo fin sea la persecución a opositores políticos o simplemente la extorsión. ese es el entramado, que la intervención de la afi, develó y denunció. (aplausos)en los próximos días, enviaré un proyecto de ley, que permita consolidar el trabajo hecho - en estos años - en materia de inteligencia. es indispensable que el congreso acompañe este camino. necesitamos contar con organismos de inteligencia, que permitan producir información estratégica de calidad que contribuya a tomar decisiones y a proteger (no a espiar) al conjunto de la población frente a los riesgos y desafíos de un mundo cada vez más dinámico.como siempre he dicho, mantenemos en lo más alto las políticas de memoria, verdad y justicia. (aplausos). estamos iniciando la construcción del espacio de memoria y las actividades, en el ex centro clandestino de detención “campo de mayo”. además, recuperaremos el regimiento de infantería 9, de corrientes, y el vesubio. (aplausos)la argentina tiene la obligación ética de prevenir y erradicar la violencia institucional. enviaré un proyecto de ley, que establezca estándares básicos de comportamiento de las fuerzas de seguridad, en todo el territorio argentino. (aplausos)queremos un país respetuoso de todos y todas, de todas las diversidades y de todas las diferencias. por eso, reforzaremos el trabajo para garantizar los derechos constitucionales garantizados a los pueblos originarios.por eso, ya implementamos el dni no binario.por eso, necesitamos avanzar en reducir las desigualdades, que genera la discapacidad, para proteger los derechos, de más de 4 millones de argentinos y argentinas.este año, después de recoger las sugerencias de todos los sectores, enviaremos el proyecto de ley para proteger los derechos de las personas con discapacidad, para tener una argentina justa e inclusiva y para que el marco normativo sobre discapacidad sea fruto de nuestra democracia y no de una dictadura. (aplausos)todas y todos necesitamos ser cuidados, en algún momento de nuestras vidas: en la primera infancia y en la ancianidad, también en circunstancias de enfermedad o de necesidades especiales. la desigual distribución del trabajo de cuidado es el corazón de las desigualdades entre los géneros. al igual que, en otros países, enviaremos un proyecto de ley, que establezca un sistema integral de cuidados, con perspectiva de género, que permitirá crear más de 200.000 puestos de trabajo para quienes cuidan, a más de 1 millón de personas que necesitan de esos cuidadas. (aplausos)este año, avanzaremos en la construcción de 326 nuevos espacios de primera infancia y finalizaremos otras 200 obras de mejora edilicia para 50 mil niños y niñas de hasta 4 años de edad.estamos construyendo una red de 30 centros territoriales de políticas de género y diversidad en todas las provincias, para resolver las situaciones de violencia por motivo de género. estamos creando 80 equipos interdisciplinarios, que asistan - en casos de violencias de género - y promuevan derechos en todo el territorio nacional.argentina es uno de los países latinoamericanos más retrasados, en regímenes de licencias parentales. por eso enviaré un proyecto de ley para lograr en nuestro país un régimen de licencias parentales igualitarias. así ampliaremos días por maternidad, paternidad y adopción e incluiremos a trabajadores monotributistas y autónomos, sin generar mayores erogaciones a los empleadores. (aplausos)para simplificar el acceso ciudadano al estado, hemos modernizado la gestión del registro nacional de las personas. los nuevos sistemas de identificación permitirán certificar la identidad de las personas de modo más veloz, confiable y llevar la calidad de los documentos de identidad a los más altos estándares. los padres, madres o tutores podrán descargar los dni, de las personas menores a su cargo, en su celular. el mejoramiento informático hará más sencillos una serie de trámites ciudadanos.este año, tendremos documentos nacionales de identidad y pasaportes electrónicos. y se avanzará para realizar el trámite de emisión de dnis y pasaportes, de forma remota.quiero detenerme ahora en un tema prioritario para nuestro gobierno. los eventos climáticos, que estamos atravesando y sus catastróficas consecuencias, a nivel humano, natural y productivo, muestran la necesidad de asumir firmes compromisos, en materia ambiental.durante la conferencia de naciones unidas sobre cambio climático, en glasgow, argentina presentó un objetivo más ambicioso, que el de 2016. aumentamos 27,7 % nuestros compromisos de limitación de las emisiones de gases de efecto invernadero - para 2030 - y nos comprometimos a alcanzar la neutralidad de carbono – en el año 2050- lo que nos convierte en uno de los países que más ha aumentado su meta en la lucha contra el cambio climático.estas acciones se consolidarán en instrumentos como el plan nacional de adaptación y mitigación al cambio climático y en la estrategia de desarrollo resiliente, con bajas emisiones a largo plazo, que presentaremos, a fin de año, en la cop 27, en egipto.hemos enviado el proyecto de ley de presupuestos mínimos de evaluación ambiental, con el objetivo establecer criterios aplicables a todo el territorio nacional para proveer un piso de protección ambiental.para cuidar nuestros ecosistemas fortaleceremos con mayores recursos el servicio nacional de manejo del fuego. además de comprar centros de operaciones móviles, transportes y otros insumos, mejoramos las bases, de chubut, misiones y san luis, y ampliaremos el sistema de alerta temprana. además, enviaremos la modificación de la ley de bosques nativos.este año, el indec llevará adelante el censo nacional de población, hogares y vivienda, que tuvo que ser postergado por la pandemia. será el 18 de mayo, con opción de completarlo previamente por medios electrónicos. el censo producirá información indispensable para la toma de decisiones y también para que todos podamos conocer la realidad en la que vivimos.la argentina lleva a cabo una política exterior basada en el multilateralismo cooperativo. apoya con firmeza la paz, la seguridad internacional, la solución pacífica de las controversias, los derechos humanos, la defensa de la democracia y el cuidado del medio ambiente. en todos los foros bregamos por soluciones cooperativas e igualitarias a los grandes problemas globales.fomentamos el diálogo en nuestra región superando diferencias que existen. promovemos el diálogo constructivo con nuestros socios del mercosur y aceptamos el desafío de presidir la celac. por primera vez, este año, la argentina ha sido elegida para presidir el consejo de derechos humanos, de naciones unidas.la república argentina, fiel a los principios de la convivencia internacional, hace un llamamiento a la paz y a la resolución pacífica de las controversias internacionales. la argentina siempre rechazará el uso de la fuerza armada y reitera la necesidad del respeto a los principios de la carta de las naciones unidas.la cuestión malvinas debe ser una política de estado, que cumpla con el mandato de la disposición transitoria primera, de la constitución nacional, diseñando estrategias consensuadas que permitan conducir con éxito el reclamo. la vocación de construcción de ese consenso ha quedado expresada en las leyes que impulsamos y que fueron sancionadas - por unanimidad - en ambas cámaras.a cuarenta años del conflicto de atlántico sur lanzamos la agenda malvinas 40 años y hemos declarado, el año 2022, como año de homenaje del pueblo argentino a los caídos, así como a sus familiares y a los veteranos de malvinas. queremos visibilizar así a uno de los últimos resabios de colonialismo. (aplausos)la república argentina reitera su búsqueda de una solución negociada y pacífica de la disputa de soberanía, para cumplir con el objetivo irrenunciable de recuperar el ejercicio pleno de soberanía sobre esa parte de nuestro territorio que se encuentra usurpado. agradecemos todos los apoyos de países, regiones y foros internacionales que se expresan, en favor de la argentina.nuestro compromiso de homenaje a los caídos, en malvinas, se expresa en sostener la política de identificación de nuestros soldados, que quedaron en esa parte del territorio nacional. por eso, hemos expresado - al comité internacional de la cruz roja - el interés, de la república argentina, en la concreción - de una tercera etapa - de identificación de caídos en el marco del plan proyecto humanitario, como parte de una iniciativa que fue lanzada, en 2012, y ha tenido continuidad en los sucesivos gobiernos. (aplausos)tengo la convicción que malvinas nos une en una causa nacional, que convoca y moviliza al pueblo argentino. no nos cansemos de repetirlo: las malvinas fueron, son y serán argentinas. (aplausos)miremos al 2023. ese año debe unirnos en la pluralidad. cuando el actual mandato presidencial esté concluyendo, se cumplirán 40 años de democracia, una conquista fundamental e irrenunciable, con sus diferencias, sus logros, sus errores y sus desafíos. invito a todos y todas a trabajar incansablemente para que los 40 años de democracia nos encuentren, en una argentina, próspera, más justa, en paz, con mejores instituciones, donde la vida de todos y todas esté mejorando y donde nos unamos en el juramento: “democracia para siempre”. (aplausos)al iniciar este discurso llamé la atención sobre este tiempo singular que atravesamos. en el inicio de su “historia de dos ciudades”, dickens describe, una época del mundo, que tiene plena vigencia en este presente. dickens decía: \"era el mejor de los tiempos, era el peor de los tiempos. la edad de la sabiduría, y también de la locura; la época de las creencias y de la incredulidad; la era de la luz y de las tinieblas; la primavera de la esperanza y el invierno de la desesperación. todo lo poseíamos, pero nada teníamos, íbamos directamente al cielo y nos perdíamos en sentido opuesto. en una palabra, aquella época era tan parecida a la actual, que nuestras más notables autoridades insisten en que, en lo que se refiere tanto al bien como al mal, solo es aceptable la comparación en grado superlativo”.esta época bisagra de la historia, de argentina, del mundo, del universo, necesita que le propongamos un sueño. un propósito: queremos dejar de ser víctimas de todo y pasar a ser propulsores de algo; pasar del miedo a la ilusión; de la muerte a la creación. hay que sacar la utopía del pasado y volver a ponerla en el futuro.muchas gracias. (aplausos)\\xa0\\xa0los contenidos de casa rosada están licenciados bajo creative commons reconocimiento 2.5 argentina license'"
            ],
            "application/vnd.google.colaboratory.intrinsic+json": {
              "type": "string"
            }
          },
          "metadata": {},
          "execution_count": 2
        }
      ]
    },
    {
      "cell_type": "code",
      "source": [
        "print(\"Cantidad de caracteres del discurso:\", len(article_text))"
      ],
      "metadata": {
        "colab": {
          "base_uri": "https://localhost:8080/"
        },
        "id": "wHuWT4gd5I4V",
        "outputId": "b7c3d00e-b879-42ff-a6a0-43662c29fcf8"
      },
      "execution_count": null,
      "outputs": [
        {
          "output_type": "stream",
          "name": "stdout",
          "text": [
            "Cantidad de caracteres del discurso: 75304\n"
          ]
        }
      ]
    },
    {
      "cell_type": "code",
      "source": [
        "corpus = nltk.sent_tokenize(article_text)\n",
        "corpus"
      ],
      "metadata": {
        "id": "oAeLtRJj-A99",
        "colab": {
          "base_uri": "https://localhost:8080/"
        },
        "outputId": "81aa2380-5d3f-4031-c64d-d54938d40649"
      },
      "execution_count": null,
      "outputs": [
        {
          "output_type": "execute_result",
          "data": {
            "text/plain": [
              "['palabras del presidente de la nación, alberto fernández, en la apertura del 140 período de sesiones ordinarias, en el congreso de la nación argentina.querido pueblo argentino, gracias honorable asamblea legislativa por recibirme una vez más: nos han tocado tiempos difíciles signados por crisis sanitarias, económicas y bélicas.el mundo está conmovido.',\n",
              " 'la tragedia de una pandemia contra la que aún luchamos ha dejado al descubierto las inequidades en las que vivimos.',\n",
              " 'pudimos ver el modo en que la riqueza se concentra en pocos, mientras la pobreza y la marginalidad se distribuyen en millones de seres humanos que claman por dignidad y justicia.ahora - cuando empezamos a controlar la ferocidad del virus - vemos con pesar que tanto dolor y tanta muerte no ha logrado conmover la ética de los poderosos que encerrados en la lógica de un capitalismo financiero que busca perfeccionar su renta, solo logra profundizar aquella desigualdad.en ese contexto, la paz del mundo se altera, por la invasión militar de la federación de rusia sobre ucrania.',\n",
              " 'europa se conmueve, mientras el fantasma de una guerra vuelve a levantarse.',\n",
              " 'otra vez la violencia bélica arrasa vidas humanas.',\n",
              " 'por esas vidas humanas y por las vidas, que perdimos - durante el covid - les pido a todos hacer un minuto de silencio.',\n",
              " '(minuto de silencio) muchísimas gracias.',\n",
              " '(aplauso)si el mundo no comprende que es este el momento preciso en que debemos darle una oportunidad a la paz y que debemos construir nuevas reglas que saquen de la postergación a los millones de desposeídos que apenas sobreviven, otra vez la humanidad estará siendo condenada a padecer la indecencia de los poderosos.argentina es parte de ese mundo y no puede escapar al contexto en el que está inmersa.',\n",
              " 'la guerra, en un mundo que se ha globalizado, indefectiblemente genera consecuencias sobre nuestro paísaún así, cuando esa realidad parece producir un enorme desaliento, estoy convencido que estamos viviendo un momento verdaderamente histórico para la argentina; un tiempo bisagra a partir del cual podemos construir el país que nos merecemos.hemos atravesado uno de los momentos más graves de nuestra historia.',\n",
              " 'la pandemia, que asola a la humanidad, se combinó aquí con una enorme crisis económica y social desatada, en 2018, y que se hizo visible en toda su magnitud.tal vez tengamos – ahora - la oportunidad de ingresar en un sendero de desarrollo integral convirtiéndonos en verdaderos artífices de nuestro futuro.',\n",
              " 'seguramente lo atravesaremos encontrando coincidencias y diferencias.',\n",
              " 'si en esa diversidad logramos afianzar algunos pilares básicos, será un camino seguro con logros paulatinos y continuos.',\n",
              " 'nada se resuelve de un día para otro.',\n",
              " 'los argentinos y argentinas podremos constatar esos avances, que se exteriorizaran en mejores condiciones de vida.nuestra sociedad ha demostrado, a lo largo de su historia, su enorme capacidad para sobreponerse a la adversidad.',\n",
              " 'padecimos golpes institucionales; persecuciones; torturas; muertes y desapariciones forzadas.',\n",
              " 'sobrevivimos al terrorismo de estado enjuiciando a los genocidas.',\n",
              " 'cargamos el dolor de la guerra por malvinas.',\n",
              " 'sufrimos desastres económicos, que aparejaron endeudamiento, inflación, cierres de fuentes de trabajo y aumento de la pobreza.',\n",
              " 'una y otra vez fuimos capaces de volver a ponernos de pie y retomar nuestra marcha.ahora, el destino nos enfrenta a un futuro, que debemos construir como sociedad.',\n",
              " 'de nosotros depende cómo edificar ese mañana más próspero.yo sé que cuando describimos la cruda realidad, que nos tocó enfrentar, en la primera parte del gobierno, hay quienes quieren escuchar en esa descripción un decálogo de excusas, pero la realidad es que el mundo ha vivido un período excepcional y eso ha golpeado con mayor ferocidad, en la argentina, por la situación económica y social que vivíamos en ese momento.',\n",
              " 'había un sistema productivo muy deteriorado, el empleo en crisis, un sistema de salud abandonado, una deuda insostenible con el fondo monetario internacional, otra deuda - virtualmente impaga - con acreedores privados, una inflación desatada y una pobreza creciente.permítanme hacer una cita: “la pandemia de covid-19 ha afectado al mundo entero, poniendo en peligro todas las dimensiones de nuestro bienestar y generando una aguda sensación de temor, en todo el planeta.',\n",
              " 'por primera vez, los indicadores de desarrollo humano disminuyeron, y lo hicieron de manera drástica, como no se había experimentado en otras crisis mundiales recientes.',\n",
              " 'la pandemia ha infectado y matado a millones de personas en todo el mundo.',\n",
              " 'ha perturbado la economía mundial, interrumpido sueños educativos, retrasado la administración de vacunas y tratamientos médicos y trastocado vidas y medios de subsistencia”.lo que acabo de decir, no es otra cosa, que la exacta descripción que la organización de las naciones unidas ha hecho sobre el fenómeno de la pandemia.hemos vivido una crisis que no tiene precedentes.',\n",
              " 'querer politizar tamaña tragedia cargándole culpas a quienes tuvimos el deber de gobernar - en ese instante de la humanidad - es tentador para algunos, pero es definitivamente inaceptable.las consecuencias del covid fueron multidimensionales.',\n",
              " 'abarcaron la salud física y mental, la vida, la economía, el trabajo, la educación y el bienestar en todas sus esferas.mientras la crisis económica, de 2018 y 2019, había destruido decenas de miles de puestos de trabajo registrados, la pandemia y las restricciones dispuestas, a la movilidad en 2020, afectaron principalmente a las trabajadoras y trabajadores no registrados, muchos de ellos parte de la economía popular.',\n",
              " 'por eso, en 2021, generamos nuevas medidas que afectaron lo menos posible la movilidad en los horarios más intensos de trabajo.',\n",
              " 'quisimos minimizar el daño, que la pandemia causaba en el sector más vulnerable de nuestra economía.en ese equilibrio difícil, complejo, hubo quienes criticaron la implementación de medidas de cuidado que implicaban restricciones.',\n",
              " 'oí en todos los medios de comunicación dominantes esas voces detractoras que - a mi juicio - fueron muy poco constructivas y sumaron desánimos y desconfianzas.el pueblo argentino me adjudicó - a través del voto - la responsabilidad de tomar decisiones en situaciones críticas.',\n",
              " 'he debido enfrentar dilemas que siempre he resuelto pensando en la salud y la vida de nuestra gente.',\n",
              " 'todo, absolutamente todo lo que hice combatiendo la pandemia, no tuvo otro objetivo que no haya sido el de salvar la mayor cantidad de vidas, en un contexto difícil e imprevisible.',\n",
              " 'no soy infalible; estoy lejos de serlo, soy un ser humana.',\n",
              " 'me he equivocado en ocasiones, pero tengo la íntima tranquilidad que ninguna persona, que habita nuestro país, quedó sin la atención sanitaria que su salud reclamaba.con esa obsesión, sumada al esfuerzo de los hombres y mujeres que, denodadamente, trabajaron en nuestro sistema sanitario y al cuidado de millones de argentinos y argentinas, pudimos hacer posible, que el sistema de salud, no llegara a su saturación y que las personas pudieran recibir la atención que merecían.',\n",
              " '(aplausos).mientras el virus atacaba impiadoso a toda la humanidad, el mundo se vio afectado por una inflación global de los alimentos.',\n",
              " 'con los gravísimos problemas, que arrastraba la economía argentina, que se vieron agravados en la pandemia, y con esa costumbre seriamente arraigada en muchos sectores de “remarcar precios, por las dudas”, no logramos reducir, en plena pandemia, la muy alta inflación que heredamos.la inflación es el gran problema que tienen los argentinos y las argentinas en este momento y, sin ninguna duda, es también la principal preocupación y el principal desafío del gobierno.',\n",
              " 'hay muchos factores que inciden en la inflación y todos tienen que ser atacados coordinadamente.en este momento histórico tenemos que asumir que la realidad tiene dos caras: toda la intensidad de la crisis, del malestar y de las pérdidas; y también todos los logros sanitarios y económicos, que van desde la vacunación hasta la recuperación del trabajo y la producción.sería un grave error quedarse con los logros y no ver el sufrimiento, porque la combinación de ambas crisis produjo desgracias personales y colectivas, que van desde cuestiones económicas hasta la pérdida de seres queridos.',\n",
              " 'pero también sería un error ver sólo lo negativo y obviar los datos, que indican una recuperación creciente y constante.',\n",
              " 'esos logros son muy reales.sé que hay personas interesadas en instalar la idea de que cualquier problema, que tienen los argentinos, es producto de la ineficiencia del estado.',\n",
              " 'quieren hacernos creer que si alguien consigue trabajo o un aumento en su salario es sólo fruto de su logro individual; que el estado no sirve ni impulsa el desarrollo personal y social, y por lo tanto buscan debilitarlo.',\n",
              " 'con un estado débil ganan siempre los más poderosos y pierden las mayorías populares.uno de los desafíos más grandes que tiene la sociedad argentina es enfrentar al fatalismo.',\n",
              " 'derrotar la falsa creencia que quieren instalar de que la argentina no tiene salida.sé bien que solo las acciones del estado no bastan.',\n",
              " 'es imprescindible la confianza colectiva, en la argentina.',\n",
              " 'reconstruir la confianza en nuestros compañeros y compañeras de trabajo; en nuestros vecinos y vecinas; en nuestra comunidad, en nuestra argentina, es un paso decisivo para potenciar nuestro futuro.le pido a cada argentino y a cada argentina que confíe en su propio país y en las personas que los rodean: en nuestra sociedad.',\n",
              " 'que se hagan dueños de la construcción del futuro.',\n",
              " 'para un argentino nada debe ser más importante que otro argentino.',\n",
              " 'así perón, hace muchos años, quiso poner fin a la discrepancia social, que muchos sembraban.entendamos que no habrá soluciones individuales, si no construimos soluciones colectivas.la campaña de vacunación y la recuperación económica han sido dos pasos cruciales que dimos con ese espíritu.la argentina necesita poner en valor un hecho: ha llevado a cabo la mayor campaña de vacunación de su historia.',\n",
              " 'debemos estar orgullosos de lo que fuimos capaces de hacer.la campaña comenzó, el 29 de diciembre, de 2020 en las 24 jurisdicciones argentinas, inicialmente con la vacuna sputnik, producida por el instituto gamaleya.',\n",
              " 'en los meses siguientes se incorporaron las vacunas de astrazeneca, covishield y sinopharm.',\n",
              " 'y – posteriormente - se sumaron las vacunas de moderna, pfizer y cansino.',\n",
              " 'es decir, la argentina compró vacunas creadas o producidas en rusia, china, india, estados unidos y países de europa.',\n",
              " 'y, además, comenzamos a producir, en el país, algunas de esas vacunas.la llegada de dosis nos permitió ir incorporando grupos de población con menor riesgo de exposición y de enfermedad grave.',\n",
              " 'en los primeros seis meses de la campaña alcanzamos más de 21 millones de dosis aplicadas.en argentina se implementaron estrategias de vacunación similares a otros países, como el reino unido, israel o canadá, generando evidencia a nivel local de su efectividad para prevenir mortalidad y seguridad.',\n",
              " 'a principios de agosto de 2021 se decidió la incorporación de esquemas heterólogos, de combinación de diferentes vacunas.',\n",
              " 'también se fueron incorporando nuevos grupos vacunados, hasta alcanzar a la población, a partir de los 3 años de edad.la llegada de la tercera ola, con la variante omicrón, planteó un nuevo escenario en el que los contagios diarios se aceleraron como nunca antes.',\n",
              " 'sin embargo, las vacunas protegieron a los argentinos y argentinas.',\n",
              " '(aplausos) la mortalidad y letalidad se redujeron de manera drástica y a pesar de la cantidad de casos, nunca estuvo en riesgo la capacidad del sistema sanitario.la argentina ha recibido 112 millones de dosis, de 7 laboratorios diferentes, con eficacia y seguridad probada, logrando de esta manera una cobertura de la población del 89 % con primera dosis; 79 % de esquema completo y más de 13 millones, que recibieron dosis de refuerzo.esta enorme campaña se logró por la cantidad y diversidad de vacunas conseguidas y la capacidad instalada de distribución y vacunación de los equipos del programa de inmunizaciones, de todo el país.hoy, entre los países - con más de 30 millones de habitantes - argentina exhibe los mayores porcentajes de vacunación, en un podio que comparte con china y españa.',\n",
              " 'debajo de nuestros porcentajes aparecen potencias mundiales, como el reino unido, estados unidos, alemania y rusia, todos ellas productoras de formulaciones autóctonas de dosis contra el covid-19.los momentos más duros que vivimos, durante 2020 y durante el segundo trimestre de 2021, han quedado atrás.',\n",
              " 'hoy los argentinos y argentinas estamos protegidos contra el covid-19.',\n",
              " 'hemos logrado una inmunidad, que nos permite avanzar hacia el mañana respetando los cuidados necesarios, sabiendo que la pandemia aún no ha terminado.precisamente por eso seguimos vacunando y prestamos ayuda a otros países para que se vacune su población, porque creemos en la solidaridad y porque el covid es un problema global.quiero expresar mi más profundo agradecimiento a todos los argentinos y las argentinas que, con esfuerzo personal, ayudaron al cuidado colectivo.',\n",
              " 'quiero agradecer a los trabajadores y las trabajadoras de la salud; a los vacunadores y vacunadoras; a los científicos y científicas; a los gobernadores y gobernadoras, y a los ministros y las ministras de salud de todas las provincias.la economía asistió, a un fin de año, de 2021 exhibiendo una profunda recuperación del 10,3 % del pbi, muy superior a la esperada.',\n",
              " 'esa recuperación nos permitió revertir la caída generada por la pandemia; en el año 2020.hubo varios motores importantes de esa recuperación: la obra pública ha sido y será un motor fundamental del desarrollo integral.',\n",
              " 'no detuvimos la obra pública con la pandemia y no la detendremos en el futuro.',\n",
              " 'tenemos 3.700 obras iniciadas, a lo largo y a lo ancho del país.',\n",
              " 'obras pensadas con criterio federal y ejecutadas con transparencia y equidad.la industria sin dudas fue otro factor relevante que explica el crecimiento.',\n",
              " 'en 2021, no solo recuperó lo perdido, en 2020, sino que se ubicó 7 % por encima, de 2019. esta reactivación industrial fue una de las más aceleradas del mundo, comparando contra 2019.la producción automotriz creció 38 % contra 2019; una de las recuperaciones más veloces del mundo.la producción de alimentos y bebidas - tuvo en 2021 - el segundo mejor año de la historia, por detrás de 2015.',\n",
              " '(aplausos)la producción de maquinaria agrícola tuvo un repunte extraordinario y fue la más alta en lo que va del siglo xxi.la recuperación también fue muy fuerte en las pymes industriales, con la utilización de la capacidad instalada industrial y la rentabilidad industrial pyme en su mayor nivel en más de 3 años.esa recuperación fue generalizada y federal, en la amplia mayoría de los sectores y las provincias teniendo hoy más empleo industrial formal que a fines de 2019. no fue obra de la casualidad.',\n",
              " 'tampoco fue un rebote como algunos han dicho.',\n",
              " 'fue posible por el alto nivel de protección que logramos con la vacunación; fue posible porque el estado cuidó a las empresas en la argentina y también el trabajo registrado e impulsó con fuerza esta recuperación; fue posible porque el financiamiento en pesos a empresas alcanzó el mayor nivel, en tres años; fue posible porque la participación de las pymes superó el 52 % en 2021 y fue la más alta en 20 años.',\n",
              " '(aplausos)hubo una clara política de desarrollo, que convirtió al estado, en una pieza central en el apoyo a los parques industriales, al desarrollo de proveedores, a la baja de retenciones a los bienes finales, a la sustitución selectiva de importaciones y a los incentivos para inversiones, entre muchas otras iniciativas.en 2021, la inversión productiva fue 13 % mayor, que la de 2019. a su vez - entre 2020 y 2021 - hubo más de 1.300 anuncios de inversión en distintos sectores de la economía, por una cifra superior a los 57.000 millones de dólares.',\n",
              " 'dentro de esas inversiones, merece destacarse la de la empresa australiana fortescue, por 8.400 millones de dólares, para producir hidrógeno verde en río negro.',\n",
              " 'es el anuncio de inversión privado más importante, en lo que va del siglo xxi, que posicionará, a la argentina, a la vanguardia de las energías limpias.la construcción fue otro gran motor de la recuperación económica, de la mano de la obra pública y de la obra privada.en 2021, pusimos en marcha la construcción de 85.000 viviendas en todo el país y en diciembre hemos entregado la vivienda número 30 mil.',\n",
              " 'además se otorgaron 88.000 créditos para construcción o refacción de viviendas.los permisos para la construcción, que son un termómetro de obras futuras, tuvieron en 2021, el mayor nivel - en por lo menos - cinco años.',\n",
              " 'asimismo, el empleo formal en la construcción se recuperó mes a mes, y ya logró superar los de los últimos meses de la pre-pandemia.el petróleo y la minería - dos actividades con fuerte impacto provincial, de salarios altos y con gran importancia en materia de generación de divisas - tuvieron una marcada recuperación, en 2021. de la mano de vaca muerta y el plan gas, que pusimos en marcha, la producción de petróleo tuvo el mejor diciembre, desde 2011, y la de gas el mejor diciembre, desde 2008. en esa actividad, el empleo se recuperó fuertemente.las exportaciones de bienes tuvieron una fuerte recuperación en 2021 y alcanzaron los 77.900 millones de dólares, el mayor valor desde 2012, impulsadas por los precios y por las cantidades.el agro - fundamental para el desarrollo regional y las exportaciones - también tuvo un muy buen 2021. la argentina tuvo récords en producción de maíz, de trigo y de cebada.',\n",
              " 'además, llevamos un proceso de industrialización de las materias primas del grano sin precedentes.',\n",
              " 'un ejemplo: tuvimos el mayor valor en la historia para exportaciones de vino fraccionado.en 2021, hemos continuado con la reducción o eliminación de derecho de exportación para la gran mayoría de los productos, originados en las economías regionales.',\n",
              " 'los notables incrementos de producción en estos rubros marcan el camino a seguir.la industria del software no ha parado de crecer desde que iniciamos el gobierno.',\n",
              " 'hoy tiene más de 135.000 puestos de trabajo registrados, una cifra 17 % mayor, a la de 2019, y récord histórico.',\n",
              " 'las 24 provincias incrementaron su empleo en la industria de software.',\n",
              " 'estamos apoyando al sector de la mano de la nueva ley de economía del conocimiento y a través de la formación de programadoras y programadores.los productores y productoras, los empresarios y empresarias, los trabajadores y trabajadoras, que han sido protagonistas de esta recuperación, en 2021, que han batido récords en distintos aspectos, muestran que la argentina tiene futuro.',\n",
              " 'queremos agradecerles por el esfuerzo realizado, aún en el marco de la pandemia.el empleo formal se viene recuperando, mes a mes, desde fines de 2020 y está revirtiendo el daño generado por la doble crisis que mencionamos al iniciar este discurso.',\n",
              " 'la tasa de desocupación fue del 8,2 %, en el tercer trimestre de 2021, la menor en más de tres años.en 2021, alrededor de unas 175 mil personas lograron incorporarse al empleo asalariado, registrado en empresas privadas.',\n",
              " 'también - en ese año - se incorporaron 440 mil personas al trabajo registrado en el sistema de seguridad social (incluyendo empleo asalariado público y privado, y trabajo autónomo y monotributista).',\n",
              " 'al finalizar el año 2021, el número total de personas con trabajos formales es un 2 % mayor al verificado, en febrero de 2020, justo antes de la irrupción de la pandemia.los salarios reales del sector privado registrado, y pese a la elevada inflación, tuvieron una leve recuperación, en 2021, aunque a un ritmo inferior al que queremos.',\n",
              " 'entre noviembre de 2019 y noviembre de 2021, el poder adquisitivo en el segmento privado formal creció 3 %.',\n",
              " 'esta cifra en sí no exhibe nada para celebrar.',\n",
              " 'lo que sí es importante es comprender que estamos transitando un nuevo camino, una nueva etapa también signada por la recuperación del salario real, luego de atravesada la peor etapa de la pandemia.en 2021, el gobierno nacional trabajó para que - en las negociaciones colectivas - pudieran mejorarse los ingresos.',\n",
              " 'por eso en 2021 la pobreza dejó de aumentar.',\n",
              " 'ahora ya estamos en condiciones de iniciar el sendero de su paulatina reducción.la argentina padeció - en distintos momentos de su historia - la aplicación de políticas que determinaron la exclusión de millones de argentinos y argentinas.',\n",
              " 'las políticas aplicadas por la última dictadura militar, las políticas que derivaron en la crisis del 2001 y las políticas impuestas en los cuatro años, que precedieron nuestra llegada al gobierno, son prueba de lo dicho.',\n",
              " 'en todos esos períodos - a los que me estoy refiriendo - aumentaron el desempleo, la informalidad y la pobreza.',\n",
              " '(aplausos)un verdadero estado debe ser capaz de proteger a cada miembro de la comunidad.',\n",
              " 'pero debe hacerlo haciendo principal hincapié en la necesidad de incluir a todos y a todas al mundo del desarrollo integral.',\n",
              " 'en buena medida, esto depende de la aplicación de políticas activas, que pongan su eje en la producción y el empleo formal, pero inexorablemente también deberán complementarse esas políticas con otras que tengan por objeto la protección social.habiendo pasado lo peor de la pandemia - mientras seguimos reordenando nuestro tremendo endeudamiento y cuando la economía da muestras de recuperarse - debemos enfrentar los problemas de exclusión, que existen hoy en nuestra sociedad.en este tiempo que debemos abordar, no podemos ignorar la existencia de otros actores en nuestra sociedad.',\n",
              " 'me estoy refiriendo a quienes trabajan y producen en el marco de lo que se denomina economía popular.argentina necesita iniciar un proceso de desarrollo inclusivo, que atienda la incorporación de quienes, hoy, reciben planes sociales y a partir de ellos, asociados en cooperativas o prestando trabajos en el estado, buscan mejorar sus condiciones de vida.mientras alguien la necesite, la asistencia del estado seguirá presente, pero es hora de que los argentinos y argentinas que puedan hacerlo, vuelvan – paulatinamente - al empleo formal y puedan ir prescindiendo de los planes sociales.',\n",
              " '(aplausos) debemos saber que ese trabajo existe en la informalidad y que, hasta aquí, no ha sido regularizado adecuadamente.es hora de reconocer, visualizar y registrar las actividades de la economía popular.',\n",
              " 'debemos avanzar en su productividad y crecimiento construyendo nuevas generaciones de derechos.necesitamos dotarla de créditos para que la producción impulse hacia arriba a los sectores más postergados.',\n",
              " 'debemos facilitar que el estado compre sus insumos y haga partícipes a las cooperativas de trabajo en las pequeñas obras públicas, que el estado realiza.',\n",
              " 'es necesario impulsar su inclusión a través de un monotributo productivo que simplifique su formalización.',\n",
              " '(aplausos)la economía popular puede colaborar con la producción y abastecimiento local y regional de alimentos necesarios para la vida comunitaria en el interior de nuestra patria.',\n",
              " 'el estado nacional debe ayudar a que eso se concrete con un criterio estrictamente federal.',\n",
              " 'por eso ya estamos promoviendo la producción y distribución de alimentos sanos, seguros y saludables, a través de los programas prohuerta y sembrar soberanía.vamos a asumir el desafío que el papa francisco ha propuesto: empujar desde abajo hacia arriba y desde las periferias hacia el centro.',\n",
              " 'la idea del derrame de la riqueza de los poderosos es solo una quimera que jamás se materializa.',\n",
              " 'ha llegado la hora de que los ingresos se distribuyan en términos de mayor equidad.',\n",
              " '(aplausos)el crecimiento genera empleo y esas tareas requieren, cada vez, más de saberes y conocimientos.',\n",
              " 'vamos a potenciar la capacitación, a través del programa fomentar, que desplegarán capacitación presencial y virtual para la inserción laboral.',\n",
              " 'en 2022, llegaremos a 350 mil personas.para facilitar la inserción de los y las jóvenes en el mercado de trabajo enviaré al congreso de la nación el proyecto de ley de empleo joven.',\n",
              " '(aplausos)avanzaremos en convertir los planes sociales en empleo formal recurriendo a la formación en oficios, capacitación y fomento de la terminalidad educativa; mediante la registración de la economía popular y a través de 340 bancos de maquinarias y herramientas.también avanzamos en la política de urbanización, de barrios populares, con 364 barrios, donde viven 317 mil personas.',\n",
              " 'continuaremos con el programa mi pieza y lanzaremos el proyecto para el mejoramiento del espacio público, en los barrios populares.tenemos firmes políticas de seguridad alimentaria y de cuidado de la primera infancia.',\n",
              " 'la tarjeta alimentar está llegando a 4 millones de destinatarios.',\n",
              " 'apoyamos – mensualmente - más de 1.600 comedores comunitarios y 3.400 merenderos.sabemos que los jóvenes están entre los sectores más afectados por la pandemia.',\n",
              " 'y por eso lanzamos varias iniciativas para ayudar a que se sobrepongan.con el programa potenciar inclusión joven generamos capacitación para casi 50 mil jóvenes, junto a una beca de estímulo económico.',\n",
              " 'además, en 2021, hemos otorgado más de un millón de becas progresar.con el curso argentina programa hemos formado a miles de personas en el pensamiento computacional.frente a la situación de mujeres, que no lograban salir de situaciones de violencia de género por falta de recursos económicos, creamos el programa acompañar y ya hay más de 130 mil mujeres han recibido esa ayuda y ese cuidado.',\n",
              " '(aplausos)todo esto lo hicimos con más inversión pública generada en una mayor recaudación fiscal.',\n",
              " 'la recaudación lleva diecisiete meses consecutivos de crecimiento por encima de la variación de precios.',\n",
              " '(aplausos) eso se debe al crecimiento económico, a los cambios en la estructura tributaria y al fortalecimiento institucional de la afip.en el momento más difícil de la pandemia, pensando en quienes más la habían padecido en términos comerciales y en la necesidad de facilitar el esparcimiento de nuestra gente, lanzamos el programa pre-viaje que - este año - tuvo su segunda edición.',\n",
              " 'la actual temporada de verano fue histórica, con niveles de ocupación plena, en todos los destinos turísticos.',\n",
              " '(aplausos).',\n",
              " 'pre-viaje es una muestra de lo que puede hacer el estado y también de la enorme resiliencia de nuestras empresas y de nuestra sociedad, en general.impulsar la industria turística y el crecimiento del empleo sirvió también para promover la formalidad, en la actividad económica.',\n",
              " 'por eso no sorprende que el programa pre-viaje haya obtenido un premio a la excelencia, en el feria de madrid, y haya sido reconocido por la organización mundial del turismo.pre-viaje, también, acompañó a las argentinas y los argentinos que querían tomarse un descanso, luego de tiempos tan difíciles.',\n",
              " 'los ayudó a reencontrarse con sus familias y sus amigos y amigas, a conocer lugares nuevos o a regresar a los conocidos.',\n",
              " '4 millones quinientos mil argentinos y argentinas participaron de la segunda edición del programa.una vez más reitero: tengo muy en claro que estos logros son importantes, pero no son suficientes.',\n",
              " 'aún falta mucho para resolver los problemas de los argentinos y argentinas, pero estamos en un camino que debemos consolidar y potenciar.vengo hoy - a esta asamblea legislativa - con la humildad de alguien que sabe que sus convicciones son tan inconmovibles como que su accionar es humano y por consiguiente, susceptible de errores.',\n",
              " 'esa humildad que aquí expreso es necesaria, en toda la dirigencia.',\n",
              " 'es muy ingrato ver que - viniendo de años tan difíciles - los niveles de polarización política están llevando a algunos compatriotas a debates y enfrentamientos estériles.en estos casi 40 años de democracia, es la primera vez que se rechaza un presupuesto, en este recinto, a lo que se debe sumar aquella vez cuando no se trató, en 2010. propusimos un presupuesto, que dejamos a consideración del parlamento con honestidad y humildad, que jamás fue un paquete cerrado, que siempre estuvo abierto a correcciones y mejoras.',\n",
              " '(aplausos)dicen que los peronistas manejamos el congreso como una escribanía, pero lo cierto es que - en estos casi 40 años - el congreso nacional solo ha dejado sin presupuesto a cristina, en 2010, y a mí en este año.',\n",
              " '(aplausos)convoco a todos y todas a reflexionar con humildad.',\n",
              " 'y debo dejar tranquilos a los compatriotas que me están escuchando.',\n",
              " 'me dejaron sin la herramienta del presupuesto, es cierto, pero no me han quitado la decisión política de cumplir lo que le prometimos a millones de argentinos y argentinas en la campaña electoral.',\n",
              " '(aplausos)con esas convicciones, déjenme introducirlos al tema de nuestra deuda externa.',\n",
              " 'propongo recordar como llegamos hasta aquí.',\n",
              " 'en el año 2018, el entonces presidente mauricio macri, decidió endeudar a la argentina, con el fondo monetario internacional, por un monto total de 57 mil millones de dólares.conocimos esa decisión, a través de un discurso transmitido, en cadena nacional.',\n",
              " 'el congreso nacional no autorizó ese endeudamiento, ni fue consultado respecto de las obligaciones que el estado nacional asumía al tiempo de tomar la deuda.el dinero que ingresó de ese préstamo no fortaleció las reservas del banco central porque fue - enteramente utilizado - para pagar deuda externa insostenible y financiar la fuga de capitales.',\n",
              " 'no quedó nada del dinero recibido, en argentina, ni un puente ni una carretera.',\n",
              " 'sólo nos quedó una deuda externa impagable.',\n",
              " '(aplausos)los compromisos - asumidos en 2018 – eran, definitivamente incumplibles, teniendo en consideración el desmadre que la economía mostraba.',\n",
              " 'téngase en cuenta que tan solo, en este ejercicio 2022, argentina se comprometió a pagar - en concepto de capital e intereses - la suma de 19 mil millones de dólares.',\n",
              " 'y se comprometió a pagar una suma aún mayor, el año próximo.',\n",
              " 'estoy hablando de cifras, que no tienen precedentes en la historia universal de la economía moderna.al acceder al gobierno renuncié a recibir alrededor de 12 mil millones de dólares, que restaban desembolsarse, a efectos de no hacer crecer aún más semejante deuda, con el fondo monetario internacional.',\n",
              " 'mientras tomé esa decisión, di inicio a una serie de negociaciones tendientes a refinanciar la deuda con ese organismo.el 10 de diciembre de 2019 - al asumir como presidente de la nación - me referí con estas palabras al tema de la deuda externa frente a esta asamblea legislativa: “vamos a encarar el problema de la deuda externa”, dije entonces.',\n",
              " '“no hay pagos de deudas que se puedan sostener si el país no crece.',\n",
              " 'tan simple como esto: para poder pagar hay que crecer primero.',\n",
              " 'buscaremos una relación constructiva y cooperativa, con el fondo monetario internacional y con nuestros acreedores.',\n",
              " 'resolver el problema de una deuda insostenible, que hoy tiene la argentina, no es una cuestión de ganarle una disputa a nadie.',\n",
              " 'el país tiene la voluntad de pagar, pero carece de capacidad para hacerlo”.lo que hemos venido haciendo y lo que voy a anunciar, ahora, me da la tranquilidad de que estamos cumpliendo ese compromiso.en 2020, logramos una exitosa reestructuración de la deuda privada, en moneda extranjera.',\n",
              " 'entonces, argentina logró ahorrar - al cabo de diez años - más de 38.000 millones de dólares.',\n",
              " 'ahora el gobierno de la argentina ha llegado a un acuerdo con el staff del fondo monetario internacional para llevar adelante un programa, que nos permita refinanciar la deuda con ese organismo, que nos dejó el gobierno anterior y al cual siempre nos opusimos en su oportunidad.',\n",
              " 'estamos dando un nuevo paso en este tema, que no es el primero y no será el último.se trata de una deuda inmensa.',\n",
              " 'sufríamos un grave problema y necesitábamos una solución.',\n",
              " 'ahora tenemos un camino para solucionarlo.',\n",
              " 'teníamos una soga al cuello, una espada de damocles, y – ahora - tenemos un sendero que podemos recorrer.',\n",
              " 'sin acuerdo, no podremos ayudar a construir certezas, en nuestra argentina.el acuerdo que anunciamos, semanas atrás, sobre el marco de políticas económicas es el mejor acuerdo que el gobierno de la argentina podía conseguir.',\n",
              " 'me hubiera gustado, que el gobierno anterior, no hubiera recurrido en 2018 al fmi y muchos menos en las condiciones que ya describí.',\n",
              " '(aplausos).',\n",
              " 'pero esto es lo que sucedió y trabajé - desde el primer día de mi presidencia - para encontrar una solución.',\n",
              " 'con el entendimiento que logramos, podemos ordenar el presente y construir el futuro.',\n",
              " 'repito: este es el mejor acuerdo que se podía lograr.',\n",
              " 'y gobernar es un ejercicio de responsabilidad.',\n",
              " 'gobernamos con convicciones firmes y con el pragmatismo necesario para saber qué es lo mejor para los argentinos y argentinas.el nuevo acuerdo no acumulará nueva deuda a la ya tomada por el gobierno anterior.',\n",
              " 'es una refinanciación de aquél préstamo, que nos permite no usar - en estos años - recursos nacionales para pagar los compromisos.',\n",
              " 'se usará dinero del propio fmi, que empezará a pagarse dentro de 4 años y medio.',\n",
              " 'podremos utilizar ese tiempo para que semejante carga de deuda no detenga el crecimiento.',\n",
              " 'el acuerdo no resuelve el problema de la deuda externa, pero da un paso importante en esa dirección.',\n",
              " 'se iniciarán los pagos, en el año 2026, y terminarán de pagarse, en 2034.logramos un entendimiento inusual en el marco de un programa con el fmi.',\n",
              " 'es un acuerdo sin políticas de ajuste y con incremento del gasto real en todos los años del programa.',\n",
              " 'esto nos pone en un camino transitable, para nuestro país, con mayor previsibilidad, certezas y visión de futuro.',\n",
              " '(aplausos)habrá una expansión en infraestructura, inversiones en ciencia y tecnología y en políticas sociales.este acuerdo no contempla restricciones que posterguen nuestro desarrollo, a diferencia de otros que la argentina firmó, en el pasado.',\n",
              " 'la reducción gradual del déficit será compatible con una expansión moderada del gasto primario real, que permitirá apuntalar la fuerte recuperación de la economía, en curso.quiero ser muy claro ante esta asamblea legislativa: no habrá una reforma previsional.',\n",
              " 'la edad jubilatoria no será alterada.',\n",
              " 'jubilarse es un derecho y se debe respetar a rajatabla.',\n",
              " 'si por el motivo que fuere una persona deseara continuar trabajando, después de cumplir la edad que establece la ley, nadie, en principio, debería obligarla a retirarse.',\n",
              " '(aplausos)este acuerdo no restringe los derechos de nuestros jubilados y jubiladas que recuperamos, en el año 2020; derechos de los jubilados que mejoramos con los medicamentos gratis y que acabamos de volver a mejorar con la libertad para elegir médicos y médicas especialistas, que tienen los afiliados y afiliadas a pami.',\n",
              " '(aplausos)este acuerdo no doblega nuestra soberanía.',\n",
              " 'somos nosotros los que decidiremos nuestro futuro, pero no dejo de reconocer que debimos extremar nuestros esfuerzos por definir con autonomía nuestras políticas públicas, ante un acreedor poderoso.',\n",
              " 'todo es resultado del nivel de endeudamiento externo al que con una frivolidad alarmante nos han dejado expuestos.la argentina necesita ordenar su política monetaria y fiscal.',\n",
              " 'el mayor problema que tenemos, la inflación, es multicausal y es nuestra responsabilidad atender todas sus causas.',\n",
              " 'seguiremos la senda de ordenar las cuentas públicas, sin condicionar nuestras políticas de justicia social.digo también: en argentina se acabaron los tarifazos.',\n",
              " '(aplausos) vamos a segmentar los subsidios para lograr niveles de tarifas razonables, con justicia y equidad distributiva para los servicios públicos de gas y electricidad.',\n",
              " 'por eso - en principio,- apuntamos a que el 10 % de mayor capacidad económica deje de ser beneficiario de subsidios.para el resto de los usuarios, nuestra política se inspirará en la ley 27.443 - votada en este congreso de nación, en el año 2018 - y vetada por el entonces presidente mauricio macri.',\n",
              " '(aplausos) esa normativa establecía, que las tarifas solo podrían incrementarse teniendo como tope el coeficiente de variación salarial.',\n",
              " 'lo que nosotros haremos será utilizar ese mismo indicador, pero estableciendo que la evolución de las tarifas estará claramente por debajo de la evolución de los salarios.',\n",
              " 'así, alineamos el tema de las tarifas con una política clara para recomponer los ingresos en términos reales.',\n",
              " '(aplausos)el estado está construyendo capacidad para hacer de modo justo y razonable esta segmentación.',\n",
              " 'si alguna persona considerara injusto dejar de percibir un subsidio que - a su criterio le corresponde - siempre podrá hacer su reclamo para que su derecho le sea reconocido en tiempo oportuno.quiero también ser claro: no habrá una reforma laboral.',\n",
              " '(aplausos).',\n",
              " 'los derechos de los que trabajan no pueden ser alterados en su perjuicio.',\n",
              " 'la justicia social jamás puede ser objeto de una negociación.',\n",
              " 'el futuro de los argentinos y argentinas, que trabajan, lo hemos defendido y lo vamos a defender de manera inclaudicable.',\n",
              " '(aplausos)he escuchado con sorpresa opiniones que critican que hayamos logrado un acuerdo sin los condicionamientos que tantas veces tuvieron consecuencias desastrosas para nuestro país.a esas críticas les contesto: no queremos más ajustes.',\n",
              " 'nunca defendimos los ajustes.',\n",
              " 'trabajo para una argentina grande, con crecimiento y empleo, sin exclusiones y con ampliación de derechos.',\n",
              " 'pero además, al igual que la inmensa mayoría de la sociedad, he luchado toda mi vida por recuperar y consolidar nuestra democracia.',\n",
              " 'así como aceptar condicionamientos externos hubiera debilitado nuestra democracia, no aceptarlos solo la fortalece.este entendimiento prevé sostener la recuperación económica ya iniciada.',\n",
              " 'llevaremos adelante nuestras políticas de crecimiento, desarrollo y justicia social.nadie consultó, al congreso nacional, para tomar esta enorme deuda.',\n",
              " '(aplausos).',\n",
              " 'en cambio, nosotros, elevaremos los documentos, que constituyan el acuerdo al congreso de la nación con la totalidad de los detalles.',\n",
              " 'necesitamos que nos acompañen y apelo así al compromiso nacional de todos y todas.',\n",
              " '(aplausos)a partir de esta semana, esperamos que esté en manos de los legisladores y las legisladoras nacionales considerar la aprobación del acuerdo, que se alcance con el staff del fmi para dar previsibilidad a los argentinos y argentinas.',\n",
              " 'ese será el acuerdo, de la argentina toda, y nosotros - como poder administrador - nos ocuparemos de que sea cumplido para que haya más producción, más trabajo, mejores ingresos y menor inflación.',\n",
              " '(aplausos)aún hoy seguimos negociando aspectos vinculados a la formalización de ese acuerdo que confío concluir a la brevedad.',\n",
              " 'en el contexto mundial que vivimos y teniendo en cuenta la magnitud de los compromisos que asumió argentina y que buscamos modificar, defender los derechos de nuestro pueblo demanda mucho más que cinco minutos.',\n",
              " '(aplausos)el año pasado, a través del decreto 8/2021, instruí a la procuración del tesoro para que iniciara una querella criminal tendiente a establecer la verdad y las responsabilidades sobre este endeudamiento.',\n",
              " 'quiero dejar constancia, que este acuerdo, tampoco releva, al poder judicial de avanzar en esa investigación.',\n",
              " 'los argentinos y las argentinas tienen el derecho de saber como ocurrieron los hechos y quienes fueron los responsables de tanto desatino.',\n",
              " '(aplausos)y mientras actuamos, defendiendo los intereses, de nuestra patria, quiero comentarles algo que creo es una buena noticia, en el marco de un multilateralismo, que se debe una profunda reforma para estar de verdad al servicio de los pueblos, seguimos trabajando, junto a las naciones del mundo para lograr una integración que nos fortalezca.',\n",
              " 'y vamos dando pasos para una integración, que potencie nuestras posibilidades productivas y fortalezca la estabilidad de nuestra economía.',\n",
              " '(aplausos)puedo anunciarles hoy, que ayer he recibido la confirmación del gobierno chino, de que han accedido a nuestro pedido de ampliación y uso del swap, en función de lo expresado en la “declaración conjunta\", que firmáramos en mi visita oficial.',\n",
              " 'china siempre nos ha apoyado en los momentos difíciles, y confiamos en que pronto tendremos la autorización técnica correspondiente.',\n",
              " 'con ello también fortaleceremos la estabilidad cambiaria.',\n",
              " '(aplausos)invito al pueblo argentino y a las fuerzas políticas a mirar hacia adelante, sin olvidar el pasado; somos un ejemplo ante el mundo de cómo construir verdad, justicia y memoria sobre una tragedia histórica sin detenernos y mirando hacia el futuro.',\n",
              " 'si lo hicimos antes, también podemos hacerlo ahora.',\n",
              " '(aplausos)de hecho, nuestro proyecto político nació para oponernos a lo que, desde nuestro punto de vista, era el desastre y el desorden de la administración anterior.',\n",
              " 'nacimos para ser una alternativa, para dar una respuesta de esperanza al despropósito.ahora bien, un proyecto político no se sostiene solo como una coalición coyuntural o solo como una respuesta puntual a una crisis específica; un proyecto político se sostiene con su vocación de seguir representando a las mayorías, con propuestas inclusivas y reformadoras, con espíritu de amplitud y diversidad.',\n",
              " 'se potencia construyendo la gran avenida del progreso, del desarrollo y de la justicia social para la argentina.',\n",
              " 'se trata de proponer, se trata de construir.una gran parte de los logros, que tuvimos en la primera etapa de nuestro gobierno, son poco visibles porque concentramos nuestra atención en el ataque a la pandemia.',\n",
              " 'pero mientras lo hacíamos, impedíamos desastres muchos mayores.',\n",
              " 'impedíamos que se saturara el sistema de salud.',\n",
              " 'impedíamos que cerraran miles de empresas.',\n",
              " 'impedimos que el desempleo creciera desmedidamente.',\n",
              " 'impedíamos que la pobreza y la indigencia fueran mucho más altas.',\n",
              " 'impedíamos que la argentina terminara en un default con acreedores privados y organismos internacionales de crédito.evidentemente, los desastres que podrían haber sucedido y que fueron evitados por el estado y por la sociedad, fueron directamente invisibilizados.',\n",
              " 'es necesario tomar conciencia de lo que hubiera ocurrido si no hubiéramos impedido semejantes fracasos.gracias a esos logros - en la segunda mitad de nuestro mandato - con la población mayoritariamente vacunada, dedicaremos nuestros esfuerzos no ya a evitar daños, sino a construir las acciones que marcarán el futuro económico, productivo, educativo, ambiental, sanitario y el desarrollo integral, de la argentinaes el momento, hoy más que nunca, de hablar del mañana.',\n",
              " 'debemos dejar de lado el desaliento, que atrapa a algunos.',\n",
              " 'yo los escucho.',\n",
              " 'recorro el país y hablo con ustedes.',\n",
              " 'y veo como estamos volviendo a ponernos de pie.',\n",
              " 'veo la enorme capacidad y energía social que hay en toda nuestra patria.vengo aquí a compartir con ustedes mis ideas acerca de cómo podemos construir ese nuevo tiempo, que nos merecemos.',\n",
              " 'si aprendemos las lecciones de nuestra historia, la argentina ingresará en un desarrollo sostenido, potenciando la industria, cuidando el ambiente y redistribuyendo con equidad los ingresos.vamos a expandir la inversión pública y dirigir los recursos del estado, allí donde argentina lo requiera.no he venido hoy aquí a pedir que acompañen a un presidente.',\n",
              " 'he venido a pedirles que acompañen a un país, que todavía atraviesa un enorme duelo colectivo, con su dolor y sus enseñanzas.',\n",
              " 'un país que, a pesar de ello, está ingresando en un sendero virtuoso de desarrollo integral.necesitamos planificar.',\n",
              " 'sepamos que el corto, el mediano y el largo plazo comienzan en el mismo momento.',\n",
              " 'es ahora.',\n",
              " 'planificar con una acción colectiva, liderada por el gobierno y acompañada con la fuerza de todos los sectores sociales: la comunidad, la producción, el trabajo, la ciencia y la tecnología.',\n",
              " 'los desafíos requieren continuidad de acciones y compromisos de los actores involucrados.¿cuáles son objetivos realistas, que la argentina se puede proponer para los próximos años?1) podemos crear anualmente, solo con la ampliación de la matriz productiva, al menos 200.000 puestos de trabajo de calidad en el sector privado.',\n",
              " '(aplausos)2) realmente podemos poner en marcha 10.000 nuevas empresas por año.3) podemos reducir la inflación, de modo sostenido y paulatino.4) podemos alcanzar y superar los 100 mil millones de dólares de exportaciones sumando bienes y servicios.',\n",
              " '(aplausos)nuestro principal desafío es salir del péndulo de políticas económicas contradictorias.',\n",
              " 'debemos darle sostenibilidad a este desarrollo integral y salir definitivamente de la famosa “restricción externa”.en el mediano plazo, podemos duplicar las exportaciones, de la argentina.',\n",
              " 'necesitamos aumentar las exportaciones, por la vía de una mayor producción, no con menos consumo interno.',\n",
              " 'producir para exportar; no saldos exportables.vamos a impulsar la producción y las exportaciones para generar empleo, mejorar los ingresos, generar divisas y bajar la inflación.',\n",
              " 'no se trata de exportar a costa del mercado interno; se trata de exportar para mejorar la vida de los argentinos.la lógica del futuro es clara: debemos crecer, aumentar y diversificar nuestra oferta exportable para estabilizar nuestra economía.',\n",
              " 'no se trata de estabilizar - para después crecer -, sino de crecer para estabilizar.',\n",
              " '(aplausos)nuestro plan - para este año - indica que las exportaciones de bienes crecerán entre un 5% y un 13%, respecto a 2021. en materia de servicios - en 2021- se estiman unos 9.000 millones de dólares y también se prevé una mejora, para 2022. por eso, sumando bienes y servicios, existe la posibilidad de que, este mismo año, nos acerquemos a los 100 mil millones de dólares de exportaciones.',\n",
              " '(aplausos)nuestro plan de desarrollo integral debe contemplar diversos aspectos.',\n",
              " 'la argentina necesita tener una economía ordenada para darles previsibilidad a los trabajadores y a las trabajadoras, a las clases medias, a las empresarias y empresarios.',\n",
              " 'las pymes serán protagonistas de este proceso, junto al movimiento obrero y a las organizaciones de la economía popular.por eso, elaboramos un plan fundado en “nueve misiones industrializadoras”:1) desarrollar una industrialización verde para una transición ecológica justa.',\n",
              " 'reemplazaremos tecnologías y fuentes energéticas contaminantes por otras que reduzcan considerablemente o eliminen emisiones tóxicas.',\n",
              " 'apostamos al hidrógeno verde, al litio, a las energías renovables y a la fabricación nacional de equipamiento, a la reconversión tecnológica, siempre con eje en el trabajo argentino.',\n",
              " 'con la fuerza de nuestras cooperativas avanzaremos en la economía circular y el reciclaje de residuos.',\n",
              " 'reduciremos las emisiones de carbono, impulsando un fuerte despegue productivo.2) desarrollar la explotación de nuestros recursos naturales en consonancia con los objetivos de la transición ecológica justa, con acuerdo social y con estrictos controles ambientales ejecutados por el estado.3) fortalecer la economía de la salud para lograr la autosuficiencia de insumos críticos para la producción de aparatos y medicamentos.',\n",
              " 'vamos a avanzar decisivamente en la producción de vacunas.',\n",
              " '(aplausos)4) impulsar la economía para la defensa potenciando la implementación del fondo nacional de la defensa.',\n",
              " 'debemos avanzar en la fabricación de radares, buques, drones, indumentaria, industria satelital, entre otras cosas.5) modernizar a los sectores tradicionales de la industria argentina, adoptando nuevos desafíos tecnológicos, de mejora de productividad y de masiva creación de empleo.6) digitalizar el sistema productivo nacional fortaleciendo nuestra economía del conocimiento.',\n",
              " 'pretendemos incrementar las capacidades digitales del aparato productivo y de la sociedad, mejorando la productividad.7) transformar el sistema de producción de alimentos para lograr que el complejo agro-bioindustrial tenga alta intensidad en conocimiento para impulsar la producción industrial de base biológica, en argentina.8) desarrollar la electromovilidad para convertir, a la argentina, en la plataforma sudamericana de vehículos eléctricos.9) duplicar las exportaciones de nuestro país, con 25 complejos productivos de bienes y servicios, que en 2021, exportaron 84.000 millones de dólares y que, para 2030, aspiramos que exporten 170.000 millones de dólares.',\n",
              " 'tendremos así una tasa de crecimiento compatible con equilibrios en la balanza de pagos, de modo tal de eliminar las crisis cíclicas, que sufre nuestro país.estos y otros temas serán objeto de debates legislativos y de acuerdos sectoriales.',\n",
              " 'queremos una industrialización con perspectiva de género, que contribuya a que la argentina tenga un territorio equilibrado; que haya polos productivos potentes, en todas las provincias; que los argentinos y argentinas puedan desarrollar su vida donde hayan nacido.',\n",
              " '(aplausos)para que esos nueve objetivos puedan alcanzarse, es fundamental, que avancemos en la agenda legislativa, que hemos propuesto en 2021: el desarrollo del cannabis para uso medicinal y cáñamo industrial, que ya tiene media sanción, nos permitirá generar 10.000 puestos de trabajo - en los próximos años – tendrán una clara perspectiva federal.la ley de inversiones automotrices, para estimular nuevos proyectos y crear nuevos puestos de trabajo.la ley de electromovilidad, para estimular la fabricación y difusión local de los vehículos eléctricos y trabajar en la cadena de valor del litio.la ley agro bio industrial, para estimular a la inversión en la cadena agroindustrial y agregar valor en las economías regionales.',\n",
              " 'con el horizonte 2030 esta ley permitirá crear 700 mil puestos de trabajo e impulsar exportaciones por 100 mil millones de dólares.la ley de compre argentino, para fortalecer el poder de compra del estado como elemento de tracción para el desarrollo industrial, en particular en nuestras pymes y cooperativas.',\n",
              " 'más trabajo argentino.la ley de desarrollo hidrocarburífero, que amplíe el potencial de nuestra industria, sea palanca para el desarrollo industrial, la creación de empleos y el desarrollo exportador.a esta agenda agregaremos 3 nuevos proyectos, que serán remitidos durante este año: una ley de nano-biotecnología, que extienda y supere a la actual ley de biotecnología moderna.',\n",
              " '(aplausos)una ley de hidrógeno, que estimule y reglamente el desarrollo de esta actividad que es presente y es futuro, y donde argentina aspira a presentarse en un lugar de liderazgo mundial.una ley del sistema nacional de calidad para dotar a nuestra producción de mayor autonomía, control y desarrollo, que permita evitar los frecuentes casos en que argentina no puede exportar productos de clase mundial.le pido - a este honorable congreso de la nación - que enriquezca y mejore las propuestas que hemos enviado, como así también las que vamos a enviar.',\n",
              " 'por nuestra argentina, por nuestros hijos e hijas, espero que cada uno de estos proyectos de ley se concrete, lo antes posible.así estamos construyendo la argentina del futuro.',\n",
              " 'necesitamos alcanzar con nuestras políticas a todos los nichos productivos, que existen.por eso lanzamos y profundizaremos argentina programa, las herramientas para que chicas y chicos, de todo el país, se formen en programación, una llave central para conseguir trabajo.',\n",
              " 'apuntamos a formar 200.000 jóvenes, en todo el país.lanzamos el plan ganadería argentina para aumentar la producción de carne con el doble objetivo de cumplir con la demanda interna e incrementar la oferta de exportación.',\n",
              " 'además, incluimos una línea de créditos y una bonificación de la tasa de crédito de los bancos adheridos.avanzaremos en un plan nacional de forestación para la plantación y el cuidado de 100 millones de árboles nuevos, hasta fin de 2023. los árboles son el mecanismo natural manejable más eficiente para la captura de carbono.',\n",
              " '(aplausos)vamos a consolidar a la argentina como un gran productor audiovisual que aliente el talento que tenemos y disfrutamos.',\n",
              " 'un país productor de películas, series y libros con una fuerte industria cultural.el futuro exige dar un enorme impulso a la ciencia y la tecnología.',\n",
              " 'son herramientas fundamentales para resolver los problemas que afectan a la humanidad.',\n",
              " 'hay que continuar invirtiendo para lograr una creciente autonomía científico-tecnológica que nos permita aportar a la resolución de los problemas del país.quiero agradecer a este congreso el haber aprobado las leyes de financiamiento de la ciencia y la de economía del conocimiento.',\n",
              " '(aplausos).',\n",
              " 'así podremos alcanzar - en los próximos años - una inversión de más del 1 % del pbi, lo que implica multiplicar por 4 el presupuesto actual.',\n",
              " 'la segunda ley garantizará que la inversión pública traccione también inversión privada en investigación y desarrollo.',\n",
              " 'estoy convencido que - en educación como en ciencia - los argentinos y argentinas debemos avanzar hacia políticas de estado.',\n",
              " 'es por ello que - en los próximos días - estaré enviando a este congreso nacional el proyecto de ley del plan argentino de ciencia y tecnología 2030, que fue debatido y concertado con los actores de la comunidad científica, universitaria y productiva del país.',\n",
              " '(aplausos)uno de los grandes objetivos del presente año será iniciar un enorme proceso de federalización de la ciencia.',\n",
              " 'agregar valor, fortalecer las cadenas productivas con modernas tecnologías, allí donde esa la producción primaria permitirá abrir numerosas fuentes laborales.este futuro es con la educación en el centro de nuestras prioridades.',\n",
              " 'cada peso invertido en educación es un peso invertido en el futuro, de la argentina.',\n",
              " 'seguiremos construyendo nuevos edificios, dotando de equipamiento y de toda la infraestructura necesaria, con un programa especial para nuevos jardines de infantes.',\n",
              " 'construiremos 100 edificios integrados, para la educación técnica profesional, y mejoraremos la infraestructura existente.',\n",
              " 'continuaremos con el programa de infraestructura universitaria.tenemos un plan para multiplicar la conectividad en las escuelas y un plan para expandir la tecnología informática, para nuestros niños, niñas, jóvenes y nuestros docentes.',\n",
              " 'en los próximos 90 días brindaremos conectividad a 2.700 escuelas, que no tenían.',\n",
              " 'para el resto de 2022, tenemos previsto conectar 10.000 escuelas más.',\n",
              " 'esto significa que 3 millones de chicos y chicas, que no tenían conectividad en sus escuelas, pasarán a estar conectados.',\n",
              " 'sumados estos 3 millones, a los 5.200.000 estudiantes, que ya tienen conectividad en sus escuelas, terminaremos el año cubriendo el 90 % de la matrícula total del sistema educativo argentino.',\n",
              " '(aplausos)respecto al plan conectar igualdad, estamos distribuyendo 600 mil computadoras, para cada uno de los chicos y chicas de escuelas secundarias públicas.',\n",
              " 'hemos licitado la compra de 1 millón más de computadoras.',\n",
              " '(aplausos)debo anunciar, además, que este año vamos a comenzar a distribuir computadoras a nuestros y nuestras docentes, de las escuelas primarias de gestión pública.',\n",
              " '(aplausos).',\n",
              " 'tenemos la obligación de facilitar la inclusión de nuestros educadores y nuestras educadoras a la era digital.vamos a construir 3.000 aulas digitales para los chicos de nivel inicial.',\n",
              " 'esperamos construir 7000 más, en 2023.entregaremos más de 8 millones de libros de lengua y matemática a 3 millones 600 mil estudiantes y docentes de nivel primario, de escuelas públicas.con el trabajo colectivo para revincular estudiantes a la escuela tendremos logros muy importantes.',\n",
              " 'mañana, cuando comience el ciclo lectivo en la mayor parte del país, empezaremos a recuperar el estudio con la vuelta a clases.',\n",
              " 'mañana más de 10 millones de niños, niñas y jóvenes regresarán a las aulas.quiero desearles a todos los chicos y chicas, a los docentes y a las familias, de la argentina, que tengan un buen inicio de clases.',\n",
              " 'comenzamos un ciclo lectivo reparador, con 190 días de clase, con presencialidad plena, segura y continua.',\n",
              " '(aplausos)pensando en quienes estudian, las becas progresar van a llegar, a fin de este año, a 2 millones, exactamente el doble que, a fin del año pasado.vamos a seguir apoyando a las cooperadoras.',\n",
              " 'y vamos a fortalecer la educación sexual integral.',\n",
              " '(aplausos).',\n",
              " 'queremos que los niños, niñas y adolescentes, sepan cuidar de sus cuerpos y de su salud reproductiva y sean responsables y tengan respeto con sus pares y - en particular - con las mujeres y las personas de las diversidades sexuales.',\n",
              " '(aplausos)para el desarrollo integral, potenciando el conocimiento, debemos generar la infraestructura necesaria, que acompañe ese esfuerzo.',\n",
              " 'es momento de grandes obras: tenemos 120 obras, que son el eje para transformar la matriz productiva del país con un desarrollo territorial equilibrado.con la infraestructura, el objetivo es multiplicar y distribuir oportunidades en todo nuestro territorio.',\n",
              " 'la obra pública es una de las principales palancas para realizar un país más integrado, más desarrollado y más justo.el desarrollo requiere mejor infraestructura vial.',\n",
              " 'quienes viajaron a la costa - por las autovías 11 y 56 - saben el cambio, que implica esto para la seguridad vial.',\n",
              " 'otros dos ejemplos emblemáticos son la autopista presidente perón, en el amba, y el puente chaco-corrientes, con una inversión de 600 millones de dólares.',\n",
              " '(aplausos)en un país, que se desarrolla, toda familia tiene derecho a tener un techo que la proteja.',\n",
              " 'para el 2023, vamos a haber construido 144 mil viviendas; habremos otorgado 120 mil nuevos créditos para la construcción o refacción de viviendas y habremos logrado así, en total, 264 mil soluciones habitacionales.',\n",
              " '(aplausos)como resultado de las inversiones que hicimos en modernización del sistema ferroviario, ya en 2021 los trenes de carga, que opera el estado, incrementaron un 60% lo transportado en 2019. además, estamos reactivando y renovando líneas ferroviarias de pasajeros en todo el país y realizando obras de infraestructura en 8 aeropuertos.',\n",
              " 'estamos incorporando nuevas ciudades en el uso de la tarjeta sube y queremos que esa tarjeta llegue a todo el país.construiremos un sistema de gasoductos, que es uno de los proyectos más importantes para la estabilidad macroeconómica.',\n",
              " 'el gasoducto - que llevará el nombre, de nuestro siempre recordado néstor kirchner - tendrá 1.000 kilómetros y demandará una inversión de 2.500 millones de dólares.',\n",
              " '(aplausos)este año, ypf cumple 100 años.',\n",
              " 'hemos recuperado ypf y la volvimos a poner en el camino del crecimiento.',\n",
              " 'ypf cerró uno de los mejores años, desde 2012. invirtió 2.700 millones de dólares, en 2021, y este año sus inversiones aumentarán un 40 %.',\n",
              " 'tenemos enormes recursos por desarrollar.',\n",
              " 'de la mano de ypf podemos generar un proceso de desarrollo, que ubique al país como un gran exportador de energía.',\n",
              " 'como argentinos y argentinas, tenemos que estar orgullosos de esta empresa, que - con un pie en su historia - sigue mirando al futuro para garantizar la energía, que el país necesita para seguir creciendo.el desarrollo integral requiere más conectividad.',\n",
              " 'con arsat estamos finalizando la actualización de la red federal de fibra óptica, para incrementar 10 veces la capacidad del tráfico de banda ancha.',\n",
              " 'relanzamos nuestro plan geoestacionario con la construcción de arsat sg-1 y – hoy - anuncio la construcción, simultánea, de un segundo satélite: arsat sg-2, para la exportación de servicios de valor agregado en américa del sur y brindar soluciones de conectividad en banda ancha.',\n",
              " '(aplausos)vamos a continuar profundizando la cultura del diálogo y el encuentro en el marco del consejo económico y social, con participación de trabajadores y trabajadoras, empresarios y empresarias, de todos los sectores, científicos, académicos y miembros de la sociedad civil.',\n",
              " 'la experiencia demuestra, que no resulta utópico ponernos de acuerdo, cuando priman la armonía y el bien común.todas estas acciones y proyectos son medios para nuestro objetivo principal: mejorar la vida de los argentinos y argentinas.buscamos que - en la argentina - no sólo crezca la economía, sino que también crezca el bienestar; que mejoren los empleos y que mejore la convivencia; que disminuya la pobreza y disminuya también la violencia; que suba la inversión y suba también el acceso a derechos; que baje la inflación y también baje la inseguridad.a los problemas hay que llamarlos por su nombre.',\n",
              " 'reconocerlos para poder resolverlos.',\n",
              " 'tenemos un sendero para ir reduciendo paulatinamente la inflación y la pobreza.necesitamos reconocer, también, que hay problemas con el valor de los alquileres.',\n",
              " 'pensando en todos los argentinos y argentinas - que hoy son inquilinos - le pido, al congreso de la nación, que asuma la tarea de avanzar en los cambios que sean necesarios para mejorar la ley actual y generar un mejor acceso a la vivienda.',\n",
              " '(aplausos)y también debemos admitir el muy serio problema de la inseguridad.',\n",
              " 'luchamos de manera – implacable - contra el narcotráfico y el contrabando.',\n",
              " 'priorizamos la lucha contra el crimen organizado y entendemos a la seguridad democrática como un derecho de los argentinos y argentinas.no hay modo de combatir al crimen organizado, sin un sistema judicial eficiente.queremos que el poder judicial recupere la confianza pública, que ha perdido y supere su crisis de funcionamiento, que sea eficaz y completamente independiente, de todos los poderes, fácticos y políticos.déjenme hacer una observación: en el mes de enero, los servicios de telecomunicaciones registraron el mayor aumento de precios.',\n",
              " 'eso fue posible porque algunos jueces dictaron medidas cautelares, en favor de empresas prestatarias del servicio e impidieron la aplicación del decreto que declaraba servicios públicos a la telefonía celular, internet y la televisión por cable o satelital.',\n",
              " 'a casi dos años, de dictadas esas medidas cautelares, no se expiden sobre el diferendo ni los tribunales que las dictaron ni la corte suprema, que añeja la cuestión, en algún armario.',\n",
              " '(aplausos)esto que acabo de describir no es otra cosa, que un acto de complicidad judicial con el poder económico real.',\n",
              " '(aplausos) necesitamos una reforma integral del sistema de la administración de justicia federal.lamentablemente, el proyecto de ley de reforma judicial - que envié, en 2020 - que fue aprobado por el senado ahora ha perdido estado parlamentario.',\n",
              " 'lo que está sucediendo, con el poder judicial, en argentina, es grave.esa reforma que impulsé fue resistida por la oposición para beneficiar a algunos funcionarios del gobierno anterior, que deben rendir cuentas.',\n",
              " 'saben que tienen aliados en fiscales y jueces de la justicia federal.',\n",
              " 'por eso siempre su primer planteo ha sido y sigue siendo reclamar la competencia de los tribunales, afincados en comodoro py.',\n",
              " '(aplausos).',\n",
              " 'pero lo cierto es que, ese proyecto de ley, además, se creaba el juzgado federal y una fiscalía en san lorenzo y la cámara federal de apelaciones, de rosario, instrumentos jurídicos indispensables en la lucha contra el narcotráfico.',\n",
              " 'también ese proyecto establecía la creación de una nueva sala y una secretaría de narcotráfico, en la cámara federal de apelaciones, de rosario.',\n",
              " 'no se debería demorar más tiempo en tomar decisiones tan fundamentales.',\n",
              " '(aplausos)yo le solicito - al honorable congreso de la nación - aborde la cuestión, que planteamos.',\n",
              " 'que haga los cambios adecuados, que generen los consensos necesarios y resolvamos este problema.ya hemos enviado el proyecto de ley de reforma del consejo de la magistratura.',\n",
              " 'avanzaremos en la implementación del código procesal penal federal y ampliaremos, también, los mecanismos de acceso a la justicia.la conformación y funcionamiento, de la corte suprema de justicia de la nación, también, debe ser objeto de análisis y decisión en este ejercicio legislativo.',\n",
              " '(aplausos)yo - como titular del poder ejecutivo nacional,- hice cuanto estuvo a mi alcance para poner fin a las malas prácticas, que se observaban en el sistema judicial.durante la administración anterior, existieron serias interferencias de los servicios de inteligencia, en el funcionamiento de las instituciones de la república, afectando los derechos y garantías de los y las habitantes, de nuestra nación.',\n",
              " 'a la luz, de lo que hoy sabemos, no habíamos llegado a tener real dimensión del enorme daño, que esas intromisiones causaron.cuando asumí la presidencia me comprometí a terminar con los sótanos de la democracia prometiendo que nunca más esas prácticas oscuras pondrían en riesgo la institucionalidad.tengo la tranquilidad de haber cumplido con la palabra que empeñé.',\n",
              " 'me ocupé de que no existan causas armadas entre los servicios de inteligencia, las autoridades de los poderes públicos y miembros que deshonran la administración de justicia.',\n",
              " 'garanticé que no existan nuevos encarcelamientos sin sustento jurídico.además, puse fin a las escuchas o seguimientos ilegales a dirigentes opositores, a sus familiares o a sus representantes jurídicos.',\n",
              " '(aplausos)en síntesis, dije nunca más a esos sótanos, que propusimos desmantelar y por eso los desmantelamos.',\n",
              " 'lo dijimos, en 2019, y lo sostenemos hoy.',\n",
              " 'este debe ser un compromiso de los tres poderes del estado.en la argentina, de hoy, no hay espionaje político.',\n",
              " 'no se intervienen teléfonos sin causa judicial.',\n",
              " 'en la argentina, de hoy, cada uno piensa y dice lo que se le da la gana.',\n",
              " 'el secreto no puede ser nunca más la excusa para que el estado institucionalice un sistema de espionaje, cuyo fin sea la persecución a opositores políticos o simplemente la extorsión.',\n",
              " 'ese es el entramado, que la intervención de la afi, develó y denunció.',\n",
              " '(aplausos)en los próximos días, enviaré un proyecto de ley, que permita consolidar el trabajo hecho - en estos años - en materia de inteligencia.',\n",
              " 'es indispensable que el congreso acompañe este camino.',\n",
              " 'necesitamos contar con organismos de inteligencia, que permitan producir información estratégica de calidad que contribuya a tomar decisiones y a proteger (no a espiar) al conjunto de la población frente a los riesgos y desafíos de un mundo cada vez más dinámico.como siempre he dicho, mantenemos en lo más alto las políticas de memoria, verdad y justicia.',\n",
              " '(aplausos).',\n",
              " 'estamos iniciando la construcción del espacio de memoria y las actividades, en el ex centro clandestino de detención “campo de mayo”.',\n",
              " 'además, recuperaremos el regimiento de infantería 9, de corrientes, y el vesubio.',\n",
              " '(aplausos)la argentina tiene la obligación ética de prevenir y erradicar la violencia institucional.',\n",
              " 'enviaré un proyecto de ley, que establezca estándares básicos de comportamiento de las fuerzas de seguridad, en todo el territorio argentino.',\n",
              " '(aplausos)queremos un país respetuoso de todos y todas, de todas las diversidades y de todas las diferencias.',\n",
              " 'por eso, reforzaremos el trabajo para garantizar los derechos constitucionales garantizados a los pueblos originarios.por eso, ya implementamos el dni no binario.por eso, necesitamos avanzar en reducir las desigualdades, que genera la discapacidad, para proteger los derechos, de más de 4 millones de argentinos y argentinas.este año, después de recoger las sugerencias de todos los sectores, enviaremos el proyecto de ley para proteger los derechos de las personas con discapacidad, para tener una argentina justa e inclusiva y para que el marco normativo sobre discapacidad sea fruto de nuestra democracia y no de una dictadura.',\n",
              " '(aplausos)todas y todos necesitamos ser cuidados, en algún momento de nuestras vidas: en la primera infancia y en la ancianidad, también en circunstancias de enfermedad o de necesidades especiales.',\n",
              " 'la desigual distribución del trabajo de cuidado es el corazón de las desigualdades entre los géneros.',\n",
              " 'al igual que, en otros países, enviaremos un proyecto de ley, que establezca un sistema integral de cuidados, con perspectiva de género, que permitirá crear más de 200.000 puestos de trabajo para quienes cuidan, a más de 1 millón de personas que necesitan de esos cuidadas.',\n",
              " '(aplausos)este año, avanzaremos en la construcción de 326 nuevos espacios de primera infancia y finalizaremos otras 200 obras de mejora edilicia para 50 mil niños y niñas de hasta 4 años de edad.estamos construyendo una red de 30 centros territoriales de políticas de género y diversidad en todas las provincias, para resolver las situaciones de violencia por motivo de género.',\n",
              " 'estamos creando 80 equipos interdisciplinarios, que asistan - en casos de violencias de género - y promuevan derechos en todo el territorio nacional.argentina es uno de los países latinoamericanos más retrasados, en regímenes de licencias parentales.',\n",
              " 'por eso enviaré un proyecto de ley para lograr en nuestro país un régimen de licencias parentales igualitarias.',\n",
              " 'así ampliaremos días por maternidad, paternidad y adopción e incluiremos a trabajadores monotributistas y autónomos, sin generar mayores erogaciones a los empleadores.',\n",
              " '(aplausos)para simplificar el acceso ciudadano al estado, hemos modernizado la gestión del registro nacional de las personas.',\n",
              " 'los nuevos sistemas de identificación permitirán certificar la identidad de las personas de modo más veloz, confiable y llevar la calidad de los documentos de identidad a los más altos estándares.',\n",
              " 'los padres, madres o tutores podrán descargar los dni, de las personas menores a su cargo, en su celular.',\n",
              " 'el mejoramiento informático hará más sencillos una serie de trámites ciudadanos.este año, tendremos documentos nacionales de identidad y pasaportes electrónicos.',\n",
              " 'y se avanzará para realizar el trámite de emisión de dnis y pasaportes, de forma remota.quiero detenerme ahora en un tema prioritario para nuestro gobierno.',\n",
              " 'los eventos climáticos, que estamos atravesando y sus catastróficas consecuencias, a nivel humano, natural y productivo, muestran la necesidad de asumir firmes compromisos, en materia ambiental.durante la conferencia de naciones unidas sobre cambio climático, en glasgow, argentina presentó un objetivo más ambicioso, que el de 2016. aumentamos 27,7 % nuestros compromisos de limitación de las emisiones de gases de efecto invernadero - para 2030 - y nos comprometimos a alcanzar la neutralidad de carbono – en el año 2050- lo que nos convierte en uno de los países que más ha aumentado su meta en la lucha contra el cambio climático.estas acciones se consolidarán en instrumentos como el plan nacional de adaptación y mitigación al cambio climático y en la estrategia de desarrollo resiliente, con bajas emisiones a largo plazo, que presentaremos, a fin de año, en la cop 27, en egipto.hemos enviado el proyecto de ley de presupuestos mínimos de evaluación ambiental, con el objetivo establecer criterios aplicables a todo el territorio nacional para proveer un piso de protección ambiental.para cuidar nuestros ecosistemas fortaleceremos con mayores recursos el servicio nacional de manejo del fuego.',\n",
              " 'además de comprar centros de operaciones móviles, transportes y otros insumos, mejoramos las bases, de chubut, misiones y san luis, y ampliaremos el sistema de alerta temprana.',\n",
              " 'además, enviaremos la modificación de la ley de bosques nativos.este año, el indec llevará adelante el censo nacional de población, hogares y vivienda, que tuvo que ser postergado por la pandemia.',\n",
              " 'será el 18 de mayo, con opción de completarlo previamente por medios electrónicos.',\n",
              " 'el censo producirá información indispensable para la toma de decisiones y también para que todos podamos conocer la realidad en la que vivimos.la argentina lleva a cabo una política exterior basada en el multilateralismo cooperativo.',\n",
              " 'apoya con firmeza la paz, la seguridad internacional, la solución pacífica de las controversias, los derechos humanos, la defensa de la democracia y el cuidado del medio ambiente.',\n",
              " 'en todos los foros bregamos por soluciones cooperativas e igualitarias a los grandes problemas globales.fomentamos el diálogo en nuestra región superando diferencias que existen.',\n",
              " 'promovemos el diálogo constructivo con nuestros socios del mercosur y aceptamos el desafío de presidir la celac.',\n",
              " 'por primera vez, este año, la argentina ha sido elegida para presidir el consejo de derechos humanos, de naciones unidas.la república argentina, fiel a los principios de la convivencia internacional, hace un llamamiento a la paz y a la resolución pacífica de las controversias internacionales.',\n",
              " 'la argentina siempre rechazará el uso de la fuerza armada y reitera la necesidad del respeto a los principios de la carta de las naciones unidas.la cuestión malvinas debe ser una política de estado, que cumpla con el mandato de la disposición transitoria primera, de la constitución nacional, diseñando estrategias consensuadas que permitan conducir con éxito el reclamo.',\n",
              " 'la vocación de construcción de ese consenso ha quedado expresada en las leyes que impulsamos y que fueron sancionadas - por unanimidad - en ambas cámaras.a cuarenta años del conflicto de atlántico sur lanzamos la agenda malvinas 40 años y hemos declarado, el año 2022, como año de homenaje del pueblo argentino a los caídos, así como a sus familiares y a los veteranos de malvinas.',\n",
              " 'queremos visibilizar así a uno de los últimos resabios de colonialismo.',\n",
              " '(aplausos)la república argentina reitera su búsqueda de una solución negociada y pacífica de la disputa de soberanía, para cumplir con el objetivo irrenunciable de recuperar el ejercicio pleno de soberanía sobre esa parte de nuestro territorio que se encuentra usurpado.',\n",
              " 'agradecemos todos los apoyos de países, regiones y foros internacionales que se expresan, en favor de la argentina.nuestro compromiso de homenaje a los caídos, en malvinas, se expresa en sostener la política de identificación de nuestros soldados, que quedaron en esa parte del territorio nacional.',\n",
              " 'por eso, hemos expresado - al comité internacional de la cruz roja - el interés, de la república argentina, en la concreción - de una tercera etapa - de identificación de caídos en el marco del plan proyecto humanitario, como parte de una iniciativa que fue lanzada, en 2012, y ha tenido continuidad en los sucesivos gobiernos.',\n",
              " '(aplausos)tengo la convicción que malvinas nos une en una causa nacional, que convoca y moviliza al pueblo argentino.',\n",
              " 'no nos cansemos de repetirlo: las malvinas fueron, son y serán argentinas.',\n",
              " '(aplausos)miremos al 2023. ese año debe unirnos en la pluralidad.',\n",
              " 'cuando el actual mandato presidencial esté concluyendo, se cumplirán 40 años de democracia, una conquista fundamental e irrenunciable, con sus diferencias, sus logros, sus errores y sus desafíos.',\n",
              " 'invito a todos y todas a trabajar incansablemente para que los 40 años de democracia nos encuentren, en una argentina, próspera, más justa, en paz, con mejores instituciones, donde la vida de todos y todas esté mejorando y donde nos unamos en el juramento: “democracia para siempre”.',\n",
              " '(aplausos)al iniciar este discurso llamé la atención sobre este tiempo singular que atravesamos.',\n",
              " 'en el inicio de su “historia de dos ciudades”, dickens describe, una época del mundo, que tiene plena vigencia en este presente.',\n",
              " 'dickens decía: \"era el mejor de los tiempos, era el peor de los tiempos.',\n",
              " 'la edad de la sabiduría, y también de la locura; la época de las creencias y de la incredulidad; la era de la luz y de las tinieblas; la primavera de la esperanza y el invierno de la desesperación.',\n",
              " 'todo lo poseíamos, pero nada teníamos, íbamos directamente al cielo y nos perdíamos en sentido opuesto.',\n",
              " 'en una palabra, aquella época era tan parecida a la actual, que nuestras más notables autoridades insisten en que, en lo que se refiere tanto al bien como al mal, solo es aceptable la comparación en grado superlativo”.esta época bisagra de la historia, de argentina, del mundo, del universo, necesita que le propongamos un sueño.',\n",
              " 'un propósito: queremos dejar de ser víctimas de todo y pasar a ser propulsores de algo; pasar del miedo a la ilusión; de la muerte a la creación.',\n",
              " 'hay que sacar la utopía del pasado y volver a ponerla en el futuro.muchas gracias.',\n",
              " '(aplausos)\\xa0\\xa0los contenidos de casa rosada están licenciados bajo creative commons reconocimiento 2.5 argentina license']"
            ]
          },
          "metadata": {},
          "execution_count": 4
        }
      ]
    },
    {
      "cell_type": "code",
      "source": [
        "print(len(corpus))"
      ],
      "metadata": {
        "colab": {
          "base_uri": "https://localhost:8080/"
        },
        "id": "GkdmXrIyn94r",
        "outputId": "a7363c3c-d35a-4ffd-b21c-13424f8c6f81"
      },
      "execution_count": null,
      "outputs": [
        {
          "output_type": "stream",
          "name": "stdout",
          "text": [
            "396\n"
          ]
        }
      ]
    },
    {
      "cell_type": "markdown",
      "source": [
        "## **1 - Preprocesamiento**"
      ],
      "metadata": {
        "id": "mV2tp_taO_CS"
      }
    },
    {
      "cell_type": "code",
      "source": [
        "# Se crea un dataframe utilizando el corpus\n",
        "df = pd.DataFrame(corpus)\n",
        "print(\"Cantidad de documentos:\", df.shape[0])"
      ],
      "metadata": {
        "colab": {
          "base_uri": "https://localhost:8080/"
        },
        "id": "NlMkINrypTSJ",
        "outputId": "6543c964-f525-49e4-ec16-3175f661501c"
      },
      "execution_count": null,
      "outputs": [
        {
          "output_type": "stream",
          "name": "stdout",
          "text": [
            "Cantidad de documentos: 396\n"
          ]
        }
      ]
    },
    {
      "cell_type": "code",
      "source": [
        "from keras.preprocessing.text import text_to_word_sequence\n",
        "\n",
        "sentence_tokens = []\n",
        "# Recorrer todas las filas y transformar las oraciones\n",
        "# en una secuencia de palabras (esto podría realizarse con NLTK o spaCy también)\n",
        "for _, row in df[:None].iterrows():\n",
        "    sentence_tokens.append(text_to_word_sequence(row[0]))"
      ],
      "metadata": {
        "id": "u0DE0Soupx4S"
      },
      "execution_count": null,
      "outputs": []
    },
    {
      "cell_type": "code",
      "source": [
        "# Demos un vistazo\n",
        "sentence_tokens[2:4]"
      ],
      "metadata": {
        "colab": {
          "base_uri": "https://localhost:8080/"
        },
        "id": "356AfFiTp5W8",
        "outputId": "cd142a8f-d0b3-4bc2-82da-880f70828cec"
      },
      "execution_count": null,
      "outputs": [
        {
          "output_type": "execute_result",
          "data": {
            "text/plain": [
              "[['pudimos',\n",
              "  'ver',\n",
              "  'el',\n",
              "  'modo',\n",
              "  'en',\n",
              "  'que',\n",
              "  'la',\n",
              "  'riqueza',\n",
              "  'se',\n",
              "  'concentra',\n",
              "  'en',\n",
              "  'pocos',\n",
              "  'mientras',\n",
              "  'la',\n",
              "  'pobreza',\n",
              "  'y',\n",
              "  'la',\n",
              "  'marginalidad',\n",
              "  'se',\n",
              "  'distribuyen',\n",
              "  'en',\n",
              "  'millones',\n",
              "  'de',\n",
              "  'seres',\n",
              "  'humanos',\n",
              "  'que',\n",
              "  'claman',\n",
              "  'por',\n",
              "  'dignidad',\n",
              "  'y',\n",
              "  'justicia',\n",
              "  'ahora',\n",
              "  'cuando',\n",
              "  'empezamos',\n",
              "  'a',\n",
              "  'controlar',\n",
              "  'la',\n",
              "  'ferocidad',\n",
              "  'del',\n",
              "  'virus',\n",
              "  'vemos',\n",
              "  'con',\n",
              "  'pesar',\n",
              "  'que',\n",
              "  'tanto',\n",
              "  'dolor',\n",
              "  'y',\n",
              "  'tanta',\n",
              "  'muerte',\n",
              "  'no',\n",
              "  'ha',\n",
              "  'logrado',\n",
              "  'conmover',\n",
              "  'la',\n",
              "  'ética',\n",
              "  'de',\n",
              "  'los',\n",
              "  'poderosos',\n",
              "  'que',\n",
              "  'encerrados',\n",
              "  'en',\n",
              "  'la',\n",
              "  'lógica',\n",
              "  'de',\n",
              "  'un',\n",
              "  'capitalismo',\n",
              "  'financiero',\n",
              "  'que',\n",
              "  'busca',\n",
              "  'perfeccionar',\n",
              "  'su',\n",
              "  'renta',\n",
              "  'solo',\n",
              "  'logra',\n",
              "  'profundizar',\n",
              "  'aquella',\n",
              "  'desigualdad',\n",
              "  'en',\n",
              "  'ese',\n",
              "  'contexto',\n",
              "  'la',\n",
              "  'paz',\n",
              "  'del',\n",
              "  'mundo',\n",
              "  'se',\n",
              "  'altera',\n",
              "  'por',\n",
              "  'la',\n",
              "  'invasión',\n",
              "  'militar',\n",
              "  'de',\n",
              "  'la',\n",
              "  'federación',\n",
              "  'de',\n",
              "  'rusia',\n",
              "  'sobre',\n",
              "  'ucrania'],\n",
              " ['europa',\n",
              "  'se',\n",
              "  'conmueve',\n",
              "  'mientras',\n",
              "  'el',\n",
              "  'fantasma',\n",
              "  'de',\n",
              "  'una',\n",
              "  'guerra',\n",
              "  'vuelve',\n",
              "  'a',\n",
              "  'levantarse']]"
            ]
          },
          "metadata": {},
          "execution_count": 8
        }
      ]
    },
    {
      "cell_type": "code",
      "source": [
        "# vamos a utilizar la librería nltk para limpiar las stopwords\n",
        "import nltk\n",
        "from nltk.corpus import stopwords"
      ],
      "metadata": {
        "id": "rbBCGPtDAumh"
      },
      "execution_count": null,
      "outputs": []
    },
    {
      "cell_type": "code",
      "source": [
        "nltk.download('stopwords')\n",
        "stop_words = set(stopwords.words('spanish'))"
      ],
      "metadata": {
        "colab": {
          "base_uri": "https://localhost:8080/"
        },
        "id": "8lzVL_17BDBN",
        "outputId": "18d6dad9-0434-4bfc-e0ba-9eabb64ff0f7"
      },
      "execution_count": null,
      "outputs": [
        {
          "output_type": "stream",
          "name": "stdout",
          "text": [
            "[nltk_data] Downloading package stopwords to /root/nltk_data...\n",
            "[nltk_data]   Package stopwords is already up-to-date!\n"
          ]
        }
      ]
    },
    {
      "cell_type": "code",
      "source": [
        "filtrado = []\n",
        "filtered_sentence = []\n",
        "for oracion in sentence_tokens:\n",
        "    \n",
        "    filtered_sentence = [] \n",
        "    for w in oracion: \n",
        "        if w not in stop_words: \n",
        "            filtered_sentence.append(w) \n",
        "    filtrado.append(filtered_sentence)\n",
        "\n",
        "print(filtrado[:2]) "
      ],
      "metadata": {
        "colab": {
          "base_uri": "https://localhost:8080/"
        },
        "id": "1n6lIX4TBR2R",
        "outputId": "f77f5db8-41d6-4e3f-aa38-4cacf267083a"
      },
      "execution_count": null,
      "outputs": [
        {
          "output_type": "stream",
          "name": "stdout",
          "text": [
            "[['palabras', 'presidente', 'nación', 'alberto', 'fernández', 'apertura', '140', 'período', 'sesiones', 'ordinarias', 'congreso', 'nación', 'argentina', 'querido', 'pueblo', 'argentino', 'gracias', 'honorable', 'asamblea', 'legislativa', 'recibirme', 'vez', 'tocado', 'tiempos', 'difíciles', 'signados', 'crisis', 'sanitarias', 'económicas', 'bélicas', 'mundo', 'conmovido'], ['tragedia', 'pandemia', 'aún', 'luchamos', 'dejado', 'descubierto', 'inequidades', 'vivimos']]\n"
          ]
        }
      ]
    },
    {
      "cell_type": "markdown",
      "source": [
        "## **2 - Crear los vectores (word2vec)**"
      ],
      "metadata": {
        "id": "5hPGHvyMPJJ_"
      }
    },
    {
      "cell_type": "code",
      "source": [
        "from gensim.models.callbacks import CallbackAny2Vec\n",
        "# Durante el entrenamiento gensim por defecto no informa el \"loss\" en cada época\n",
        "# Sobracargamos el callback para poder tener esta información\n",
        "class callback(CallbackAny2Vec):\n",
        "    \"\"\"\n",
        "    Callback to print loss after each epoch\n",
        "    \"\"\"\n",
        "    def __init__(self):\n",
        "        self.epoch = 0\n",
        "\n",
        "    def on_epoch_end(self, model):\n",
        "        loss = model.get_latest_training_loss()\n",
        "        if self.epoch == 0:\n",
        "            print('Loss after epoch {}: {}'.format(self.epoch, loss))\n",
        "        else:\n",
        "            print('Loss after epoch {}: {}'.format(self.epoch, loss- self.loss_previous_step))\n",
        "        self.epoch += 1\n",
        "        self.loss_previous_step = loss"
      ],
      "metadata": {
        "id": "87bY5CcDp79o"
      },
      "execution_count": null,
      "outputs": []
    },
    {
      "cell_type": "code",
      "source": [
        "# Crearmos el modelo generador de vectoeres\n",
        "# En este caso utilizaremos la estructura modelo Skipgram\n",
        "w2v_model = Word2Vec(min_count=5,    # frecuencia mínima de palabra para incluirla en el vocabulario\n",
        "                     window=2,       # cant de palabras antes y desp de la predicha\n",
        "                     size=300,       # dimensionalidad de los vectores \n",
        "                     negative=20,    # cantidad de negative samples... 0 es no se usa\n",
        "                     workers=1,      # si tienen más cores pueden cambiar este valor\n",
        "                     sg=1)           # modelo 0:CBOW  1:skipgram"
      ],
      "metadata": {
        "id": "OGMpFuyBqI1H"
      },
      "execution_count": null,
      "outputs": []
    },
    {
      "cell_type": "code",
      "source": [
        "# Buildear el vocabularui con los tokens\n",
        "w2v_model.build_vocab(filtrado)"
      ],
      "metadata": {
        "id": "gHg5qY-HJhuE"
      },
      "execution_count": null,
      "outputs": []
    },
    {
      "cell_type": "code",
      "source": [
        "# Cantidad de filas/docs encontradas en el corpus\n",
        "print(\"Cantidad de docs en el corpus:\", w2v_model.corpus_count)"
      ],
      "metadata": {
        "colab": {
          "base_uri": "https://localhost:8080/"
        },
        "id": "BDygpU2QqTDe",
        "outputId": "50a3c3ce-e90c-45cf-e75b-f067a18eeb4b"
      },
      "execution_count": null,
      "outputs": [
        {
          "output_type": "stream",
          "name": "stdout",
          "text": [
            "Cantidad de docs en el corpus: 396\n"
          ]
        }
      ]
    },
    {
      "cell_type": "code",
      "source": [
        "# Cantidad de words encontradas en el corpus\n",
        "print(\"Cantidad de words distintas en el corpus:\", len(w2v_model.wv.vocab))"
      ],
      "metadata": {
        "colab": {
          "base_uri": "https://localhost:8080/"
        },
        "id": "o9N90OYgqbpx",
        "outputId": "35596750-2c4b-4aed-bbb5-95cc50308c81"
      },
      "execution_count": null,
      "outputs": [
        {
          "output_type": "stream",
          "name": "stdout",
          "text": [
            "Cantidad de words distintas en el corpus: 237\n"
          ]
        }
      ]
    },
    {
      "cell_type": "markdown",
      "source": [
        "## **3 - Entrenar el modelo generador**"
      ],
      "metadata": {
        "id": "_OFVeiOlPUu3"
      }
    },
    {
      "cell_type": "code",
      "source": [
        "# Entrenamos el modelo generador de vectores\n",
        "# Utilizamos nuestro callback\n",
        "w2v_model.train(sentence_tokens,\n",
        "                 total_examples=w2v_model.corpus_count,\n",
        "                 epochs=20,\n",
        "                 compute_loss = True,\n",
        "                 callbacks=[callback()]\n",
        "                 )"
      ],
      "metadata": {
        "colab": {
          "base_uri": "https://localhost:8080/"
        },
        "id": "6Q5ix50vqegA",
        "outputId": "56ac7974-493f-4b83-e6f9-4f3ad5e3d484"
      },
      "execution_count": null,
      "outputs": [
        {
          "output_type": "stream",
          "name": "stdout",
          "text": [
            "Loss after epoch 0: 51308.453125\n",
            "Loss after epoch 1: 41719.3828125\n",
            "Loss after epoch 2: 16294.6328125\n",
            "Loss after epoch 3: 14358.0546875\n",
            "Loss after epoch 4: 14146.1328125\n",
            "Loss after epoch 5: 14092.0\n",
            "Loss after epoch 6: 14311.03125\n",
            "Loss after epoch 7: 14812.265625\n",
            "Loss after epoch 8: 14345.6875\n",
            "Loss after epoch 9: 14091.90625\n",
            "Loss after epoch 10: 14503.5\n",
            "Loss after epoch 11: 14507.71875\n",
            "Loss after epoch 12: 14046.859375\n",
            "Loss after epoch 13: 14102.59375\n",
            "Loss after epoch 14: 14373.6875\n",
            "Loss after epoch 15: 13898.71875\n",
            "Loss after epoch 16: 14203.375\n",
            "Loss after epoch 17: 13759.90625\n",
            "Loss after epoch 18: 13933.5625\n",
            "Loss after epoch 19: 13961.25\n"
          ]
        },
        {
          "output_type": "execute_result",
          "data": {
            "text/plain": [
              "(32529, 238900)"
            ]
          },
          "metadata": {},
          "execution_count": 17
        }
      ]
    },
    {
      "cell_type": "markdown",
      "source": [
        "## **4 - Ensayar**"
      ],
      "metadata": {
        "id": "Wrr4oRm5PakH"
      }
    },
    {
      "cell_type": "code",
      "source": [
        "# Palabras que MENOS se relacionan con...:\n",
        "w2v_model.wv.most_similar(positive=[\"fondo\"], topn=10)"
      ],
      "metadata": {
        "colab": {
          "base_uri": "https://localhost:8080/"
        },
        "id": "snU-LoESLYpO",
        "outputId": "26dae486-af76-4f3a-a806-4863ec2f5172"
      },
      "execution_count": null,
      "outputs": [
        {
          "output_type": "execute_result",
          "data": {
            "text/plain": [
              "[('internacional', 0.9998691082000732),\n",
              " ('aplausos', 0.9997506141662598),\n",
              " ('impedíamos', 0.9997457265853882),\n",
              " ('queremos', 0.9997437000274658),\n",
              " ('pagar', 0.9997392296791077),\n",
              " ('gobierno', 0.9997389316558838),\n",
              " ('externa', 0.9997384548187256),\n",
              " ('problema', 0.9997382164001465),\n",
              " ('avanzaremos', 0.9997379779815674),\n",
              " ('seguridad', 0.9997375011444092)]"
            ]
          },
          "metadata": {},
          "execution_count": 18
        }
      ]
    },
    {
      "cell_type": "code",
      "source": [
        "# Palabras que MENOS se relacionan con...:\n",
        "w2v_model.wv.most_similar(negative=[\"fondo\"], topn=10)"
      ],
      "metadata": {
        "colab": {
          "base_uri": "https://localhost:8080/"
        },
        "id": "LyZLLF36Lez_",
        "outputId": "ae6cd1b6-9875-4648-cfd1-7b47bdc14f6a"
      },
      "execution_count": null,
      "outputs": [
        {
          "output_type": "execute_result",
          "data": {
            "text/plain": [
              "[('000', -0.9995660781860352),\n",
              " ('mes', -0.9995689392089844),\n",
              " ('bienes', -0.9995834231376648),\n",
              " ('pública', -0.9995951652526855),\n",
              " ('argentinas', -0.9996014833450317),\n",
              " ('formal', -0.9996029734611511),\n",
              " ('trabajadoras', -0.9996036291122437),\n",
              " ('millones', -0.9996047019958496),\n",
              " ('exportaciones', -0.9996128082275391),\n",
              " ('ciencia', -0.9996203780174255)]"
            ]
          },
          "metadata": {},
          "execution_count": 19
        }
      ]
    },
    {
      "cell_type": "code",
      "source": [
        "# Palabras que MÁS se relacionan con...:\n",
        "w2v_model.wv.most_similar(positive=[\"economía\"], topn=10)"
      ],
      "metadata": {
        "colab": {
          "base_uri": "https://localhost:8080/"
        },
        "id": "wmkkX-IrrAzt",
        "outputId": "1a59d3e5-6a04-4f69-d48a-f30c01197815"
      },
      "execution_count": null,
      "outputs": [
        {
          "output_type": "execute_result",
          "data": {
            "text/plain": [
              "[('edad', 0.999864399433136),\n",
              " ('marco', 0.9998608231544495),\n",
              " ('argentina', 0.9998539686203003),\n",
              " ('derecho', 0.9998491406440735),\n",
              " ('desafíos', 0.9998481869697571),\n",
              " ('necesita', 0.9998476505279541),\n",
              " ('endeudamiento', 0.999847412109375),\n",
              " ('conocimiento', 0.9998469352722168),\n",
              " ('siempre', 0.9998461008071899),\n",
              " ('sociedad', 0.9998457431793213)]"
            ]
          },
          "metadata": {},
          "execution_count": 20
        }
      ]
    },
    {
      "cell_type": "code",
      "source": [
        "# Palabras que MENOS se relacionan con...:\n",
        "w2v_model.wv.most_similar(negative=[\"economía\"], topn=10)"
      ],
      "metadata": {
        "colab": {
          "base_uri": "https://localhost:8080/"
        },
        "id": "9ZnBNSEjrOrU",
        "outputId": "085f2f2d-b9db-4a4b-8b6a-4224f3583a16"
      },
      "execution_count": null,
      "outputs": [
        {
          "output_type": "execute_result",
          "data": {
            "text/plain": [
              "[('monetario', -0.9996337890625),\n",
              " ('000', -0.999671459197998),\n",
              " ('dólares', -0.9996750354766846),\n",
              " ('fondo', -0.9996894598007202),\n",
              " ('bienes', -0.999699592590332),\n",
              " ('mes', -0.9997116327285767),\n",
              " ('internacional', -0.9997153282165527),\n",
              " ('millones', -0.9997173547744751),\n",
              " ('pública', -0.9997177124023438),\n",
              " ('exportaciones', -0.9997227191925049)]"
            ]
          },
          "metadata": {},
          "execution_count": 21
        }
      ]
    },
    {
      "cell_type": "code",
      "source": [
        "# Palabras que MENOS se relacionan con...:\n",
        "w2v_model.wv.most_similar(negative=[\"educación\"], topn=10)"
      ],
      "metadata": {
        "colab": {
          "base_uri": "https://localhost:8080/"
        },
        "id": "LhN77CO6rbZd",
        "outputId": "13f04b73-c4c0-4527-dc96-d74cd85957bc"
      },
      "execution_count": null,
      "outputs": [
        {
          "output_type": "execute_result",
          "data": {
            "text/plain": [
              "[('monetario', -0.9996556043624878),\n",
              " ('mes', -0.9997094869613647),\n",
              " ('fondo', -0.9997130632400513),\n",
              " ('trabajadores', -0.9997243285179138),\n",
              " ('internacional', -0.9997502565383911),\n",
              " ('trabajadoras', -0.9997519254684448),\n",
              " ('formal', -0.9997583627700806),\n",
              " ('pública', -0.9997587203979492),\n",
              " ('trata', -0.9997609257698059),\n",
              " ('000', -0.9997684955596924)]"
            ]
          },
          "metadata": {},
          "execution_count": 22
        }
      ]
    },
    {
      "cell_type": "code",
      "source": [
        "# Palabras que MENOS se relacionan con...:\n",
        "w2v_model.wv.most_similar(positive=[\"inversión\"], topn=10)"
      ],
      "metadata": {
        "colab": {
          "base_uri": "https://localhost:8080/"
        },
        "id": "4ojpD248sqIy",
        "outputId": "b710c4e1-1460-486d-9664-3647b5fa47d6"
      },
      "execution_count": null,
      "outputs": [
        {
          "output_type": "execute_result",
          "data": {
            "text/plain": [
              "[('desarrollar', 0.9998708963394165),\n",
              " ('8', 0.9998583793640137),\n",
              " ('siempre', 0.9998558163642883),\n",
              " ('3', 0.999854326248169),\n",
              " ('4', 0.9998525381088257),\n",
              " ('privado', 0.9998513460159302),\n",
              " ('inversiones', 0.999849796295166),\n",
              " ('mayor', 0.9998489618301392),\n",
              " ('100', 0.999848484992981),\n",
              " ('además', 0.999847948551178)]"
            ]
          },
          "metadata": {},
          "execution_count": 23
        }
      ]
    },
    {
      "cell_type": "code",
      "source": [
        "# Palabras que MENOS se relacionan con...:\n",
        "w2v_model.wv.most_similar(positive=[\"política\"], topn=10)"
      ],
      "metadata": {
        "colab": {
          "base_uri": "https://localhost:8080/"
        },
        "id": "AiA4PfGmLAMy",
        "outputId": "6264ab14-0d37-4068-9849-e0ab67bee514"
      },
      "execution_count": null,
      "outputs": [
        {
          "output_type": "execute_result",
          "data": {
            "text/plain": [
              "[('malvinas', 0.9998728632926941),\n",
              " ('nunca', 0.9998725056648254),\n",
              " ('actual', 0.9998718500137329),\n",
              " ('aplausos', 0.9998689293861389),\n",
              " ('debe', 0.9998686909675598),\n",
              " ('problemas', 0.9998685717582703),\n",
              " ('realidad', 0.99986732006073),\n",
              " ('países', 0.9998665452003479),\n",
              " ('solo', 0.9998639822006226),\n",
              " ('poner', 0.9998633861541748)]"
            ]
          },
          "metadata": {},
          "execution_count": 24
        }
      ]
    },
    {
      "cell_type": "code",
      "source": [
        "# Palabras que MENOS se relacionan con...:\n",
        "w2v_model.wv.most_similar(positive=[\"seguridad\"], topn=10)"
      ],
      "metadata": {
        "colab": {
          "base_uri": "https://localhost:8080/"
        },
        "id": "LZ0iTewQLJ5I",
        "outputId": "1557d208-3833-4521-ef50-5bfa0db1c0fa"
      },
      "execution_count": null,
      "outputs": [
        {
          "output_type": "execute_result",
          "data": {
            "text/plain": [
              "[('países', 0.9998855590820312),\n",
              " ('logramos', 0.9998769760131836),\n",
              " ('impedíamos', 0.9998766183853149),\n",
              " ('alcanzar', 0.999875545501709),\n",
              " ('hacer', 0.9998728632926941),\n",
              " ('nunca', 0.9998718500137329),\n",
              " ('vacunas', 0.9998703002929688),\n",
              " ('aplausos', 0.9998698234558105),\n",
              " ('producir', 0.9998695850372314),\n",
              " ('tan', 0.9998694658279419)]"
            ]
          },
          "metadata": {},
          "execution_count": 25
        }
      ]
    },
    {
      "cell_type": "code",
      "source": [
        "# Ensayar con una palabra que no está en el corpus (en vocab):\n",
        "w2v_model.wv.most_similar(negative=[\"deporte\"])"
      ],
      "metadata": {
        "colab": {
          "base_uri": "https://localhost:8080/",
          "height": 328
        },
        "id": "m61bpw93rqyj",
        "outputId": "0671de94-52ba-49dd-f7c3-95c554159e92"
      },
      "execution_count": null,
      "outputs": [
        {
          "output_type": "error",
          "ename": "KeyError",
          "evalue": "ignored",
          "traceback": [
            "\u001b[0;31m---------------------------------------------------------------------------\u001b[0m",
            "\u001b[0;31mKeyError\u001b[0m                                  Traceback (most recent call last)",
            "\u001b[0;32m<ipython-input-26-c3f010e288ab>\u001b[0m in \u001b[0;36m<module>\u001b[0;34m()\u001b[0m\n\u001b[1;32m      1\u001b[0m \u001b[0;31m# Ensayar con una palabra que no está en el corpus (en vocab):\u001b[0m\u001b[0;34m\u001b[0m\u001b[0;34m\u001b[0m\u001b[0;34m\u001b[0m\u001b[0m\n\u001b[0;32m----> 2\u001b[0;31m \u001b[0mw2v_model\u001b[0m\u001b[0;34m.\u001b[0m\u001b[0mwv\u001b[0m\u001b[0;34m.\u001b[0m\u001b[0mmost_similar\u001b[0m\u001b[0;34m(\u001b[0m\u001b[0mnegative\u001b[0m\u001b[0;34m=\u001b[0m\u001b[0;34m[\u001b[0m\u001b[0;34m\"deporte\"\u001b[0m\u001b[0;34m]\u001b[0m\u001b[0;34m)\u001b[0m\u001b[0;34m\u001b[0m\u001b[0;34m\u001b[0m\u001b[0m\n\u001b[0m",
            "\u001b[0;32m/usr/local/lib/python3.7/dist-packages/gensim/models/keyedvectors.py\u001b[0m in \u001b[0;36mmost_similar\u001b[0;34m(self, positive, negative, topn, restrict_vocab, indexer)\u001b[0m\n\u001b[1;32m    529\u001b[0m                 \u001b[0mmean\u001b[0m\u001b[0;34m.\u001b[0m\u001b[0mappend\u001b[0m\u001b[0;34m(\u001b[0m\u001b[0mweight\u001b[0m \u001b[0;34m*\u001b[0m \u001b[0mword\u001b[0m\u001b[0;34m)\u001b[0m\u001b[0;34m\u001b[0m\u001b[0;34m\u001b[0m\u001b[0m\n\u001b[1;32m    530\u001b[0m             \u001b[0;32melse\u001b[0m\u001b[0;34m:\u001b[0m\u001b[0;34m\u001b[0m\u001b[0;34m\u001b[0m\u001b[0m\n\u001b[0;32m--> 531\u001b[0;31m                 \u001b[0mmean\u001b[0m\u001b[0;34m.\u001b[0m\u001b[0mappend\u001b[0m\u001b[0;34m(\u001b[0m\u001b[0mweight\u001b[0m \u001b[0;34m*\u001b[0m \u001b[0mself\u001b[0m\u001b[0;34m.\u001b[0m\u001b[0mword_vec\u001b[0m\u001b[0;34m(\u001b[0m\u001b[0mword\u001b[0m\u001b[0;34m,\u001b[0m \u001b[0muse_norm\u001b[0m\u001b[0;34m=\u001b[0m\u001b[0;32mTrue\u001b[0m\u001b[0;34m)\u001b[0m\u001b[0;34m)\u001b[0m\u001b[0;34m\u001b[0m\u001b[0;34m\u001b[0m\u001b[0m\n\u001b[0m\u001b[1;32m    532\u001b[0m                 \u001b[0;32mif\u001b[0m \u001b[0mword\u001b[0m \u001b[0;32min\u001b[0m \u001b[0mself\u001b[0m\u001b[0;34m.\u001b[0m\u001b[0mvocab\u001b[0m\u001b[0;34m:\u001b[0m\u001b[0;34m\u001b[0m\u001b[0;34m\u001b[0m\u001b[0m\n\u001b[1;32m    533\u001b[0m                     \u001b[0mall_words\u001b[0m\u001b[0;34m.\u001b[0m\u001b[0madd\u001b[0m\u001b[0;34m(\u001b[0m\u001b[0mself\u001b[0m\u001b[0;34m.\u001b[0m\u001b[0mvocab\u001b[0m\u001b[0;34m[\u001b[0m\u001b[0mword\u001b[0m\u001b[0;34m]\u001b[0m\u001b[0;34m.\u001b[0m\u001b[0mindex\u001b[0m\u001b[0;34m)\u001b[0m\u001b[0;34m\u001b[0m\u001b[0;34m\u001b[0m\u001b[0m\n",
            "\u001b[0;32m/usr/local/lib/python3.7/dist-packages/gensim/models/keyedvectors.py\u001b[0m in \u001b[0;36mword_vec\u001b[0;34m(self, word, use_norm)\u001b[0m\n\u001b[1;32m    450\u001b[0m             \u001b[0;32mreturn\u001b[0m \u001b[0mresult\u001b[0m\u001b[0;34m\u001b[0m\u001b[0;34m\u001b[0m\u001b[0m\n\u001b[1;32m    451\u001b[0m         \u001b[0;32melse\u001b[0m\u001b[0;34m:\u001b[0m\u001b[0;34m\u001b[0m\u001b[0;34m\u001b[0m\u001b[0m\n\u001b[0;32m--> 452\u001b[0;31m             \u001b[0;32mraise\u001b[0m \u001b[0mKeyError\u001b[0m\u001b[0;34m(\u001b[0m\u001b[0;34m\"word '%s' not in vocabulary\"\u001b[0m \u001b[0;34m%\u001b[0m \u001b[0mword\u001b[0m\u001b[0;34m)\u001b[0m\u001b[0;34m\u001b[0m\u001b[0;34m\u001b[0m\u001b[0m\n\u001b[0m\u001b[1;32m    453\u001b[0m \u001b[0;34m\u001b[0m\u001b[0m\n\u001b[1;32m    454\u001b[0m     \u001b[0;32mdef\u001b[0m \u001b[0mget_vector\u001b[0m\u001b[0;34m(\u001b[0m\u001b[0mself\u001b[0m\u001b[0;34m,\u001b[0m \u001b[0mword\u001b[0m\u001b[0;34m)\u001b[0m\u001b[0;34m:\u001b[0m\u001b[0;34m\u001b[0m\u001b[0;34m\u001b[0m\u001b[0m\n",
            "\u001b[0;31mKeyError\u001b[0m: \"word 'deporte' not in vocabulary\""
          ]
        }
      ]
    },
    {
      "cell_type": "code",
      "source": [
        "from sklearn.decomposition import IncrementalPCA    \n",
        "from sklearn.manifold import TSNE                   \n",
        "import numpy as np                                  \n",
        "\n",
        "def reduce_dimensions(model):\n",
        "    num_dimensions = 2  \n",
        "\n",
        "    vectors = np.asarray(model.wv.vectors)\n",
        "    labels = np.asarray(model.wv.index2word)  \n",
        "\n",
        "    tsne = TSNE(n_components=num_dimensions, random_state=0)\n",
        "    vectors = tsne.fit_transform(vectors)\n",
        "\n",
        "    x_vals = [v[0] for v in vectors]\n",
        "    y_vals = [v[1] for v in vectors]\n",
        "    return x_vals, y_vals, labels"
      ],
      "metadata": {
        "id": "nzX8AkLjrxT8"
      },
      "execution_count": null,
      "outputs": []
    },
    {
      "cell_type": "code",
      "source": [
        "# Graficar los embedddings en 2D\n",
        "import plotly.graph_objects as go\n",
        "import plotly.express as px\n",
        "\n",
        "x_vals, y_vals, labels = reduce_dimensions(w2v_model)\n",
        "\n",
        "MAX_WORDS=200\n",
        "fig = px.scatter(x=x_vals[:MAX_WORDS], y=y_vals[:MAX_WORDS], text=labels[:MAX_WORDS])\n",
        "fig.show(renderer=\"colab\") # esto para plotly en colab"
      ],
      "metadata": {
        "colab": {
          "base_uri": "https://localhost:8080/",
          "height": 611
        },
        "id": "oTIBRxFPr1mL",
        "outputId": "5aad7d0c-da74-4b9d-a551-e36c9d3725b2"
      },
      "execution_count": null,
      "outputs": [
        {
          "output_type": "stream",
          "name": "stderr",
          "text": [
            "/usr/local/lib/python3.7/dist-packages/sklearn/manifold/_t_sne.py:783: FutureWarning: The default initialization in TSNE will change from 'random' to 'pca' in 1.2.\n",
            "  FutureWarning,\n",
            "/usr/local/lib/python3.7/dist-packages/sklearn/manifold/_t_sne.py:793: FutureWarning: The default learning rate in TSNE will change from 200.0 to 'auto' in 1.2.\n",
            "  FutureWarning,\n"
          ]
        },
        {
          "output_type": "display_data",
          "data": {
            "text/html": [
              "<html>\n",
              "<head><meta charset=\"utf-8\" /></head>\n",
              "<body>\n",
              "    <div>            <script src=\"https://cdnjs.cloudflare.com/ajax/libs/mathjax/2.7.5/MathJax.js?config=TeX-AMS-MML_SVG\"></script><script type=\"text/javascript\">if (window.MathJax) {MathJax.Hub.Config({SVG: {font: \"STIX-Web\"}});}</script>                <script type=\"text/javascript\">window.PlotlyConfig = {MathJaxConfig: 'local'};</script>\n",
              "        <script src=\"https://cdn.plot.ly/plotly-2.8.3.min.js\"></script>                <div id=\"44d6b706-5ce5-44dc-bbbb-ac09a06f7eac\" class=\"plotly-graph-div\" style=\"height:525px; width:100%;\"></div>            <script type=\"text/javascript\">                                    window.PLOTLYENV=window.PLOTLYENV || {};                                    if (document.getElementById(\"44d6b706-5ce5-44dc-bbbb-ac09a06f7eac\")) {                    Plotly.newPlot(                        \"44d6b706-5ce5-44dc-bbbb-ac09a06f7eac\",                        [{\"hovertemplate\":\"x=%{x}<br>y=%{y}<br>text=%{text}<extra></extra>\",\"legendgroup\":\"\",\"marker\":{\"color\":\"#636efa\",\"symbol\":\"circle\"},\"mode\":\"markers+text\",\"name\":\"\",\"orientation\":\"v\",\"showlegend\":false,\"text\":[\"argentina\",\"aplausos\",\"millones\",\"a\\u00f1o\",\"pa\\u00eds\",\"desarrollo\",\"2021\",\"trabajo\",\"ley\",\"a\\u00f1os\",\"econom\\u00eda\",\"argentinos\",\"argentinas\",\"nacional\",\"pandemia\",\"producci\\u00f3n\",\"mayor\",\"mil\",\"futuro\",\"sistema\",\"pol\\u00edticas\",\"acuerdo\",\"deuda\",\"ser\",\"hoy\",\"mundo\",\"debemos\",\"empleo\",\"recuperaci\\u00f3n\",\"000\",\"proyecto\",\"gobierno\",\"todas\",\"personas\",\"d\\u00f3lares\",\"vamos\",\"programa\",\"congreso\",\"argentino\",\"derechos\",\"vez\",\"crisis\",\"justicia\",\"ahora\",\"as\\u00ed\",\"social\",\"inflaci\\u00f3n\",\"debe\",\"adem\\u00e1s\",\"nuevos\",\"3\",\"plan\",\"solo\",\"podemos\",\"integral\",\"construcci\\u00f3n\",\"inversi\\u00f3n\",\"naci\\u00f3n\",\"construir\",\"enorme\",\"sociedad\",\"2019\",\"2020\",\"siempre\",\"federal\",\"crecimiento\",\"exportaciones\",\"si\",\"momento\",\"historia\",\"\\u2013\",\"vida\",\"primera\",\"salud\",\"problema\",\"pol\\u00edtica\",\"queremos\",\"2\",\"poder\",\"necesitamos\",\"servicios\",\"mientras\",\"hacer\",\"toda\",\"logros\",\"capacidad\",\"vacunas\",\"sectores\",\"cada\",\"fin\",\"nivel\",\"quiero\",\"p\\u00fablica\",\"industria\",\"industrial\",\"mejor\",\"1\",\"pobreza\",\"parte\",\"tiempo\",\"econ\\u00f3mica\",\"camino\",\"internacional\",\"posible\",\"cuidado\",\"trav\\u00e9s\",\"sido\",\"problemas\",\"gran\",\"valor\",\"pa\\u00edses\",\"seguridad\",\"avanzar\",\"10\",\"obras\",\"marco\",\"4\",\"democracia\",\"infraestructura\",\"judicial\",\"escuelas\",\"a\\u00fan\",\"puede\",\"malvinas\",\"productivo\",\"puestos\",\"objetivo\",\"vacunaci\\u00f3n\",\"poblaci\\u00f3n\",\"nunca\",\"hacia\",\"formal\",\"empresas\",\"tan\",\"lograr\",\"ciencia\",\"reforma\",\"generar\",\"territorio\",\"presidente\",\"pueblo\",\"modo\",\"vidas\",\"covid\",\"aqu\\u00ed\",\"2018\",\"logramos\",\"fondo\",\"educaci\\u00f3n\",\"trabajadores\",\"popular\",\"tomar\",\"dos\",\"campa\\u00f1a\",\"necesita\",\"dosis\",\"obra\",\"fuerte\",\"bienes\",\"inversiones\",\"8\",\"derecho\",\"crecer\",\"ingresos\",\"pasado\",\"mejorar\",\"construyendo\",\"impulsar\",\"j\\u00f3venes\",\"g\\u00e9nero\",\"recursos\",\"actual\",\"40\",\"pagar\",\"compromisos\",\"anterior\",\"trata\",\"pr\\u00f3ximos\",\"100\",\"conectividad\",\"legislativa\",\"paz\",\"violencia\",\"nuevas\",\"humanidad\",\"realidad\",\"producir\",\"sendero\",\"endeudamiento\",\"ma\\u00f1ana\",\"monetario\",\"manera\",\"mundial\",\"administraci\\u00f3n\",\"naciones\",\"trabajadoras\",\"menos\",\"alimentos\",\"principal\",\"desaf\\u00edos\"],\"x\":[3.8371641635894775,-2.4584600925445557,-3.417844772338867,1.4878793954849243,3.074256181716919,7.694900989532471,-2.247431993484497,-0.1447012722492218,-1.5057477951049805,-3.3208136558532715,3.4228885173797607,-6.08721923828125,-5.448711395263672,1.1957662105560303,3.9438233375549316,4.4013752937316895,5.197600364685059,-2.895785331726074,4.297341823577881,-0.05919855087995529,-1.335951805114746,-3.02365779876709,2.730842113494873,-3.9337480068206787,-2.819937229156494,0.06989884376525879,-3.7538909912109375,2.0397489070892334,6.379817008972168,8.8152494430542,-2.0556299686431885,-0.34074458479881287,-2.5417401790618896,-1.6237611770629883,-2.412703275680542,-0.8085432052612305,4.491734504699707,-1.3636380434036255,0.02196231111884117,3.373258113861084,-3.669741153717041,1.609377145767212,-0.9956514835357666,-4.547544002532959,2.1128249168395996,1.6893284320831299,2.706557273864746,-3.5048201084136963,-2.3022329807281494,4.731739044189453,6.827596187591553,-1.1094138622283936,-2.1513664722442627,4.088730812072754,-6.371800422668457,-2.0635056495666504,-0.8321898579597473,-7.65730619430542,2.600526809692383,5.881319999694824,-4.482149124145508,-0.769911527633667,5.368493556976318,-2.3012399673461914,-1.8135254383087158,-2.3717987537384033,3.7909324169158936,-2.546290397644043,-5.030615329742432,-4.558226585388184,2.7990596294403076,4.26875638961792,2.0098695755004883,-6.316168785095215,-4.084826946258545,-2.968614101409912,-2.7126433849334717,-1.9394961595535278,0.7564374208450317,2.178807497024536,3.9418532848358154,-2.5864899158477783,2.9962050914764404,1.1829692125320435,-3.6177139282226562,3.566044569015503,6.8592610359191895,1.1781407594680786,-3.2218639850616455,-2.0504024028778076,6.329769611358643,3.3994574546813965,6.873576641082764,3.0370876789093018,6.15757417678833,6.048582077026367,0.7949520945549011,-4.2995805740356445,2.4478962421417236,-3.367424726486206,6.101719856262207,-3.204361915588379,5.806665897369385,6.159037113189697,-1.219631552696228,4.298242568969727,4.885141849517822,-3.49263072013855,2.6669437885284424,5.922226905822754,2.2646865844726562,-3.029355525970459,-5.333311080932617,7.7584710121154785,-1.7655857801437378,-3.0118768215179443,-1.2365376949310303,-3.357276439666748,5.9163408279418945,4.323043346405029,-0.808140754699707,-3.269209146499634,2.8250768184661865,-2.313323736190796,0.23706121742725372,1.3502743244171143,4.346334457397461,-0.151661679148674,-2.013828992843628,-3.251466751098633,2.3892035484313965,2.7590255737304688,0.6571610569953918,4.161195755004883,-0.4449416399002075,3.2605769634246826,0.24841533601284027,6.015269756317139,1.2266628742218018,5.7704925537109375,-0.6736754775047302,-3.8815627098083496,1.9343018531799316,1.146485447883606,-4.4962687492370605,0.46032315492630005,3.63662052154541,5.716846466064453,-1.2331055402755737,8.322632789611816,-4.072528839111328,-5.632864475250244,6.803555488586426,7.649376392364502,-5.27396297454834,-1.7170647382736206,6.4876837730407715,5.6496381759643555,-2.538910150527954,-2.604703664779663,-1.2390090227127075,-3.1671197414398193,1.3460081815719604,5.364731311798096,-1.2293637990951538,4.065985202789307,-1.5295209884643555,5.870227336883545,7.67783260345459,0.980754554271698,2.2534561157226562,5.738030433654785,-4.8618083000183105,-1.0338666439056396,7.0868730545043945,4.364809036254883,4.308281421661377,0.4077930450439453,-5.583673477172852,8.5035982131958,-4.4666056632995605,-1.9404884576797485,-3.522826910018921,-1.523197054862976,-3.6873908042907715,-4.3097004890441895,-2.2740211486816406,-3.4725093841552734,-2.3954379558563232,3.105776071548462,6.091598987579346,-2.760934352874756,2.2095022201538086,-0.10798858106136322,-4.510409355163574,7.4962968826293945,5.173166275024414,-6.448014259338379,-0.27715617418289185,0.203692227602005],\"xaxis\":\"x\",\"y\":[-6.807732582092285,6.996006011962891,-2.4527177810668945,-3.558917284011841,-4.61297607421875,-4.2176513671875,-1.2149763107299805,-0.6102179884910583,2.6347296237945557,-1.077114224433899,-6.912545204162598,8.502607345581055,7.366429805755615,-4.17692756652832,-3.775327682495117,-5.7341508865356445,-5.2978081703186035,-2.527310609817505,-1.1147345304489136,1.298579216003418,7.582530975341797,7.842708587646484,5.788353443145752,4.187914848327637,4.832380771636963,2.7923357486724854,5.507551670074463,-7.34452486038208,-7.61297607421875,-7.707280158996582,9.540421485900879,5.58842134475708,11.005077362060547,4.363548278808594,-3.2379517555236816,2.4203858375549316,-8.093897819519043,3.3381710052490234,7.1334710121154785,-9.004448890686035,4.421873092651367,2.0556702613830566,8.0040922164917,7.189794063568115,-4.126893043518066,-0.8015857338905334,-1.5211111307144165,10.16429328918457,9.581001281738281,-8.870368003845215,-7.658825397491455,-0.17166957259178162,2.6900758743286133,-4.295024871826172,4.3339338302612305,-0.5690863728523254,-3.3328158855438232,5.318478107452393,4.078064918518066,-8.67880916595459,5.754746913909912,-1.5614013671875,-4.798913955688477,5.974059104919434,8.885252952575684,4.500789165496826,-11.945308685302734,6.25332498550415,5.876002311706543,7.1910719871521,-7.701643466949463,-0.9386277198791504,-5.269128322601318,6.999800682067871,8.058123588562012,1.9153767824172974,10.815038681030273,-0.18818162381649017,4.273677349090576,-1.815049409866333,-11.908027648925781,6.153697967529297,-2.2149746417999268,2.1369853019714355,6.89457368850708,-4.739663124084473,-10.174802780151367,0.3630378246307373,12.5400972366333,6.754379749298096,-3.503596305847168,-2.1280875205993652,-5.221723556518555,0.6727381944656372,-7.347330093383789,-0.7147395610809326,-7.651632308959961,8.167289733886719,-5.526493072509766,5.505053520202637,-5.355647563934326,9.536101341247559,-13.511862754821777,-2.993668556213379,4.770557880401611,-6.549762725830078,-4.410046577453613,6.061323642730713,3.93864107131958,-10.409221649169922,-4.328531265258789,3.870389223098755,2.80713152885437,-7.654348850250244,10.142462730407715,7.088875770568848,-3.1718268394470215,3.001124143600464,-9.438557624816895,-2.6242995262145996,-4.980006217956543,8.516825675964355,-3.3459959030151367,2.403214454650879,0.9011523127555847,-8.686325073242188,-9.281760215759277,-6.463155746459961,-6.210048675537109,9.757421493530273,0.14818431437015533,-10.251033782958984,-1.722801923751831,-6.389547824859619,1.9436970949172974,2.335624933242798,4.673503398895264,-10.992706298828125,-5.380401134490967,-8.940564155578613,8.853768348693848,6.319858551025391,-2.646786689758301,3.0538156032562256,6.105513095855713,-0.4140695333480835,-4.082365036010742,-13.606965065002441,1.3290488719940186,-11.355094909667969,0.20785659551620483,5.497968673706055,-9.311569213867188,-10.110211372375488,4.092541694641113,-6.431844711303711,-6.216141700744629,-6.210304260253906,-1.6949920654296875,-0.10845798254013062,-3.108509063720703,5.899667739868164,5.966339588165283,-6.625706672668457,8.458527565002441,3.712808847427368,6.059284687042236,-10.34106159210205,-6.986180305480957,-5.580417633056641,-6.228634834289551,-9.64074420928955,10.780078887939453,6.527585983276367,-10.474635124206543,-3.03444242477417,-10.374072074890137,-3.6982250213623047,10.524490356445312,-6.467564105987549,9.105813026428223,5.383203983306885,2.090568780899048,1.881679654121399,4.809884071350098,3.3859596252441406,4.347446441650391,11.577454566955566,5.2572221755981445,-4.850278377532959,-13.226799964904785,8.173283576965332,-3.2940778732299805,5.821805953979492,1.8587720394134521,-11.952306747436523,-6.095498561859131,6.350261688232422,3.91998291015625,1.5668253898620605],\"yaxis\":\"y\",\"type\":\"scatter\"}],                        {\"template\":{\"data\":{\"bar\":[{\"error_x\":{\"color\":\"#2a3f5f\"},\"error_y\":{\"color\":\"#2a3f5f\"},\"marker\":{\"line\":{\"color\":\"#E5ECF6\",\"width\":0.5},\"pattern\":{\"fillmode\":\"overlay\",\"size\":10,\"solidity\":0.2}},\"type\":\"bar\"}],\"barpolar\":[{\"marker\":{\"line\":{\"color\":\"#E5ECF6\",\"width\":0.5},\"pattern\":{\"fillmode\":\"overlay\",\"size\":10,\"solidity\":0.2}},\"type\":\"barpolar\"}],\"carpet\":[{\"aaxis\":{\"endlinecolor\":\"#2a3f5f\",\"gridcolor\":\"white\",\"linecolor\":\"white\",\"minorgridcolor\":\"white\",\"startlinecolor\":\"#2a3f5f\"},\"baxis\":{\"endlinecolor\":\"#2a3f5f\",\"gridcolor\":\"white\",\"linecolor\":\"white\",\"minorgridcolor\":\"white\",\"startlinecolor\":\"#2a3f5f\"},\"type\":\"carpet\"}],\"choropleth\":[{\"colorbar\":{\"outlinewidth\":0,\"ticks\":\"\"},\"type\":\"choropleth\"}],\"contour\":[{\"colorbar\":{\"outlinewidth\":0,\"ticks\":\"\"},\"colorscale\":[[0.0,\"#0d0887\"],[0.1111111111111111,\"#46039f\"],[0.2222222222222222,\"#7201a8\"],[0.3333333333333333,\"#9c179e\"],[0.4444444444444444,\"#bd3786\"],[0.5555555555555556,\"#d8576b\"],[0.6666666666666666,\"#ed7953\"],[0.7777777777777778,\"#fb9f3a\"],[0.8888888888888888,\"#fdca26\"],[1.0,\"#f0f921\"]],\"type\":\"contour\"}],\"contourcarpet\":[{\"colorbar\":{\"outlinewidth\":0,\"ticks\":\"\"},\"type\":\"contourcarpet\"}],\"heatmap\":[{\"colorbar\":{\"outlinewidth\":0,\"ticks\":\"\"},\"colorscale\":[[0.0,\"#0d0887\"],[0.1111111111111111,\"#46039f\"],[0.2222222222222222,\"#7201a8\"],[0.3333333333333333,\"#9c179e\"],[0.4444444444444444,\"#bd3786\"],[0.5555555555555556,\"#d8576b\"],[0.6666666666666666,\"#ed7953\"],[0.7777777777777778,\"#fb9f3a\"],[0.8888888888888888,\"#fdca26\"],[1.0,\"#f0f921\"]],\"type\":\"heatmap\"}],\"heatmapgl\":[{\"colorbar\":{\"outlinewidth\":0,\"ticks\":\"\"},\"colorscale\":[[0.0,\"#0d0887\"],[0.1111111111111111,\"#46039f\"],[0.2222222222222222,\"#7201a8\"],[0.3333333333333333,\"#9c179e\"],[0.4444444444444444,\"#bd3786\"],[0.5555555555555556,\"#d8576b\"],[0.6666666666666666,\"#ed7953\"],[0.7777777777777778,\"#fb9f3a\"],[0.8888888888888888,\"#fdca26\"],[1.0,\"#f0f921\"]],\"type\":\"heatmapgl\"}],\"histogram\":[{\"marker\":{\"pattern\":{\"fillmode\":\"overlay\",\"size\":10,\"solidity\":0.2}},\"type\":\"histogram\"}],\"histogram2d\":[{\"colorbar\":{\"outlinewidth\":0,\"ticks\":\"\"},\"colorscale\":[[0.0,\"#0d0887\"],[0.1111111111111111,\"#46039f\"],[0.2222222222222222,\"#7201a8\"],[0.3333333333333333,\"#9c179e\"],[0.4444444444444444,\"#bd3786\"],[0.5555555555555556,\"#d8576b\"],[0.6666666666666666,\"#ed7953\"],[0.7777777777777778,\"#fb9f3a\"],[0.8888888888888888,\"#fdca26\"],[1.0,\"#f0f921\"]],\"type\":\"histogram2d\"}],\"histogram2dcontour\":[{\"colorbar\":{\"outlinewidth\":0,\"ticks\":\"\"},\"colorscale\":[[0.0,\"#0d0887\"],[0.1111111111111111,\"#46039f\"],[0.2222222222222222,\"#7201a8\"],[0.3333333333333333,\"#9c179e\"],[0.4444444444444444,\"#bd3786\"],[0.5555555555555556,\"#d8576b\"],[0.6666666666666666,\"#ed7953\"],[0.7777777777777778,\"#fb9f3a\"],[0.8888888888888888,\"#fdca26\"],[1.0,\"#f0f921\"]],\"type\":\"histogram2dcontour\"}],\"mesh3d\":[{\"colorbar\":{\"outlinewidth\":0,\"ticks\":\"\"},\"type\":\"mesh3d\"}],\"parcoords\":[{\"line\":{\"colorbar\":{\"outlinewidth\":0,\"ticks\":\"\"}},\"type\":\"parcoords\"}],\"pie\":[{\"automargin\":true,\"type\":\"pie\"}],\"scatter\":[{\"marker\":{\"colorbar\":{\"outlinewidth\":0,\"ticks\":\"\"}},\"type\":\"scatter\"}],\"scatter3d\":[{\"line\":{\"colorbar\":{\"outlinewidth\":0,\"ticks\":\"\"}},\"marker\":{\"colorbar\":{\"outlinewidth\":0,\"ticks\":\"\"}},\"type\":\"scatter3d\"}],\"scattercarpet\":[{\"marker\":{\"colorbar\":{\"outlinewidth\":0,\"ticks\":\"\"}},\"type\":\"scattercarpet\"}],\"scattergeo\":[{\"marker\":{\"colorbar\":{\"outlinewidth\":0,\"ticks\":\"\"}},\"type\":\"scattergeo\"}],\"scattergl\":[{\"marker\":{\"colorbar\":{\"outlinewidth\":0,\"ticks\":\"\"}},\"type\":\"scattergl\"}],\"scattermapbox\":[{\"marker\":{\"colorbar\":{\"outlinewidth\":0,\"ticks\":\"\"}},\"type\":\"scattermapbox\"}],\"scatterpolar\":[{\"marker\":{\"colorbar\":{\"outlinewidth\":0,\"ticks\":\"\"}},\"type\":\"scatterpolar\"}],\"scatterpolargl\":[{\"marker\":{\"colorbar\":{\"outlinewidth\":0,\"ticks\":\"\"}},\"type\":\"scatterpolargl\"}],\"scatterternary\":[{\"marker\":{\"colorbar\":{\"outlinewidth\":0,\"ticks\":\"\"}},\"type\":\"scatterternary\"}],\"surface\":[{\"colorbar\":{\"outlinewidth\":0,\"ticks\":\"\"},\"colorscale\":[[0.0,\"#0d0887\"],[0.1111111111111111,\"#46039f\"],[0.2222222222222222,\"#7201a8\"],[0.3333333333333333,\"#9c179e\"],[0.4444444444444444,\"#bd3786\"],[0.5555555555555556,\"#d8576b\"],[0.6666666666666666,\"#ed7953\"],[0.7777777777777778,\"#fb9f3a\"],[0.8888888888888888,\"#fdca26\"],[1.0,\"#f0f921\"]],\"type\":\"surface\"}],\"table\":[{\"cells\":{\"fill\":{\"color\":\"#EBF0F8\"},\"line\":{\"color\":\"white\"}},\"header\":{\"fill\":{\"color\":\"#C8D4E3\"},\"line\":{\"color\":\"white\"}},\"type\":\"table\"}]},\"layout\":{\"annotationdefaults\":{\"arrowcolor\":\"#2a3f5f\",\"arrowhead\":0,\"arrowwidth\":1},\"autotypenumbers\":\"strict\",\"coloraxis\":{\"colorbar\":{\"outlinewidth\":0,\"ticks\":\"\"}},\"colorscale\":{\"diverging\":[[0,\"#8e0152\"],[0.1,\"#c51b7d\"],[0.2,\"#de77ae\"],[0.3,\"#f1b6da\"],[0.4,\"#fde0ef\"],[0.5,\"#f7f7f7\"],[0.6,\"#e6f5d0\"],[0.7,\"#b8e186\"],[0.8,\"#7fbc41\"],[0.9,\"#4d9221\"],[1,\"#276419\"]],\"sequential\":[[0.0,\"#0d0887\"],[0.1111111111111111,\"#46039f\"],[0.2222222222222222,\"#7201a8\"],[0.3333333333333333,\"#9c179e\"],[0.4444444444444444,\"#bd3786\"],[0.5555555555555556,\"#d8576b\"],[0.6666666666666666,\"#ed7953\"],[0.7777777777777778,\"#fb9f3a\"],[0.8888888888888888,\"#fdca26\"],[1.0,\"#f0f921\"]],\"sequentialminus\":[[0.0,\"#0d0887\"],[0.1111111111111111,\"#46039f\"],[0.2222222222222222,\"#7201a8\"],[0.3333333333333333,\"#9c179e\"],[0.4444444444444444,\"#bd3786\"],[0.5555555555555556,\"#d8576b\"],[0.6666666666666666,\"#ed7953\"],[0.7777777777777778,\"#fb9f3a\"],[0.8888888888888888,\"#fdca26\"],[1.0,\"#f0f921\"]]},\"colorway\":[\"#636efa\",\"#EF553B\",\"#00cc96\",\"#ab63fa\",\"#FFA15A\",\"#19d3f3\",\"#FF6692\",\"#B6E880\",\"#FF97FF\",\"#FECB52\"],\"font\":{\"color\":\"#2a3f5f\"},\"geo\":{\"bgcolor\":\"white\",\"lakecolor\":\"white\",\"landcolor\":\"#E5ECF6\",\"showlakes\":true,\"showland\":true,\"subunitcolor\":\"white\"},\"hoverlabel\":{\"align\":\"left\"},\"hovermode\":\"closest\",\"mapbox\":{\"style\":\"light\"},\"paper_bgcolor\":\"white\",\"plot_bgcolor\":\"#E5ECF6\",\"polar\":{\"angularaxis\":{\"gridcolor\":\"white\",\"linecolor\":\"white\",\"ticks\":\"\"},\"bgcolor\":\"#E5ECF6\",\"radialaxis\":{\"gridcolor\":\"white\",\"linecolor\":\"white\",\"ticks\":\"\"}},\"scene\":{\"xaxis\":{\"backgroundcolor\":\"#E5ECF6\",\"gridcolor\":\"white\",\"gridwidth\":2,\"linecolor\":\"white\",\"showbackground\":true,\"ticks\":\"\",\"zerolinecolor\":\"white\"},\"yaxis\":{\"backgroundcolor\":\"#E5ECF6\",\"gridcolor\":\"white\",\"gridwidth\":2,\"linecolor\":\"white\",\"showbackground\":true,\"ticks\":\"\",\"zerolinecolor\":\"white\"},\"zaxis\":{\"backgroundcolor\":\"#E5ECF6\",\"gridcolor\":\"white\",\"gridwidth\":2,\"linecolor\":\"white\",\"showbackground\":true,\"ticks\":\"\",\"zerolinecolor\":\"white\"}},\"shapedefaults\":{\"line\":{\"color\":\"#2a3f5f\"}},\"ternary\":{\"aaxis\":{\"gridcolor\":\"white\",\"linecolor\":\"white\",\"ticks\":\"\"},\"baxis\":{\"gridcolor\":\"white\",\"linecolor\":\"white\",\"ticks\":\"\"},\"bgcolor\":\"#E5ECF6\",\"caxis\":{\"gridcolor\":\"white\",\"linecolor\":\"white\",\"ticks\":\"\"}},\"title\":{\"x\":0.05},\"xaxis\":{\"automargin\":true,\"gridcolor\":\"white\",\"linecolor\":\"white\",\"ticks\":\"\",\"title\":{\"standoff\":15},\"zerolinecolor\":\"white\",\"zerolinewidth\":2},\"yaxis\":{\"automargin\":true,\"gridcolor\":\"white\",\"linecolor\":\"white\",\"ticks\":\"\",\"title\":{\"standoff\":15},\"zerolinecolor\":\"white\",\"zerolinewidth\":2}}},\"xaxis\":{\"anchor\":\"y\",\"domain\":[0.0,1.0],\"title\":{\"text\":\"x\"}},\"yaxis\":{\"anchor\":\"x\",\"domain\":[0.0,1.0],\"title\":{\"text\":\"y\"}},\"legend\":{\"tracegroupgap\":0},\"margin\":{\"t\":60}},                        {\"responsive\": true}                    ).then(function(){\n",
              "                            \n",
              "var gd = document.getElementById('44d6b706-5ce5-44dc-bbbb-ac09a06f7eac');\n",
              "var x = new MutationObserver(function (mutations, observer) {{\n",
              "        var display = window.getComputedStyle(gd).display;\n",
              "        if (!display || display === 'none') {{\n",
              "            console.log([gd, 'removed!']);\n",
              "            Plotly.purge(gd);\n",
              "            observer.disconnect();\n",
              "        }}\n",
              "}});\n",
              "\n",
              "// Listen for the removal of the full notebook cells\n",
              "var notebookContainer = gd.closest('#notebook-container');\n",
              "if (notebookContainer) {{\n",
              "    x.observe(notebookContainer, {childList: true});\n",
              "}}\n",
              "\n",
              "// Listen for the clearing of the current output cell\n",
              "var outputEl = gd.closest('.output');\n",
              "if (outputEl) {{\n",
              "    x.observe(outputEl, {childList: true});\n",
              "}}\n",
              "\n",
              "                        })                };                            </script>        </div>\n",
              "</body>\n",
              "</html>"
            ]
          },
          "metadata": {}
        }
      ]
    }
  ]
}