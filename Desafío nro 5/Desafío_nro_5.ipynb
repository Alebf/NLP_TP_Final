{
  "nbformat": 4,
  "nbformat_minor": 0,
  "metadata": {
    "colab": {
      "name": "Desafío nro 5.ipynb",
      "provenance": []
    },
    "kernelspec": {
      "name": "python3",
      "display_name": "Python 3"
    },
    "language_info": {
      "name": "python"
    }
  },
  "cells": [
    {
      "cell_type": "markdown",
      "source": [
        "# **Sentiment analysis con Embeddings + LSTM**\n",
        "**Objetivo**\n",
        "\n",
        "El objetivo es utilizar las críticas de compradores de ropa para que el sistema determine la evaluación del comprador y su crítica (cuantas estrellas le asigna al producto)."
      ],
      "metadata": {
        "id": "NMsNZzns-wUZ"
      }
    },
    {
      "cell_type": "code",
      "source": [
        "!pip install --upgrade --no-cache-dir gdown --quiet"
      ],
      "metadata": {
        "id": "02kRZpwOejHx"
      },
      "execution_count": null,
      "outputs": []
    },
    {
      "cell_type": "code",
      "execution_count": null,
      "metadata": {
        "id": "Hxtt1BMReQL_"
      },
      "outputs": [],
      "source": [
        "import numpy as np\n",
        "import random\n",
        "import io\n",
        "import pickle\n",
        "import pandas as pd\n",
        "\n",
        "import matplotlib.pyplot as plt\n",
        "import seaborn as sns\n",
        "\n",
        "from tensorflow import keras\n",
        "from tensorflow.keras import layers\n",
        "\n",
        "from keras.utils.np_utils import to_categorical\n",
        "from keras.preprocessing.sequence import pad_sequences\n",
        "from keras.models import Sequential\n",
        "from keras.layers import Dense\n",
        "from keras.layers import LSTM\n",
        "from keras.layers import Embedding\n",
        "\n",
        "from sklearn.metrics import roc_curve"
      ]
    },
    {
      "cell_type": "markdown",
      "source": [
        "# **Datos**\n",
        "Utilizaremos como dataset críticas de compradores de ropa (eCommerce) los cuales puntuaron a cada prenda con un puntaje de 1 a 5 estrellas.\\ Referencia del dataset: LINK"
      ],
      "metadata": {
        "id": "0f2RDRsf_MJA"
      }
    },
    {
      "cell_type": "code",
      "source": [
        "# Descargar la carpeta de dataset\n",
        "import os\n",
        "import gdown\n",
        "if os.access('clothing_ecommerce_reviews.csv', os.F_OK) is False:\n",
        "    url = 'https://drive.google.com/uc?id=1k2Dz4oY5uxI3JEaT6m-L2T2HvLkECYIP'\n",
        "    output = 'clothing_ecommerce_reviews.csv'\n",
        "    gdown.download(url, output, quiet=False)\n",
        "else:\n",
        "    print(\"El dataset ya se encuentra descargado\")"
      ],
      "metadata": {
        "colab": {
          "base_uri": "https://localhost:8080/"
        },
        "id": "bnfFMw54esF6",
        "outputId": "e1082794-45da-4795-d382-88bccbd9a46c"
      },
      "execution_count": null,
      "outputs": [
        {
          "output_type": "stream",
          "name": "stdout",
          "text": [
            "El dataset ya se encuentra descargado\n"
          ]
        }
      ]
    },
    {
      "cell_type": "code",
      "source": [
        "# Armar el dataset\n",
        "df = pd.read_csv('clothing_ecommerce_reviews.csv')\n",
        "df.drop(columns = ['Unnamed: 0'], inplace = True)\n",
        "df.head()"
      ],
      "metadata": {
        "colab": {
          "base_uri": "https://localhost:8080/",
          "height": 337
        },
        "id": "Uo88aLC0ewSQ",
        "outputId": "b7529bee-241f-44cf-df8c-8bd600cb78e8"
      },
      "execution_count": null,
      "outputs": [
        {
          "output_type": "execute_result",
          "data": {
            "text/plain": [
              "   Clothing ID  Age                    Title  \\\n",
              "0          767   33                      NaN   \n",
              "1         1080   34                      NaN   \n",
              "2         1077   60  Some major design flaws   \n",
              "3         1049   50         My favorite buy!   \n",
              "4          847   47         Flattering shirt   \n",
              "\n",
              "                                         Review Text  Rating  Recommended IND  \\\n",
              "0  Absolutely wonderful - silky and sexy and comf...       4                1   \n",
              "1  Love this dress!  it's sooo pretty.  i happene...       5                1   \n",
              "2  I had such high hopes for this dress and reall...       3                0   \n",
              "3  I love, love, love this jumpsuit. it's fun, fl...       5                1   \n",
              "4  This shirt is very flattering to all due to th...       5                1   \n",
              "\n",
              "   Positive Feedback Count   Division Name Department Name Class Name  \n",
              "0                        0       Initmates        Intimate  Intimates  \n",
              "1                        4         General         Dresses    Dresses  \n",
              "2                        0         General         Dresses    Dresses  \n",
              "3                        0  General Petite         Bottoms      Pants  \n",
              "4                        6         General            Tops    Blouses  "
            ],
            "text/html": [
              "\n",
              "  <div id=\"df-71c9abe0-6954-42e0-8109-1ae0c2f1dfe0\">\n",
              "    <div class=\"colab-df-container\">\n",
              "      <div>\n",
              "<style scoped>\n",
              "    .dataframe tbody tr th:only-of-type {\n",
              "        vertical-align: middle;\n",
              "    }\n",
              "\n",
              "    .dataframe tbody tr th {\n",
              "        vertical-align: top;\n",
              "    }\n",
              "\n",
              "    .dataframe thead th {\n",
              "        text-align: right;\n",
              "    }\n",
              "</style>\n",
              "<table border=\"1\" class=\"dataframe\">\n",
              "  <thead>\n",
              "    <tr style=\"text-align: right;\">\n",
              "      <th></th>\n",
              "      <th>Clothing ID</th>\n",
              "      <th>Age</th>\n",
              "      <th>Title</th>\n",
              "      <th>Review Text</th>\n",
              "      <th>Rating</th>\n",
              "      <th>Recommended IND</th>\n",
              "      <th>Positive Feedback Count</th>\n",
              "      <th>Division Name</th>\n",
              "      <th>Department Name</th>\n",
              "      <th>Class Name</th>\n",
              "    </tr>\n",
              "  </thead>\n",
              "  <tbody>\n",
              "    <tr>\n",
              "      <th>0</th>\n",
              "      <td>767</td>\n",
              "      <td>33</td>\n",
              "      <td>NaN</td>\n",
              "      <td>Absolutely wonderful - silky and sexy and comf...</td>\n",
              "      <td>4</td>\n",
              "      <td>1</td>\n",
              "      <td>0</td>\n",
              "      <td>Initmates</td>\n",
              "      <td>Intimate</td>\n",
              "      <td>Intimates</td>\n",
              "    </tr>\n",
              "    <tr>\n",
              "      <th>1</th>\n",
              "      <td>1080</td>\n",
              "      <td>34</td>\n",
              "      <td>NaN</td>\n",
              "      <td>Love this dress!  it's sooo pretty.  i happene...</td>\n",
              "      <td>5</td>\n",
              "      <td>1</td>\n",
              "      <td>4</td>\n",
              "      <td>General</td>\n",
              "      <td>Dresses</td>\n",
              "      <td>Dresses</td>\n",
              "    </tr>\n",
              "    <tr>\n",
              "      <th>2</th>\n",
              "      <td>1077</td>\n",
              "      <td>60</td>\n",
              "      <td>Some major design flaws</td>\n",
              "      <td>I had such high hopes for this dress and reall...</td>\n",
              "      <td>3</td>\n",
              "      <td>0</td>\n",
              "      <td>0</td>\n",
              "      <td>General</td>\n",
              "      <td>Dresses</td>\n",
              "      <td>Dresses</td>\n",
              "    </tr>\n",
              "    <tr>\n",
              "      <th>3</th>\n",
              "      <td>1049</td>\n",
              "      <td>50</td>\n",
              "      <td>My favorite buy!</td>\n",
              "      <td>I love, love, love this jumpsuit. it's fun, fl...</td>\n",
              "      <td>5</td>\n",
              "      <td>1</td>\n",
              "      <td>0</td>\n",
              "      <td>General Petite</td>\n",
              "      <td>Bottoms</td>\n",
              "      <td>Pants</td>\n",
              "    </tr>\n",
              "    <tr>\n",
              "      <th>4</th>\n",
              "      <td>847</td>\n",
              "      <td>47</td>\n",
              "      <td>Flattering shirt</td>\n",
              "      <td>This shirt is very flattering to all due to th...</td>\n",
              "      <td>5</td>\n",
              "      <td>1</td>\n",
              "      <td>6</td>\n",
              "      <td>General</td>\n",
              "      <td>Tops</td>\n",
              "      <td>Blouses</td>\n",
              "    </tr>\n",
              "  </tbody>\n",
              "</table>\n",
              "</div>\n",
              "      <button class=\"colab-df-convert\" onclick=\"convertToInteractive('df-71c9abe0-6954-42e0-8109-1ae0c2f1dfe0')\"\n",
              "              title=\"Convert this dataframe to an interactive table.\"\n",
              "              style=\"display:none;\">\n",
              "        \n",
              "  <svg xmlns=\"http://www.w3.org/2000/svg\" height=\"24px\"viewBox=\"0 0 24 24\"\n",
              "       width=\"24px\">\n",
              "    <path d=\"M0 0h24v24H0V0z\" fill=\"none\"/>\n",
              "    <path d=\"M18.56 5.44l.94 2.06.94-2.06 2.06-.94-2.06-.94-.94-2.06-.94 2.06-2.06.94zm-11 1L8.5 8.5l.94-2.06 2.06-.94-2.06-.94L8.5 2.5l-.94 2.06-2.06.94zm10 10l.94 2.06.94-2.06 2.06-.94-2.06-.94-.94-2.06-.94 2.06-2.06.94z\"/><path d=\"M17.41 7.96l-1.37-1.37c-.4-.4-.92-.59-1.43-.59-.52 0-1.04.2-1.43.59L10.3 9.45l-7.72 7.72c-.78.78-.78 2.05 0 2.83L4 21.41c.39.39.9.59 1.41.59.51 0 1.02-.2 1.41-.59l7.78-7.78 2.81-2.81c.8-.78.8-2.07 0-2.86zM5.41 20L4 18.59l7.72-7.72 1.47 1.35L5.41 20z\"/>\n",
              "  </svg>\n",
              "      </button>\n",
              "      \n",
              "  <style>\n",
              "    .colab-df-container {\n",
              "      display:flex;\n",
              "      flex-wrap:wrap;\n",
              "      gap: 12px;\n",
              "    }\n",
              "\n",
              "    .colab-df-convert {\n",
              "      background-color: #E8F0FE;\n",
              "      border: none;\n",
              "      border-radius: 50%;\n",
              "      cursor: pointer;\n",
              "      display: none;\n",
              "      fill: #1967D2;\n",
              "      height: 32px;\n",
              "      padding: 0 0 0 0;\n",
              "      width: 32px;\n",
              "    }\n",
              "\n",
              "    .colab-df-convert:hover {\n",
              "      background-color: #E2EBFA;\n",
              "      box-shadow: 0px 1px 2px rgba(60, 64, 67, 0.3), 0px 1px 3px 1px rgba(60, 64, 67, 0.15);\n",
              "      fill: #174EA6;\n",
              "    }\n",
              "\n",
              "    [theme=dark] .colab-df-convert {\n",
              "      background-color: #3B4455;\n",
              "      fill: #D2E3FC;\n",
              "    }\n",
              "\n",
              "    [theme=dark] .colab-df-convert:hover {\n",
              "      background-color: #434B5C;\n",
              "      box-shadow: 0px 1px 3px 1px rgba(0, 0, 0, 0.15);\n",
              "      filter: drop-shadow(0px 1px 2px rgba(0, 0, 0, 0.3));\n",
              "      fill: #FFFFFF;\n",
              "    }\n",
              "  </style>\n",
              "\n",
              "      <script>\n",
              "        const buttonEl =\n",
              "          document.querySelector('#df-71c9abe0-6954-42e0-8109-1ae0c2f1dfe0 button.colab-df-convert');\n",
              "        buttonEl.style.display =\n",
              "          google.colab.kernel.accessAllowed ? 'block' : 'none';\n",
              "\n",
              "        async function convertToInteractive(key) {\n",
              "          const element = document.querySelector('#df-71c9abe0-6954-42e0-8109-1ae0c2f1dfe0');\n",
              "          const dataTable =\n",
              "            await google.colab.kernel.invokeFunction('convertToInteractive',\n",
              "                                                     [key], {});\n",
              "          if (!dataTable) return;\n",
              "\n",
              "          const docLinkHtml = 'Like what you see? Visit the ' +\n",
              "            '<a target=\"_blank\" href=https://colab.research.google.com/notebooks/data_table.ipynb>data table notebook</a>'\n",
              "            + ' to learn more about interactive tables.';\n",
              "          element.innerHTML = '';\n",
              "          dataTable['output_type'] = 'display_data';\n",
              "          await google.colab.output.renderOutput(dataTable, element);\n",
              "          const docLink = document.createElement('div');\n",
              "          docLink.innerHTML = docLinkHtml;\n",
              "          element.appendChild(docLink);\n",
              "        }\n",
              "      </script>\n",
              "    </div>\n",
              "  </div>\n",
              "  "
            ]
          },
          "metadata": {},
          "execution_count": 64
        }
      ]
    },
    {
      "cell_type": "markdown",
      "source": [
        "## **1 - Limpieza de datos**\n",
        "Alumno:\n",
        "\n",
        "*   Del dataset unicamente utilizar las columnas \"Review Text\" y \"Rating.\n",
        "*   Tranformar el rating 1-5 a una escala numérica de 0 a 4.\n",
        "\n"
      ],
      "metadata": {
        "id": "4VXMErDuAIgL"
      }
    },
    {
      "cell_type": "code",
      "source": [
        "df_reviews = df.loc[:, ['Review Text', 'Rating']].dropna()\n",
        "df_reviews['Rating'] = df_reviews['Rating'] - 1\n",
        "df_reviews.head()"
      ],
      "metadata": {
        "colab": {
          "base_uri": "https://localhost:8080/",
          "height": 206
        },
        "id": "uBT2o_oXfHnF",
        "outputId": "78cf8f92-9057-4875-83e4-54309ee1d923"
      },
      "execution_count": null,
      "outputs": [
        {
          "output_type": "execute_result",
          "data": {
            "text/plain": [
              "                                         Review Text  Rating\n",
              "0  Absolutely wonderful - silky and sexy and comf...       3\n",
              "1  Love this dress!  it's sooo pretty.  i happene...       4\n",
              "2  I had such high hopes for this dress and reall...       2\n",
              "3  I love, love, love this jumpsuit. it's fun, fl...       4\n",
              "4  This shirt is very flattering to all due to th...       4"
            ],
            "text/html": [
              "\n",
              "  <div id=\"df-6e0d217c-843c-4ea4-b89b-504ddeaf9b19\">\n",
              "    <div class=\"colab-df-container\">\n",
              "      <div>\n",
              "<style scoped>\n",
              "    .dataframe tbody tr th:only-of-type {\n",
              "        vertical-align: middle;\n",
              "    }\n",
              "\n",
              "    .dataframe tbody tr th {\n",
              "        vertical-align: top;\n",
              "    }\n",
              "\n",
              "    .dataframe thead th {\n",
              "        text-align: right;\n",
              "    }\n",
              "</style>\n",
              "<table border=\"1\" class=\"dataframe\">\n",
              "  <thead>\n",
              "    <tr style=\"text-align: right;\">\n",
              "      <th></th>\n",
              "      <th>Review Text</th>\n",
              "      <th>Rating</th>\n",
              "    </tr>\n",
              "  </thead>\n",
              "  <tbody>\n",
              "    <tr>\n",
              "      <th>0</th>\n",
              "      <td>Absolutely wonderful - silky and sexy and comf...</td>\n",
              "      <td>3</td>\n",
              "    </tr>\n",
              "    <tr>\n",
              "      <th>1</th>\n",
              "      <td>Love this dress!  it's sooo pretty.  i happene...</td>\n",
              "      <td>4</td>\n",
              "    </tr>\n",
              "    <tr>\n",
              "      <th>2</th>\n",
              "      <td>I had such high hopes for this dress and reall...</td>\n",
              "      <td>2</td>\n",
              "    </tr>\n",
              "    <tr>\n",
              "      <th>3</th>\n",
              "      <td>I love, love, love this jumpsuit. it's fun, fl...</td>\n",
              "      <td>4</td>\n",
              "    </tr>\n",
              "    <tr>\n",
              "      <th>4</th>\n",
              "      <td>This shirt is very flattering to all due to th...</td>\n",
              "      <td>4</td>\n",
              "    </tr>\n",
              "  </tbody>\n",
              "</table>\n",
              "</div>\n",
              "      <button class=\"colab-df-convert\" onclick=\"convertToInteractive('df-6e0d217c-843c-4ea4-b89b-504ddeaf9b19')\"\n",
              "              title=\"Convert this dataframe to an interactive table.\"\n",
              "              style=\"display:none;\">\n",
              "        \n",
              "  <svg xmlns=\"http://www.w3.org/2000/svg\" height=\"24px\"viewBox=\"0 0 24 24\"\n",
              "       width=\"24px\">\n",
              "    <path d=\"M0 0h24v24H0V0z\" fill=\"none\"/>\n",
              "    <path d=\"M18.56 5.44l.94 2.06.94-2.06 2.06-.94-2.06-.94-.94-2.06-.94 2.06-2.06.94zm-11 1L8.5 8.5l.94-2.06 2.06-.94-2.06-.94L8.5 2.5l-.94 2.06-2.06.94zm10 10l.94 2.06.94-2.06 2.06-.94-2.06-.94-.94-2.06-.94 2.06-2.06.94z\"/><path d=\"M17.41 7.96l-1.37-1.37c-.4-.4-.92-.59-1.43-.59-.52 0-1.04.2-1.43.59L10.3 9.45l-7.72 7.72c-.78.78-.78 2.05 0 2.83L4 21.41c.39.39.9.59 1.41.59.51 0 1.02-.2 1.41-.59l7.78-7.78 2.81-2.81c.8-.78.8-2.07 0-2.86zM5.41 20L4 18.59l7.72-7.72 1.47 1.35L5.41 20z\"/>\n",
              "  </svg>\n",
              "      </button>\n",
              "      \n",
              "  <style>\n",
              "    .colab-df-container {\n",
              "      display:flex;\n",
              "      flex-wrap:wrap;\n",
              "      gap: 12px;\n",
              "    }\n",
              "\n",
              "    .colab-df-convert {\n",
              "      background-color: #E8F0FE;\n",
              "      border: none;\n",
              "      border-radius: 50%;\n",
              "      cursor: pointer;\n",
              "      display: none;\n",
              "      fill: #1967D2;\n",
              "      height: 32px;\n",
              "      padding: 0 0 0 0;\n",
              "      width: 32px;\n",
              "    }\n",
              "\n",
              "    .colab-df-convert:hover {\n",
              "      background-color: #E2EBFA;\n",
              "      box-shadow: 0px 1px 2px rgba(60, 64, 67, 0.3), 0px 1px 3px 1px rgba(60, 64, 67, 0.15);\n",
              "      fill: #174EA6;\n",
              "    }\n",
              "\n",
              "    [theme=dark] .colab-df-convert {\n",
              "      background-color: #3B4455;\n",
              "      fill: #D2E3FC;\n",
              "    }\n",
              "\n",
              "    [theme=dark] .colab-df-convert:hover {\n",
              "      background-color: #434B5C;\n",
              "      box-shadow: 0px 1px 3px 1px rgba(0, 0, 0, 0.15);\n",
              "      filter: drop-shadow(0px 1px 2px rgba(0, 0, 0, 0.3));\n",
              "      fill: #FFFFFF;\n",
              "    }\n",
              "  </style>\n",
              "\n",
              "      <script>\n",
              "        const buttonEl =\n",
              "          document.querySelector('#df-6e0d217c-843c-4ea4-b89b-504ddeaf9b19 button.colab-df-convert');\n",
              "        buttonEl.style.display =\n",
              "          google.colab.kernel.accessAllowed ? 'block' : 'none';\n",
              "\n",
              "        async function convertToInteractive(key) {\n",
              "          const element = document.querySelector('#df-6e0d217c-843c-4ea4-b89b-504ddeaf9b19');\n",
              "          const dataTable =\n",
              "            await google.colab.kernel.invokeFunction('convertToInteractive',\n",
              "                                                     [key], {});\n",
              "          if (!dataTable) return;\n",
              "\n",
              "          const docLinkHtml = 'Like what you see? Visit the ' +\n",
              "            '<a target=\"_blank\" href=https://colab.research.google.com/notebooks/data_table.ipynb>data table notebook</a>'\n",
              "            + ' to learn more about interactive tables.';\n",
              "          element.innerHTML = '';\n",
              "          dataTable['output_type'] = 'display_data';\n",
              "          await google.colab.output.renderOutput(dataTable, element);\n",
              "          const docLink = document.createElement('div');\n",
              "          docLink.innerHTML = docLinkHtml;\n",
              "          element.appendChild(docLink);\n",
              "        }\n",
              "      </script>\n",
              "    </div>\n",
              "  </div>\n",
              "  "
            ]
          },
          "metadata": {},
          "execution_count": 65
        }
      ]
    },
    {
      "cell_type": "code",
      "source": [
        "# Alumno: Observar como está distribuido el dataset respecto a la columna Rating\n",
        "# es decir, observar que tan balanceado se encuentra respecot a cada clase\n",
        "\n",
        "sns.countplot(x=\"Rating\", data=df_reviews)"
      ],
      "metadata": {
        "colab": {
          "base_uri": "https://localhost:8080/",
          "height": 296
        },
        "id": "RJktsG9efOkH",
        "outputId": "0689dca9-32f8-4a9d-a8a4-20a080e31b02"
      },
      "execution_count": null,
      "outputs": [
        {
          "output_type": "execute_result",
          "data": {
            "text/plain": [
              "<matplotlib.axes._subplots.AxesSubplot at 0x7fad17bf6c90>"
            ]
          },
          "metadata": {},
          "execution_count": 66
        },
        {
          "output_type": "display_data",
          "data": {
            "text/plain": [
              "<Figure size 432x288 with 1 Axes>"
            ],
            "image/png": "[encoded data removed]"
          },
          "metadata": {
            "needs_background": "light"
          }
        }
      ]
    },
    {
      "cell_type": "markdown",
      "source": [
        "## **Estrategia**\n",
        "Como se observar en el gráfico el conjunto de datos está muy desbalanceado por lo tanto lo recomendable en estos casos de clasificación multiclases sería utilizar alguna estrategia para mejorar esta situación. A los efectos del trabajo práctico no voy a aplicar ninguna de las estratégias de balanceo del dataset, voy a trabajar con los datos cómo están para confirmar en base a los resultados la necesidad de aplicar dichas estratégias.\n",
        "\n"
      ],
      "metadata": {
        "id": "itfph4npLahm"
      }
    },
    {
      "cell_type": "code",
      "source": [
        "# Alumno: tomar la columna de las review y almacenarlo todo en un vector numpy de reviews\n",
        "text_sequences = df_reviews[\"Review Text\"].values\n",
        "text_sequences.shape"
      ],
      "metadata": {
        "colab": {
          "base_uri": "https://localhost:8080/"
        },
        "id": "0-tfbg1nl8ro",
        "outputId": "38010f83-6f16-480c-ac88-4dd6106d49c0"
      },
      "execution_count": null,
      "outputs": [
        {
          "output_type": "execute_result",
          "data": {
            "text/plain": [
              "(22641,)"
            ]
          },
          "metadata": {},
          "execution_count": 67
        }
      ]
    },
    {
      "cell_type": "code",
      "source": [
        "# Cuantas reviews (rows) hay para evaluar?\n",
        "len(text_sequences)"
      ],
      "metadata": {
        "colab": {
          "base_uri": "https://localhost:8080/"
        },
        "id": "yZsT-4MjnaIt",
        "outputId": "9ea8783b-ded8-4135-b0c8-e3f4f13818bd"
      },
      "execution_count": null,
      "outputs": [
        {
          "output_type": "execute_result",
          "data": {
            "text/plain": [
              "22641"
            ]
          },
          "metadata": {},
          "execution_count": 68
        }
      ]
    },
    {
      "cell_type": "code",
      "source": [
        "# Alumno: Concatenar todas las reviews para armar el corpus\n",
        "# Concatenar todas las reviews para armar el corpus\n",
        "corpus = ' '.join(text_sequences)"
      ],
      "metadata": {
        "id": "h_AWAzHLnDRP"
      },
      "execution_count": null,
      "outputs": []
    },
    {
      "cell_type": "code",
      "source": [
        "# ¿Cuál es la longitud de ese corpus?\n",
        "len(corpus)"
      ],
      "metadata": {
        "colab": {
          "base_uri": "https://localhost:8080/"
        },
        "id": "JQceF8Q_nnU1",
        "outputId": "f3e41021-d9a1-4a78-942b-13154b76531f"
      },
      "execution_count": null,
      "outputs": [
        {
          "output_type": "execute_result",
          "data": {
            "text/plain": [
              "7011643"
            ]
          },
          "metadata": {},
          "execution_count": 70
        }
      ]
    },
    {
      "cell_type": "code",
      "source": [
        "# Utilizar \"text_to_word_sequence\" para separar las palabras en tokens\n",
        "# recordar que text_to_word_sequence automaticamente quita los signos de puntuacion y pasa el texto a lowercase\n",
        "from keras.preprocessing.text import text_to_word_sequence\n",
        "tokens = text_to_word_sequence(corpus)"
      ],
      "metadata": {
        "id": "_f-1vLTWp4rc"
      },
      "execution_count": null,
      "outputs": []
    },
    {
      "cell_type": "code",
      "source": [
        "# Dar un vistazo a los primeros 20 tokens/palabras\n",
        "tokens[:20]"
      ],
      "metadata": {
        "colab": {
          "base_uri": "https://localhost:8080/"
        },
        "id": "6DQo4aHJqF_E",
        "outputId": "f8e82c88-daef-4a23-bdc9-f6e72051aa05"
      },
      "execution_count": null,
      "outputs": [
        {
          "output_type": "execute_result",
          "data": {
            "text/plain": [
              "['absolutely',\n",
              " 'wonderful',\n",
              " 'silky',\n",
              " 'and',\n",
              " 'sexy',\n",
              " 'and',\n",
              " 'comfortable',\n",
              " 'love',\n",
              " 'this',\n",
              " 'dress',\n",
              " \"it's\",\n",
              " 'sooo',\n",
              " 'pretty',\n",
              " 'i',\n",
              " 'happened',\n",
              " 'to',\n",
              " 'find',\n",
              " 'it',\n",
              " 'in',\n",
              " 'a']"
            ]
          },
          "metadata": {},
          "execution_count": 72
        }
      ]
    },
    {
      "cell_type": "code",
      "source": [
        "# ¿Cuántos tokens/palabras hay?\n",
        "len(tokens)"
      ],
      "metadata": {
        "colab": {
          "base_uri": "https://localhost:8080/"
        },
        "id": "itWhjfHoqLqD",
        "outputId": "2c0484ac-43d8-4b43-f6af-877c3cd275d2"
      },
      "execution_count": null,
      "outputs": [
        {
          "output_type": "execute_result",
          "data": {
            "text/plain": [
              "1372203"
            ]
          },
          "metadata": {},
          "execution_count": 73
        }
      ]
    },
    {
      "cell_type": "code",
      "source": [
        "len(set(tokens))"
      ],
      "metadata": {
        "colab": {
          "base_uri": "https://localhost:8080/"
        },
        "id": "xM555aqtqe4C",
        "outputId": "89b199cd-b3bf-4f02-8f57-2fa89a9635d0"
      },
      "execution_count": null,
      "outputs": [
        {
          "output_type": "execute_result",
          "data": {
            "text/plain": [
              "14847"
            ]
          },
          "metadata": {},
          "execution_count": 74
        }
      ]
    },
    {
      "cell_type": "code",
      "source": [
        "# Tokenizar las palabras con el Tokenizer de Keras\n",
        "# Definir una máxima cantidad de palabras a utilizar:\n",
        "# - num_words --> the maximum number of words to keep, based on word frequency.\n",
        "# - Only the most common num_words-1 words will be kept.\n",
        "from keras.preprocessing.text import Tokenizer\n",
        "num_words = 10000\n",
        "vocab_size = num_words\n",
        "tok = Tokenizer(num_words=10000) \n",
        "tok.fit_on_texts(tokens)"
      ],
      "metadata": {
        "id": "u0IYmIwlqYFC"
      },
      "execution_count": null,
      "outputs": []
    },
    {
      "cell_type": "code",
      "source": [
        "# Obtener el diccionario de palabra (word) a índice\n",
        "# y observar la cantidad total del vocabulario\n",
        "word_index = tok.word_index\n",
        "len(word_index)"
      ],
      "metadata": {
        "colab": {
          "base_uri": "https://localhost:8080/"
        },
        "id": "Qt2dAVNmqraZ",
        "outputId": "cb497196-7f1e-4b9c-86ad-e2c987cd3c76"
      },
      "execution_count": null,
      "outputs": [
        {
          "output_type": "execute_result",
          "data": {
            "text/plain": [
              "14847"
            ]
          },
          "metadata": {},
          "execution_count": 76
        }
      ]
    },
    {
      "cell_type": "code",
      "source": [
        "# Convertir las palabras/tokens a números\n",
        "sequences = tok.texts_to_sequences(text_sequences)"
      ],
      "metadata": {
        "id": "VVhRmS83qxfj"
      },
      "execution_count": null,
      "outputs": []
    },
    {
      "cell_type": "code",
      "source": [
        "sequences[0][:10]"
      ],
      "metadata": {
        "colab": {
          "base_uri": "https://localhost:8080/"
        },
        "id": "U0av_1UWq1ic",
        "outputId": "67ee7d00-3ab0-4721-84bb-b5cdfcb2c781"
      },
      "execution_count": null,
      "outputs": [
        {
          "output_type": "execute_result",
          "data": {
            "text/plain": [
              "[253, 532, 917, 3, 662, 3, 68]"
            ]
          },
          "metadata": {},
          "execution_count": 78
        }
      ]
    },
    {
      "cell_type": "code",
      "source": [
        "# Determinar cual es la oración más larga\n",
        "max(len(s) for s in sequences)"
      ],
      "metadata": {
        "colab": {
          "base_uri": "https://localhost:8080/"
        },
        "id": "_U8QuN3eq6sr",
        "outputId": "2e4c2de6-e1b6-4025-9a08-a3ffe5719f7a"
      },
      "execution_count": null,
      "outputs": [
        {
          "output_type": "execute_result",
          "data": {
            "text/plain": [
              "116"
            ]
          },
          "metadata": {},
          "execution_count": 79
        }
      ]
    },
    {
      "cell_type": "code",
      "source": [
        "#from numpy.ma.core import append\n",
        "largo = []\n",
        "for s in sequences:\n",
        "    largo.append(len(s))\n",
        "print(largo)    "
      ],
      "metadata": {
        "colab": {
          "base_uri": "https://localhost:8080/"
        },
        "id": "3UvoL8vXxyeg",
        "outputId": "a48a5a36-c456-4dbf-8be2-42a37e350092"
      },
      "execution_count": null,
      "outputs": [
        {
          "output_type": "stream",
          "name": "stdout",
          "text": [
            "[7, 62, 97, 22, 36, 98, 99, 97, 34, 73, 66, 8, 95, 75, 96, 96, 73, 57, 33, 57, 64, 105, 85, 41, 95, 69, 98, 47, 32, 85, 17, 66, 18, 86, 52, 18, 29, 71, 16, 23, 26, 50, 47, 96, 73, 46, 39, 10, 16, 47, 69, 37, 9, 90, 84, 41, 86, 30, 100, 51, 57, 100, 39, 22, 12, 44, 104, 97, 70, 55, 89, 102, 103, 51, 109, 99, 58, 39, 51, 86, 102, 10, 92, 97, 104, 102, 77, 106, 21, 77, 83, 81, 94, 97, 49, 32, 89, 47, 90, 46, 31, 13, 58, 52, 62, 63, 7, 32, 105, 89, 40, 93, 12, 36, 62, 84, 66, 25, 54, 60, 39, 40, 93, 88, 87, 31, 30, 103, 93, 70, 53, 91, 83, 76, 99, 76, 45, 56, 39, 40, 103, 83, 47, 84, 78, 30, 22, 62, 43, 106, 41, 53, 78, 55, 92, 86, 89, 102, 40, 99, 48, 30, 97, 25, 38, 92, 76, 61, 52, 65, 46, 91, 99, 35, 89, 92, 52, 67, 100, 33, 18, 85, 40, 43, 50, 22, 25, 89, 101, 66, 14, 40, 49, 50, 41, 104, 82, 56, 72, 90, 38, 23, 65, 100, 48, 49, 90, 29, 100, 25, 11, 105, 34, 91, 95, 61, 100, 28, 66, 96, 72, 88, 76, 81, 96, 45, 31, 32, 34, 90, 95, 36, 90, 42, 70, 55, 31, 54, 92, 10, 78, 35, 57, 47, 38, 44, 98, 75, 35, 39, 84, 41, 98, 19, 42, 94, 42, 48, 13, 51, 41, 95, 41, 89, 11, 19, 93, 94, 31, 84, 80, 33, 38, 50, 62, 61, 46, 92, 81, 40, 16, 53, 99, 95, 47, 40, 52, 19, 65, 106, 9, 45, 26, 68, 109, 95, 77, 53, 76, 32, 19, 48, 45, 81, 54, 105, 66, 49, 54, 32, 101, 96, 81, 95, 9, 13, 40, 10, 61, 39, 53, 91, 45, 95, 99, 72, 53, 37, 30, 83, 48, 72, 69, 41, 59, 86, 73, 53, 77, 54, 15, 99, 32, 65, 98, 104, 57, 65, 42, 33, 22, 104, 96, 38, 57, 31, 103, 54, 93, 91, 67, 35, 40, 71, 26, 87, 48, 42, 68, 65, 66, 100, 96, 52, 68, 99, 85, 78, 110, 65, 80, 60, 40, 97, 48, 47, 45, 100, 39, 72, 68, 58, 79, 45, 98, 87, 63, 35, 25, 98, 105, 47, 24, 87, 50, 34, 112, 96, 56, 76, 43, 43, 56, 33, 98, 72, 108, 99, 54, 99, 49, 81, 59, 88, 53, 18, 58, 28, 60, 64, 97, 27, 11, 99, 85, 96, 29, 41, 46, 68, 96, 52, 68, 101, 98, 56, 80, 109, 26, 32, 18, 39, 88, 29, 28, 20, 99, 102, 14, 105, 37, 92, 33, 82, 101, 86, 43, 42, 91, 89, 12, 49, 52, 59, 74, 94, 94, 83, 19, 21, 32, 101, 100, 8, 74, 95, 45, 108, 103, 71, 49, 69, 71, 51, 46, 101, 78, 22, 90, 12, 107, 32, 103, 16, 34, 17, 40, 66, 32, 64, 48, 88, 18, 87, 89, 31, 98, 20, 12, 98, 53, 81, 65, 101, 41, 26, 60, 105, 20, 38, 106, 43, 33, 36, 26, 101, 82, 105, 96, 65, 38, 41, 98, 100, 45, 28, 26, 94, 53, 44, 105, 68, 64, 100, 44, 40, 89, 74, 99, 10, 39, 92, 59, 41, 58, 14, 79, 37, 42, 99, 103, 59, 23, 96, 27, 58, 60, 52, 84, 78, 94, 14, 48, 69, 95, 24, 58, 66, 53, 39, 38, 98, 18, 11, 59, 51, 53, 55, 44, 45, 68, 86, 31, 49, 75, 69, 64, 12, 41, 58, 11, 28, 26, 104, 81, 35, 97, 96, 77, 32, 14, 96, 37, 92, 103, 23, 102, 99, 31, 63, 107, 24, 89, 16, 46, 28, 55, 11, 28, 56, 29, 73, 74, 64, 55, 104, 95, 31, 22, 58, 23, 95, 22, 71, 28, 34, 51, 100, 23, 66, 39, 100, 39, 95, 90, 15, 103, 40, 35, 85, 91, 66, 71, 95, 37, 89, 94, 95, 35, 59, 54, 91, 63, 65, 45, 42, 100, 77, 16, 62, 42, 45, 63, 23, 95, 29, 82, 40, 20, 97, 41, 99, 50, 71, 71, 28, 98, 25, 97, 31, 35, 97, 57, 97, 43, 94, 22, 57, 34, 79, 35, 15, 66, 81, 49, 6, 28, 101, 55, 57, 104, 45, 12, 98, 102, 44, 63, 48, 55, 102, 96, 24, 67, 92, 41, 57, 79, 74, 89, 76, 41, 16, 44, 66, 99, 87, 84, 106, 103, 39, 100, 94, 60, 14, 108, 71, 79, 35, 82, 42, 34, 28, 32, 55, 57, 69, 39, 55, 24, 81, 17, 64, 95, 101, 53, 48, 72, 55, 63, 34, 64, 57, 102, 75, 23, 11, 40, 27, 52, 39, 20, 57, 66, 42, 98, 13, 6, 98, 64, 84, 58, 49, 33, 75, 89, 12, 55, 24, 36, 35, 2, 39, 32, 84, 33, 33, 21, 55, 77, 73, 65, 99, 82, 14, 35, 62, 53, 71, 100, 29, 90, 90, 98, 25, 51, 73, 53, 102, 94, 67, 80, 80, 30, 33, 100, 87, 44, 102, 60, 76, 69, 43, 43, 97, 43, 51, 55, 88, 41, 58, 28, 97, 77, 11, 96, 90, 57, 87, 47, 27, 48, 102, 41, 64, 53, 44, 60, 71, 61, 76, 42, 94, 19, 58, 39, 43, 83, 67, 37, 49, 100, 26, 43, 72, 65, 53, 50, 98, 66, 79, 33, 49, 55, 30, 99, 97, 76, 43, 37, 62, 55, 67, 93, 35, 102, 95, 24, 54, 7, 49, 34, 9, 75, 69, 7, 66, 91, 70, 39, 60, 55, 92, 96, 13, 66, 38, 74, 87, 96, 36, 96, 43, 71, 43, 96, 94, 10, 31, 6, 74, 15, 78, 50, 66, 92, 94, 16, 52, 85, 97, 101, 63, 32, 94, 9, 86, 22, 51, 43, 41, 90, 91, 70, 71, 60, 85, 35, 34, 102, 94, 34, 57, 36, 64, 78, 53, 43, 58, 14, 48, 28, 98, 104, 55, 21, 95, 49, 77, 94, 98, 42, 87, 16, 42, 52, 96, 34, 27, 97, 73, 30, 30, 95, 67, 10, 55, 92, 27, 64, 97, 100, 100, 38, 88, 53, 55, 88, 60, 94, 50, 14, 38, 112, 97, 100, 25, 74, 14, 31, 42, 94, 34, 8, 98, 49, 81, 63, 40, 14, 90, 36, 11, 17, 104, 51, 47, 21, 51, 67, 94, 93, 51, 44, 82, 48, 48, 20, 65, 26, 60, 19, 96, 47, 60, 96, 30, 104, 48, 39, 104, 91, 93, 19, 95, 42, 62, 82, 66, 75, 85, 52, 48, 60, 90, 13, 37, 96, 87, 73, 65, 102, 101, 89, 42, 81, 25, 35, 68, 55, 100, 95, 73, 103, 18, 51, 89, 71, 34, 18, 37, 68, 30, 82, 72, 30, 48, 95, 24, 24, 93, 23, 29, 107, 109, 66, 62, 38, 65, 69, 74, 47, 55, 89, 61, 102, 96, 39, 51, 85, 76, 22, 93, 94, 103, 99, 32, 72, 95, 56, 70, 97, 51, 23, 56, 28, 83, 39, 93, 42, 63, 63, 69, 82, 63, 76, 28, 23, 45, 48, 36, 12, 105, 63, 61, 62, 52, 62, 53, 37, 94, 37, 44, 41, 57, 27, 51, 107, 101, 94, 43, 15, 104, 104, 76, 108, 88, 51, 57, 60, 65, 71, 56, 47, 73, 28, 27, 59, 35, 104, 105, 25, 23, 53, 49, 44, 74, 15, 82, 70, 98, 105, 88, 67, 23, 86, 98, 24, 59, 97, 36, 103, 95, 78, 103, 14, 101, 62, 51, 36, 82, 22, 100, 60, 67, 99, 14, 31, 26, 84, 36, 46, 63, 27, 26, 31, 33, 16, 27, 22, 24, 100, 71, 12, 29, 87, 24, 21, 103, 57, 78, 41, 92, 35, 25, 100, 15, 60, 92, 93, 91, 25, 55, 104, 52, 83, 68, 68, 38, 107, 28, 24, 29, 54, 51, 19, 32, 28, 98, 18, 14, 71, 32, 32, 40, 22, 86, 49, 25, 43, 43, 34, 32, 84, 96, 79, 86, 48, 26, 91, 66, 103, 100, 94, 41, 74, 88, 27, 40, 62, 62, 26, 68, 34, 90, 42, 22, 32, 100, 25, 57, 56, 69, 17, 88, 104, 30, 98, 54, 92, 13, 103, 93, 79, 10, 22, 100, 29, 47, 38, 62, 92, 29, 91, 59, 61, 51, 80, 18, 85, 19, 67, 19, 93, 94, 78, 32, 95, 73, 70, 84, 30, 63, 31, 101, 105, 99, 74, 67, 38, 27, 25, 70, 46, 68, 17, 102, 71, 15, 55, 78, 33, 43, 31, 36, 96, 14, 44, 86, 29, 53, 64, 40, 66, 64, 98, 51, 104, 51, 18, 29, 99, 38, 100, 29, 68, 100, 63, 91, 15, 53, 39, 88, 28, 80, 63, 52, 73, 92, 96, 33, 96, 22, 59, 65, 44, 47, 98, 15, 55, 25, 7, 68, 51, 69, 33, 50, 21, 100, 91, 54, 100, 63, 80, 21, 48, 24, 98, 96, 62, 107, 63, 41, 58, 102, 101, 55, 94, 103, 34, 70, 98, 32, 56, 90, 18, 99, 93, 103, 73, 22, 82, 23, 100, 56, 87, 29, 19, 93, 102, 27, 97, 42, 96, 79, 88, 43, 107, 78, 99, 102, 19, 46, 64, 27, 52, 94, 22, 102, 35, 57, 55, 88, 83, 29, 62, 37, 73, 29, 96, 79, 19, 53, 42, 46, 57, 40, 100, 55, 82, 97, 69, 91, 106, 40, 29, 39, 14, 16, 33, 27, 62, 105, 53, 73, 75, 89, 68, 14, 2, 101, 26, 67, 80, 69, 43, 18, 27, 16, 97, 12, 40, 103, 36, 112, 57, 82, 62, 39, 86, 28, 79, 63, 98, 95, 73, 92, 23, 56, 44, 31, 96, 89, 42, 100, 29, 41, 94, 43, 53, 107, 29, 21, 51, 91, 25, 97, 47, 56, 94, 86, 40, 43, 95, 38, 13, 41, 101, 34, 97, 103, 65, 75, 43, 65, 21, 85, 53, 104, 45, 60, 26, 44, 66, 42, 67, 39, 24, 97, 48, 103, 48, 46, 76, 14, 50, 94, 107, 100, 40, 90, 11, 98, 41, 48, 23, 52, 69, 84, 39, 89, 54, 40, 98, 88, 51, 44, 95, 48, 49, 102, 45, 98, 101, 16, 74, 30, 53, 97, 94, 44, 66, 19, 61, 78, 57, 86, 90, 26, 66, 100, 76, 57, 48, 36, 15, 109, 60, 21, 100, 21, 35, 107, 96, 66, 49, 96, 59, 4, 94, 98, 95, 18, 81, 75, 56, 15, 85, 45, 35, 22, 34, 90, 90, 36, 96, 21, 46, 56, 37, 79, 24, 61, 49, 59, 29, 40, 46, 89, 33, 20, 95, 88, 93, 89, 89, 91, 76, 19, 97, 14, 50, 96, 47, 22, 23, 99, 74, 26, 106, 84, 93, 33, 25, 20, 24, 32, 97, 41, 94, 102, 44, 100, 34, 45, 96, 31, 51, 53, 72, 95, 65, 103, 52, 46, 92, 95, 44, 86, 43, 78, 68, 33, 64, 78, 20, 30, 35, 41, 101, 72, 14, 14, 52, 68, 97, 39, 72, 57, 96, 81, 74, 61, 14, 96, 97, 95, 91, 70, 60, 26, 76, 44, 57, 98, 50, 47, 94, 18, 57, 53, 82, 61, 16, 34, 17, 86, 64, 58, 68, 75, 24, 89, 95, 64, 48, 103, 75, 108, 14, 72, 48, 15, 38, 61, 32, 40, 80, 57, 22, 30, 52, 59, 95, 102, 101, 80, 93, 95, 86, 64, 86, 92, 101, 36, 92, 92, 94, 52, 88, 88, 46, 72, 14, 104, 99, 100, 98, 48, 59, 25, 104, 44, 13, 97, 28, 94, 68, 82, 24, 93, 41, 28, 7, 92, 54, 84, 100, 9, 14, 40, 76, 32, 29, 97, 93, 102, 23, 58, 95, 92, 58, 50, 61, 103, 78, 43, 22, 52, 51, 99, 78, 14, 107, 55, 29, 40, 44, 89, 97, 20, 36, 74, 104, 103, 100, 78, 68, 53, 54, 74, 54, 72, 58, 58, 102, 15, 92, 32, 19, 94, 94, 100, 62, 77, 44, 72, 104, 101, 86, 51, 18, 95, 26, 28, 101, 89, 102, 107, 101, 13, 85, 101, 96, 17, 29, 106, 102, 97, 45, 46, 98, 44, 62, 80, 71, 84, 54, 21, 62, 19, 75, 100, 92, 13, 32, 90, 41, 29, 65, 53, 15, 45, 79, 53, 91, 106, 48, 46, 97, 50, 16, 42, 21, 75, 49, 102, 77, 52, 46, 71, 103, 73, 64, 80, 36, 91, 50, 60, 85, 44, 18, 25, 34, 81, 52, 11, 22, 72, 49, 50, 44, 39, 66, 83, 62, 52, 24, 64, 87, 19, 64, 63, 11, 53, 76, 51, 90, 89, 60, 98, 17, 39, 84, 20, 59, 11, 50, 68, 95, 43, 88, 96, 37, 11, 79, 17, 47, 9, 14, 80, 23, 38, 81, 58, 63, 103, 63, 25, 16, 47, 28, 39, 75, 45, 98, 82, 101, 59, 63, 26, 95, 25, 103, 73, 27, 33, 31, 30, 14, 91, 29, 29, 87, 86, 87, 36, 46, 21, 42, 17, 75, 33, 10, 23, 49, 67, 67, 48, 51, 14, 25, 10, 73, 45, 64, 96, 96, 41, 77, 89, 31, 75, 102, 72, 87, 76, 104, 71, 11, 63, 15, 11, 29, 56, 101, 55, 71, 95, 30, 30, 51, 9, 96, 69, 22, 105, 67, 68, 30, 10, 46, 45, 41, 82, 67, 67, 21, 94, 76, 38, 95, 50, 41, 55, 15, 69, 105, 30, 23, 71, 38, 44, 49, 55, 58, 86, 11, 75, 60, 67, 28, 36, 63, 51, 99, 21, 27, 94, 102, 94, 77, 62, 94, 92, 105, 85, 102, 24, 94, 66, 76, 79, 103, 43, 72, 17, 47, 95, 102, 75, 15, 105, 86, 28, 91, 86, 102, 20, 99, 31, 103, 43, 41, 84, 59, 49, 28, 43, 11, 87, 63, 91, 99, 31, 96, 93, 50, 52, 12, 65, 98, 96, 47, 50, 13, 24, 91, 50, 98, 62, 96, 77, 87, 36, 46, 23, 30, 43, 103, 48, 11, 52, 26, 56, 95, 13, 106, 104, 99, 41, 57, 97, 59, 59, 36, 21, 33, 75, 100, 94, 106, 84, 67, 13, 23, 76, 96, 83, 17, 97, 101, 17, 30, 38, 18, 50, 23, 80, 19, 96, 103, 95, 42, 71, 89, 26, 31, 66, 93, 10, 13, 79, 79, 97, 30, 58, 20, 55, 71, 76, 72, 28, 100, 93, 66, 61, 72, 93, 99, 103, 95, 24, 98, 35, 54, 10, 29, 89, 105, 41, 91, 30, 107, 66, 94, 64, 46, 39, 95, 32, 55, 57, 78, 101, 96, 90, 98, 81, 44, 61, 34, 94, 48, 94, 78, 84, 81, 96, 102, 99, 27, 33, 98, 58, 29, 41, 49, 95, 82, 57, 51, 47, 107, 96, 98, 99, 96, 51, 97, 86, 16, 78, 27, 64, 83, 20, 20, 42, 74, 91, 49, 90, 102, 35, 14, 33, 96, 96, 16, 104, 34, 52, 106, 100, 16, 53, 25, 95, 74, 28, 73, 103, 39, 65, 34, 49, 87, 91, 99, 102, 59, 85, 106, 18, 88, 90, 98, 43, 48, 60, 92, 74, 88, 99, 98, 98, 112, 40, 98, 106, 24, 103, 52, 102, 100, 104, 94, 47, 58, 55, 105, 89, 28, 59, 74, 49, 101, 81, 76, 35, 41, 23, 36, 80, 55, 79, 79, 84, 52, 66, 19, 40, 31, 100, 67, 35, 39, 19, 96, 83, 50, 65, 19, 66, 55, 27, 8, 26, 96, 99, 13, 11, 53, 88, 73, 74, 45, 49, 65, 78, 34, 100, 42, 74, 65, 102, 11, 48, 61, 62, 37, 20, 97, 88, 102, 64, 80, 24, 100, 57, 90, 35, 31, 32, 48, 75, 89, 36, 107, 62, 50, 73, 89, 67, 49, 39, 48, 40, 98, 79, 45, 106, 80, 61, 40, 98, 31, 44, 82, 74, 43, 22, 57, 51, 31, 42, 41, 57, 54, 72, 65, 102, 51, 23, 64, 76, 49, 31, 28, 85, 86, 42, 73, 98, 42, 28, 58, 51, 60, 41, 38, 21, 94, 36, 97, 100, 58, 85, 22, 92, 65, 64, 94, 68, 51, 96, 9, 79, 92, 97, 66, 101, 98, 78, 72, 51, 51, 96, 74, 52, 73, 70, 101, 90, 40, 62, 56, 37, 96, 14, 22, 60, 41, 35, 97, 93, 27, 49, 53, 18, 88, 40, 18, 97, 76, 69, 48, 98, 62, 57, 41, 108, 48, 43, 75, 103, 53, 16, 96, 59, 99, 42, 26, 35, 42, 35, 18, 53, 60, 51, 88, 39, 95, 91, 95, 107, 104, 29, 12, 99, 41, 54, 58, 92, 84, 93, 92, 40, 49, 80, 100, 85, 37, 51, 31, 19, 18, 93, 56, 77, 68, 52, 75, 94, 97, 100, 70, 59, 45, 101, 59, 47, 32, 55, 61, 8, 37, 16, 100, 8, 106, 94, 58, 95, 58, 32, 51, 30, 97, 101, 50, 18, 74, 10, 22, 55, 49, 100, 44, 95, 90, 12, 95, 36, 42, 60, 27, 23, 71, 71, 24, 60, 98, 67, 59, 68, 37, 102, 39, 26, 102, 64, 83, 15, 53, 49, 53, 47, 63, 100, 90, 104, 77, 72, 64, 45, 37, 60, 96, 52, 62, 73, 85, 32, 63, 68, 102, 43, 10, 64, 45, 38, 65, 93, 78, 36, 82, 62, 40, 108, 96, 58, 63, 41, 55, 36, 65, 18, 82, 100, 88, 87, 72, 76, 68, 99, 58, 40, 69, 60, 98, 37, 50, 72, 93, 83, 65, 54, 2, 94, 71, 78, 95, 104, 36, 35, 9, 99, 73, 53, 51, 41, 97, 48, 85, 51, 38, 88, 30, 89, 78, 77, 90, 75, 65, 21, 45, 100, 94, 39, 94, 103, 77, 63, 32, 100, 40, 106, 51, 98, 63, 9, 26, 49, 44, 44, 22, 47, 102, 94, 84, 94, 71, 17, 22, 98, 69, 85, 100, 98, 87, 16, 99, 17, 43, 21, 21, 87, 62, 69, 52, 95, 93, 106, 105, 29, 53, 102, 32, 59, 29, 15, 96, 103, 50, 83, 81, 50, 55, 29, 29, 63, 49, 53, 23, 42, 51, 84, 91, 77, 47, 65, 33, 30, 38, 59, 39, 42, 94, 32, 10, 47, 97, 71, 34, 64, 46, 77, 20, 101, 41, 27, 83, 56, 56, 64, 86, 21, 61, 47, 54, 73, 92, 35, 44, 96, 11, 13, 55, 106, 30, 105, 67, 58, 54, 18, 40, 14, 92, 23, 40, 18, 102, 16, 105, 41, 11, 14, 83, 28, 15, 55, 14, 77, 45, 63, 74, 32, 35, 59, 12, 97, 71, 16, 69, 61, 78, 101, 37, 82, 34, 49, 70, 25, 66, 30, 75, 73, 15, 31, 50, 7, 102, 26, 25, 98, 18, 82, 64, 20, 40, 37, 53, 90, 39, 93, 64, 96, 101, 95, 26, 83, 100, 104, 68, 31, 34, 92, 35, 15, 34, 79, 25, 49, 38, 46, 21, 65, 62, 101, 54, 64, 41, 100, 50, 99, 48, 102, 16, 81, 99, 17, 101, 44, 8, 43, 68, 36, 62, 65, 54, 12, 65, 67, 53, 22, 40, 91, 30, 16, 52, 102, 45, 74, 40, 18, 96, 12, 41, 61, 97, 99, 67, 21, 106, 27, 93, 49, 40, 21, 69, 50, 42, 45, 33, 42, 77, 46, 87, 99, 38, 84, 95, 48, 97, 23, 79, 65, 35, 28, 93, 42, 57, 50, 91, 94, 98, 22, 71, 81, 23, 47, 30, 70, 102, 64, 23, 63, 51, 73, 22, 94, 12, 14, 60, 34, 88, 48, 73, 64, 99, 45, 57, 97, 36, 57, 100, 89, 35, 48, 95, 81, 28, 25, 103, 75, 36, 56, 18, 77, 65, 16, 57, 99, 51, 58, 94, 32, 99, 47, 45, 35, 62, 23, 45, 102, 25, 33, 87, 74, 39, 58, 101, 56, 48, 15, 77, 49, 60, 60, 105, 62, 66, 42, 23, 30, 71, 78, 99, 29, 46, 77, 99, 67, 99, 55, 20, 97, 37, 108, 11, 42, 68, 46, 95, 98, 88, 71, 108, 77, 101, 16, 50, 17, 102, 72, 59, 16, 49, 52, 32, 103, 95, 54, 50, 102, 34, 42, 22, 60, 97, 64, 76, 94, 92, 75, 103, 98, 65, 57, 48, 68, 32, 49, 46, 80, 48, 20, 55, 56, 73, 72, 98, 98, 38, 18, 47, 60, 98, 64, 71, 97, 35, 82, 64, 23, 75, 96, 75, 103, 95, 90, 27, 38, 90, 94, 15, 70, 18, 63, 99, 79, 25, 9, 41, 81, 94, 76, 77, 106, 36, 65, 93, 82, 106, 86, 43, 47, 45, 29, 10, 38, 54, 97, 92, 24, 65, 75, 103, 101, 17, 105, 103, 72, 26, 85, 99, 81, 35, 91, 55, 37, 47, 71, 38, 35, 9, 106, 65, 95, 14, 64, 89, 29, 96, 93, 101, 30, 32, 96, 13, 59, 68, 99, 38, 86, 22, 11, 84, 68, 14, 58, 97, 54, 97, 93, 72, 36, 98, 81, 97, 15, 46, 34, 73, 98, 69, 67, 31, 10, 75, 17, 102, 25, 65, 32, 100, 71, 16, 48, 45, 50, 16, 67, 41, 30, 96, 86, 91, 25, 93, 104, 11, 94, 95, 33, 19, 58, 91, 109, 37, 54, 69, 90, 68, 47, 43, 97, 31, 30, 38, 49, 80, 30, 102, 36, 109, 16, 71, 30, 33, 36, 72, 53, 18, 32, 32, 66, 84, 56, 72, 32, 96, 80, 39, 79, 101, 97, 32, 93, 46, 64, 63, 83, 62, 32, 71, 44, 14, 39, 45, 49, 40, 104, 51, 49, 13, 48, 11, 31, 100, 103, 44, 100, 56, 21, 94, 88, 76, 62, 35, 50, 43, 10, 72, 69, 32, 61, 21, 80, 98, 100, 64, 39, 101, 23, 54, 93, 51, 32, 40, 47, 21, 66, 21, 99, 91, 48, 61, 70, 87, 58, 101, 48, 21, 16, 98, 100, 51, 61, 57, 28, 31, 23, 34, 67, 103, 48, 62, 68, 53, 51, 55, 38, 65, 16, 102, 90, 32, 95, 98, 68, 85, 15, 95, 33, 101, 79, 49, 67, 99, 56, 33, 26, 31, 37, 22, 65, 103, 38, 94, 86, 99, 71, 33, 85, 68, 87, 67, 98, 97, 93, 47, 26, 100, 8, 35, 26, 53, 94, 76, 73, 103, 105, 44, 95, 77, 108, 49, 46, 22, 90, 68, 19, 34, 82, 52, 27, 86, 57, 6, 71, 53, 26, 100, 60, 97, 54, 36, 22, 57, 96, 42, 48, 40, 42, 85, 99, 101, 13, 103, 88, 85, 55, 51, 32, 55, 50, 11, 58, 61, 17, 102, 71, 88, 38, 99, 68, 69, 84, 42, 104, 96, 33, 99, 48, 35, 68, 96, 88, 78, 75, 55, 18, 33, 38, 78, 50, 22, 98, 26, 46, 57, 39, 53, 104, 56, 68, 67, 100, 100, 91, 77, 83, 34, 76, 49, 87, 96, 97, 44, 102, 25, 37, 18, 87, 55, 15, 83, 52, 30, 20, 43, 96, 40, 56, 6, 49, 68, 20, 58, 106, 38, 31, 56, 102, 71, 44, 20, 6, 60, 33, 43, 27, 53, 96, 100, 81, 61, 47, 68, 94, 32, 41, 102, 40, 68, 100, 31, 58, 44, 99, 26, 44, 52, 72, 100, 104, 56, 29, 98, 43, 95, 19, 27, 69, 89, 14, 98, 84, 99, 9, 54, 50, 104, 10, 102, 56, 72, 41, 69, 12, 26, 55, 101, 35, 42, 100, 69, 51, 45, 37, 42, 65, 48, 36, 25, 14, 64, 103, 34, 59, 37, 79, 75, 85, 96, 82, 99, 53, 31, 29, 91, 33, 15, 102, 31, 67, 42, 48, 62, 75, 45, 36, 11, 85, 29, 91, 66, 77, 33, 91, 30, 68, 85, 92, 54, 60, 60, 43, 98, 79, 66, 44, 57, 76, 93, 41, 62, 101, 12, 59, 41, 71, 99, 59, 98, 41, 36, 73, 79, 46, 45, 97, 78, 61, 51, 72, 67, 64, 29, 23, 67, 95, 60, 78, 26, 35, 101, 33, 101, 95, 22, 76, 36, 30, 71, 72, 68, 51, 105, 99, 53, 62, 106, 49, 99, 41, 48, 42, 44, 83, 104, 95, 96, 35, 6, 40, 101, 17, 23, 27, 23, 36, 42, 43, 21, 95, 42, 67, 17, 45, 23, 105, 30, 94, 76, 16, 14, 102, 42, 93, 74, 95, 12, 48, 67, 37, 49, 62, 110, 83, 73, 42, 38, 43, 43, 21, 54, 39, 90, 99, 49, 44, 78, 26, 30, 42, 15, 32, 61, 79, 62, 51, 26, 52, 27, 28, 20, 21, 38, 99, 17, 64, 91, 41, 93, 91, 30, 15, 92, 93, 16, 96, 25, 96, 44, 34, 100, 94, 27, 31, 46, 97, 101, 26, 36, 10, 104, 60, 89, 57, 95, 96, 33, 76, 14, 102, 46, 81, 51, 59, 95, 32, 30, 55, 86, 103, 48, 64, 32, 13, 66, 20, 16, 30, 11, 83, 97, 71, 54, 14, 100, 19, 82, 28, 95, 102, 49, 28, 12, 94, 55, 20, 74, 66, 77, 15, 51, 28, 68, 68, 21, 19, 94, 32, 33, 89, 93, 33, 28, 46, 40, 62, 55, 23, 46, 21, 18, 64, 74, 69, 23, 3, 27, 33, 56, 74, 105, 14, 78, 79, 42, 36, 41, 61, 46, 28, 34, 66, 58, 48, 47, 64, 53, 49, 109, 22, 72, 33, 37, 98, 92, 96, 94, 91, 16, 90, 43, 45, 53, 97, 90, 61, 96, 55, 48, 87, 95, 86, 97, 41, 100, 44, 16, 56, 102, 69, 101, 98, 60, 13, 81, 65, 29, 10, 16, 79, 41, 12, 106, 49, 103, 102, 73, 52, 101, 94, 33, 82, 99, 16, 52, 54, 53, 21, 19, 66, 27, 98, 96, 77, 34, 101, 66, 83, 41, 11, 31, 97, 48, 97, 57, 96, 36, 64, 74, 15, 101, 34, 93, 4, 101, 41, 98, 46, 96, 100, 94, 82, 58, 49, 109, 47, 59, 24, 70, 97, 34, 105, 26, 77, 46, 28, 27, 93, 85, 19, 44, 86, 65, 57, 68, 30, 53, 23, 42, 38, 98, 12, 42, 63, 45, 64, 62, 31, 97, 53, 9, 71, 53, 102, 27, 90, 104, 101, 29, 44, 37, 54, 70, 67, 97, 41, 58, 97, 93, 17, 17, 79, 64, 24, 105, 94, 75, 102, 53, 96, 40, 39, 26, 29, 59, 86, 77, 71, 52, 99, 57, 44, 47, 94, 36, 102, 99, 91, 33, 43, 60, 56, 105, 47, 41, 48, 13, 34, 72, 22, 82, 38, 101, 60, 52, 45, 54, 99, 100, 73, 87, 28, 24, 101, 89, 24, 10, 60, 37, 74, 40, 31, 73, 39, 55, 13, 32, 93, 21, 25, 89, 37, 13, 62, 78, 99, 102, 23, 105, 47, 61, 62, 32, 77, 77, 60, 8, 76, 37, 101, 59, 69, 92, 49, 96, 43, 77, 67, 35, 66, 16, 95, 96, 95, 80, 39, 66, 86, 26, 36, 49, 97, 72, 64, 43, 58, 70, 49, 52, 70, 16, 97, 91, 16, 54, 71, 17, 27, 26, 101, 86, 43, 93, 37, 105, 82, 76, 35, 25, 87, 7, 101, 89, 23, 46, 98, 98, 45, 62, 100, 95, 43, 84, 95, 105, 43, 101, 62, 67, 99, 102, 97, 27, 63, 84, 38, 101, 76, 51, 42, 77, 101, 102, 69, 36, 99, 100, 74, 35, 77, 93, 11, 91, 87, 66, 96, 20, 53, 54, 59, 92, 91, 58, 43, 48, 32, 101, 37, 103, 103, 41, 15, 31, 17, 103, 21, 100, 86, 82, 16, 60, 56, 35, 93, 27, 69, 67, 62, 104, 36, 78, 76, 105, 98, 104, 98, 44, 71, 49, 98, 105, 101, 96, 20, 50, 47, 29, 62, 58, 25, 54, 103, 64, 95, 26, 36, 11, 95, 90, 56, 58, 93, 60, 82, 40, 55, 53, 89, 95, 68, 53, 102, 96, 39, 90, 62, 31, 74, 64, 21, 84, 67, 19, 32, 39, 94, 70, 83, 77, 81, 34, 59, 86, 60, 49, 50, 81, 66, 80, 31, 102, 80, 33, 63, 70, 35, 28, 76, 61, 90, 25, 76, 98, 43, 95, 28, 98, 64, 104, 99, 91, 61, 98, 103, 26, 90, 41, 25, 94, 109, 93, 61, 95, 41, 84, 103, 62, 100, 49, 94, 91, 56, 16, 18, 88, 43, 48, 91, 29, 63, 101, 53, 19, 42, 30, 49, 30, 11, 41, 97, 93, 41, 101, 43, 61, 46, 110, 38, 101, 38, 97, 101, 103, 66, 13, 104, 34, 21, 88, 98, 103, 40, 48, 31, 23, 61, 105, 100, 101, 91, 96, 17, 92, 101, 97, 102, 88, 14, 60, 102, 53, 17, 98, 35, 66, 80, 46, 39, 30, 41, 54, 30, 30, 30, 89, 99, 42, 16, 101, 37, 9, 33, 82, 55, 50, 4, 99, 106, 72, 44, 41, 97, 23, 19, 18, 73, 9, 54, 33, 98, 57, 27, 23, 21, 17, 99, 36, 26, 99, 36, 76, 48, 57, 44, 17, 51, 74, 56, 89, 78, 90, 54, 58, 28, 19, 41, 98, 73, 77, 68, 48, 31, 66, 19, 99, 100, 45, 97, 35, 68, 35, 33, 105, 93, 27, 83, 99, 42, 86, 33, 78, 34, 32, 74, 29, 66, 98, 18, 87, 78, 52, 35, 71, 58, 46, 95, 94, 95, 100, 50, 93, 107, 61, 97, 29, 53, 34, 72, 74, 40, 109, 85, 22, 43, 88, 101, 92, 99, 77, 16, 61, 32, 12, 17, 75, 12, 53, 86, 67, 105, 79, 74, 47, 34, 12, 86, 49, 26, 15, 58, 106, 95, 50, 73, 63, 82, 62, 30, 91, 87, 35, 86, 95, 84, 94, 37, 97, 59, 55, 104, 97, 60, 92, 52, 64, 99, 13, 26, 37, 61, 17, 91, 47, 35, 32, 62, 102, 101, 107, 71, 61, 98, 82, 46, 75, 71, 24, 94, 17, 55, 31, 35, 105, 37, 24, 27, 52, 32, 17, 68, 96, 21, 100, 96, 78, 89, 53, 35, 45, 21, 62, 93, 63, 55, 102, 70, 20, 54, 75, 27, 92, 68, 15, 12, 61, 56, 97, 14, 79, 82, 47, 31, 95, 101, 90, 9, 55, 95, 100, 54, 51, 94, 93, 98, 94, 34, 104, 15, 24, 48, 30, 53, 77, 41, 103, 37, 65, 28, 81, 30, 62, 18, 60, 27, 20, 21, 60, 71, 25, 39, 99, 82, 40, 62, 90, 52, 58, 103, 25, 44, 42, 27, 19, 65, 70, 96, 59, 38, 38, 98, 35, 61, 62, 83, 13, 70, 98, 66, 95, 26, 8, 61, 33, 38, 97, 55, 75, 49, 23, 58, 99, 31, 72, 98, 69, 89, 29, 72, 25, 67, 18, 35, 39, 67, 33, 22, 65, 44, 13, 39, 56, 90, 37, 98, 105, 16, 60, 24, 71, 60, 71, 101, 76, 45, 37, 11, 68, 30, 42, 34, 100, 47, 18, 96, 34, 10, 100, 82, 79, 94, 94, 45, 80, 94, 61, 48, 110, 47, 33, 48, 29, 60, 53, 84, 39, 78, 98, 69, 10, 25, 40, 34, 41, 38, 46, 91, 25, 84, 43, 12, 101, 27, 38, 102, 45, 48, 21, 97, 14, 9, 97, 37, 99, 43, 67, 35, 24, 81, 98, 65, 48, 38, 19, 19, 17, 100, 38, 106, 75, 94, 84, 94, 93, 19, 41, 80, 84, 95, 108, 38, 76, 44, 20, 40, 95, 73, 99, 28, 58, 106, 93, 83, 15, 97, 23, 11, 22, 64, 79, 82, 27, 74, 55, 69, 103, 44, 96, 99, 45, 38, 69, 87, 49, 82, 55, 64, 68, 67, 91, 62, 101, 87, 99, 55, 40, 19, 89, 45, 70, 47, 61, 97, 98, 101, 12, 72, 60, 29, 97, 79, 90, 17, 31, 46, 51, 92, 41, 40, 30, 42, 39, 91, 44, 20, 52, 31, 102, 98, 81, 89, 61, 59, 18, 89, 79, 77, 72, 76, 48, 29, 102, 90, 77, 40, 66, 81, 30, 76, 84, 38, 42, 94, 35, 82, 42, 24, 52, 67, 45, 64, 14, 27, 32, 94, 37, 15, 42, 68, 44, 100, 53, 44, 103, 39, 71, 99, 76, 96, 22, 10, 95, 24, 37, 33, 55, 99, 54, 69, 50, 25, 99, 96, 10, 97, 69, 83, 97, 104, 24, 90, 54, 80, 92, 73, 27, 15, 57, 61, 23, 33, 90, 65, 92, 59, 69, 52, 20, 80, 56, 100, 73, 91, 68, 16, 68, 28, 65, 48, 54, 100, 103, 16, 59, 96, 29, 54, 81, 54, 29, 98, 101, 62, 98, 45, 53, 50, 45, 88, 31, 24, 80, 28, 26, 76, 57, 44, 36, 34, 10, 53, 104, 67, 40, 69, 91, 14, 61, 64, 92, 25, 86, 33, 14, 69, 11, 65, 24, 53, 93, 71, 12, 92, 57, 81, 108, 98, 64, 9, 16, 83, 84, 25, 26, 62, 95, 73, 49, 34, 55, 19, 90, 27, 25, 26, 34, 95, 38, 33, 69, 81, 11, 11, 84, 79, 107, 45, 35, 53, 30, 69, 39, 12, 95, 33, 72, 86, 31, 79, 60, 11, 41, 14, 21, 57, 88, 52, 15, 94, 29, 91, 93, 58, 16, 94, 24, 53, 45, 21, 48, 12, 99, 30, 75, 26, 79, 47, 54, 51, 87, 32, 46, 105, 95, 38, 51, 8, 44, 26, 21, 34, 34, 52, 90, 17, 56, 64, 43, 12, 32, 71, 38, 98, 71, 98, 21, 29, 45, 82, 62, 63, 88, 32, 57, 39, 80, 99, 58, 106, 96, 57, 48, 72, 89, 85, 92, 74, 66, 11, 83, 14, 29, 94, 40, 38, 52, 95, 33, 99, 98, 97, 102, 49, 17, 76, 87, 100, 54, 25, 29, 98, 9, 96, 69, 63, 43, 73, 52, 70, 76, 56, 21, 18, 92, 34, 24, 96, 87, 20, 24, 46, 42, 21, 51, 85, 104, 99, 26, 21, 34, 64, 53, 96, 41, 31, 41, 18, 52, 65, 115, 48, 104, 87, 90, 14, 82, 68, 14, 91, 37, 88, 32, 47, 88, 40, 96, 57, 60, 16, 14, 39, 28, 39, 36, 100, 83, 57, 29, 19, 103, 69, 86, 96, 9, 99, 11, 60, 8, 56, 42, 49, 106, 39, 25, 34, 50, 22, 100, 42, 93, 47, 100, 37, 99, 51, 50, 42, 38, 90, 67, 27, 70, 52, 36, 12, 17, 49, 66, 55, 54, 102, 101, 57, 89, 95, 17, 98, 90, 50, 68, 52, 48, 101, 54, 12, 16, 103, 25, 47, 86, 82, 66, 75, 94, 66, 76, 53, 65, 85, 95, 24, 10, 90, 72, 26, 76, 54, 104, 86, 33, 42, 58, 53, 64, 96, 62, 12, 89, 56, 64, 74, 28, 34, 81, 104, 94, 66, 104, 96, 27, 84, 99, 78, 92, 100, 86, 69, 97, 44, 24, 57, 12, 96, 67, 84, 55, 54, 16, 97, 76, 10, 30, 24, 90, 86, 100, 50, 42, 65, 93, 52, 57, 25, 43, 3, 26, 92, 60, 44, 45, 10, 34, 88, 104, 105, 94, 93, 102, 46, 28, 71, 90, 105, 26, 29, 13, 17, 22, 40, 69, 74, 103, 72, 93, 103, 104, 51, 103, 76, 86, 65, 84, 34, 101, 23, 58, 102, 74, 14, 22, 26, 44, 21, 57, 57, 36, 100, 45, 13, 103, 47, 96, 41, 55, 27, 41, 18, 37, 61, 63, 94, 38, 39, 62, 31, 36, 40, 54, 21, 45, 58, 41, 38, 54, 103, 37, 27, 97, 20, 16, 61, 75, 65, 21, 94, 40, 73, 98, 84, 94, 24, 34, 28, 85, 34, 44, 82, 39, 37, 8, 57, 19, 33, 98, 39, 75, 103, 23, 71, 101, 30, 49, 75, 56, 52, 18, 68, 32, 27, 79, 19, 63, 95, 31, 46, 63, 70, 55, 53, 50, 29, 25, 40, 62, 95, 54, 99, 70, 98, 68, 26, 57, 10, 99, 33, 56, 106, 90, 71, 83, 63, 103, 97, 28, 22, 14, 24, 84, 28, 50, 63, 82, 90, 40, 39, 82, 79, 42, 50, 97, 31, 12, 97, 103, 12, 67, 98, 40, 22, 11, 50, 68, 104, 23, 87, 97, 7, 57, 13, 12, 93, 96, 90, 47, 71, 90, 97, 102, 69, 64, 97, 50, 51, 57, 79, 96, 77, 95, 88, 101, 100, 58, 34, 74, 57, 34, 101, 54, 101, 50, 46, 36, 100, 42, 27, 59, 83, 44, 101, 33, 43, 35, 32, 106, 56, 53, 14, 97, 26, 21, 90, 65, 106, 51, 97, 36, 84, 30, 95, 65, 38, 101, 36, 56, 47, 15, 31, 61, 77, 58, 88, 11, 74, 97, 33, 63, 80, 49, 38, 49, 63, 55, 46, 97, 31, 43, 35, 35, 13, 31, 58, 64, 105, 46, 64, 32, 40, 76, 25, 65, 106, 47, 92, 44, 28, 40, 54, 37, 74, 100, 24, 99, 102, 42, 64, 96, 31, 106, 90, 48, 59, 23, 103, 24, 101, 35, 26, 107, 102, 36, 101, 55, 84, 102, 96, 30, 40, 18, 59, 27, 36, 37, 100, 28, 104, 97, 43, 27, 41, 95, 99, 85, 73, 30, 54, 99, 67, 19, 48, 102, 95, 37, 24, 69, 59, 81, 10, 39, 80, 16, 32, 103, 56, 38, 75, 58, 41, 14, 33, 14, 96, 39, 36, 92, 103, 97, 30, 42, 92, 35, 16, 99, 13, 55, 35, 63, 43, 90, 22, 39, 49, 14, 73, 54, 81, 70, 66, 91, 76, 93, 26, 45, 77, 98, 58, 103, 50, 75, 41, 42, 10, 63, 53, 85, 60, 62, 92, 30, 38, 67, 64, 40, 41, 62, 113, 20, 31, 16, 78, 106, 52, 28, 65, 11, 73, 106, 30, 47, 38, 13, 102, 55, 98, 46, 71, 89, 29, 86, 64, 32, 41, 96, 67, 40, 103, 20, 100, 82, 77, 89, 91, 15, 11, 19, 76, 47, 95, 15, 17, 96, 29, 99, 47, 101, 58, 30, 50, 43, 79, 94, 102, 84, 42, 96, 15, 47, 43, 85, 14, 75, 32, 44, 77, 60, 97, 38, 43, 81, 58, 48, 56, 83, 9, 92, 45, 96, 92, 15, 47, 43, 39, 103, 27, 97, 84, 49, 44, 44, 55, 46, 61, 42, 69, 13, 76, 102, 70, 48, 26, 19, 107, 20, 30, 16, 13, 37, 22, 27, 97, 68, 86, 24, 37, 12, 54, 93, 104, 17, 101, 52, 66, 28, 85, 106, 47, 85, 56, 74, 99, 43, 25, 96, 93, 73, 80, 10, 77, 105, 18, 30, 52, 24, 41, 51, 91, 83, 53, 49, 6, 22, 106, 89, 97, 56, 66, 94, 56, 113, 23, 103, 57, 41, 11, 45, 13, 21, 85, 13, 71, 15, 21, 107, 44, 75, 73, 49, 108, 20, 97, 100, 42, 79, 64, 55, 70, 55, 38, 97, 99, 21, 64, 92, 101, 50, 107, 77, 63, 42, 29, 34, 98, 108, 42, 20, 50, 87, 78, 67, 38, 63, 10, 68, 92, 42, 82, 24, 79, 97, 41, 19, 45, 90, 92, 51, 61, 102, 73, 35, 33, 104, 60, 99, 18, 99, 70, 20, 100, 46, 63, 19, 17, 22, 80, 45, 80, 94, 33, 88, 75, 24, 80, 49, 86, 33, 71, 38, 25, 58, 40, 62, 57, 75, 105, 67, 48, 61, 39, 9, 33, 93, 93, 45, 69, 12, 31, 69, 14, 47, 33, 42, 28, 90, 98, 53, 97, 76, 94, 41, 16, 49, 87, 34, 33, 43, 100, 44, 96, 35, 89, 31, 23, 10, 45, 48, 82, 63, 97, 104, 59, 108, 50, 60, 9, 57, 112, 71, 105, 55, 41, 46, 15, 25, 58, 18, 57, 87, 41, 100, 80, 65, 83, 70, 41, 95, 11, 50, 16, 88, 46, 55, 27, 39, 10, 19, 43, 97, 65, 19, 92, 15, 80, 76, 92, 47, 14, 107, 44, 22, 48, 26, 54, 40, 98, 60, 97, 42, 66, 50, 15, 23, 53, 52, 58, 99, 58, 61, 67, 11, 76, 24, 42, 102, 95, 83, 101, 81, 100, 94, 34, 31, 98, 23, 60, 43, 108, 17, 48, 58, 57, 61, 102, 63, 94, 53, 73, 98, 68, 87, 41, 43, 75, 72, 78, 32, 57, 103, 105, 98, 42, 74, 84, 78, 36, 99, 93, 34, 27, 84, 68, 39, 68, 31, 71, 92, 86, 40, 64, 94, 56, 59, 53, 39, 70, 86, 75, 61, 54, 30, 51, 42, 99, 96, 64, 56, 39, 24, 52, 99, 36, 101, 79, 52, 99, 105, 84, 46, 49, 54, 33, 10, 49, 94, 35, 97, 91, 27, 105, 97, 28, 70, 44, 22, 65, 57, 94, 14, 14, 84, 90, 73, 43, 76, 104, 99, 30, 50, 39, 62, 101, 22, 97, 45, 51, 107, 45, 67, 102, 68, 75, 46, 59, 34, 11, 33, 25, 55, 46, 50, 19, 49, 56, 97, 9, 61, 41, 23, 17, 17, 66, 38, 107, 94, 67, 20, 61, 108, 59, 28, 86, 104, 22, 78, 11, 31, 90, 64, 23, 103, 105, 36, 34, 73, 100, 25, 104, 53, 10, 24, 38, 38, 57, 57, 84, 91, 109, 13, 75, 69, 47, 37, 35, 56, 62, 57, 37, 84, 24, 99, 23, 45, 66, 56, 18, 64, 67, 36, 38, 23, 21, 97, 68, 26, 98, 34, 83, 33, 107, 16, 81, 30, 66, 44, 94, 55, 40, 56, 59, 96, 72, 67, 102, 93, 96, 33, 38, 34, 33, 25, 81, 29, 30, 31, 45, 54, 16, 34, 41, 87, 51, 60, 82, 33, 11, 93, 106, 20, 110, 11, 30, 93, 34, 66, 99, 68, 13, 98, 32, 44, 23, 75, 45, 35, 74, 76, 100, 25, 9, 42, 39, 59, 62, 44, 62, 41, 62, 91, 65, 44, 84, 99, 58, 13, 74, 59, 34, 45, 23, 77, 35, 102, 28, 37, 37, 22, 33, 83, 95, 97, 20, 16, 55, 29, 35, 94, 55, 75, 90, 59, 88, 89, 99, 84, 25, 87, 88, 34, 101, 75, 21, 55, 60, 88, 67, 38, 34, 40, 28, 95, 64, 108, 90, 14, 100, 14, 91, 45, 108, 58, 84, 100, 88, 62, 17, 20, 98, 48, 82, 21, 90, 78, 56, 61, 35, 81, 80, 65, 59, 77, 86, 95, 96, 28, 93, 89, 100, 89, 96, 81, 11, 24, 50, 106, 44, 85, 59, 104, 99, 103, 109, 70, 49, 96, 81, 14, 78, 108, 94, 40, 83, 32, 95, 31, 71, 41, 99, 76, 92, 101, 26, 86, 84, 40, 21, 94, 42, 29, 13, 26, 45, 6, 76, 42, 94, 66, 39, 34, 34, 95, 28, 22, 90, 62, 101, 95, 109, 84, 12, 8, 98, 11, 101, 83, 89, 63, 90, 59, 21, 105, 53, 14, 11, 28, 10, 42, 18, 47, 99, 25, 17, 45, 73, 2, 46, 20, 63, 51, 41, 10, 22, 84, 40, 30, 16, 97, 97, 91, 70, 97, 45, 92, 104, 45, 55, 17, 58, 80, 42, 54, 51, 98, 58, 38, 46, 11, 15, 45, 45, 40, 25, 42, 65, 31, 100, 49, 23, 97, 65, 7, 34, 93, 21, 63, 97, 54, 95, 62, 90, 84, 77, 69, 96, 94, 30, 15, 48, 95, 17, 86, 73, 93, 106, 52, 14, 95, 50, 19, 49, 33, 80, 36, 45, 55, 16, 20, 71, 95, 38, 32, 9, 46, 29, 37, 28, 92, 100, 97, 101, 87, 48, 90, 24, 94, 83, 68, 84, 94, 103, 76, 30, 97, 72, 40, 39, 44, 95, 59, 90, 38, 57, 51, 88, 52, 13, 61, 60, 54, 35, 31, 59, 66, 70, 66, 41, 94, 86, 77, 42, 102, 62, 86, 19, 68, 91, 57, 70, 99, 52, 20, 88, 24, 102, 12, 28, 95, 98, 106, 94, 70, 60, 21, 85, 33, 89, 47, 50, 12, 12, 15, 84, 55, 70, 31, 30, 86, 30, 65, 86, 40, 41, 34, 34, 43, 84, 92, 31, 58, 23, 54, 93, 88, 26, 96, 19, 52, 41, 39, 46, 17, 39, 93, 95, 93, 76, 44, 101, 18, 56, 27, 73, 95, 15, 96, 62, 26, 101, 99, 53, 58, 85, 95, 89, 64, 35, 27, 32, 91, 81, 63, 95, 9, 103, 98, 100, 89, 102, 77, 71, 66, 38, 17, 71, 52, 14, 103, 101, 27, 70, 39, 69, 79, 34, 33, 54, 87, 57, 65, 37, 93, 40, 66, 5, 100, 59, 24, 34, 93, 99, 38, 19, 92, 48, 99, 68, 91, 91, 3, 33, 29, 78, 12, 39, 70, 17, 94, 31, 92, 13, 50, 97, 99, 61, 24, 14, 64, 26, 92, 103, 39, 74, 99, 46, 36, 28, 65, 54, 57, 19, 17, 66, 18, 40, 53, 35, 72, 94, 32, 33, 37, 25, 33, 80, 32, 58, 22, 63, 63, 20, 100, 31, 38, 92, 30, 43, 94, 55, 59, 59, 53, 40, 108, 23, 84, 43, 47, 37, 8, 52, 97, 99, 25, 24, 102, 68, 48, 47, 42, 48, 93, 79, 49, 32, 72, 45, 86, 55, 27, 24, 80, 96, 106, 104, 100, 38, 97, 94, 102, 84, 91, 100, 30, 56, 73, 37, 61, 98, 25, 16, 40, 84, 46, 68, 57, 36, 35, 52, 73, 95, 96, 72, 95, 64, 62, 54, 33, 55, 81, 68, 87, 36, 19, 15, 89, 48, 35, 41, 41, 85, 48, 97, 28, 47, 100, 26, 49, 46, 13, 56, 92, 23, 96, 95, 36, 35, 100, 77, 96, 79, 49, 94, 54, 23, 94, 40, 88, 27, 68, 94, 38, 93, 91, 91, 41, 75, 35, 102, 12, 37, 60, 88, 69, 23, 97, 51, 47, 19, 13, 36, 47, 34, 35, 58, 38, 70, 22, 50, 92, 34, 51, 79, 97, 19, 101, 96, 24, 91, 74, 67, 15, 61, 100, 30, 76, 39, 86, 61, 33, 55, 48, 30, 31, 46, 93, 103, 60, 81, 11, 84, 46, 26, 51, 102, 59, 59, 103, 56, 44, 37, 56, 41, 53, 32, 57, 24, 11, 26, 97, 2, 20, 64, 88, 59, 55, 55, 39, 54, 101, 51, 61, 19, 95, 34, 58, 49, 80, 43, 24, 55, 57, 29, 46, 49, 74, 35, 29, 87, 21, 101, 30, 24, 16, 30, 41, 20, 100, 26, 104, 21, 42, 86, 97, 12, 92, 101, 76, 99, 19, 83, 107, 66, 13, 62, 104, 101, 41, 90, 47, 63, 22, 59, 69, 35, 69, 61, 96, 42, 63, 22, 26, 40, 11, 97, 107, 82, 101, 60, 71, 34, 54, 95, 64, 19, 81, 104, 49, 48, 73, 92, 103, 59, 27, 101, 64, 66, 16, 85, 14, 34, 41, 35, 83, 31, 25, 25, 79, 81, 66, 22, 64, 15, 99, 23, 27, 51, 105, 29, 20, 83, 39, 102, 75, 65, 80, 34, 66, 25, 15, 44, 58, 93, 41, 32, 105, 46, 100, 107, 45, 71, 72, 90, 94, 100, 100, 56, 101, 52, 96, 43, 99, 57, 71, 32, 32, 106, 24, 98, 46, 30, 92, 29, 16, 109, 39, 20, 72, 100, 55, 29, 60, 97, 55, 5, 32, 36, 29, 39, 38, 66, 81, 38, 34, 94, 53, 93, 18, 75, 24, 33, 99, 51, 81, 48, 68, 22, 71, 100, 44, 102, 53, 53, 32, 35, 95, 46, 94, 12, 49, 72, 70, 49, 25, 16, 91, 43, 85, 76, 46, 35, 38, 41, 80, 63, 21, 58, 20, 37, 31, 94, 46, 44, 29, 99, 11, 60, 86, 24, 42, 81, 63, 83, 48, 77, 13, 31, 42, 105, 34, 60, 43, 31, 42, 96, 55, 32, 34, 34, 54, 67, 60, 33, 70, 29, 95, 24, 52, 22, 33, 56, 92, 97, 43, 43, 24, 92, 65, 41, 40, 59, 100, 106, 51, 64, 43, 53, 46, 96, 54, 98, 98, 17, 78, 89, 97, 75, 27, 98, 42, 59, 20, 55, 35, 67, 99, 101, 107, 86, 79, 83, 37, 52, 11, 101, 31, 105, 32, 96, 25, 47, 80, 29, 29, 60, 87, 91, 53, 91, 40, 51, 42, 28, 84, 92, 61, 58, 53, 99, 34, 44, 64, 84, 38, 35, 95, 86, 48, 36, 24, 90, 36, 74, 41, 21, 22, 67, 79, 69, 72, 24, 85, 25, 95, 43, 71, 54, 74, 64, 102, 37, 91, 57, 41, 39, 45, 50, 25, 85, 43, 101, 67, 99, 98, 55, 26, 16, 100, 32, 71, 75, 91, 24, 74, 72, 36, 96, 34, 108, 39, 66, 28, 51, 41, 103, 79, 58, 49, 22, 25, 99, 21, 35, 101, 52, 13, 101, 43, 93, 96, 83, 70, 20, 23, 28, 63, 99, 79, 49, 20, 52, 33, 30, 21, 49, 95, 18, 51, 12, 71, 40, 95, 24, 58, 92, 31, 13, 34, 99, 51, 32, 85, 96, 85, 60, 85, 69, 76, 34, 100, 48, 56, 98, 50, 31, 87, 100, 31, 90, 21, 91, 26, 43, 47, 32, 100, 61, 35, 38, 56, 77, 48, 32, 19, 73, 68, 68, 95, 98, 50, 81, 95, 92, 62, 12, 46, 16, 68, 30, 36, 63, 78, 63, 73, 105, 43, 42, 100, 94, 13, 91, 64, 95, 96, 72, 98, 99, 50, 78, 35, 66, 42, 97, 105, 57, 99, 28, 11, 15, 41, 79, 50, 57, 93, 80, 97, 32, 107, 67, 49, 94, 61, 28, 102, 32, 72, 55, 41, 60, 75, 45, 94, 76, 86, 40, 106, 93, 76, 75, 42, 42, 64, 30, 62, 31, 97, 66, 20, 64, 34, 74, 41, 92, 68, 96, 58, 58, 88, 55, 53, 67, 97, 47, 83, 13, 36, 56, 95, 24, 27, 17, 36, 78, 75, 99, 80, 98, 75, 33, 60, 54, 88, 38, 46, 18, 92, 87, 94, 54, 51, 45, 102, 104, 64, 13, 72, 45, 66, 42, 89, 97, 12, 39, 29, 91, 68, 95, 95, 100, 46, 62, 72, 49, 69, 20, 23, 27, 31, 36, 104, 66, 46, 61, 47, 85, 24, 12, 38, 69, 17, 47, 53, 50, 24, 43, 93, 14, 104, 26, 108, 75, 15, 100, 99, 15, 67, 59, 59, 102, 22, 54, 40, 76, 93, 29, 45, 67, 23, 29, 26, 52, 14, 26, 6, 92, 14, 85, 25, 96, 48, 43, 63, 45, 32, 98, 70, 87, 99, 100, 29, 98, 61, 94, 96, 99, 33, 68, 95, 65, 99, 26, 93, 72, 68, 27, 25, 46, 80, 37, 25, 93, 66, 107, 39, 41, 70, 99, 36, 64, 87, 98, 27, 99, 36, 79, 104, 108, 46, 53, 88, 87, 101, 81, 75, 91, 42, 90, 42, 32, 36, 32, 78, 45, 44, 101, 12, 36, 96, 65, 103, 81, 91, 102, 97, 48, 69, 101, 68, 53, 69, 53, 19, 14, 25, 95, 35, 31, 98, 12, 95, 59, 93, 68, 103, 25, 16, 29, 88, 80, 94, 60, 21, 59, 99, 3, 98, 95, 29, 95, 67, 15, 22, 88, 15, 86, 47, 76, 24, 15, 12, 57, 12, 89, 74, 23, 40, 83, 101, 99, 98, 98, 47, 68, 6, 56, 38, 100, 96, 57, 14, 99, 60, 98, 102, 42, 37, 102, 40, 24, 92, 85, 18, 61, 108, 60, 14, 97, 81, 100, 83, 17, 38, 43, 100, 95, 35, 50, 107, 41, 62, 40, 44, 14, 84, 101, 97, 67, 30, 64, 102, 49, 100, 97, 92, 108, 97, 92, 93, 55, 95, 30, 90, 37, 69, 49, 53, 31, 47, 105, 104, 45, 20, 69, 15, 105, 77, 40, 17, 49, 49, 35, 7, 79, 25, 47, 88, 54, 63, 76, 88, 67, 75, 51, 30, 84, 90, 100, 72, 102, 20, 54, 84, 71, 45, 5, 93, 3, 101, 49, 55, 66, 100, 68, 81, 59, 64, 19, 37, 23, 36, 88, 38, 14, 54, 25, 66, 46, 86, 64, 93, 94, 51, 15, 32, 45, 84, 90, 23, 34, 99, 62, 62, 93, 14, 94, 29, 98, 20, 48, 38, 94, 64, 96, 46, 59, 105, 61, 44, 46, 29, 37, 18, 61, 50, 52, 21, 18, 46, 24, 94, 12, 58, 80, 56, 22, 23, 17, 37, 35, 56, 95, 74, 50, 90, 61, 39, 95, 21, 24, 13, 55, 80, 103, 46, 77, 58, 61, 87, 90, 84, 13, 96, 37, 46, 93, 9, 74, 60, 88, 22, 38, 47, 99, 92, 21, 97, 8, 53, 61, 59, 45, 15, 51, 100, 12, 40, 99, 14, 37, 17, 96, 42, 101, 63, 89, 31, 52, 105, 96, 66, 12, 9, 78, 99, 52, 41, 67, 11, 10, 100, 101, 83, 74, 79, 10, 43, 55, 93, 92, 16, 30, 107, 52, 78, 75, 93, 46, 21, 87, 80, 23, 100, 101, 13, 15, 86, 91, 101, 75, 14, 73, 102, 87, 25, 53, 29, 59, 89, 28, 32, 49, 65, 78, 32, 63, 65, 78, 77, 106, 102, 24, 84, 106, 97, 98, 69, 69, 19, 16, 18, 97, 40, 39, 4, 109, 25, 75, 95, 54, 94, 97, 35, 41, 52, 88, 47, 41, 11, 49, 101, 91, 98, 92, 99, 76, 99, 74, 48, 21, 100, 28, 100, 97, 63, 46, 37, 72, 65, 43, 24, 56, 85, 22, 68, 57, 41, 90, 19, 37, 46, 12, 50, 104, 36, 55, 45, 24, 102, 12, 75, 17, 99, 11, 98, 27, 20, 52, 66, 67, 14, 34, 85, 73, 60, 106, 102, 40, 101, 14, 81, 89, 92, 45, 43, 67, 105, 78, 54, 43, 31, 77, 76, 103, 36, 92, 23, 52, 69, 100, 94, 17, 104, 20, 96, 69, 99, 37, 55, 97, 70, 76, 77, 23, 40, 100, 45, 50, 26, 64, 43, 11, 92, 79, 40, 22, 39, 25, 61, 42, 42, 75, 41, 100, 13, 41, 45, 54, 35, 38, 56, 91, 23, 97, 39, 49, 50, 45, 63, 81, 25, 72, 73, 99, 59, 108, 48, 43, 52, 55, 36, 3, 72, 95, 98, 24, 90, 29, 31, 55, 50, 33, 77, 22, 105, 25, 102, 84, 89, 102, 53, 94, 40, 58, 100, 64, 23, 73, 55, 32, 57, 101, 55, 103, 18, 98, 47, 59, 84, 52, 65, 91, 69, 6, 81, 42, 94, 31, 34, 36, 99, 28, 33, 18, 82, 92, 96, 39, 51, 106, 36, 109, 57, 16, 19, 85, 67, 67, 97, 87, 43, 111, 91, 93, 61, 26, 12, 29, 84, 100, 76, 41, 93, 80, 30, 56, 99, 40, 54, 107, 101, 63, 12, 32, 44, 57, 101, 80, 36, 36, 74, 29, 25, 16, 22, 62, 53, 67, 70, 41, 48, 67, 109, 65, 97, 49, 21, 22, 25, 29, 43, 25, 66, 93, 86, 22, 53, 74, 25, 73, 94, 40, 51, 92, 99, 14, 30, 20, 36, 27, 100, 102, 95, 50, 96, 67, 12, 74, 68, 29, 31, 14, 45, 44, 99, 75, 30, 10, 33, 65, 74, 74, 16, 100, 48, 92, 97, 102, 56, 41, 31, 31, 41, 29, 45, 27, 10, 86, 51, 42, 28, 20, 96, 27, 39, 100, 43, 61, 60, 7, 87, 102, 69, 31, 21, 59, 60, 63, 16, 85, 14, 94, 18, 70, 18, 96, 70, 77, 45, 86, 12, 93, 98, 50, 11, 31, 34, 23, 19, 56, 36, 91, 38, 56, 99, 78, 26, 34, 77, 16, 81, 36, 92, 12, 52, 28, 36, 110, 93, 70, 32, 26, 96, 57, 97, 59, 81, 56, 90, 46, 22, 62, 94, 50, 99, 22, 97, 41, 30, 55, 91, 31, 97, 95, 97, 65, 91, 101, 33, 68, 40, 18, 23, 89, 90, 45, 95, 52, 25, 18, 93, 98, 10, 98, 17, 31, 56, 92, 98, 99, 40, 42, 99, 9, 93, 48, 97, 90, 99, 21, 25, 50, 105, 36, 71, 101, 22, 66, 56, 41, 38, 43, 29, 6, 37, 96, 40, 80, 37, 71, 33, 9, 70, 60, 22, 41, 103, 72, 105, 101, 45, 43, 61, 91, 47, 65, 30, 24, 42, 99, 10, 66, 34, 51, 101, 91, 76, 104, 24, 100, 106, 60, 18, 97, 17, 92, 104, 31, 46, 10, 73, 35, 44, 17, 104, 44, 53, 25, 102, 67, 93, 52, 42, 82, 88, 61, 48, 19, 98, 55, 78, 72, 49, 39, 99, 48, 36, 57, 20, 52, 23, 53, 98, 28, 45, 94, 100, 39, 74, 65, 82, 62, 45, 44, 44, 81, 42, 63, 38, 63, 30, 17, 12, 29, 21, 15, 51, 70, 21, 39, 102, 100, 63, 50, 76, 14, 58, 91, 69, 95, 98, 29, 36, 96, 70, 69, 12, 16, 27, 86, 83, 38, 43, 18, 45, 102, 64, 69, 99, 91, 95, 59, 21, 52, 79, 74, 51, 66, 60, 104, 24, 76, 98, 91, 53, 38, 79, 74, 17, 27, 79, 97, 35, 95, 50, 48, 71, 82, 59, 89, 73, 91, 53, 76, 45, 78, 94, 33, 25, 65, 96, 69, 12, 34, 76, 102, 62, 73, 32, 24, 95, 63, 46, 81, 90, 36, 95, 16, 94, 28, 24, 98, 61, 40, 90, 77, 106, 28, 5, 90, 77, 43, 49, 104, 67, 32, 96, 99, 62, 96, 45, 17, 48, 9, 22, 24, 38, 34, 73, 59, 31, 19, 40, 96, 61, 103, 72, 18, 17, 10, 94, 63, 98, 37, 87, 79, 74, 93, 96, 28, 16, 14, 97, 14, 27, 19, 37, 78, 97, 12, 38, 29, 87, 14, 100, 47, 95, 22, 101, 34, 41, 93, 54, 59, 77, 74, 99, 55, 79, 39, 34, 16, 38, 56, 9, 71, 64, 80, 79, 45, 59, 65, 55, 20, 27, 60, 94, 95, 70, 64, 24, 102, 107, 55, 75, 36, 30, 42, 58, 74, 41, 56, 86, 33, 98, 20, 37, 62, 72, 39, 12, 48, 32, 80, 57, 78, 64, 54, 34, 55, 25, 92, 44, 28, 44, 49, 98, 32, 59, 25, 42, 51, 32, 58, 92, 36, 38, 53, 70, 71, 70, 11, 54, 94, 24, 93, 47, 100, 80, 49, 38, 97, 91, 44, 67, 38, 31, 34, 24, 35, 42, 34, 25, 66, 92, 95, 79, 50, 66, 48, 24, 100, 15, 96, 67, 49, 95, 61, 35, 90, 102, 27, 52, 58, 47, 60, 83, 98, 57, 41, 60, 46, 78, 80, 99, 73, 74, 69, 90, 48, 98, 69, 48, 97, 96, 89, 107, 19, 24, 24, 102, 90, 64, 69, 105, 54, 89, 31, 62, 86, 64, 47, 69, 30, 93, 40, 37, 39, 98, 41, 84, 48, 14, 51, 20, 102, 90, 16, 28, 68, 88, 69, 85, 37, 90, 39, 52, 88, 26, 71, 99, 19, 35, 81, 52, 59, 25, 95, 65, 88, 85, 21, 12, 94, 50, 75, 25, 76, 78, 10, 43, 34, 23, 24, 11, 68, 50, 43, 49, 97, 48, 44, 73, 37, 33, 102, 47, 94, 96, 81, 56, 48, 88, 82, 81, 58, 35, 89, 47, 71, 96, 68, 30, 97, 93, 87, 53, 13, 60, 30, 63, 57, 53, 30, 45, 93, 104, 37, 38, 74, 12, 82, 87, 27, 20, 20, 65, 99, 58, 99, 90, 90, 55, 79, 92, 9, 89, 66, 100, 70, 39, 89, 93, 77, 95, 71, 93, 54, 75, 47, 20, 19, 45, 68, 68, 93, 31, 83, 27, 94, 72, 73, 101, 52, 100, 33, 59, 30, 89, 92, 76, 68, 104, 85, 89, 45, 47, 35, 73, 51, 94, 93, 31, 15, 105, 61, 11, 96, 53, 16, 40, 50, 61, 20, 90, 97, 29, 95, 99, 67, 54, 39, 68, 104, 58, 89, 34, 56, 103, 98, 111, 101, 75, 73, 88, 19, 92, 12, 50, 56, 37, 68, 17, 36, 71, 93, 81, 103, 62, 86, 14, 19, 17, 43, 80, 9, 52, 96, 31, 57, 99, 104, 77, 52, 79, 39, 70, 80, 27, 97, 39, 64, 72, 80, 76, 31, 61, 47, 100, 93, 64, 86, 106, 46, 52, 61, 106, 82, 83, 18, 28, 59, 95, 92, 20, 47, 59, 78, 24, 19, 48, 21, 43, 14, 59, 57, 96, 74, 100, 100, 89, 91, 26, 75, 80, 11, 14, 45, 64, 105, 101, 54, 100, 57, 94, 72, 21, 63, 9, 92, 78, 72, 100, 106, 70, 10, 52, 99, 45, 65, 54, 57, 64, 102, 18, 101, 71, 49, 96, 86, 96, 62, 60, 89, 95, 17, 64, 84, 101, 24, 102, 96, 37, 30, 24, 30, 33, 103, 92, 50, 92, 81, 54, 35, 81, 98, 50, 72, 72, 99, 92, 30, 88, 93, 23, 61, 60, 81, 20, 32, 100, 96, 98, 89, 41, 72, 12, 90, 47, 97, 40, 98, 41, 43, 45, 21, 18, 85, 40, 31, 100, 17, 20, 52, 102, 39, 76, 61, 56, 85, 63, 24, 94, 21, 88, 50, 26, 24, 22, 40, 31, 15, 62, 34, 47, 61, 105, 72, 63, 61, 102, 58, 102, 28, 18, 33, 107, 27, 102, 72, 63, 94, 48, 28, 95, 57, 69, 60, 94, 51, 39, 51, 15, 46, 82, 57, 77, 94, 78, 51, 36, 73, 93, 68, 38, 71, 39, 73, 92, 40, 44, 41, 57, 58, 61, 9, 29, 106, 31, 90, 39, 81, 92, 75, 41, 68, 26, 30, 42, 73, 96, 62, 63, 93, 29, 72, 36, 86, 13, 22, 71, 52, 13, 17, 38, 27, 36, 100, 93, 43, 98, 30, 29, 70, 65, 56, 20, 9, 30, 94, 64, 23, 87, 23, 51, 33, 48, 12, 86, 71, 43, 60, 99, 44, 92, 44, 10, 61, 92, 25, 60, 34, 89, 100, 90, 16, 23, 75, 107, 20, 33, 101, 95, 16, 100, 105, 101, 80, 72, 29, 64, 57, 22, 29, 106, 35, 15, 59, 69, 26, 19, 37, 34, 61, 32, 43, 56, 45, 98, 88, 82, 25, 101, 29, 39, 50, 99, 57, 54, 68, 83, 26, 48, 98, 68, 94, 19, 20, 52, 103, 23, 18, 83, 102, 18, 29, 83, 16, 58, 36, 57, 21, 92, 40, 91, 47, 28, 71, 55, 97, 22, 39, 25, 15, 99, 15, 94, 95, 104, 77, 93, 72, 52, 58, 27, 77, 49, 34, 41, 67, 100, 95, 46, 47, 38, 35, 85, 66, 96, 102, 79, 86, 66, 101, 66, 69, 98, 52, 31, 21, 61, 98, 63, 83, 66, 102, 34, 33, 54, 97, 69, 105, 95, 95, 38, 19, 100, 96, 17, 43, 24, 34, 36, 15, 96, 70, 14, 39, 97, 96, 51, 65, 46, 46, 42, 25, 95, 12, 25, 94, 68, 101, 38, 46, 39, 91, 70, 91, 24, 48, 57, 66, 96, 28, 63, 34, 40, 112, 40, 17, 35, 87, 57, 14, 59, 95, 50, 54, 21, 67, 90, 97, 16, 83, 77, 81, 28, 101, 33, 70, 26, 33, 91, 51, 45, 93, 93, 58, 57, 102, 87, 98, 33, 35, 21, 49, 88, 80, 43, 42, 28, 100, 99, 100, 28, 19, 68, 12, 26, 28, 43, 97, 25, 38, 27, 100, 21, 101, 55, 45, 17, 46, 82, 22, 97, 94, 87, 54, 98, 82, 92, 57, 76, 54, 101, 64, 66, 101, 83, 93, 79, 83, 94, 27, 22, 97, 91, 28, 98, 12, 86, 55, 49, 49, 33, 95, 96, 100, 70, 99, 101, 56, 105, 30, 29, 90, 43, 62, 83, 11, 26, 53, 70, 106, 65, 37, 95, 31, 26, 16, 72, 73, 99, 87, 36, 34, 29, 80, 66, 99, 24, 68, 61, 51, 25, 26, 44, 51, 95, 63, 64, 70, 4, 27, 17, 53, 44, 78, 76, 48, 71, 96, 101, 11, 34, 55, 13, 60, 106, 48, 63, 12, 30, 48, 60, 70, 99, 16, 16, 105, 97, 39, 57, 88, 101, 33, 34, 35, 45, 66, 49, 64, 84, 104, 47, 97, 15, 21, 23, 33, 97, 53, 69, 47, 22, 76, 62, 43, 57, 57, 41, 90, 41, 43, 48, 18, 53, 101, 32, 68, 56, 82, 96, 91, 8, 14, 87, 35, 65, 98, 87, 93, 92, 53, 80, 96, 44, 97, 105, 62, 12, 94, 94, 100, 94, 94, 101, 88, 11, 57, 63, 69, 35, 101, 37, 30, 16, 74, 100, 100, 21, 44, 77, 59, 78, 19, 45, 72, 108, 24, 17, 89, 43, 95, 10, 13, 69, 70, 29, 42, 24, 31, 27, 61, 18, 14, 62, 41, 96, 77, 32, 29, 35, 98, 65, 21, 57, 69, 86, 25, 11, 36, 63, 102, 92, 20, 75, 68, 38, 19, 59, 41, 85, 46, 41, 34, 97, 62, 107, 38, 90, 53, 96, 23, 32, 94, 73, 32, 99, 91, 65, 63, 96, 42, 18, 48, 27, 15, 30, 40, 97, 69, 56, 95, 81, 92, 60, 25, 103, 10, 56, 51, 79, 42, 34, 8, 20, 94, 94, 45, 42, 96, 93, 35, 19, 45, 49, 50, 39, 43, 14, 51, 95, 67, 32, 80, 21, 38, 58, 62, 55, 12, 78, 57, 63, 94, 19, 50, 82, 100, 45, 85, 82, 100, 10, 91, 23, 78, 39, 37, 62, 100, 73, 16, 63, 50, 102, 29, 12, 91, 55, 93, 84, 101, 100, 22, 99, 91, 50, 42, 61, 76, 12, 66, 79, 100, 87, 33, 70, 69, 51, 69, 101, 65, 99, 98, 96, 72, 14, 34, 46, 64, 45, 86, 94, 29, 30, 52, 101, 36, 71, 100, 58, 42, 33, 19, 94, 98, 31, 102, 94, 91, 65, 92, 101, 26, 19, 96, 21, 50, 27, 28, 50, 34, 29, 31, 58, 41, 12, 91, 40, 72, 45, 34, 96, 24, 89, 45, 61, 23, 54, 32, 80, 82, 30, 89, 48, 34, 35, 92, 57, 73, 90, 57, 94, 53, 27, 60, 47, 19, 59, 38, 22, 19, 67, 46, 36, 51, 51, 11, 75, 101, 22, 28, 11, 103, 60, 37, 97, 81, 45, 13, 68, 55, 109, 51, 40, 53, 26, 86, 100, 41, 43, 94, 95, 10, 59, 16, 35, 106, 63, 27, 44, 96, 98, 60, 103, 26, 66, 97, 77, 91, 94, 96, 80, 93, 96, 44, 35, 31, 13, 103, 72, 52, 44, 88, 22, 43, 23, 56, 37, 102, 99, 95, 55, 49, 36, 55, 34, 31, 22, 21, 13, 101, 71, 40, 101, 4, 99, 46, 63, 101, 38, 25, 101, 21, 54, 19, 68, 58, 63, 44, 59, 97, 34, 45, 4, 37, 78, 76, 23, 32, 71, 102, 45, 106, 50, 102, 61, 5, 65, 89, 97, 102, 66, 46, 26, 26, 46, 84, 23, 95, 39, 47, 99, 8, 97, 3, 67, 90, 54, 50, 42, 67, 45, 44, 87, 74, 34, 33, 66, 46, 101, 57, 104, 63, 19, 81, 54, 67, 38, 43, 70, 64, 63, 78, 36, 90, 83, 54, 66, 105, 56, 69, 101, 39, 52, 14, 48, 54, 73, 18, 49, 109, 26, 36, 8, 56, 72, 31, 65, 50, 103, 35, 29, 48, 52, 98, 103, 96, 105, 65, 22, 94, 35, 81, 70, 92, 101, 18, 102, 42, 92, 44, 44, 59, 20, 87, 28, 96, 73, 49, 72, 27, 60, 102, 66, 69, 70, 90, 13, 28, 63, 67, 91, 84, 37, 93, 71, 102, 96, 18, 33, 11, 40, 28, 6, 73, 91, 95, 67, 66, 96, 94, 94, 67, 99, 86, 36, 48, 34, 99, 34, 97, 65, 29, 78, 57, 92, 45, 101, 57, 37, 33, 31, 40, 79, 80, 96, 65, 40, 28, 108, 47, 57, 92, 67, 69, 35, 30, 99, 22, 71, 49, 68, 23, 37, 55, 32, 42, 73, 56, 94, 68, 63, 37, 74, 24, 50, 62, 59, 27, 27, 53, 54, 81, 26, 74, 48, 74, 54, 104, 29, 101, 37, 96, 24, 40, 72, 96, 40, 69, 43, 54, 89, 42, 86, 90, 66, 54, 52, 13, 27, 16, 38, 71, 46, 95, 99, 97, 84, 42, 95, 60, 93, 73, 18, 79, 19, 61, 56, 24, 10, 67, 102, 41, 33, 75, 28, 94, 84, 102, 77, 97, 46, 73, 65, 37, 72, 2, 100, 47, 11, 99, 92, 15, 50, 27, 40, 100, 67, 40, 44, 73, 15, 32, 34, 46, 38, 57, 30, 25, 41, 99, 39, 26, 16, 99, 47, 47, 68, 37, 57, 41, 42, 71, 47, 46, 35, 23, 30, 10, 102, 98, 67, 44, 31, 41, 91, 63, 49, 15, 106, 67, 49, 102, 45, 17, 62, 36, 30, 55, 95, 99, 41, 8, 102, 42, 99, 101, 99, 48, 42, 66, 69, 79, 76, 55, 89, 23, 94, 29, 100, 49, 58, 37, 8, 21, 56, 50, 66, 63, 88, 103, 47, 78, 51, 38, 57, 44, 48, 24, 79, 42, 93, 33, 94, 41, 21, 22, 60, 28, 84, 42, 105, 10, 95, 92, 101, 37, 84, 51, 7, 60, 46, 96, 91, 72, 56, 14, 43, 71, 59, 56, 30, 32, 70, 56, 60, 29, 31, 49, 64, 97, 98, 80, 77, 17, 95, 57, 53, 67, 21, 13, 42, 68, 60, 91, 39, 46, 55, 100, 57, 71, 11, 50, 84, 74, 20, 97, 96, 64, 24, 72, 99, 19, 85, 72, 64, 13, 10, 11, 64, 95, 37, 62, 52, 90, 24, 43, 16, 60, 84, 97, 92, 88, 88, 98, 103, 25, 95, 74, 74, 36, 90, 39, 27, 17, 86, 69, 67, 27, 100, 58, 62, 75, 99, 40, 95, 81, 96, 71, 35, 108, 98, 59, 35, 48, 22, 56, 42, 90, 32, 13, 101, 15, 62, 30, 44, 79, 71, 76, 33, 106, 71, 29, 42, 39, 36, 55, 87, 76, 54, 13, 25, 70, 60, 53, 75, 54, 101, 65, 20, 76, 37, 86, 49, 93, 29, 97, 51, 20, 99, 34, 100, 96, 93, 57, 90, 82, 72, 45, 23, 66, 66, 63, 76, 17, 45, 29, 91, 61, 101, 59, 98, 104, 39, 17, 16, 98, 31, 93, 95, 37, 51, 54, 20, 39, 94, 71, 26, 46, 51, 58, 50, 84, 13, 41, 48, 81, 103, 67, 14, 12, 74, 26, 37, 62, 53, 101, 42, 58, 37, 74, 57, 35, 38, 58, 100, 72, 106, 57, 93, 104, 84, 97, 78, 70, 31, 9, 20, 59, 13, 59, 99, 55, 74, 61, 95, 62, 26, 24, 42, 91, 98, 57, 31, 96, 92, 104, 51, 70, 36, 106, 30, 24, 95, 49, 82, 61, 27, 82, 98, 53, 69, 72, 28, 22, 34, 50, 100, 23, 21, 71, 70, 62, 96, 77, 58, 59, 39, 59, 40, 100, 96, 22, 85, 50, 54, 103, 42, 79, 27, 47, 43, 76, 87, 18, 35, 70, 28, 40, 97, 51, 99, 34, 91, 14, 56, 58, 43, 96, 57, 46, 103, 16, 13, 105, 80, 83, 104, 33, 43, 73, 57, 91, 62, 35, 40, 59, 62, 51, 99, 54, 104, 56, 102, 72, 101, 61, 93, 51, 65, 98, 33, 47, 6, 100, 21, 26, 28, 97, 34, 60, 93, 21, 47, 57, 30, 99, 99, 61, 37, 37, 100, 66, 29, 72, 98, 17, 45, 17, 46, 28, 11, 64, 100, 96, 32, 86, 62, 61, 28, 70, 92, 87, 97, 92, 39, 18, 19, 91, 47, 97, 97, 91, 91, 35, 33, 30, 28, 38, 106, 90, 35, 106, 28, 51, 84, 70, 46, 60, 36, 18, 32, 17, 21, 101, 68, 100, 90, 98, 61, 77, 103, 101, 46, 28, 26, 85, 40, 32, 65, 47, 88, 20, 87, 102, 91, 69, 53, 18, 21, 70, 30, 11, 64, 22, 53, 79, 86, 68, 47, 10, 99, 59, 78, 97, 33, 99, 60, 36, 56, 26, 17, 82, 52, 43, 91, 98, 28, 43, 98, 97, 98, 8, 47, 81, 29, 73, 100, 54, 89, 102, 100, 77, 43, 93, 73, 92, 98, 70, 57, 91, 96, 46, 42, 59, 33, 22, 23, 53, 37, 36, 43, 83, 65, 97, 43, 96, 44, 60, 99, 20, 20, 14, 17, 26, 30, 37, 30, 14, 53, 6, 29, 91, 40, 73, 15, 84, 40, 21, 37, 67, 20, 21, 35, 69, 62, 37, 92, 89, 97, 90, 66, 77, 13, 91, 101, 98, 47, 42, 35, 104, 23, 96, 63, 89, 98, 30, 17, 30, 30, 27, 106, 61, 50, 80, 96, 53, 82, 88, 41, 66, 65, 38, 88, 101, 59, 15, 98, 77, 50, 35, 84, 51, 82, 59, 24, 11, 64, 98, 101, 13, 36, 64, 71, 47, 84, 102, 29, 40, 85, 110, 63, 46, 96, 56, 28, 91, 40, 29, 33, 56, 58, 30, 80, 42, 30, 35, 100, 43, 55, 12, 86, 92, 91, 77, 99, 28, 69, 102, 68, 95, 98, 18, 68, 99, 68, 13, 103, 99, 63, 94, 107, 90, 43, 25, 45, 26, 98, 99, 103, 57, 49, 24, 107, 92, 89, 30, 42, 37, 54, 99, 39, 23, 78, 103, 87, 104, 100, 52, 95, 102, 25, 70, 45, 73, 12, 27, 34, 16, 36, 93, 65, 37, 41, 27, 59, 32, 52, 58, 40, 41, 101, 98, 93, 50, 88, 66, 10, 110, 97, 101, 84, 71, 10, 92, 49, 54, 95, 60, 94, 16, 96, 47, 15, 40, 67, 22, 79, 40, 15, 26, 32, 99, 22, 15, 91, 57, 35, 77, 53, 91, 47, 27, 18, 66, 27, 60, 68, 19, 19, 101, 73, 61, 98, 45, 42, 76, 62, 98, 20, 11, 19, 98, 25, 21, 56, 93, 82, 26, 10, 40, 38, 60, 61, 33, 98, 14, 14, 51, 40, 73, 32, 34, 91, 100, 18, 38, 91, 64, 38, 97, 12, 100, 108, 81, 21, 103, 102, 32, 69, 76, 41, 27, 33, 50, 17, 80, 89, 99, 75, 92, 72, 67, 70, 10, 57, 48, 21, 20, 18, 55, 99, 51, 82, 33, 18, 84, 36, 69, 21, 74, 98, 68, 81, 10, 71, 94, 67, 43, 35, 77, 39, 55, 56, 54, 11, 25, 100, 36, 74, 48, 44, 97, 26, 30, 96, 105, 17, 79, 29, 27, 92, 91, 17, 64, 79, 32, 17, 49, 57, 97, 16, 45, 29, 101, 100, 20, 82, 24, 42, 99, 15, 97, 85, 21, 101, 85, 100, 41, 67, 98, 22, 97, 64, 33, 26, 57, 99, 100, 77, 59, 55, 69, 31, 70, 28, 102, 105, 110, 58, 49, 11, 74, 74, 90, 38, 56, 71, 50, 72, 95, 92, 47, 68, 74, 68, 36, 54, 32, 79, 59, 103, 51, 73, 54, 19, 95, 27, 103, 61, 91, 76, 93, 99, 39, 44, 84, 69, 49, 100, 96, 9, 8, 44, 46, 97, 37, 103, 51, 104, 40, 74, 16, 19, 20, 73, 87, 66, 40, 48, 76, 75, 81, 18, 89, 72, 93, 75, 61, 103, 93, 91, 56, 96, 85, 40, 67, 83, 72, 58, 77, 20, 82, 54, 57, 48, 102, 55, 14, 87, 71, 52, 26, 44, 20, 48, 98, 17, 103, 95, 54, 102, 87, 54, 63, 102, 53, 106, 99, 70, 102, 72, 90, 96, 42, 45, 81, 66, 30, 98, 33, 101, 55, 99, 93, 86, 10, 101, 109, 98, 15, 107, 58, 46, 40, 51, 43, 111, 72, 100, 72, 8, 101, 51, 88, 96, 93, 57, 72, 63, 76, 100, 46, 83, 49, 96, 29, 3, 49, 100, 34, 99, 75, 45, 37, 39, 87, 31, 66, 74, 32, 92, 86, 72, 83, 98, 48, 101, 46, 20, 35, 40, 78, 65, 99, 101, 51, 102, 92, 58, 107, 103, 93, 94, 31, 57, 89, 86, 54, 67, 98, 45, 16, 46, 97, 70, 107, 77, 49, 48, 75, 72, 57, 74, 94, 77, 63, 63, 68, 23, 102, 67, 24, 11, 22, 30, 61, 39, 99, 58, 15, 67, 82, 30, 77, 75, 20, 37, 60, 61, 103, 100, 27, 46, 98, 39, 38, 64, 25, 92, 14, 98, 35, 45, 94, 79, 69, 31, 79, 58, 44, 60, 14, 91, 78, 100, 54, 18, 79, 47, 62, 92, 44, 66, 34, 56, 95, 61, 26, 23, 106, 71, 95, 24, 19, 82, 24, 93, 96, 98, 101, 50, 96, 43, 53, 50, 36, 22, 53, 51, 8, 17, 65, 34, 47, 26, 108, 21, 50, 100, 100, 86, 23, 52, 49, 14, 22, 11, 96, 104, 44, 96, 102, 107, 44, 72, 93, 100, 53, 32, 20, 92, 98, 59, 33, 28, 95, 9, 49, 91, 50, 78, 99, 53, 46, 91, 40, 8, 101, 98, 90, 58, 90, 44, 36, 98, 72, 103, 101, 98, 38, 21, 48, 54, 102, 33, 90, 74, 97, 36, 60, 37, 81, 43, 95, 100, 64, 83, 28, 99, 69, 7, 37, 95, 63, 101, 37, 25, 18, 48, 99, 25, 105, 90, 85, 16, 93, 95, 10, 100, 45, 61, 109, 54, 25, 87, 58, 70, 42, 49, 103, 101, 93, 32, 37, 26, 74, 21, 21, 51, 92, 81, 37, 97, 87, 65, 64, 41, 97, 14, 10, 49, 54, 19, 98, 63, 61, 60, 32, 99, 74, 55, 23, 79, 76, 82, 22, 34, 91, 37, 14, 30, 72, 46, 97, 57, 104, 89, 39, 77, 12, 97, 95, 80, 72, 92, 102, 64, 59, 58, 56, 100, 90, 94, 99, 97, 25, 32, 72, 74, 36, 34, 82, 43, 42, 69, 30, 20, 85, 96, 97, 98, 97, 67, 34, 50, 21, 31, 96, 93, 41, 50, 56, 55, 101, 63, 97, 34, 91, 21, 68, 90, 56, 91, 86, 81, 56, 96, 84, 47, 25, 53, 51, 85, 105, 58, 95, 98, 13, 64, 53, 65, 41, 14, 88, 49, 45, 89, 99, 91, 25, 15, 27, 102, 90, 42, 104, 42, 92, 47, 102, 79, 65, 46, 98, 74, 95, 36, 29, 97, 100, 55, 97, 99, 82, 29, 79, 41, 52, 34, 100, 73, 95, 96, 96, 76, 89, 32, 85, 74, 39, 63, 73, 33, 77, 96, 58, 94, 44, 40, 16, 23, 37, 15, 38, 97, 58, 57, 107, 52, 101, 93, 59, 14, 71, 7, 43, 106, 25, 96, 43, 67, 32, 39, 73, 99, 88, 48, 56, 105, 103, 33, 9, 95, 15, 46, 24, 44, 102, 87, 99, 38, 19, 64, 39, 97, 34, 16, 63, 54, 103, 19, 71, 40, 98, 83, 103, 65, 21, 78, 98, 39, 51, 11, 102, 65, 104, 26, 99, 27, 47, 26, 13, 62, 37, 27, 6, 29, 21, 12, 45, 84, 56, 25, 99, 31, 52, 92, 30, 38, 75, 105, 15, 81, 63, 87, 99, 55, 40, 48, 61, 37, 92, 22, 31, 42, 98, 49, 30, 15, 47, 33, 28, 51, 32, 14, 77, 30, 73, 22, 55, 89, 95, 67, 24, 84, 101, 34, 51, 92, 110, 65, 70, 104, 44, 86, 36, 101, 98, 107, 32, 61, 75, 110, 97, 43, 14, 73, 92, 40, 72, 97, 16, 9, 93, 70, 31, 54, 37, 111, 99, 19, 38, 73, 50, 104, 52, 61, 68, 92, 96, 92, 90, 42, 57, 21, 63, 22, 96, 100, 93, 30, 81, 66, 35, 52, 50, 49, 91, 85, 96, 67, 25, 67, 98, 2, 96, 104, 47, 60, 98, 88, 77, 53, 31, 91, 13, 45, 71, 96, 88, 72, 96, 101, 39, 32, 77, 98, 33, 95, 56, 95, 19, 40, 47, 98, 88, 10, 77, 89, 29, 90, 25, 39, 89, 34, 20, 14, 15, 43, 96, 65, 44, 94, 40, 81, 77, 77, 106, 91, 99, 48, 86, 22, 20, 36, 100, 88, 51, 79, 22, 93, 46, 21, 25, 87, 99, 12, 20, 75, 77, 42, 97, 45, 58, 58, 31, 49, 25, 51, 98, 49, 48, 62, 52, 45, 34, 29, 27, 81, 96, 98, 56, 43, 32, 56, 85, 31, 58, 86, 86, 37, 43, 93, 99, 63, 38, 44, 104, 37, 16, 59, 46, 92, 42, 102, 77, 55, 98, 58, 59, 37, 41, 20, 12, 38, 38, 35, 96, 62, 31, 74, 74, 32, 95, 38, 59, 9, 102, 97, 89, 21, 89, 44, 43, 80, 103, 36, 107, 36, 26, 97, 10, 16, 95, 76, 84, 79, 49, 11, 96, 56, 93, 54, 53, 101, 42, 96, 48, 51, 37, 77, 106, 65, 24, 80, 82, 58, 44, 33, 79, 36, 96, 28, 43, 101, 19, 73, 36, 45, 75, 27, 27, 88, 77, 55, 105, 48, 95, 76, 28, 71, 43, 79, 42, 13, 96, 68, 87, 100, 33, 62, 107, 28, 31, 92, 42, 58, 58, 92, 58, 31, 92, 69, 41, 72, 112, 95, 46, 89, 73, 39, 55, 23, 100, 87, 64, 82, 99, 85, 67, 103, 28, 42, 58, 40, 76, 62, 97, 74, 53, 105, 87, 79, 98, 93, 102, 49, 104, 40, 49, 71, 25, 86, 39, 89, 46, 99, 95, 94, 35, 77, 38, 99, 54, 93, 7, 64, 32, 77, 101, 52, 52, 85, 31, 76, 68, 34, 26, 85, 54, 14, 56, 41, 61, 97, 11, 47, 33, 33, 34, 32, 68, 84, 79, 30, 63, 95, 87, 94, 65, 12, 34, 52, 98, 43, 84, 10, 75, 60, 44, 37, 25, 48, 17, 69, 75, 40, 63, 102, 49, 97, 88, 73, 56, 39, 104, 46, 97, 26, 63, 81, 96, 84, 40, 53, 17, 35, 43, 84, 41, 101, 95, 26, 108, 107, 89, 91, 94, 35, 41, 90, 69, 94, 21, 97, 102, 38, 21, 39, 97, 66, 64, 35, 64, 95, 95, 25, 94, 29, 103, 53, 92, 104, 14, 82, 22, 57, 53, 106, 9, 8, 29, 54, 77, 70, 98, 49, 60, 6, 32, 109, 86, 98, 93, 58, 61, 69, 70, 52, 88, 59, 95, 98, 70, 53, 100, 34, 31, 31, 52, 49, 102, 96, 80, 95, 36, 95, 74, 51, 35, 98, 95, 52, 96, 37, 47, 30, 42, 98, 63, 64, 69, 102, 96, 29, 24, 50, 96, 19, 77, 47, 78, 19, 82, 43, 51, 43, 19, 43, 58, 52, 64, 96, 66, 59, 97, 105, 91, 91, 97, 39, 31, 24, 47, 93, 89, 40, 87, 35, 55, 27, 12, 32, 57, 108, 81, 75, 53, 75, 25, 92, 56, 99, 34, 91, 85, 82, 92, 94, 103, 101, 44, 104, 75, 56, 47, 72, 76, 48, 101, 46, 98, 101, 44, 66, 100, 65, 66, 59, 75, 78, 44, 72, 87, 75, 70, 43, 98, 30, 48, 28, 49, 92, 43, 96, 33, 23, 61, 99, 42, 41, 96, 84, 97, 53, 39, 65, 97, 42, 70, 18, 56, 37, 16, 55, 35, 37, 30, 24, 12, 85, 56, 52, 35, 11, 107, 83, 33, 12, 92, 91, 94, 55, 22, 11, 86, 25, 55, 56, 29, 62, 59, 62, 49, 57, 95, 42, 82, 95, 13, 37, 61, 31, 28, 37, 35, 101, 75, 53, 77, 96, 102, 59, 94, 92, 43, 97, 62, 46, 95, 29, 66, 82, 75, 88, 33, 102, 34, 68, 37, 31, 71, 104, 36, 94, 69, 89, 69, 25, 42, 96, 102, 38, 33, 92, 54, 47, 57, 36, 58, 93, 102, 40, 58, 100, 90, 39, 95, 89, 34, 48, 23, 78, 102, 91, 62, 66, 43, 90, 31, 95, 98, 74, 105, 51, 42, 96, 44, 10, 43, 42, 5, 26, 14, 76, 22, 86, 103, 44, 52, 62, 58, 40, 46, 36, 103, 24, 99, 82, 18, 23, 108, 27, 45, 92, 55, 82, 30, 49, 55, 86, 10, 80, 90, 51, 71, 24, 66, 62, 20, 55, 27, 99, 67, 61, 54, 78, 46, 75, 109, 99, 45, 64, 38, 35, 65, 72, 69, 89, 10, 25, 81, 24, 59, 41, 43, 73, 85, 24, 99, 100, 55, 37, 64, 81, 24, 56, 7, 9, 69, 97, 90, 51, 47, 36, 45, 68, 74, 66, 41, 98, 52, 14, 97, 29, 35, 75, 102, 56, 42, 47, 77, 54, 37, 88, 38, 35, 53, 52, 111, 23, 41, 54, 5, 34, 87, 45, 54, 86, 98, 101, 101, 51, 42, 40, 78, 96, 71, 20, 66, 38, 91, 19, 35, 23, 52, 29, 95, 31, 15, 84, 47, 38, 56, 89, 35, 35, 39, 44, 58, 32, 65, 39, 71, 26, 18, 103, 19, 36, 102, 87, 95, 29, 19, 21, 15, 68, 61, 92, 57, 48, 49, 32, 48, 15, 18, 58, 63, 13, 45, 12, 102, 73, 71, 27, 42, 75, 98, 45, 25, 66, 16, 47, 78, 95, 99, 62, 22, 52, 100, 71, 62, 48, 90, 33, 53, 64, 48, 79, 93, 83, 63, 48, 84, 21, 57, 43, 69, 63, 54, 85, 40, 82, 94, 28, 99, 20, 36, 55, 52, 72, 91, 13, 43, 73, 54, 59, 76, 70, 86, 23, 98, 23, 28, 60, 95, 100, 82, 35, 100, 96, 70, 33, 27, 87, 86, 95, 50, 19, 24, 15, 42, 82, 99, 96, 55, 65, 74, 62, 11, 33, 27, 103, 91, 51, 47, 79, 49, 22, 11, 100, 91, 45, 88, 58, 100, 20, 100, 52, 71, 31, 103, 33, 23, 48, 91, 44, 94, 46, 55, 36, 46, 66, 30, 22, 67, 19, 24, 82, 70, 56, 74, 63, 18, 86, 66, 49, 38, 100, 95, 27, 86, 101, 55, 66, 48, 103, 59, 97, 106, 101, 88, 53, 84, 97, 49, 25, 88, 20, 87, 88, 98, 44, 79, 70, 100, 31, 77, 25, 46, 94, 53, 84, 95, 91, 16, 32, 42, 44, 98, 50, 82, 13, 70, 52, 92, 98, 8, 36, 36, 17, 66, 37, 74, 34, 96, 95, 35, 26, 12, 24, 30, 95, 74, 14, 53, 10, 45, 66, 47, 84, 66, 24, 105, 101, 51, 38, 24, 38, 75, 59, 67, 100, 13, 48, 62, 99, 101, 62, 93, 36, 46, 91, 94, 108, 33, 32, 93, 99, 32, 107, 19, 67, 33, 92, 77, 38, 30, 19, 22, 91, 24, 70, 26, 44, 15, 61, 76, 28, 100, 67, 98, 67, 103, 74, 107, 16, 68, 76, 27, 27, 99, 40, 83, 103, 75, 75, 40, 9, 98, 69, 29, 48, 42, 92, 100, 54, 41, 31, 60, 30, 86, 97, 32, 94, 7, 68, 85, 65, 90, 50, 55, 23, 101, 53, 61, 17, 32, 38, 32, 74, 70, 22, 38, 50, 38, 78, 13, 75, 54, 81, 28, 64, 82, 85, 65, 27, 101, 5, 49, 91, 11, 71, 15, 92, 81, 90, 50, 102, 64, 103, 37, 27, 8, 98, 60, 36, 34, 34, 38, 38, 44, 55, 69, 47, 79, 90, 53, 96, 68, 49, 14, 45, 46, 84, 8, 27, 53, 87, 72, 68, 21, 68, 77, 40, 11, 10, 22, 100, 55, 44, 38, 76, 39, 57, 79, 75, 69, 101, 49, 98, 77, 43, 42, 71, 26, 57, 32, 53, 9, 72, 101, 37, 84, 99, 99, 23, 72, 91, 92, 88, 89, 102, 33, 78, 108, 30, 101, 78, 20, 62, 24, 79, 47, 23, 95, 74, 102, 104, 51, 95, 50, 84, 52, 57, 65, 96, 27, 62, 90, 7, 103, 28, 19, 104, 103, 12, 19, 25, 37, 43, 74, 20, 62, 43, 76, 45, 70, 36, 102, 36, 26, 27, 74, 49, 37, 32, 54, 101, 90, 73, 58, 100, 101, 98, 43, 56, 22, 70, 96, 52, 43, 48, 106, 102, 54, 80, 92, 17, 29, 96, 70, 74, 28, 95, 72, 35, 26, 99, 95, 84, 60, 4, 38, 10, 93, 54, 19, 97, 99, 37, 91, 101, 73, 72, 99, 97, 102, 105, 31, 80, 43, 14, 55, 82, 25, 97, 94, 85, 39, 92, 31, 92, 93, 106, 60, 60, 42, 56, 8, 52, 15, 18, 11, 52, 52, 87, 49, 80, 56, 21, 53, 96, 75, 82, 64, 62, 15, 14, 73, 63, 101, 95, 97, 31, 65, 24, 66, 96, 81, 24, 16, 16, 48, 12, 70, 98, 80, 43, 76, 96, 42, 12, 108, 86, 61, 23, 98, 53, 42, 44, 56, 87, 52, 82, 67, 58, 104, 57, 61, 103, 105, 57, 7, 78, 14, 40, 47, 42, 102, 72, 96, 24, 28, 69, 35, 31, 84, 47, 100, 38, 103, 13, 18, 48, 48, 83, 34, 100, 84, 63, 21, 46, 74, 37, 100, 46, 56, 17, 105, 88, 46, 18, 45, 99, 68, 17, 17, 95, 56, 64, 92, 12, 66, 26, 81, 96, 56, 38, 85, 29, 25, 71, 95, 103, 82, 90, 33, 96, 22, 97, 31, 13, 36, 32, 39, 66, 26, 103, 85, 99, 68, 6, 81, 29, 109, 59, 34, 57, 71, 51, 63, 50, 29, 43, 85, 48, 98, 96, 34, 56, 34, 43, 94, 17, 38, 34, 97, 29, 75, 18, 38, 72, 10, 30, 34, 79, 19, 50, 96, 93, 25, 18, 94, 49, 35, 43, 92, 94, 97, 99, 28, 28, 30, 91, 81, 90, 57, 29, 99, 9, 96, 45, 32, 19, 97, 90, 76, 43, 41, 36, 71, 54, 90, 91, 62, 98, 67, 16, 42, 98, 51, 102, 101, 93, 95, 85, 37, 94, 48, 46, 81, 10, 36, 67, 96, 82, 83, 51, 112, 38, 19, 23, 54, 88, 95, 43, 94, 83, 74, 51, 103, 91, 76, 96, 34, 66, 105, 97, 15, 36, 37, 29, 4, 94, 93, 104, 58, 45, 28, 41, 20, 60, 14, 36, 93, 98, 98, 96, 81, 99, 5, 20, 34, 58, 104, 94, 65, 55, 27, 73, 48, 97, 40, 88, 65, 43, 92, 94, 42, 21, 10, 32, 27, 98, 31, 38, 71, 102, 33, 105, 63, 84, 57, 70, 70, 78, 78, 77, 102, 91, 52, 106, 93, 28, 74, 40, 98, 20, 23, 93, 20, 38, 61, 97, 58, 73, 25, 98, 83, 107, 69, 29, 99, 101, 63, 75, 57, 54, 36, 78, 84, 26, 89, 36, 49, 74, 100, 22, 21, 74, 21, 92, 40, 65, 49, 22, 26, 108, 68, 46, 42, 44, 79, 94, 57, 32, 25, 15, 96, 9, 67, 52, 54, 75, 59, 34, 88, 99, 44, 102, 85, 102, 77, 26, 101, 3, 27, 103, 22, 26, 44, 72, 68, 34, 28, 62, 38, 48, 36, 94, 30, 81, 90, 70, 57, 27, 81, 92, 107, 49, 51, 22, 24, 100, 96, 97, 26, 47, 53, 45, 102, 24, 79, 49, 42, 26, 31, 104, 93, 92, 82, 38, 20, 69, 20, 96, 71, 80, 102, 20, 22, 29, 33, 71, 89, 11, 52, 49, 40, 28, 88, 95, 10, 99, 20, 64, 27, 26, 72, 44, 98, 93, 38, 18, 43, 81, 48, 95, 61, 59, 23, 19, 73, 50, 31, 40, 62, 13, 69, 82, 36, 37, 95, 45, 34, 89, 72, 20, 101, 76, 10, 99, 33, 85, 42, 21, 43, 50, 15, 36, 47, 67, 59, 17, 67, 77, 40, 63, 22, 91, 50, 77, 53, 43, 56, 69, 73, 100, 75, 65, 96, 83, 45, 66, 102, 54, 45, 96, 102, 105, 62, 100, 99, 34, 21, 19, 62, 88, 102, 93, 59, 59, 105, 93, 84, 49, 62, 61, 57, 88, 11, 55, 35, 64, 99, 42, 52, 70, 86, 103, 92, 25, 25, 63, 95, 71, 60, 43, 89, 89, 60, 93, 85, 48, 81, 61, 44, 89, 90, 34, 101, 94, 56, 98, 101, 63, 64, 52, 100, 101, 39, 67, 30, 54, 73, 11, 64, 38, 63, 18, 41, 54, 70, 28, 47, 62, 67, 19, 29, 81, 27, 31, 35, 43, 80, 86, 19, 93, 74, 66, 31, 21, 64, 114, 65, 85, 47, 65, 98, 99, 13, 25, 22, 77, 38, 41, 66, 92, 12, 88, 32, 67, 84, 69, 11, 49, 97, 84, 100, 93, 21, 90, 85, 79, 90, 99, 82, 29, 71, 22, 22, 62, 28, 29, 96, 49, 86, 52, 66, 30, 85, 95, 106, 70, 64, 66, 66, 57, 84, 69, 96, 31, 39, 94, 64, 42, 76, 70, 31, 55, 85, 42, 72, 14, 79, 47, 97, 74, 19, 82, 108, 30, 28, 43, 64, 106, 93, 41, 29, 35, 36, 49, 34, 40, 43, 61, 50, 65, 21, 20, 48, 42, 35, 92, 17, 33, 81, 61, 62, 19, 36, 44, 99, 86, 100, 97, 66, 94, 89, 87, 72, 62, 77, 48, 51, 85, 88, 68, 98, 62, 96, 104, 60, 35, 15, 92, 88, 61, 55, 61, 2, 60, 71, 30, 94, 67, 47, 27, 31, 67, 101, 80, 48, 54, 98, 31, 46, 52, 73, 85, 52, 31, 48, 32, 52, 16, 20, 44, 45, 15, 94, 40, 97, 99, 52, 23, 10, 31, 18, 22, 82, 84, 17, 11, 36, 46, 18, 70, 44, 66, 25, 86, 91, 67, 74, 58, 15, 96, 106, 103, 108, 32, 31, 58, 46, 72, 75, 22, 55, 52, 96, 85, 33, 72, 79, 55, 38, 102, 62, 8, 21, 35, 14, 57, 65, 28, 94, 102, 37, 38, 25, 64, 23, 69, 76, 19, 26, 32, 107, 96, 52, 62, 54, 65, 75, 18, 105, 60, 72, 93, 26, 57, 37, 30, 48, 17, 55, 34, 45, 79, 37, 104, 21, 66, 78, 41, 12, 81, 103, 86, 94, 68, 40, 90, 47, 43, 23, 24, 47, 39, 26, 81, 45, 22, 66, 76, 91, 106, 96, 56, 79, 9, 104, 98, 108, 64, 68, 99, 79, 62, 104, 52, 25, 74, 25, 55, 22, 90, 41, 51, 23, 92, 20, 89, 19, 46, 86, 15, 70, 70, 62, 41, 87, 43, 60, 78, 46, 22, 23, 20, 7, 50, 26, 82, 68, 58, 95, 42, 36, 98, 105, 29, 42, 42, 67, 98, 40, 37, 52, 72, 100, 36, 51, 80, 33, 33, 81, 88, 16, 36, 38, 58, 72, 13, 63, 36, 91, 94, 92, 31, 58, 62, 47, 18, 70, 71, 63, 58, 19, 18, 51, 57, 56, 28, 89, 24, 95, 47, 72, 87, 55, 81, 14, 48, 95, 60, 36, 42, 57, 95, 43, 45, 12, 99, 17, 46, 61, 38, 41, 30, 66, 99, 37, 96, 74, 101, 95, 101, 10, 26, 19, 100, 31, 77, 85, 16, 28, 95, 25, 38, 32, 63, 85, 25, 95, 85, 43, 9, 106, 94, 29, 43, 42, 95, 82, 63, 68, 66, 93, 45, 70, 76, 79, 36, 37, 42, 104, 21, 105, 93, 60, 70, 49, 80, 101, 99, 40, 35, 102, 39, 33, 83, 59, 60, 57, 49, 42, 93, 30, 98, 40, 45, 91, 73, 46, 63, 20, 94, 84, 100, 22, 49, 45, 101, 59, 15, 87, 29, 24, 58, 64, 76, 39, 17, 57, 96, 30, 68, 46, 93, 74, 39, 48, 70, 72, 17, 55, 44, 95, 47, 23, 46, 34, 97, 35, 80, 22, 95, 102, 82, 96, 13, 79, 51, 52, 100, 78, 83, 49, 48, 37, 100, 39, 33, 50, 33, 86, 99, 44, 78, 92, 30, 87, 23, 16, 96, 39, 86, 96, 73, 80, 90, 56, 96, 22, 83, 72, 110, 67, 56, 51, 73, 37, 64, 35, 27, 20, 101, 104, 98, 88, 97, 80, 96, 96, 34, 72, 98, 98, 104, 102, 63, 67, 98, 62, 24, 80, 33, 35, 24, 36, 40, 95, 29, 104, 78, 38, 61, 43, 97, 39, 29, 71, 20, 32, 55, 70, 101, 43, 79, 101, 88, 67, 59, 97, 49, 46, 41, 39, 32, 100, 43, 74, 42, 28, 40, 90, 95, 96, 66, 97, 40, 83, 53, 83, 29, 32, 83, 28, 33, 19, 73, 97, 32, 77, 94, 33, 46, 68, 46, 53, 42, 86, 50, 40, 86, 23, 35, 27, 10, 52, 79, 14, 51, 22, 53, 30, 91, 95, 100, 75, 104, 99, 96, 56, 97, 101, 23, 101, 98, 96, 54, 84, 98, 67, 87, 80, 18, 27, 30, 42, 42, 41, 24, 48, 54, 21, 35, 10, 56, 46, 46, 83, 29, 39, 93, 58, 31, 54, 41, 37, 36, 90, 22, 21, 28, 63, 94, 29, 41, 88, 101, 82, 32, 55, 57, 41, 65, 12, 90, 70, 28, 43, 23, 33, 101, 62, 94, 62, 78, 94, 40, 60, 48, 58, 65, 50, 45, 44, 61, 59, 39, 45, 62, 29, 43, 16, 43, 26, 103, 57, 96, 100, 60, 101, 71, 103, 95, 25, 56, 93, 98, 35, 36, 20, 14, 50, 40, 48, 93, 105, 72, 48, 39, 23, 63, 106, 43, 50, 25, 33, 74, 99, 94, 41, 91, 50, 78, 82, 93, 29, 104, 30, 104, 33, 76, 72, 57, 33, 44, 82, 104, 23, 67, 75, 74, 103, 92, 37, 94, 99, 13, 4, 39, 93, 41, 67, 48, 50, 97, 88, 16, 39, 97, 98, 66, 15, 33, 13, 53, 30, 92, 94, 8, 35, 12, 50, 65, 86, 95, 36, 103, 87, 53, 35, 100, 79, 70, 56, 105, 77, 46, 102, 20, 87, 25, 98, 91, 37, 94, 52, 94, 59, 9, 71, 83, 9, 58, 21, 100, 46, 35, 97, 39, 56, 101, 41, 61, 30, 17, 58, 55, 61, 84, 22, 82, 50, 101, 49, 39, 18, 66, 54, 90, 41, 10, 84, 84, 86, 102, 15, 83, 45, 68, 20, 101, 55, 97, 48, 45, 59, 83, 47, 41, 95, 19, 61, 91, 30, 69, 92, 89, 107, 11, 51, 33, 11, 88, 66, 57, 34, 68, 51, 23, 71, 30, 41, 62, 96, 75, 75, 28, 94, 29, 66, 77, 67, 94, 33, 84, 23, 87, 82, 66, 90, 101, 36, 99, 24, 79, 49, 87, 63, 16, 17, 19, 56, 81, 88, 101, 13, 103, 10, 98, 31, 88, 27, 99, 100, 98, 104, 94, 65, 23, 21, 96, 83, 105, 56, 104, 85, 39, 35, 76, 55, 103, 106, 102, 32, 75, 26, 30, 59, 60, 60, 30, 103, 105, 95, 61, 99, 93, 92, 102, 37, 59, 100, 104, 39, 70, 27, 51, 93, 55, 80, 21, 88, 28, 42, 44, 65, 107, 69, 86, 97, 43, 62, 39, 99, 94, 40, 95, 62, 63, 28, 50, 66, 88, 52, 63, 23, 40, 27, 51, 56, 25, 100, 54, 32, 65, 20, 38, 33, 77, 70, 90, 65, 24, 36, 96, 75, 67, 51, 77, 86, 16, 21, 68, 104, 79, 10, 81, 8, 26, 95, 35, 95, 39, 58, 34, 39, 96, 48, 99, 75, 98, 53, 78, 38, 67, 84, 97, 99, 15, 48, 11, 33, 84, 71, 12, 96, 97, 97, 71, 25, 83, 56, 73, 19, 51, 16, 9, 94, 31, 59, 102, 18, 22, 32, 39, 91, 103, 72, 50, 43, 98, 94, 51, 79, 36, 92, 89, 29, 12, 15, 13, 52, 101, 97, 36, 93, 90, 44, 92, 26, 37, 101, 45, 38, 19, 71, 64, 30, 53, 97, 95, 38, 40, 41, 57, 23, 42, 26, 52, 21, 24, 35, 87, 61, 79, 99, 17, 34, 56, 54, 96, 30, 95, 31, 62, 71, 22, 99, 53, 76, 108, 84, 33, 82, 48, 65, 59, 29, 85, 107, 38, 101, 63, 28, 98, 59, 60, 65, 25, 43, 29, 104, 92, 26, 77, 61, 54, 105, 96, 104, 81, 89, 44, 80, 35, 77, 17, 29, 63, 14, 17, 86, 107, 92, 101, 46, 97, 14, 35, 98, 40, 59, 54, 101, 36, 56, 74, 58, 14, 15, 93, 42, 27, 69, 98, 36, 44, 82, 13, 48, 91, 74, 61, 44, 12, 87, 34, 25, 85, 91, 100, 72, 65, 75, 4, 63, 45, 50, 36, 50, 25, 27, 100, 56, 59, 53, 101, 39, 41, 44, 41, 116, 102, 50, 11, 24, 73, 77, 51, 84, 47, 98, 57, 31, 29, 36, 60, 9, 21, 95, 94, 58, 74, 39, 42, 94, 76, 102, 29, 34, 103, 41, 75, 96, 95, 99, 73, 56, 85, 41, 42, 21, 81, 90, 86, 74, 93, 93, 102, 76, 41, 42, 44, 30, 86, 32, 101, 22, 58, 93, 84, 38, 76, 99, 108, 94, 37, 79, 93, 97, 109, 68, 87, 79, 44, 104, 67, 89, 32, 39, 37, 34, 93, 40, 27, 54, 92, 101, 59, 64, 88, 31, 59, 99, 38, 30, 93, 54, 68, 34, 11, 59, 35, 45, 84, 94, 42, 37, 29, 93, 32, 76, 15, 56, 17, 57, 60, 41, 95, 47, 27, 35, 101, 40, 31, 12, 53, 44, 102, 32, 83, 86, 51, 37, 15, 75, 46, 100, 104, 45, 33, 45, 42, 70, 38, 103, 34, 98, 43, 11, 89, 93, 68, 73, 83, 101, 59, 45, 97, 63, 92, 101, 52, 44, 105, 98, 25, 105, 44, 90, 30, 51, 97, 54, 22, 86, 46, 62, 83, 9, 85, 43, 63, 43, 77, 18, 99, 52, 95, 59, 91, 78, 97, 76, 50, 39, 31, 65, 31, 23, 92, 64, 22, 101, 31, 103, 87, 89, 41, 96, 20, 92, 94, 72, 61, 97, 100, 16, 100, 39, 42, 58, 54, 103, 49, 10, 94, 24, 95, 54, 55, 23, 27, 76, 55, 27, 42, 97, 79, 38, 53, 63, 102, 97, 44, 103, 47, 69, 90, 85, 50, 31, 92, 31, 25, 36, 51, 36, 14, 108, 44, 66, 56, 49, 72, 75, 95, 68, 52, 26, 49, 63, 95, 49, 103, 17, 89, 53, 98, 100, 47, 94, 50, 63, 89, 46, 96, 30, 18, 108, 77, 28, 24, 70, 41, 78, 29, 29, 69, 74, 52, 32, 43, 79, 93, 101, 101, 31, 89, 28, 95, 58, 65, 54, 76, 109, 79, 82, 49, 16, 81, 12, 51, 99, 97, 44, 97, 31, 73, 51, 99, 51, 62, 54, 22, 56, 39, 99, 16, 45, 56, 65, 99, 92, 35, 101, 57, 74, 54, 17, 97, 30, 61, 83, 101, 57, 60, 34, 41, 40, 101, 104, 60, 81, 27, 95, 49, 93, 51, 29, 63, 23, 102, 36, 73, 65, 56, 101, 38, 34, 63, 58, 28, 34, 63, 17, 95, 60, 22, 20, 98, 35, 10, 22, 92, 62, 42, 40, 55, 75, 68, 30, 70, 79, 39, 87, 29, 39, 38, 99, 71, 26, 36, 83, 30, 89, 91, 90, 82, 74, 90, 12, 106, 60, 3, 15, 22, 81, 16, 79, 55, 33, 80, 76, 91, 40, 25, 109, 13, 40, 45, 47, 75, 24, 64, 28, 100, 94, 98, 44, 45, 84, 25, 72, 47, 99, 83, 90, 22, 83, 99, 29, 72, 57, 57, 52, 88, 30, 18, 64, 90, 74, 97, 51, 32, 63, 83, 72, 103, 92, 14, 59, 27, 96, 43, 62, 33, 64, 50, 51, 50, 56, 27, 59, 97, 24, 103, 99, 26, 100, 95, 45, 37, 18, 91, 78, 49, 44, 96, 13, 64, 82, 99, 98, 93, 33, 35, 73, 33, 97, 21, 94, 38, 40, 22, 81, 72, 59, 101, 14, 70, 107, 102, 95, 56, 16, 52, 65, 40, 44, 93, 58, 78, 16, 100, 75, 56, 16, 32, 28, 28, 36, 22, 94, 70, 42, 21, 43, 87, 46, 54, 102, 43, 44, 67, 92, 100, 104, 16, 101, 75, 102, 63, 93, 30, 16, 47, 82, 56, 99, 94, 31, 53, 98, 99, 47, 56, 100, 101, 57, 39, 105, 74, 94, 32, 64, 62, 59, 105, 89, 52, 56, 97, 80, 85, 16, 37, 95, 72, 47, 96, 42, 98, 80, 56, 39, 95, 101, 25, 103, 11, 94, 23, 64, 48, 46, 58, 94, 28, 57, 97, 35, 26, 26, 26, 98, 95, 57, 83, 29, 90, 96, 95, 33, 88, 93, 91, 16, 44, 60, 55, 65, 40, 51, 100, 66, 57, 57, 38, 51, 45, 45, 7, 69, 84, 68, 28, 52, 98, 95, 76, 72, 102, 99, 45, 18, 99, 105, 57, 23, 75, 102, 62, 56, 16, 98, 40, 45, 99, 39, 68, 69, 19, 89, 95, 102, 30, 62, 31, 6, 61, 37, 28, 19, 59, 82, 33, 64, 58, 48, 94, 64, 97, 40, 28, 19, 90, 40, 43, 31, 24, 18, 40, 52, 65, 101, 29, 79, 45, 54, 38, 22, 75, 92, 100, 101, 98, 51, 93, 98, 100, 81, 56, 56, 55, 90, 18, 19, 93, 49, 97, 95, 67, 30, 64, 103, 101, 27, 52, 72, 38, 56, 97, 56, 84, 33, 39, 32, 19, 102, 33, 94, 100, 53, 107, 29, 99, 45, 24, 24, 102, 97, 106, 93, 16, 94, 35, 93, 44, 58, 99, 50, 50, 94, 101, 48, 70, 83, 64, 45, 74, 63, 72, 87, 97, 74, 54, 97, 69, 19, 53, 38, 100, 50, 82, 40, 30, 80, 95, 95, 64, 88, 99, 55, 81, 97, 61, 81, 19, 106, 23, 28, 89, 50, 32, 73, 89, 92, 48, 21, 81, 78, 77, 53, 65, 57, 74, 25, 65, 103, 94, 31, 82, 27, 89, 44, 47, 51, 89, 97, 40, 36, 75, 33, 37, 41, 66, 41, 56, 41, 94, 45, 33, 12, 95, 26, 68, 62, 97, 77, 101, 43, 100, 104, 96, 96, 76, 96, 80, 50, 98, 71, 94, 104, 48, 48, 27, 93, 44, 95, 52, 97, 85, 87, 48, 43, 46, 78, 90, 77, 43, 94, 21, 64, 47, 18, 97, 50, 39, 57, 63, 51, 62, 109, 26, 88, 30, 24, 11, 25, 84, 97, 79, 94, 8, 65, 38, 57, 57, 29, 71, 52, 37, 38, 39, 66, 55, 33, 49, 27, 20, 46, 97, 45, 22, 36, 31, 82, 43, 110, 92, 61, 51, 39, 22, 11, 98, 48, 67, 38, 86, 9, 66, 33, 43, 21, 44, 77, 20, 53, 98, 56, 91, 45, 42, 15, 78, 57, 62, 47, 79, 14, 10, 84, 53, 75, 67, 31, 57, 114, 57, 66, 18, 49, 32, 45, 53, 79, 93, 30, 37, 42, 72, 49, 100, 101, 83, 96, 97, 47, 106, 99, 12, 86, 103, 105, 103, 72, 103, 30, 75, 19, 73, 86, 36, 99, 81, 48, 55, 85, 99, 102, 97, 86, 98, 29, 91, 102, 76, 92, 18, 87, 92, 78, 51, 15, 58, 19, 95, 82, 77, 67, 20, 18, 81, 17, 21, 64, 93, 12, 70, 52, 17, 35, 55, 93, 53, 72, 101, 87, 81, 52, 95, 82, 57, 95, 99, 68, 10, 101, 97, 49, 95, 15, 68, 86, 84, 22, 95, 60, 51, 43, 18, 16, 60, 96, 101, 100, 94, 27, 36, 19, 68, 43, 109, 22, 16, 89, 60, 97, 13, 100, 5, 93, 35, 100, 42, 50, 66, 24, 104, 38, 102, 93, 18, 83, 59, 15, 86, 24, 93, 35, 15, 70, 16, 103, 16, 27, 16, 96, 85, 87, 103, 46, 33, 95, 34, 61, 47, 22, 63, 23, 54, 21, 86, 25, 11, 52, 94, 35, 41, 24, 90, 37, 62, 15, 97, 30, 23, 16, 53, 27, 44, 17, 98, 49, 91, 43, 79, 51, 41, 63, 44, 39, 13, 65, 102, 104, 43, 86, 48, 64, 18, 100, 106, 73, 93, 93, 64, 106, 87, 24, 47, 34, 101, 66, 98, 66, 56, 59, 82, 29, 44, 33, 71, 101, 92, 82, 52, 36, 55, 98, 67, 95, 83, 58, 47, 40, 39, 9, 72, 11, 12, 60, 37, 61, 49, 48, 98, 95, 36, 34, 38, 96, 78, 64, 22, 63, 98, 86, 50, 17, 39, 65, 10, 39, 55, 90, 95, 8, 100, 36, 102, 71, 101, 84, 64, 97, 31, 52, 74, 42, 43, 101, 46, 65, 48, 25, 96, 39, 32, 44, 20, 97, 53, 102, 63, 43, 21, 85, 76, 42, 85, 32, 93, 59, 38, 67, 68, 93, 92, 50, 45, 61, 90, 19, 40, 100, 88, 87, 22, 46, 56, 54, 105, 55, 26, 46, 93, 103, 54, 74, 91, 81, 103, 97, 25, 51, 103, 100, 49, 77, 101, 104, 63, 32, 101, 52, 53, 97, 75, 34, 70, 35, 101, 28, 107, 69, 29, 100, 24, 31, 95, 106, 90, 62, 23, 22, 71, 28, 22, 32, 98, 11, 51, 49, 82, 88, 96, 62, 91, 48, 92, 52, 20, 17, 43, 61, 94, 94, 39, 33, 18, 62, 52, 97, 4, 41, 100, 102, 97, 68, 57, 96, 69, 98, 52, 22, 72, 45, 84, 80, 50, 104, 95, 72, 100, 79, 90, 24, 3, 91, 98, 34, 91, 39, 60, 100, 71, 102, 87, 90, 54, 11, 84, 41, 51, 10, 69, 73, 36, 77, 45, 17, 26, 76, 56, 72, 79, 94, 51, 85, 94, 94, 32, 85, 53, 92, 97, 20, 10, 40, 15, 46, 57, 61, 7, 38, 100, 101, 57, 99, 95, 85, 101, 39, 59, 93, 77, 89, 86, 67, 102, 72, 88, 21, 47, 9, 35, 95, 102, 16, 22, 68, 9, 75, 48, 90, 7, 51, 47, 20, 52, 27, 78, 96, 87, 103, 76, 84, 55, 17, 5, 19, 104, 30, 39, 92, 17, 40, 20, 41, 42, 14, 30, 32, 102, 82, 21, 96, 20, 64, 21, 54, 38, 70, 17, 73, 60, 97, 46, 7, 10, 95, 91, 92, 43, 101, 51, 105, 62, 59, 34, 80, 6, 99, 70, 80, 86, 96, 68, 58, 42, 35, 51, 99, 95, 38, 93, 72, 84, 37, 42, 32, 11, 93, 18, 51, 75, 48, 84, 97, 97, 36, 51, 22, 55, 25, 63, 94, 21, 90, 77, 73, 25, 62, 36, 103, 101, 93, 93, 23, 87, 19, 80, 43, 90, 28, 94, 64, 33, 10, 57, 62, 99, 58, 52, 67, 25, 44, 61, 37, 96, 110, 48, 47, 97, 28, 26, 92, 98, 25, 32, 31, 23, 62, 81, 16, 85, 31, 100, 78, 64, 63, 43, 99, 22, 67, 91, 22, 37, 71, 91, 50, 99, 66, 73, 18, 62, 22, 18, 75, 22, 56, 51, 99, 55, 103, 97, 90, 107, 37, 93, 34, 45, 56, 102, 100, 95, 69, 59, 37, 61, 96, 97, 22, 63, 110, 29, 95, 62, 59, 83, 54, 29, 72, 38, 45, 22, 103, 29, 15, 47, 101, 68, 87, 97, 95, 37, 56, 54, 34, 85, 77, 84, 27, 16, 45, 30, 29, 63, 99, 31, 23, 95, 99, 25, 23, 35, 55, 45, 39, 105, 49, 91, 20, 66, 33, 19, 49, 37, 40, 67, 68, 59, 103, 89, 91, 44, 89, 49, 72, 35, 72, 80, 34, 28, 43, 25, 47, 63, 96, 39, 43, 41, 94, 61, 98, 41, 17, 77, 90, 77, 20, 65, 113, 87, 84, 78, 42, 47, 25, 54, 99, 55, 95, 63, 17, 57, 28, 96, 39, 71, 97, 13, 18, 51, 85, 70, 30, 101, 83, 35, 38, 95, 38, 67, 84, 64, 100, 51, 86, 24, 81, 83, 57, 34, 100, 99, 105, 65, 23, 34, 38, 83, 60, 35, 80, 52, 100, 60, 102, 94, 17, 99, 103, 52, 104, 87, 70, 89, 31, 33, 78, 47, 31, 100, 18, 32, 69, 46, 49, 70, 31, 85, 58, 33, 48, 103, 95, 28, 34, 42, 48, 76, 100, 95, 99, 69, 105, 90, 65, 30, 53, 66, 36, 42, 92, 72, 106, 24, 31, 32, 57, 26, 32, 50, 103, 85, 60, 8, 50, 96, 90, 102, 20, 31, 101, 25, 32, 105, 51, 75, 78, 38, 26, 33, 21, 56, 29, 14, 58, 85, 93, 68, 108, 18, 58, 45, 62, 43, 39, 104, 15, 29, 35, 49, 87, 21, 45, 11, 100, 28, 64, 53, 99, 40, 101, 43, 59, 68, 13, 98, 14, 16, 85, 41, 103, 42, 92, 19, 69, 100, 78, 18, 67, 62, 48, 77, 70, 108, 74, 23, 91, 27, 62, 74, 31, 104, 43, 51, 57, 28, 101, 37, 77, 16, 33, 94, 16, 22, 104, 48, 71, 77, 78, 103, 86, 66, 71, 71, 67, 94, 101, 22, 74, 27, 38, 101, 30, 51, 42, 22, 16, 99, 45, 47, 45, 96, 95, 73, 30, 38, 92, 10, 94, 108, 46, 56, 79, 35, 68, 62, 100, 97, 91, 101, 34, 54, 12, 99, 14, 28, 30, 107, 63, 27, 22, 42, 64, 34, 95, 76, 101, 26, 67, 46, 73, 35, 91, 106, 86, 29, 25, 84, 43, 56, 73, 18, 67, 57, 86, 100, 99, 43, 33, 19, 87, 57, 30, 102, 73, 93, 52, 108, 61, 43, 31, 32, 86, 28, 65, 67, 32, 53, 31, 22, 27, 104, 15, 46, 46, 91, 51, 53, 75, 57, 55, 27, 81, 38, 72, 69, 86, 102, 89, 46, 49, 66, 47, 26, 86, 33, 65, 89, 98, 84, 103, 99, 98, 34, 60, 27, 29, 55, 101, 15, 91, 88, 59, 21, 96, 30, 19, 96, 92, 59, 75, 53, 44, 38, 94, 99, 54, 96, 50, 61, 7, 48, 91, 46, 63, 87, 42, 93, 94, 24, 103, 77, 32, 45, 78, 82, 99, 99, 93, 95, 76, 103, 96, 59, 77, 97, 88, 98, 82, 95, 64, 80, 74, 76, 46, 62, 27, 38, 99, 102, 101, 96, 54, 101, 46, 63, 74, 43, 44, 84, 12, 21, 59, 102, 17, 31, 57, 73, 32, 94, 91, 96, 12, 102, 86, 23, 34, 73, 36, 96, 102, 57, 102, 94, 82, 62, 37, 52, 31, 102, 42, 55, 43, 67, 96, 94, 99, 95, 77, 100, 93, 84, 71, 40, 24, 82, 96, 60, 94, 52, 48, 97, 53, 105, 78, 100, 30, 98, 103, 41, 68, 89, 50, 60, 107, 87, 75, 95, 30, 99, 24, 34, 33, 56, 24, 92, 12, 34, 93, 22, 64, 108, 96, 102, 69, 36, 88, 18, 71, 83, 62, 17, 94, 40, 93, 100, 61, 24, 101, 104, 102, 93, 47, 83, 63, 75, 57, 13, 66, 67, 95, 102, 35, 53, 19, 98, 94, 82, 54, 100, 85, 27, 88, 35, 103, 89, 80, 31, 33, 77, 39, 107, 31, 71, 10, 99, 66, 46, 48, 95, 13, 60, 79, 30, 45, 96, 59, 76, 21, 65, 65, 35, 68, 95, 33, 90, 82, 65, 60, 40, 62, 27, 51, 16, 11, 31, 80, 29, 31, 48, 88, 31, 54, 42, 10, 53, 99, 66, 63, 95, 72, 32, 16, 52, 28, 46, 31, 52, 56, 46, 98, 40, 9, 64, 82, 86, 91, 23, 93, 38, 98, 33, 72, 56, 86, 37, 75, 107, 19, 24, 101, 35, 16, 97, 28, 87, 22, 61, 107, 41, 21, 17, 38, 42, 107, 40, 96, 82, 99, 67, 27, 87, 68, 96, 99, 41, 62, 100, 62, 40, 48, 94, 45, 17, 66, 96, 95, 88, 42, 95, 90, 47, 28, 47, 22, 52, 36, 43, 33, 60, 101, 97, 58, 16, 19, 39, 73, 50, 100, 30, 87, 23, 54, 55, 35, 49, 21, 67, 58, 22, 82, 43, 21, 98, 61, 43, 52, 49, 6, 55, 41, 50, 93, 94, 46, 94, 51, 103, 51, 19, 58, 12, 14, 57, 11, 59, 91, 78, 21, 82, 104, 35, 59, 28, 99, 18, 21, 83, 76, 67, 36, 24, 105, 40, 102, 37, 50, 70, 34, 94, 89, 60, 31, 18, 37, 82, 59, 57, 23, 79, 8, 71, 96, 70, 88, 73, 95, 92, 58, 30, 87, 25, 101, 108, 97, 82, 40, 105, 52, 36, 87, 95, 35, 46, 97, 54, 69, 20, 44, 112, 98, 68, 56, 74, 22, 29, 94, 71, 59, 69, 88, 65, 35, 69, 41, 77, 78, 68, 50, 96, 101, 24, 83, 90, 52, 107, 90, 54, 90, 18, 17, 18, 106, 40, 93, 29, 103, 95, 78, 89, 82, 82, 63, 93, 36, 94, 40, 77, 53, 96, 53, 101, 20, 79, 60, 31, 102, 93, 94, 93, 67, 98, 106, 80, 25, 13, 88, 52, 85, 79, 38, 44, 21, 26, 58, 97, 17, 106, 36, 23, 103, 90, 23, 87, 25, 13, 30, 101, 73, 82, 69, 32, 93, 97, 92, 65, 96, 82, 10, 47, 29, 70, 29, 60, 55, 39, 62, 70, 72, 84, 14, 14, 74, 108, 18, 28, 20, 67, 67, 66, 10, 20, 59, 19, 61, 74, 15, 59, 27, 45, 78, 86, 32, 65, 100, 55, 98, 73, 94, 100, 26, 85, 50, 57, 54, 105, 98, 25, 42, 88, 102, 43, 41, 100, 35, 97, 53, 72, 11, 64, 76, 70, 64, 71, 100, 102, 69, 50, 100, 76, 103, 55, 50, 40, 39, 66, 85, 38, 90, 28, 24, 102, 25, 51, 23, 78, 12, 27, 26, 40, 83, 75, 94, 33, 92, 104, 38, 52, 14, 52, 95, 94, 34, 83, 102, 76, 45, 89, 75, 83, 28, 64, 56, 98, 69, 39, 13, 8, 58, 79, 39, 97, 45, 95, 92, 34, 73, 35, 101, 64, 71, 66, 30, 98, 30, 66, 31, 101, 44, 39, 63, 70, 76, 71, 29, 53, 66, 103, 81, 36, 60, 31, 67, 50, 78, 36, 70, 37, 112, 90, 63, 53, 107, 80, 103, 65, 52, 100, 63, 71, 86, 101, 96, 32, 32, 35, 42, 83, 82, 92, 36, 59, 66, 16, 80, 104, 89, 102, 99, 31, 22, 11, 59, 60, 100, 56, 99, 12, 22, 52, 75, 32, 80, 9, 52, 99, 98, 27, 32, 51, 47, 53, 19, 47, 88, 69, 14, 72, 48, 19, 93, 76, 34, 45, 48, 50, 60, 107, 93, 111, 99, 101, 68, 28, 42, 68, 48, 30, 67, 22, 100, 71, 55, 14, 95, 26, 97, 98, 90, 23, 96, 65, 99, 34, 100, 49, 44, 31, 42, 67, 27, 57, 21, 98, 93, 47, 33, 99, 95, 77, 91, 95, 68, 95, 69, 29, 84, 58, 61, 28, 85, 61, 95, 30, 64, 50, 20, 26, 101, 26, 98, 90, 79, 75, 101, 99, 22, 48, 77, 34, 65, 58, 21, 39, 99, 94, 99, 37, 26, 10, 39, 105, 92, 91, 35, 55, 46, 99, 77, 69, 88, 69, 45, 109, 23, 43, 29, 41, 107, 67, 52, 100, 44, 65, 31, 21, 29, 34, 33, 30, 66, 63, 73, 71, 56, 92, 52, 22, 31, 43, 12, 101, 90, 92, 95, 88, 81, 10, 50, 22, 68, 94, 52, 90, 17, 86, 42, 85, 46, 91, 51, 42, 78, 51, 94, 20, 108, 79, 62, 94, 93, 98, 12, 72, 93, 26, 102, 36, 23, 56, 31, 43, 50, 22, 78, 64, 44, 91, 44, 106, 55, 43, 90, 95, 10, 8, 76, 82, 43, 100, 92, 20, 20, 75, 7, 27, 69, 97, 97, 22, 47, 14, 93, 54, 95, 88, 55, 98, 61, 42, 57, 47, 64, 104, 97, 29, 40, 47, 95, 16, 85, 17, 93, 91, 44, 56, 31, 33, 99, 92, 33, 52, 43, 92, 62, 38, 54, 99, 40, 84, 64, 47, 11, 85, 57, 42, 92, 17, 79, 67, 89, 53, 85, 69, 45, 93, 71, 85, 73, 101, 98, 84, 49, 18, 43, 90, 99, 50, 10, 11, 14, 99, 21, 44, 85, 78, 67, 55, 94, 50, 37, 27, 91, 36, 66, 44, 14, 77, 81, 79, 15, 25, 48, 22, 99, 96, 67, 47, 45, 12, 58, 93, 67, 47, 81, 61, 91, 12, 52, 69, 46, 35, 71, 7, 54, 27, 65, 104, 10, 93, 92, 49, 76, 44, 80, 69, 97, 47, 100, 80, 27, 28, 42, 62, 88, 23, 54, 79, 38, 50, 39, 92, 107, 57, 31, 80, 37, 97, 62, 90, 97, 76, 40, 59, 97, 25, 38, 41, 45, 53, 12, 94, 92, 6, 71, 34, 36, 75, 30, 15, 60, 89, 12, 33, 56, 29, 70, 74, 35, 44, 39, 50, 69, 103, 24, 59, 87, 99, 65, 65, 65, 97, 40, 95, 31, 58, 99, 36, 87, 101, 82, 54, 75, 96, 20, 45, 100, 49, 60, 67, 66, 95, 25, 92, 17, 53, 93, 37, 27, 80, 48, 27, 98, 65, 92, 25, 100, 48, 31, 84, 43, 12, 65, 44, 27, 54, 48, 89, 38, 84, 80, 61, 84, 34, 67, 42, 39, 101, 40, 29, 57, 93, 51, 55, 30, 66, 63, 74, 92, 92, 97, 47, 94, 16, 101, 71, 54, 40, 53, 34, 53, 22, 96, 75, 46, 54, 53, 78, 96, 55, 15, 69, 70, 50, 34, 90, 35, 50, 60, 52, 81, 26, 96, 96, 28, 56, 53, 20, 65, 85, 27, 99, 51, 74, 105, 47, 40, 97, 96, 12, 65, 19, 41, 94, 41, 72, 63, 103, 49, 52, 49, 100, 84, 94, 87, 69, 41, 97, 79, 44, 37, 102, 104, 36, 103, 76, 90, 71, 86, 15, 99, 75, 63, 94, 95, 93, 33, 98, 25, 102, 94, 43, 66, 94, 69, 83, 44, 20, 43, 100, 93, 20, 68, 81, 38, 110, 87, 93, 36, 95, 102, 102, 99, 48, 44, 105, 82, 91, 78, 56, 55, 33, 76, 44, 98, 15, 95, 36, 91, 100, 57, 8, 81, 95, 101, 87, 21, 40, 99, 82, 35, 26, 49, 39, 80, 67, 99, 69, 53, 85, 18, 39, 40, 16, 48, 95, 21, 15, 56, 16, 28, 35, 16, 92, 45, 31, 63, 94, 37, 42, 31, 93, 41, 30, 42, 83, 104, 33, 99, 43, 102, 95, 34, 102, 64, 51, 13, 38, 12, 61, 76, 51, 16, 35, 43, 17, 10, 42, 34, 30, 57, 50, 23, 61, 77, 37, 37, 56, 8, 84, 79, 30, 94, 31, 80, 30, 68, 52, 19, 27, 46, 14, 84, 15, 66, 98, 44, 98, 89, 67, 38, 95, 15, 17, 51, 57, 32, 25, 93, 98, 33, 12, 106, 23, 72, 99, 61, 43, 50, 23, 62, 93, 92, 93, 75, 81, 102, 66, 97, 18, 89, 56, 14, 36, 94, 105, 46, 7, 39, 27, 41, 43, 67, 52, 98, 78, 12, 94, 5, 69, 42, 100, 85, 106, 18, 27, 86, 100, 95, 14, 102, 75, 79, 62, 61, 29, 32, 90, 43, 95, 98, 44, 89, 68, 96, 22, 27, 72, 14, 64, 87, 16, 17, 78, 64, 37, 86, 104, 84, 28, 87, 86, 60, 76, 11, 17, 28, 49, 46, 59, 99, 48, 23, 64, 25, 76, 39, 92, 56, 105, 108, 73, 25, 102, 48, 10, 99, 24, 62, 23, 21, 24, 107, 30, 19, 40, 81, 62, 99, 88, 98, 33, 68, 67, 71, 20, 69, 35, 97, 47, 61, 16, 100, 58, 55, 56, 61, 35, 61, 42, 101, 82, 83, 29, 57, 98, 18, 30, 14, 78, 14, 54, 54, 102, 92, 71, 97, 50, 101, 43, 98, 79, 71, 62, 48, 104, 96, 41, 44, 46, 40, 74, 65, 64, 105, 99, 91, 28, 63, 75, 88, 34, 99, 29, 89, 70, 73, 44, 94, 33, 18, 81, 28, 74, 46, 25, 16, 61, 100, 95, 95, 96, 12, 27, 18, 83, 26, 20, 37, 72, 41, 80, 95, 52, 88, 63, 96, 29, 74, 79, 101, 48, 31, 78, 28, 84, 33, 60, 92, 63, 82, 84, 19, 30, 95, 12, 93, 68, 61, 43, 22, 52, 23, 90, 101, 80, 30, 30, 32, 76, 77, 45, 25, 62, 46, 96, 18, 57, 44, 102, 60, 75, 104, 71, 23, 60, 80, 104, 18, 16, 86, 43, 73, 15, 95, 93, 96, 80, 49, 97, 91, 78, 88, 62, 54, 41, 65, 98, 85, 70, 62, 85, 32, 95, 37, 36, 41, 73, 97, 59, 30, 79, 38, 27, 73, 38, 28, 49, 22, 74, 7, 34, 58, 33, 61, 30, 12, 29, 34, 51, 38, 38, 46, 101, 51, 75, 6, 99, 57, 38, 58, 29, 59, 100, 10, 85, 97, 19, 57, 72, 16, 53, 25, 94, 66, 76, 62, 78, 18, 74, 60, 96, 7, 97, 22, 88, 89, 24, 102, 91, 71, 98, 54, 50, 30, 96, 71, 64, 16, 34, 70, 25, 23, 46, 97, 41, 91, 45, 101, 42, 95, 94, 94, 50, 70, 11, 89, 33, 97, 91, 48, 96, 34, 39, 96, 47, 78, 96, 54, 27, 69, 27, 30, 89, 75, 31, 24, 30, 72, 98, 102, 45, 97, 10, 17, 63, 25, 81, 20, 95, 99, 94, 43, 39, 55, 68, 87, 100, 41, 98, 33, 37, 101, 22, 38, 63, 17, 18, 92, 91, 57, 73, 99, 47, 83, 29, 62, 106, 7, 102, 59, 73, 88, 47, 47, 18, 18, 43, 37, 98, 94, 87, 99, 100, 58, 62, 12, 71, 100, 59, 55, 15, 52, 20, 20, 20, 102, 62, 32, 21, 10, 25, 14, 44, 99, 33, 58, 17, 83, 46, 66, 55, 25, 27, 10, 42, 63, 42, 98, 54, 30, 73, 81, 84, 106, 70, 33, 95, 9, 103, 51, 66, 21, 93, 64, 81, 33, 70, 26, 95, 79, 100, 63, 29, 42, 62, 88, 80, 49, 95, 63, 44, 102, 19, 22, 48, 75, 67, 94, 102, 71, 92, 44, 78, 18, 30, 33, 94, 57, 100, 99, 68, 66, 86, 78, 33, 57, 30, 78, 68, 73, 31, 99, 14, 22, 95, 96, 92, 52, 100, 36, 50, 94, 79, 49, 94, 97, 92, 40, 14, 31, 60, 12, 94, 52, 84, 18, 28, 103, 103, 70, 74, 57, 41, 21, 32, 47, 55, 47, 19, 68, 84, 51, 102, 82, 63, 28, 21, 106, 56, 95, 25, 47, 98, 35, 43, 27, 65, 69, 18, 28, 56, 13, 55, 80, 91, 85, 100, 27, 44, 100, 88, 60, 66, 54, 60, 102, 67, 89, 71, 48, 27, 99, 68, 84, 55, 84, 59, 81, 103, 37, 79, 86, 14, 92, 62, 33, 44, 78, 51, 38, 12, 90, 12, 91, 61, 38, 94, 93, 106, 52, 89, 17, 91, 51, 33, 38, 12, 58, 91, 42, 66, 47, 28, 56, 43, 38, 84, 67, 20, 74, 67, 95, 65, 14, 35, 91, 68, 63, 14, 98, 68, 93, 38, 43, 60, 100, 96, 102, 98, 103, 82, 63, 64, 95, 32, 107, 82, 35, 102, 49, 49, 95, 99, 54, 69, 10, 65, 38, 40, 39, 15, 17, 101, 94, 44, 88, 59, 90, 56, 66, 33, 82, 58, 83, 51, 42, 26, 104, 70, 91, 91, 47, 20, 91, 35, 91, 94, 86, 53, 15, 100, 92, 105, 42, 35, 36, 36, 54, 84, 43, 91, 36, 19, 47, 50, 76, 92, 101, 21, 32, 67, 30, 88, 54, 36, 66, 16, 27, 36, 15, 22, 44, 94, 14, 34, 96, 68, 96, 101, 102, 60, 43, 71, 23, 98, 24, 73, 102, 96, 100, 38, 35, 58, 103, 26, 33, 34, 71, 52, 51, 13, 94, 69, 47, 56, 53, 37, 42, 39, 19, 64, 106, 17, 81, 91, 20, 60, 57, 55, 5, 84, 80, 71, 94, 91, 55, 38, 58, 37, 29, 45, 58, 16, 92, 30, 68, 50, 38, 14, 53, 79, 65, 56, 106, 107, 107, 51, 88, 104, 75, 90, 19, 52, 43, 103, 40, 27, 48, 52, 64, 27, 30, 95, 97, 23, 31, 58, 55, 30, 89, 93, 89, 29, 45, 58, 75, 80, 16, 88, 34, 61, 58, 52, 45, 76, 97, 97, 58, 31, 51, 50, 84, 36, 53, 84, 81, 100, 46, 39, 104, 58, 24, 17, 56, 63, 35, 6, 44, 101, 105, 81, 95, 27, 65, 30, 101, 75, 63, 30, 78, 13, 95, 41, 16, 10, 66, 29, 17, 54, 103, 30, 88, 102, 57, 16, 91, 21, 55, 18, 23, 47, 25, 55, 108, 55, 12, 39, 22, 96, 29, 60, 22, 42, 94, 64, 73, 54, 30, 25, 102, 103, 104, 102, 83, 50, 23, 37, 43, 89, 52, 78, 25, 99, 58, 89, 9, 90, 102, 96, 36, 104, 88, 62, 77, 97, 101, 51, 33, 20, 44, 79, 47, 90, 32, 98, 5, 100, 60, 85, 94, 35, 50, 26, 67, 23, 72, 31, 89, 83, 98, 82, 42, 37, 94, 27, 98, 90, 99, 94, 39, 40, 70, 80, 73, 96, 37, 33, 53, 96, 70, 95, 65, 21, 26, 73, 104, 31, 18, 95, 55, 77, 38, 32, 43, 73, 9, 44, 51, 60, 50, 34, 93, 99, 33, 31, 89, 91, 22, 63, 65, 96, 97, 15, 39, 22, 20, 33, 25, 50, 55, 97, 91, 34, 68, 24, 87, 14, 54, 100, 100, 26, 102, 23, 94, 106, 28, 52, 47, 105, 33, 57, 38, 53, 96, 92, 15, 24, 35, 43, 5, 65, 97, 17, 95, 39, 94, 44, 31, 38, 79, 97, 31, 53, 62, 22, 21, 61, 96, 62, 54, 93, 96, 102, 34, 99, 29, 41, 12, 21, 32, 26, 9, 83, 36, 9, 25, 30, 18, 26, 50, 30, 63, 26, 38, 74, 70, 96, 32, 78, 54, 46, 110, 67, 77, 46, 50, 13, 61, 20, 59, 100, 42, 25, 51, 43, 73, 65, 66, 78, 98, 27, 88, 64, 16, 35, 78, 25, 33, 61, 74, 86, 106, 42, 92, 72, 97, 36, 43, 46, 69, 33, 72, 100, 16, 100, 73, 8, 37, 37, 99, 70, 69, 22, 21, 99, 70, 58, 93, 63, 74, 56, 97, 16, 98, 25, 99, 7, 62, 23, 87, 88, 77, 78, 16, 95, 49, 43, 36, 102, 16, 109, 35, 31, 31, 44, 37, 37, 40, 41, 38, 66, 64, 95, 16, 64, 43, 105, 25, 81, 66, 17, 36, 24, 66, 17, 71, 38, 30, 44, 47, 43, 108, 94, 28, 66, 49, 84, 98, 96, 15, 98, 80, 36, 15, 67, 78, 96, 67, 101, 92, 49, 62, 100, 84, 74, 14, 91, 102, 93, 59, 29, 53, 99, 78, 21, 22, 20, 98, 97, 35, 23, 26, 93, 73, 107, 52, 65, 49, 87, 102, 58, 82, 24, 11, 57, 89, 75, 79, 43, 88, 76, 10, 17, 56, 53, 39, 53, 11, 64, 69, 68, 43, 69, 88, 59, 59, 36, 45, 23, 57, 51, 61, 75, 87, 101, 100, 86, 55, 11, 87, 28, 92, 56, 39, 44, 50, 57, 42, 87, 26, 50, 76, 43, 96, 75, 81, 43, 30, 42, 91, 103, 93, 77, 55, 38, 58, 97, 38, 54, 56, 10, 28, 63, 99, 65, 73, 33, 25, 94, 68, 78, 94, 103, 41, 33, 46, 54, 57, 64, 101, 18, 35, 53, 24, 89, 34, 61, 82, 38, 72, 79, 89, 100, 72, 25, 34, 72, 100, 24, 59, 38, 70, 74, 85, 102, 32, 73, 15, 48, 80, 92, 92, 63, 13, 19, 30, 23, 40, 48, 67, 26, 27, 14, 103, 61, 32, 9, 30, 54, 47, 101, 70, 38, 5, 33, 60, 92, 98, 34, 68, 36, 100, 101, 72, 69, 25, 38, 13, 29, 30, 47, 74, 98, 32, 93, 11, 63, 95, 29, 22, 96, 69, 69, 53, 14, 82, 77, 20, 62, 103, 95, 67, 58, 38, 55, 41, 62, 47, 19, 16, 21, 45, 93, 54, 12, 37, 65, 70, 76, 89, 100, 98, 96, 37, 23, 72, 66, 16, 27, 106, 99, 44, 95, 102, 49, 51, 77, 59, 97, 55, 97, 13, 21, 83, 106, 41, 58, 37, 91, 91, 96, 25, 23, 53, 101, 59, 87, 27, 97, 20, 58, 27, 48, 97, 57, 79, 72, 25, 37, 94, 98, 66, 90, 63, 31, 63, 96, 31, 54, 54, 43, 56, 82, 61, 95, 65, 22, 54, 43, 40, 79, 71, 94, 44, 16, 21, 22, 52, 18, 99, 75, 33, 24, 94, 89, 82, 56, 83, 94, 73, 91, 27, 64, 103, 72, 58, 96, 51, 28, 60, 16, 79, 98, 99, 97, 13, 31, 60, 68, 108, 38, 80, 26, 94, 96, 40, 72, 33, 34, 37, 26, 100, 44, 78, 88, 88, 50, 62, 17, 78, 69, 38, 84, 64, 4, 78, 99, 96, 101, 21, 56, 22, 102, 101, 42, 34, 14, 53, 80, 95, 61, 74, 64, 96, 76, 74, 51, 42, 83, 101, 98, 98, 97, 102, 65, 36, 97, 15, 31, 70, 38, 65, 64, 28, 27, 77, 82, 102, 29, 83, 36, 94, 96, 24, 43, 53, 80, 24, 100, 19, 59, 20, 74, 52, 58, 30, 46, 20, 69, 90, 38, 84, 95, 60, 45, 100, 36, 25, 39, 29, 26, 87, 68, 74, 95, 99, 78, 83, 48, 62, 100, 94, 52, 93, 38, 48, 32, 29, 42, 18, 100, 103, 95, 58, 25, 103, 94, 22, 107, 52, 62, 49, 61, 54, 97, 50, 68, 93, 28, 29, 20, 48, 37, 39, 76, 50, 72, 64, 81, 40, 58, 66, 50, 31, 38, 45, 74, 91, 32, 101, 25, 67, 97, 91, 97, 25, 41, 101, 46, 101, 68, 38, 101, 66, 71, 52, 96, 34, 92, 91, 99, 60, 63, 81, 22, 17, 83, 95, 65, 37, 24, 41, 34, 5, 49, 29, 87, 93, 10, 52, 93, 100, 92, 98, 55, 26, 101, 98, 12, 12, 73, 19, 35, 26, 23, 93, 87, 101, 102, 40, 24, 81, 16, 23, 49, 74, 63, 29, 8, 97, 49, 24, 60, 65, 95, 24, 45, 93, 97, 23, 23, 102, 17, 60, 30, 98, 49, 91, 58, 59, 24, 88, 46, 29, 28, 26, 70, 66, 99, 99, 88, 16, 38, 39, 9, 100, 47, 34, 44, 26, 25, 78, 93, 30, 44, 98, 100, 89, 65, 104, 42, 32, 59, 14, 24, 29, 97, 20, 23, 43, 81, 50, 47, 74, 23, 89, 81, 93, 99, 80, 93, 99, 93, 100, 51, 48, 42, 30, 107, 14, 89, 43, 52, 10, 65, 27, 97, 29, 32, 76, 86, 58, 45, 25, 86, 92, 95, 48, 43, 43, 7, 50, 56, 18, 78, 15, 95, 81, 103, 52, 97, 32, 58, 58, 43, 69, 19, 29, 36, 59, 58, 63, 18, 50, 33, 61, 63, 74, 29, 40, 89, 39, 38, 36, 27, 24, 64, 33, 21, 30, 26, 50, 46, 99, 29, 92, 86, 40, 33, 52, 67, 40, 66, 16, 49, 18, 98, 18, 58, 93, 101, 72, 89, 52, 19, 24, 84, 99, 41, 94, 12, 77, 62, 88, 79, 105, 18, 57, 38, 88, 32, 41, 88, 34, 104, 97, 94, 60, 17, 78, 76, 49, 35, 98, 61, 87, 69, 14, 100, 100, 96, 44, 91, 28, 94, 29, 22, 104, 39, 20, 98, 56, 13, 99, 42, 44, 28, 102, 58, 54, 100, 41, 61, 100, 34, 35, 19, 93, 13, 60, 88, 103, 57, 48, 42, 46, 99, 87, 31, 24, 15, 49, 91, 29, 34, 38, 37, 54, 29, 17, 99, 99, 32, 22, 57, 17, 87, 24, 61, 68, 45, 68, 104, 91, 32, 94, 39, 81, 66, 46, 31, 103, 102, 65, 69, 13, 42, 90, 91, 57, 82, 18, 22, 27, 63, 101, 83, 83, 40, 108, 88, 29, 88, 25, 86, 36, 101, 39, 93, 38, 51, 82, 61, 95, 31, 9, 27, 12, 30, 95, 55, 29, 98, 28, 27, 53, 102, 37, 44, 93, 94, 95, 73, 44, 53, 95, 99, 101, 95, 77, 56, 93, 52, 101, 78, 83, 59, 60, 51, 56, 21, 72, 83, 12, 59, 99, 47, 88, 103, 66, 45, 59, 60, 41, 38, 69, 70, 67, 50, 18, 24, 21, 100, 102, 17, 50, 9, 67, 69, 67, 88, 59, 32, 73, 62, 96, 76, 54, 76, 49, 8, 56, 72, 44, 81, 102, 86, 97, 76, 29, 102, 70, 18, 64, 91, 86, 81, 26, 49, 36, 94, 40, 92, 74, 69, 92, 93, 46, 94, 97, 104, 107, 72, 57, 89, 59, 35, 61, 69, 104, 75, 88, 87, 72, 79, 27, 38, 103, 35, 92, 97, 34, 62, 97, 76, 20, 99, 93, 94, 97, 90, 16, 49, 92, 39, 94, 36, 84, 97, 48, 77, 48, 104, 11, 55, 37, 96, 44, 32, 91, 59, 100, 69, 47, 89, 87, 71, 97, 55, 38, 68, 28, 98, 4, 25, 31, 32, 40, 65, 62, 32, 48, 98, 76, 95, 87, 68, 3, 39, 22, 23, 19, 47, 59, 62, 45, 37, 29, 43, 88, 14, 26, 54, 73, 47, 37, 46, 49, 59, 46, 18, 100, 86, 99, 84, 9, 54, 44, 71, 32, 32, 83, 33, 27, 101, 7, 90, 103, 94, 37, 78, 58, 37, 81, 69, 23, 31, 40, 48, 36, 49, 72, 55, 47, 40, 73, 60, 47, 105, 57, 92, 80, 35, 61, 82, 62, 91, 80, 102, 50, 86, 93, 96, 98, 21, 94, 87, 29, 89, 72, 76, 93, 42, 72, 72, 28, 105, 52, 103, 96, 37, 27, 26, 43, 60, 44, 71, 107, 54, 66, 95, 74, 38, 53, 62, 50, 99, 44, 105, 100, 102, 66, 92, 47, 57, 100, 42, 74, 53, 5, 96, 27, 76, 95, 63, 87, 91, 100, 32, 87, 33, 72, 100, 28, 18, 52, 97, 68, 96, 95, 26, 24, 63, 10, 86, 103, 35, 72, 21, 96, 98, 97, 51, 101, 24, 82, 82, 101, 22, 83, 75, 71, 45, 96, 98, 93, 32, 48, 96, 61, 97, 55, 84, 16, 93, 50, 56, 72, 31, 42, 51, 111, 104, 101, 43, 67, 55, 104, 98, 99, 7, 48, 42, 47, 49, 58, 102, 60, 26, 35, 102, 98, 22, 80, 62, 60, 96, 77, 62, 23, 45, 31, 18, 56, 104, 103, 46, 24, 35, 97, 59, 86, 86, 93, 51, 63, 66, 58, 100, 42, 47, 55, 20, 98, 106, 49, 43, 29, 96, 81, 102, 63, 57, 94, 109, 62, 70, 48, 72, 30, 17, 107, 28, 58, 94, 21, 76, 37, 109, 48, 45, 20, 18, 96, 61, 16, 103, 89, 43, 18, 67, 32, 96, 46, 24, 87, 81, 91, 74, 89, 98, 95, 96, 92, 104, 104, 89, 16, 91, 86, 101, 14, 102, 35, 94, 68, 102, 84, 58, 89, 32, 66, 39, 102, 96, 43, 94, 31, 105, 103, 104, 52, 74, 99, 90, 28, 28, 42, 61, 60, 49, 101, 80, 101, 27, 74, 46, 94, 53, 86, 39, 105, 76, 42, 57, 46, 77, 80, 73, 104, 35, 104, 50, 106, 93, 95, 93, 66, 34, 26, 92, 27, 89, 87, 11, 43, 25, 28, 84, 12, 19, 32, 91, 62, 15, 33, 58, 48, 38, 93, 64, 56, 83, 45, 99, 97, 68, 58, 106, 30, 90, 32, 35, 51, 48, 62, 16, 97, 87, 40, 53, 15, 32, 52, 37, 81, 64, 59, 44, 66, 27, 60, 77, 76, 32, 18, 48, 96, 74, 33, 74, 44, 41, 56, 102, 87, 56, 26, 65, 98, 103, 30, 20, 86, 44, 97, 28, 38, 42, 85, 18]\n"
          ]
        }
      ]
    },
    {
      "cell_type": "code",
      "source": [
        "sns.countplot(largo)"
      ],
      "metadata": {
        "colab": {
          "base_uri": "https://localhost:8080/",
          "height": 337
        },
        "id": "oMv7wXwey4I7",
        "outputId": "bb0cccc7-39c6-48a1-c33c-0a917cc8aa37"
      },
      "execution_count": null,
      "outputs": [
        {
          "output_type": "stream",
          "name": "stderr",
          "text": [
            "/usr/local/lib/python3.7/dist-packages/seaborn/_decorators.py:43: FutureWarning: Pass the following variable as a keyword arg: x. From version 0.12, the only valid positional argument will be `data`, and passing other arguments without an explicit keyword will result in an error or misinterpretation.\n",
            "  FutureWarning\n"
          ]
        },
        {
          "output_type": "execute_result",
          "data": {
            "text/plain": [
              "<matplotlib.axes._subplots.AxesSubplot at 0x7fad1c5617d0>"
            ]
          },
          "metadata": {},
          "execution_count": 81
        },
        {
          "output_type": "display_data",
          "data": {
            "text/plain": [
              "<Figure size 432x288 with 1 Axes>"
            ],
            "image/png": "[encoded data removed]"
          },
          "metadata": {
            "needs_background": "light"
          }
        }
      ]
    },
    {
      "cell_type": "code",
      "source": [
        "# Realizar padding de las sentencias al mismo tamaño\n",
        "# tomando de referencia la máxima sentencia\n",
        "from keras.preprocessing.sequence import pad_sequences\n",
        "maxlen = 116\n",
        "\n",
        "# Al realizar padding obtener la variable \"X\" (input)\n",
        "X = pad_sequences(sequences, padding='pre', maxlen=maxlen)"
      ],
      "metadata": {
        "id": "AuoCOEoRrAeS"
      },
      "execution_count": null,
      "outputs": []
    },
    {
      "cell_type": "code",
      "source": [
        "# Observar las dimensiones de la variable input\n",
        "X.shape"
      ],
      "metadata": {
        "colab": {
          "base_uri": "https://localhost:8080/"
        },
        "id": "_OohauuWrBoR",
        "outputId": "9b859520-440d-4283-dfd4-383e37f20305"
      },
      "execution_count": null,
      "outputs": [
        {
          "output_type": "execute_result",
          "data": {
            "text/plain": [
              "(22641, 116)"
            ]
          },
          "metadata": {},
          "execution_count": 83
        }
      ]
    },
    {
      "cell_type": "code",
      "source": [
        "# Tomar la columna rating y alcemacenarla en una variable \"y\"\n",
        "# Su shape debe ser equivalente la cantidad de rows del corpus\n",
        "y = df_reviews['Rating'].values\n",
        "print(y.shape)"
      ],
      "metadata": {
        "colab": {
          "base_uri": "https://localhost:8080/"
        },
        "id": "qKeGsmDTrESZ",
        "outputId": "4c27844b-1ed0-47f7-bdb7-865edde3bd8c"
      },
      "execution_count": null,
      "outputs": [
        {
          "output_type": "stream",
          "name": "stdout",
          "text": [
            "(22641,)\n"
          ]
        }
      ]
    },
    {
      "cell_type": "markdown",
      "source": [
        "# **Tratamiento del desbalanceo del dataset**\n",
        "\n",
        "En lugar de agrupar categorías para balancer el dataset voy a probar como se comporta si mantenemos las categorías como están pero al hacer el split utilizamos el parámetor \"strafify\" que mantiene las proporciones de las categorías en ambos conjuntos."
      ],
      "metadata": {
        "id": "3hS5HGGjAn76"
      }
    },
    {
      "cell_type": "code",
      "source": [
        "# Dividir los datos en train y test\n",
        "from sklearn.model_selection import train_test_split\n",
        "X_train, X_test, y_train, y_test = train_test_split(X, y, test_size=0.2, stratify=y)"
      ],
      "metadata": {
        "id": "IJ8vPXGsrV5p"
      },
      "execution_count": null,
      "outputs": []
    },
    {
      "cell_type": "code",
      "source": [
        "y_train_trans = to_categorical(y_train)\n",
        "y_test_trans = to_categorical(y_test)"
      ],
      "metadata": {
        "id": "n790j61Y4SiW"
      },
      "execution_count": null,
      "outputs": []
    },
    {
      "cell_type": "code",
      "source": [
        "# Determinar la dimensiones de entrada y salida\n",
        "in_shape = X_train.shape[1] # max input sentence len\n",
        "out_shape = 5 # binary classification\n",
        "print(\"in_shape\", in_shape, \", out_shape\", out_shape)"
      ],
      "metadata": {
        "colab": {
          "base_uri": "https://localhost:8080/"
        },
        "id": "l63fmf-rrXHL",
        "outputId": "12598bad-f9f6-428a-9003-be2839542844"
      },
      "execution_count": null,
      "outputs": [
        {
          "output_type": "stream",
          "name": "stdout",
          "text": [
            "in_shape 116 , out_shape 5\n"
          ]
        }
      ]
    },
    {
      "cell_type": "code",
      "source": [
        "# Entrenar un modelo con LSTM entrenando sus propios embeddings\n",
        "# o utilizando embeddings pre-entrenados.\n",
        "from keras.layers import LSTM\n",
        "from keras.layers import Embedding\n",
        "from keras.layers import Dropout\n",
        "\n",
        "model = Sequential()\n",
        "# input_dim = vocab_size (max n_words)\n",
        "# input_length = setencias con padding a 200\n",
        "# output_dim = 50 --> crear embeddings de tamaño 50\n",
        "model.add(Embedding(input_dim=vocab_size+1, output_dim=50, input_length=in_shape))\n",
        "model.add(LSTM(units=64, return_sequences=True))\n",
        "model.add(Dropout(0.2))\n",
        "model.add(LSTM(units=64)) # La última capa LSTM no lleva return_sequences\n",
        "\n",
        "model.add(Dense(units=128, activation='relu'))\n",
        "model.add(Dropout(rate=0.2))\n",
        "model.add(Dense(units=out_shape, activation='softmax'))\n",
        "\n",
        "model.compile(optimizer=\"adam\",\n",
        "              loss='categorical_crossentropy',\n",
        "              metrics=['accuracy'])\n",
        "\n",
        "model.summary()"
      ],
      "metadata": {
        "colab": {
          "base_uri": "https://localhost:8080/"
        },
        "id": "oerWoM5Yrd_a",
        "outputId": "b9eb2d66-94dc-4f8f-e8ae-8e1529007f7b"
      },
      "execution_count": null,
      "outputs": [
        {
          "output_type": "stream",
          "name": "stdout",
          "text": [
            "Model: \"sequential_3\"\n",
            "_________________________________________________________________\n",
            " Layer (type)                Output Shape              Param #   \n",
            "=================================================================\n",
            " embedding_4 (Embedding)     (None, 116, 50)           500050    \n",
            "                                                                 \n",
            " lstm_6 (LSTM)               (None, 116, 64)           29440     \n",
            "                                                                 \n",
            " dropout_6 (Dropout)         (None, 116, 64)           0         \n",
            "                                                                 \n",
            " lstm_7 (LSTM)               (None, 64)                33024     \n",
            "                                                                 \n",
            " dense_6 (Dense)             (None, 128)               8320      \n",
            "                                                                 \n",
            " dropout_7 (Dropout)         (None, 128)               0         \n",
            "                                                                 \n",
            " dense_7 (Dense)             (None, 5)                 645       \n",
            "                                                                 \n",
            "=================================================================\n",
            "Total params: 571,479\n",
            "Trainable params: 571,479\n",
            "Non-trainable params: 0\n",
            "_________________________________________________________________\n"
          ]
        }
      ]
    },
    {
      "cell_type": "code",
      "source": [
        "from keras.utils.vis_utils import plot_model\n",
        "plot_model(model, to_file='model_plot.png', show_shapes=True, show_layer_names=True)"
      ],
      "metadata": {
        "colab": {
          "base_uri": "https://localhost:8080/",
          "height": 865
        },
        "id": "PYkE9W22rixB",
        "outputId": "534432c9-a124-4c9a-e96e-9549bc76839e"
      },
      "execution_count": null,
      "outputs": [
        {
          "output_type": "execute_result",
          "data": {
            "text/plain": [
              "<IPython.core.display.Image object>"
            ],
            "image/png": "[encoded data removed]"
          },
          "metadata": {},
          "execution_count": 89
        }
      ]
    },
    {
      "cell_type": "code",
      "source": [
        "hist = model.fit(X_train, y_train_trans, epochs=20, validation_split=0.2)"
      ],
      "metadata": {
        "colab": {
          "base_uri": "https://localhost:8080/"
        },
        "id": "9yeUJVy-rlZR",
        "outputId": "40a4c810-7402-4c20-8574-c5bc5b18c182"
      },
      "execution_count": null,
      "outputs": [
        {
          "output_type": "stream",
          "name": "stdout",
          "text": [
            "Epoch 1/20\n",
            "453/453 [==============================] - 86s 180ms/step - loss: 1.0266 - accuracy: 0.5958 - val_loss: 0.9072 - val_accuracy: 0.6235\n",
            "Epoch 2/20\n",
            "453/453 [==============================] - 83s 184ms/step - loss: 0.8534 - accuracy: 0.6456 - val_loss: 0.8709 - val_accuracy: 0.6329\n",
            "Epoch 3/20\n",
            "453/453 [==============================] - 82s 181ms/step - loss: 0.7554 - accuracy: 0.6795 - val_loss: 0.9006 - val_accuracy: 0.6274\n",
            "Epoch 4/20\n",
            "453/453 [==============================] - 81s 178ms/step - loss: 0.6707 - accuracy: 0.7230 - val_loss: 0.9526 - val_accuracy: 0.6014\n",
            "Epoch 5/20\n",
            "453/453 [==============================] - 80s 177ms/step - loss: 0.5982 - accuracy: 0.7593 - val_loss: 1.0388 - val_accuracy: 0.6014\n",
            "Epoch 6/20\n",
            "453/453 [==============================] - 82s 181ms/step - loss: 0.5362 - accuracy: 0.7883 - val_loss: 1.1299 - val_accuracy: 0.6130\n",
            "Epoch 7/20\n",
            "453/453 [==============================] - 86s 189ms/step - loss: 0.4742 - accuracy: 0.8177 - val_loss: 1.2282 - val_accuracy: 0.5885\n",
            "Epoch 8/20\n",
            "453/453 [==============================] - 82s 180ms/step - loss: 0.4233 - accuracy: 0.8400 - val_loss: 1.3194 - val_accuracy: 0.5871\n",
            "Epoch 9/20\n",
            "453/453 [==============================] - 79s 174ms/step - loss: 0.3844 - accuracy: 0.8589 - val_loss: 1.4375 - val_accuracy: 0.6025\n",
            "Epoch 10/20\n",
            "453/453 [==============================] - 79s 173ms/step - loss: 0.3337 - accuracy: 0.8776 - val_loss: 1.5224 - val_accuracy: 0.5777\n",
            "Epoch 11/20\n",
            "453/453 [==============================] - 77s 169ms/step - loss: 0.3002 - accuracy: 0.8949 - val_loss: 1.7249 - val_accuracy: 0.6020\n",
            "Epoch 12/20\n",
            "453/453 [==============================] - 75s 165ms/step - loss: 0.2627 - accuracy: 0.9086 - val_loss: 1.7051 - val_accuracy: 0.5907\n",
            "Epoch 13/20\n",
            "453/453 [==============================] - 75s 165ms/step - loss: 0.2320 - accuracy: 0.9190 - val_loss: 1.9979 - val_accuracy: 0.5570\n",
            "Epoch 14/20\n",
            "453/453 [==============================] - 74s 163ms/step - loss: 0.2179 - accuracy: 0.9246 - val_loss: 1.8597 - val_accuracy: 0.5791\n",
            "Epoch 15/20\n",
            "453/453 [==============================] - 73s 162ms/step - loss: 0.1889 - accuracy: 0.9360 - val_loss: 2.1606 - val_accuracy: 0.5799\n",
            "Epoch 16/20\n",
            "453/453 [==============================] - 76s 167ms/step - loss: 0.1672 - accuracy: 0.9441 - val_loss: 2.0154 - val_accuracy: 0.5755\n",
            "Epoch 17/20\n",
            "453/453 [==============================] - 76s 167ms/step - loss: 0.1430 - accuracy: 0.9507 - val_loss: 2.3615 - val_accuracy: 0.5777\n",
            "Epoch 18/20\n",
            "453/453 [==============================] - 76s 168ms/step - loss: 0.1359 - accuracy: 0.9546 - val_loss: 2.3102 - val_accuracy: 0.5796\n",
            "Epoch 19/20\n",
            "453/453 [==============================] - 76s 168ms/step - loss: 0.1277 - accuracy: 0.9560 - val_loss: 2.2022 - val_accuracy: 0.5990\n",
            "Epoch 20/20\n",
            "453/453 [==============================] - 76s 168ms/step - loss: 0.1340 - accuracy: 0.9537 - val_loss: 2.2636 - val_accuracy: 0.5818\n"
          ]
        }
      ]
    },
    {
      "cell_type": "code",
      "source": [
        "import matplotlib.pyplot as plt\n",
        "import seaborn as sns\n",
        "epoch_count = range(1, len(hist.history['accuracy']) + 1)\n",
        "sns.lineplot(x=epoch_count,  y=hist.history['accuracy'], label='train')\n",
        "sns.lineplot(x=epoch_count,  y=hist.history['val_accuracy'], label='valid')\n",
        "plt.show()"
      ],
      "metadata": {
        "colab": {
          "base_uri": "https://localhost:8080/",
          "height": 265
        },
        "id": "6koTUQHNvmlV",
        "outputId": "9f17d8bf-7eec-43e2-a9d9-4a9f285244f8"
      },
      "execution_count": null,
      "outputs": [
        {
          "output_type": "display_data",
          "data": {
            "text/plain": [
              "<Figure size 432x288 with 1 Axes>"
            ],
            "image/png": "[encoded data removed]"
          },
          "metadata": {
            "needs_background": "light"
          }
        }
      ]
    },
    {
      "cell_type": "code",
      "source": [
        "model.evaluate(X_test, y_test_trans)"
      ],
      "metadata": {
        "colab": {
          "base_uri": "https://localhost:8080/"
        },
        "id": "Op8VaORuvwu1",
        "outputId": "033e62d4-f5af-4795-b435-d4ca82ae8b94"
      },
      "execution_count": null,
      "outputs": [
        {
          "output_type": "stream",
          "name": "stdout",
          "text": [
            "142/142 [==============================] - 5s 36ms/step - loss: 2.1872 - accuracy: 0.5891\n"
          ]
        },
        {
          "output_type": "execute_result",
          "data": {
            "text/plain": [
              "[2.187199831008911, 0.589092493057251]"
            ]
          },
          "metadata": {},
          "execution_count": 92
        }
      ]
    },
    {
      "cell_type": "markdown",
      "source": [
        "# **Conclusión 1:**\n",
        "Como se observa en la figura, en train el modelo hace overfitting y en validación el desempeño es muy pobre. \n",
        "\n",
        "Hice varias pruebas modificando y combinando diferentes parámetros:\n",
        "\n",
        "\n",
        "*   Tokenizer con 2000, 4000, 8000 y 10000 palábras\n",
        "*   Tamaño de sentencias de 200 y 116\n",
        "*   Cantidad de epoch de 5, 10  y 20\n",
        "*   OneHotEncoding de la variable \"y\" antes y despues del split stratify\n",
        "\n",
        "Para todos los casos el resultado fue muy parecido, en entrenamiento hace overfitting y en validación el resultado es muy pobre, cercano al 0,6 de accuracy.\n",
        "\n",
        "Entonces en principio se podría concluir que no es una estrategia válida y que tendría que buscar balancear el dataset agrupando las categorías para lograr un mejor desempeño.\n",
        "\n",
        "Por último voy a probar si utilizando embeddings pre-entrenados sobre el modelo multiclase se consiguen mejores resultados.\n",
        "\n"
      ],
      "metadata": {
        "id": "8BcF23Bc-Y3n"
      }
    },
    {
      "cell_type": "code",
      "source": [
        "# Descargar los embeddings desde un gogle drive (es la forma más rápida)\n",
        "# NOTA: No hay garantía de que estos links perduren, en caso de que no estén\n",
        "# disponibles descargar de la página oficial como se explica en el siguiente bloque\n",
        "import os\n",
        "import gdown\n",
        "if os.access('fasttext.pkl', os.F_OK) is False:\n",
        "    url = 'https://drive.google.com/uc?id=1KU5qmAYh3LATMvVgocFDfW-PK3prm1WU&export=download'\n",
        "    output = 'fasttext.pkl'\n",
        "    gdown.download(url, output, quiet=False)\n",
        "else:\n",
        "    print(\"Los embeddings fasttext.pkl ya están descargados\")"
      ],
      "metadata": {
        "colab": {
          "base_uri": "https://localhost:8080/"
        },
        "id": "9Qyp6bTqKIv0",
        "outputId": "42f33e9f-1f87-4e4c-e6de-8a54d7e1c708"
      },
      "execution_count": null,
      "outputs": [
        {
          "output_type": "stream",
          "name": "stdout",
          "text": [
            "Los embeddings fasttext.pkl ya están descargados\n"
          ]
        }
      ]
    },
    {
      "cell_type": "code",
      "source": [
        "import logging\n",
        "import os\n",
        "from pathlib import Path\n",
        "from io import StringIO\n",
        "import pickle\n",
        "\n",
        "class WordsEmbeddings(object):\n",
        "    logger = logging.getLogger(__name__)\n",
        "\n",
        "    def __init__(self):\n",
        "        # load the embeddings\n",
        "        words_embedding_pkl = Path(self.PKL_PATH)\n",
        "        if not words_embedding_pkl.is_file():\n",
        "            words_embedding_txt = Path(self.WORD_TO_VEC_MODEL_TXT_PATH)\n",
        "            assert words_embedding_txt.is_file(), 'Words embedding not available'\n",
        "            embeddings = self.convert_model_to_pickle()\n",
        "        else:\n",
        "            embeddings = self.load_model_from_pickle()\n",
        "        self.embeddings = embeddings\n",
        "        # build the vocabulary hashmap\n",
        "        index = np.arange(self.embeddings.shape[0])\n",
        "        # Dicctionarios para traducir de embedding a IDX de la palabra\n",
        "        self.word2idx = dict(zip(self.embeddings['word'], index))\n",
        "        self.idx2word = dict(zip(index, self.embeddings['word']))\n",
        "\n",
        "    def get_words_embeddings(self, words):\n",
        "        words_idxs = self.words2idxs(words)\n",
        "        return self.embeddings[words_idxs]['embedding']\n",
        "\n",
        "    def words2idxs(self, words):\n",
        "        return np.array([self.word2idx.get(word, -1) for word in words])\n",
        "\n",
        "    def idxs2words(self, idxs):\n",
        "        return np.array([self.idx2word.get(idx, '-1') for idx in idxs])\n",
        "\n",
        "    def load_model_from_pickle(self):\n",
        "        self.logger.debug(\n",
        "            'loading words embeddings from pickle {}'.format(\n",
        "                self.PKL_PATH\n",
        "            )\n",
        "        )\n",
        "        max_bytes = 2**28 - 1 # 256MB\n",
        "        bytes_in = bytearray(0)\n",
        "        input_size = os.path.getsize(self.PKL_PATH)\n",
        "        with open(self.PKL_PATH, 'rb') as f_in:\n",
        "            for _ in range(0, input_size, max_bytes):\n",
        "                bytes_in += f_in.read(max_bytes)\n",
        "        embeddings = pickle.loads(bytes_in)\n",
        "        self.logger.debug('words embeddings loaded')\n",
        "        return embeddings\n",
        "\n",
        "    def convert_model_to_pickle(self):\n",
        "        # create a numpy strctured array:\n",
        "        # word     embedding\n",
        "        # U50      np.float32[]\n",
        "        # word_1   a, b, c\n",
        "        # word_2   d, e, f\n",
        "        # ...\n",
        "        # word_n   g, h, i\n",
        "        self.logger.debug(\n",
        "            'converting and loading words embeddings from text file {}'.format(\n",
        "                self.WORD_TO_VEC_MODEL_TXT_PATH\n",
        "            )\n",
        "        )\n",
        "        structure = [('word', np.dtype('U' + str(self.WORD_MAX_SIZE))),\n",
        "                     ('embedding', np.float32, (self.N_FEATURES,))]\n",
        "        structure = np.dtype(structure)\n",
        "        # load numpy array from disk using a generator\n",
        "        with open(self.WORD_TO_VEC_MODEL_TXT_PATH, encoding=\"utf8\") as words_embeddings_txt:\n",
        "            embeddings_gen = (\n",
        "                (line.split()[0], line.split()[1:]) for line in words_embeddings_txt\n",
        "                if len(line.split()[1:]) == self.N_FEATURES\n",
        "            )\n",
        "            embeddings = np.fromiter(embeddings_gen, structure)\n",
        "        # add a null embedding\n",
        "        null_embedding = np.array(\n",
        "            [('null_embedding', np.zeros((self.N_FEATURES,), dtype=np.float32))],\n",
        "            dtype=structure\n",
        "        )\n",
        "        embeddings = np.concatenate([embeddings, null_embedding])\n",
        "        # dump numpy array to disk using pickle\n",
        "        max_bytes = 2**28 - 1 # # 256MB\n",
        "        bytes_out = pickle.dumps(embeddings, protocol=pickle.HIGHEST_PROTOCOL)\n",
        "        with open(self.PKL_PATH, 'wb') as f_out:\n",
        "            for idx in range(0, len(bytes_out), max_bytes):\n",
        "                f_out.write(bytes_out[idx:idx+max_bytes])\n",
        "        self.logger.debug('words embeddings loaded')\n",
        "        return embeddings\n",
        "\n",
        "\n",
        "class GloveEmbeddings(WordsEmbeddings):\n",
        "    WORD_TO_VEC_MODEL_TXT_PATH = 'glove.twitter.27B.50d.txt'\n",
        "    PKL_PATH = 'gloveembedding.pkl'\n",
        "    N_FEATURES = 50\n",
        "    WORD_MAX_SIZE = 60\n",
        "\n",
        "\n",
        "class FasttextEmbeddings(WordsEmbeddings):\n",
        "    WORD_TO_VEC_MODEL_TXT_PATH = 'cc.en.300.vec'\n",
        "    PKL_PATH = 'fasttext.pkl'\n",
        "    N_FEATURES = 300\n",
        "    WORD_MAX_SIZE = 60"
      ],
      "metadata": {
        "id": "jIHRVxIFKQEz"
      },
      "execution_count": null,
      "outputs": []
    },
    {
      "cell_type": "code",
      "source": [
        "model_fasttext = FasttextEmbeddings()"
      ],
      "metadata": {
        "id": "a5-M0VLUKhLo"
      },
      "execution_count": null,
      "outputs": []
    },
    {
      "cell_type": "code",
      "source": [
        "# Crear la Embedding matrix\n",
        "\n",
        "print('preparing embedding matrix...')\n",
        "embed_dim = 300 # fasttext\n",
        "words_not_found = []\n",
        "\n",
        "# word_index provieen del tokenizer\n",
        "\n",
        "nb_words = min(num_words, len(word_index)) # vocab_size\n",
        "embedding_matrix = np.zeros((nb_words, embed_dim))\n",
        "for word, i in word_index.items():\n",
        "    if i >= nb_words:\n",
        "        continue\n",
        "    embedding_vector = model_fasttext.get_words_embeddings(word)[0]\n",
        "    if (embedding_vector is not None) and len(embedding_vector) > 0:\n",
        "        embedding_matrix[i] = embedding_vector\n",
        "    else:\n",
        "        # words not found in embedding index will be all-zeros.\n",
        "        words_not_found.append(word)\n",
        "        print(word)\n",
        "\n",
        "print('number of null word embeddings:', np.sum(np.sum(embedding_matrix, axis=1) == 0))"
      ],
      "metadata": {
        "colab": {
          "base_uri": "https://localhost:8080/"
        },
        "id": "8i7djD8TKkFQ",
        "outputId": "bf1d54a8-6a70-40e0-ae86-4252bcc90d18"
      },
      "execution_count": null,
      "outputs": [
        {
          "output_type": "stream",
          "name": "stdout",
          "text": [
            "preparing embedding matrix...\n",
            "number of null word embeddings: 2\n"
          ]
        }
      ]
    },
    {
      "cell_type": "code",
      "source": [
        "Embedding(input_dim=vocab_size,  # definido en el Tokenizador\n",
        "          output_dim=embed_dim,  # dimensión de los embeddings utilizados\n",
        "          input_length=in_shape, # máxima sentencia de entrada\n",
        "          weights=[embedding_matrix],  # matrix de embeddings\n",
        "          trainable=False)      # marcar como layer no entrenable"
      ],
      "metadata": {
        "colab": {
          "base_uri": "https://localhost:8080/"
        },
        "id": "0SDMXfK0Knzg",
        "outputId": "3b7e64ce-962c-4a46-c7cd-a91776b4f247"
      },
      "execution_count": null,
      "outputs": [
        {
          "output_type": "execute_result",
          "data": {
            "text/plain": [
              "<keras.layers.embeddings.Embedding at 0x7facc023c650>"
            ]
          },
          "metadata": {},
          "execution_count": 97
        }
      ]
    },
    {
      "cell_type": "code",
      "source": [
        "model2 = Sequential()\n",
        "# input_dim = vocab_size (max n_words)\n",
        "# input_length = setencias con padding a 200\n",
        "# output_dim = embed_dim (depende que embeddings pre entrenados utilizamos)\n",
        "model2.add(Embedding(input_dim=vocab_size, output_dim=embed_dim, input_length=in_shape,\n",
        "                     weights=[embedding_matrix], trainable=False))\n",
        "\n",
        "model2.add(LSTM(units=64, return_sequences=True))\n",
        "model2.add(Dropout(0.2))\n",
        "model2.add(LSTM(units=64)) # La última capa LSTM no lleva return_sequences\n",
        "\n",
        "model2.add(Dense(units=128, activation='relu'))\n",
        "model2.add(Dropout(rate=0.2))\n",
        "model2.add(Dense(units=out_shape, activation='softmax'))\n",
        "\n",
        "model2.compile(optimizer=\"adam\",\n",
        "              loss='categorical_crossentropy',\n",
        "              metrics=['accuracy'])\n",
        "\n",
        "model2.summary()"
      ],
      "metadata": {
        "colab": {
          "base_uri": "https://localhost:8080/"
        },
        "id": "Oi1j-vfsKqj4",
        "outputId": "ff63b94c-b86f-4677-c983-55e81c00c829"
      },
      "execution_count": null,
      "outputs": [
        {
          "output_type": "stream",
          "name": "stdout",
          "text": [
            "Model: \"sequential_4\"\n",
            "_________________________________________________________________\n",
            " Layer (type)                Output Shape              Param #   \n",
            "=================================================================\n",
            " embedding_6 (Embedding)     (None, 116, 300)          3000000   \n",
            "                                                                 \n",
            " lstm_8 (LSTM)               (None, 116, 64)           93440     \n",
            "                                                                 \n",
            " dropout_8 (Dropout)         (None, 116, 64)           0         \n",
            "                                                                 \n",
            " lstm_9 (LSTM)               (None, 64)                33024     \n",
            "                                                                 \n",
            " dense_8 (Dense)             (None, 128)               8320      \n",
            "                                                                 \n",
            " dropout_9 (Dropout)         (None, 128)               0         \n",
            "                                                                 \n",
            " dense_9 (Dense)             (None, 5)                 645       \n",
            "                                                                 \n",
            "=================================================================\n",
            "Total params: 3,135,429\n",
            "Trainable params: 135,429\n",
            "Non-trainable params: 3,000,000\n",
            "_________________________________________________________________\n"
          ]
        }
      ]
    },
    {
      "cell_type": "code",
      "source": [
        "hist2 = model2.fit(X_train, y_train_trans, epochs=20, validation_split=0.2)"
      ],
      "metadata": {
        "colab": {
          "base_uri": "https://localhost:8080/"
        },
        "id": "WIxjK7ACK2sq",
        "outputId": "8b5ee1d1-7e6b-4856-c967-d0b4fdbf11be"
      },
      "execution_count": null,
      "outputs": [
        {
          "output_type": "stream",
          "name": "stdout",
          "text": [
            "Epoch 1/20\n",
            "453/453 [==============================] - 93s 195ms/step - loss: 1.2189 - accuracy: 0.5535 - val_loss: 1.2314 - val_accuracy: 0.5506\n",
            "Epoch 2/20\n",
            "453/453 [==============================] - 88s 195ms/step - loss: 1.1737 - accuracy: 0.5555 - val_loss: 1.1553 - val_accuracy: 0.5518\n",
            "Epoch 3/20\n",
            "453/453 [==============================] - 90s 198ms/step - loss: 1.1469 - accuracy: 0.5577 - val_loss: 1.1362 - val_accuracy: 0.5584\n",
            "Epoch 4/20\n",
            "453/453 [==============================] - 88s 193ms/step - loss: 1.1222 - accuracy: 0.5629 - val_loss: 1.1193 - val_accuracy: 0.5653\n",
            "Epoch 5/20\n",
            "453/453 [==============================] - 87s 192ms/step - loss: 1.1036 - accuracy: 0.5650 - val_loss: 1.1110 - val_accuracy: 0.5669\n",
            "Epoch 6/20\n",
            "453/453 [==============================] - 90s 198ms/step - loss: 1.0796 - accuracy: 0.5732 - val_loss: 1.1116 - val_accuracy: 0.5526\n",
            "Epoch 7/20\n",
            "453/453 [==============================] - 94s 208ms/step - loss: 1.0569 - accuracy: 0.5766 - val_loss: 1.0889 - val_accuracy: 0.5722\n",
            "Epoch 8/20\n",
            "453/453 [==============================] - 90s 199ms/step - loss: 1.0385 - accuracy: 0.5843 - val_loss: 1.0958 - val_accuracy: 0.5656\n",
            "Epoch 9/20\n",
            "453/453 [==============================] - 89s 195ms/step - loss: 1.0176 - accuracy: 0.5906 - val_loss: 1.0856 - val_accuracy: 0.5736\n",
            "Epoch 10/20\n",
            "453/453 [==============================] - 90s 198ms/step - loss: 0.9949 - accuracy: 0.5976 - val_loss: 1.0829 - val_accuracy: 0.5716\n",
            "Epoch 11/20\n",
            "453/453 [==============================] - 90s 198ms/step - loss: 0.9735 - accuracy: 0.6036 - val_loss: 1.0907 - val_accuracy: 0.5741\n",
            "Epoch 12/20\n",
            "453/453 [==============================] - 93s 205ms/step - loss: 0.9540 - accuracy: 0.6085 - val_loss: 1.1166 - val_accuracy: 0.5700\n",
            "Epoch 13/20\n",
            "453/453 [==============================] - 91s 201ms/step - loss: 0.9240 - accuracy: 0.6232 - val_loss: 1.1002 - val_accuracy: 0.5683\n",
            "Epoch 14/20\n",
            "453/453 [==============================] - 104s 230ms/step - loss: 0.9005 - accuracy: 0.6329 - val_loss: 1.1244 - val_accuracy: 0.5702\n",
            "Epoch 15/20\n",
            "453/453 [==============================] - 90s 198ms/step - loss: 0.8730 - accuracy: 0.6421 - val_loss: 1.1710 - val_accuracy: 0.5617\n",
            "Epoch 16/20\n",
            "453/453 [==============================] - 90s 200ms/step - loss: 0.8411 - accuracy: 0.6527 - val_loss: 1.1796 - val_accuracy: 0.5357\n",
            "Epoch 17/20\n",
            "453/453 [==============================] - 93s 204ms/step - loss: 0.8160 - accuracy: 0.6655 - val_loss: 1.2040 - val_accuracy: 0.5504\n",
            "Epoch 18/20\n",
            "453/453 [==============================] - 89s 197ms/step - loss: 0.7875 - accuracy: 0.6737 - val_loss: 1.2143 - val_accuracy: 0.5526\n",
            "Epoch 19/20\n",
            "453/453 [==============================] - 99s 219ms/step - loss: 0.7561 - accuracy: 0.6887 - val_loss: 1.2942 - val_accuracy: 0.5518\n",
            "Epoch 20/20\n",
            "453/453 [==============================] - 94s 207ms/step - loss: 0.7267 - accuracy: 0.7005 - val_loss: 1.3246 - val_accuracy: 0.5534\n"
          ]
        }
      ]
    },
    {
      "cell_type": "code",
      "source": [
        "import matplotlib.pyplot as plt\n",
        "import seaborn as sns\n",
        "epoch_count = range(1, len(hist2.history['accuracy']) + 1)\n",
        "sns.lineplot(x=epoch_count,  y=hist2.history['accuracy'], label='train')\n",
        "sns.lineplot(x=epoch_count,  y=hist2.history['val_accuracy'], label='valid')\n",
        "plt.show()"
      ],
      "metadata": {
        "colab": {
          "base_uri": "https://localhost:8080/",
          "height": 265
        },
        "id": "6AbgWo3wK7Dq",
        "outputId": "e3b142b8-7a9a-47c0-bb08-b8e37225a065"
      },
      "execution_count": null,
      "outputs": [
        {
          "output_type": "display_data",
          "data": {
            "text/plain": [
              "<Figure size 432x288 with 1 Axes>"
            ],
            "image/png": "[encoded data removed]"
          },
          "metadata": {
            "needs_background": "light"
          }
        }
      ]
    },
    {
      "cell_type": "code",
      "source": [
        "model2.evaluate(X_test, y_test_trans)"
      ],
      "metadata": {
        "colab": {
          "base_uri": "https://localhost:8080/"
        },
        "id": "HeRM1TuzK8BX",
        "outputId": "9deb035d-750e-4b3d-bca3-8b0ddfed95df"
      },
      "execution_count": null,
      "outputs": [
        {
          "output_type": "stream",
          "name": "stdout",
          "text": [
            "142/142 [==============================] - 8s 53ms/step - loss: 1.2955 - accuracy: 0.5637\n"
          ]
        },
        {
          "output_type": "execute_result",
          "data": {
            "text/plain": [
              "[1.295513391494751, 0.5637006163597107]"
            ]
          },
          "metadata": {},
          "execution_count": 101
        }
      ]
    },
    {
      "cell_type": "markdown",
      "source": [
        "## **Conclusión 2:**\n",
        "\n",
        "Luego de 20 epoch se puede observar que el accuracy en validación es similar en ambos casos, muy bajo, pero el comportamiento en entrenamiento es muy diferente. En el caso donde entreno el embedding muy rápidamente hace overfitting mientras que cuando trabajo con un embedding pre-entrenado tiende al overfitting pero de manera mucho mas suave.\n",
        "\n",
        "Otra diferencia es que en validación el mayor accuracy es de 0,63 cuando se entrenan los embedding y de 0,57 cuando se trabaja con embedding pre-entrenados.\n",
        "\n",
        "Como conclusión final se podría decir, como se presuponía, que el desbalanceo del dataset no va a permitir conseguir un buen desempeño de los modelos independientemente de utilizar un embedding pre-entrenado o entrenándolo. \n",
        "\n",
        "Por último, los resultados demuestran que cuando se tienen dataset muy desbalanceado no es buena estrategia mantener el desbalanceo para entrenar modelos."
      ],
      "metadata": {
        "id": "s6D4yqDlkxZO"
      }
    }
  ]
}