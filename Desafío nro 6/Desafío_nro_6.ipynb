{
  "nbformat": 4,
  "nbformat_minor": 0,
  "metadata": {
    "colab": {
      "name": "Desafío nro 6.ipynb",
      "provenance": [],
      "collapsed_sections": []
    },
    "kernelspec": {
      "name": "python3",
      "display_name": "Python 3"
    },
    "language_info": {
      "name": "python"
    },
    "accelerator": "GPU"
  },
  "cells": [
    {
      "cell_type": "markdown",
      "source": [
        "## **LSTM Bot QA**\n",
        "# **Datos**\n",
        "El objeto es utilizar datos disponibles de convai de conversaciones en ingleś. Se construirá un BOT para responder a preguntas del usuario (QA).\\ LINK"
      ],
      "metadata": {
        "id": "tCtUzfEYOUlF"
      }
    },
    {
      "cell_type": "code",
      "metadata": {
        "id": "cq3YXak9sGHd"
      },
      "source": [
        "import re\n",
        "\n",
        "import numpy as np\n",
        "import pandas as pd\n",
        "\n",
        "import keras\n",
        "from keras.preprocessing.text import one_hot\n",
        "from keras.preprocessing.sequence import pad_sequences\n",
        "from keras.models import Sequential\n",
        "from keras.layers.core import Activation, Dropout, Dense\n",
        "from keras.layers import Flatten, LSTM, SimpleRNN\n",
        "from keras.models import Model\n",
        "from keras.layers.embeddings import Embedding\n",
        "from sklearn.model_selection import train_test_split\n",
        "from keras.preprocessing.text import Tokenizer\n",
        "from keras.layers import Input\n",
        "from keras.layers.merge import Concatenate\n",
        "from keras.layers import Bidirectional"
      ],
      "execution_count": null,
      "outputs": []
    },
    {
      "cell_type": "code",
      "metadata": {
        "id": "RHNkUaPp6aYq",
        "outputId": "cdf6834d-f881-4270-a5e7-3c95d92e7fe2",
        "colab": {
          "base_uri": "https://localhost:8080/"
        }
      },
      "source": [
        "# Descargar la carpeta de dataset\n",
        "import os\n",
        "import gdown\n",
        "if os.access('data_volunteers.json', os.F_OK) is False:\n",
        "    url = 'https://drive.google.com/uc?id=1QPYxMTBSGNmbyGhknznuO3YWLBOJnhUQ&export=download'\n",
        "    output = 'data_volunteers.json'\n",
        "    gdown.download(url, output, quiet=False)\n",
        "else:\n",
        "    print(\"El dataset ya se encuentra descargado\")"
      ],
      "execution_count": null,
      "outputs": [
        {
          "output_type": "stream",
          "name": "stdout",
          "text": [
            "El dataset ya se encuentra descargado\n"
          ]
        }
      ]
    },
    {
      "cell_type": "code",
      "metadata": {
        "id": "WZy1-wgG-Rp7"
      },
      "source": [
        "# dataset_file\n",
        "import json\n",
        "\n",
        "text_file = \"data_volunteers.json\"\n",
        "with open(text_file) as f:\n",
        "    data = json.load(f)"
      ],
      "execution_count": null,
      "outputs": []
    },
    {
      "cell_type": "code",
      "source": [
        "# Descargar el json desde http://convai.io/data/\n",
        "# dataset_file\n",
        "import json\n",
        "\n",
        "text_file = \"data_tolokers.json\"\n",
        "with open(text_file) as f:\n",
        "    data = json.load(f)"
      ],
      "metadata": {
        "id": "vKR9WcvfBhjx"
      },
      "execution_count": null,
      "outputs": []
    },
    {
      "cell_type": "code",
      "metadata": {
        "id": "ue5qd54S-eew",
        "outputId": "8b4a065c-6232-4ed2-ee72-d16dad5f7faa",
        "colab": {
          "base_uri": "https://localhost:8080/"
        }
      },
      "source": [
        "# Observar los campos disponibles en cada linea del dataset\n",
        "data[0].keys()"
      ],
      "execution_count": null,
      "outputs": [
        {
          "output_type": "execute_result",
          "data": {
            "text/plain": [
              "dict_keys(['dialog', 'start_time', 'end_time', 'bot_profile', 'user_profile', 'eval_score', 'profile_match', 'participant1_id', 'participant2_id'])"
            ]
          },
          "metadata": {},
          "execution_count": 5
        }
      ]
    },
    {
      "cell_type": "code",
      "metadata": {
        "id": "jHBRAXPl-3dz",
        "outputId": "166a316c-28ed-48b5-de0f-ad57de600b2a",
        "colab": {
          "base_uri": "https://localhost:8080/"
        }
      },
      "source": [
        "chat_in = []\n",
        "chat_out = []\n",
        "\n",
        "input_sentences = []\n",
        "output_sentences = []\n",
        "output_sentences_inputs = []\n",
        "max_len = 30\n",
        "\n",
        "def clean_text(txt):\n",
        "    txt = txt.lower()    \n",
        "    txt.replace(\"\\'d\", \" had\")\n",
        "    txt.replace(\"\\'s\", \" is\")\n",
        "    txt.replace(\"\\'m\", \" am\")\n",
        "    txt.replace(\"don't\", \"do not\")\n",
        "    txt = re.sub(r'\\W+', ' ', txt)\n",
        "    \n",
        "    return txt\n",
        "\n",
        "for line in data:\n",
        "    for i in range(len(line['dialog'])-1):\n",
        "        chat_in = clean_text(line['dialog'][i]['text'])\n",
        "        chat_out = clean_text(line['dialog'][i+1]['text'])\n",
        "\n",
        "        if len(chat_in) >= max_len or len(chat_out) >= max_len:\n",
        "            continue\n",
        "\n",
        "        input_sentence, output = chat_in, chat_out\n",
        "        \n",
        "        # output sentence (decoder_output) tiene <eos>\n",
        "        output_sentence = output + ' <eos>'\n",
        "        # output sentence input (decoder_input) tiene <sos>\n",
        "        output_sentence_input = '<sos> ' + output\n",
        "\n",
        "        input_sentences.append(input_sentence)\n",
        "        output_sentences.append(output_sentence)\n",
        "        output_sentences_inputs.append(output_sentence_input)\n",
        "\n",
        "print(\"Cantidad de rows utilizadas:\", len(input_sentences))"
      ],
      "execution_count": null,
      "outputs": [
        {
          "output_type": "stream",
          "name": "stdout",
          "text": [
            "Cantidad de rows utilizadas: 12132\n"
          ]
        }
      ]
    },
    {
      "cell_type": "code",
      "metadata": {
        "id": "07L1qj8pC_l6",
        "outputId": "29ffbbee-783a-4098-9f6f-386ff8755f74",
        "colab": {
          "base_uri": "https://localhost:8080/"
        }
      },
      "source": [
        "input_sentences[1], output_sentences[1], output_sentences_inputs[1]"
      ],
      "execution_count": null,
      "outputs": [
        {
          "output_type": "execute_result",
          "data": {
            "text/plain": [
              "('hey', 'what do you do  <eos>', '<sos> what do you do ')"
            ]
          },
          "metadata": {},
          "execution_count": 7
        }
      ]
    },
    {
      "cell_type": "markdown",
      "metadata": {
        "id": "8P-ynUNP5xp6"
      },
      "source": [
        "### 2 - Preprocesamiento\n",
        "\n"
      ]
    },
    {
      "cell_type": "code",
      "metadata": {
        "id": "XZ8ZHHh0H7dr"
      },
      "source": [
        "MAX_VOCAB_SIZE = 8000"
      ],
      "execution_count": null,
      "outputs": []
    },
    {
      "cell_type": "code",
      "metadata": {
        "id": "aE1UWSi_HnL2",
        "outputId": "5191e87e-76a9-470f-c45b-19bcdea35c60",
        "colab": {
          "base_uri": "https://localhost:8080/"
        }
      },
      "source": [
        "# word2idx_inputs, max_input_len\n",
        "from keras.preprocessing.text import Tokenizer\n",
        "input_tokenizer = Tokenizer(num_words=MAX_VOCAB_SIZE)\n",
        "input_tokenizer.fit_on_texts(input_sentences)\n",
        "input_integer_seq = input_tokenizer.texts_to_sequences(input_sentences)\n",
        "\n",
        "word2idx_inputs = input_tokenizer.word_index\n",
        "print(\"Palabras en el vocabulario:\", len(word2idx_inputs))\n",
        "\n",
        "max_input_len = max(len(sen) for sen in input_integer_seq)\n",
        "print(\"Sentencia de entrada más larga:\", max_input_len)"
      ],
      "execution_count": null,
      "outputs": [
        {
          "output_type": "stream",
          "name": "stdout",
          "text": [
            "Palabras en el vocabulario: 2358\n",
            "Sentencia de entrada más larga: 10\n"
          ]
        }
      ]
    },
    {
      "cell_type": "code",
      "metadata": {
        "id": "01aerTF8IBAH",
        "outputId": "cabf86bd-f831-413b-c3ab-e0bcb7b41a38",
        "colab": {
          "base_uri": "https://localhost:8080/"
        }
      },
      "source": [
        "# word2idx_outputs, max_out_len, num_words_output\n",
        "output_tokenizer = Tokenizer(num_words=MAX_VOCAB_SIZE, filters='!\"#$%&()*+,-./:;=¿?@[\\\\]^_`{|}~\\t\\n')\n",
        "output_tokenizer.fit_on_texts([\"<sos>\", \"<eos>\"] + output_sentences)\n",
        "output_integer_seq = output_tokenizer.texts_to_sequences(output_sentences)\n",
        "output_input_integer_seq = output_tokenizer.texts_to_sequences(output_sentences_inputs)\n",
        "\n",
        "word2idx_outputs = output_tokenizer.word_index\n",
        "print(\"Palabras en el vocabulario:\", len(word2idx_outputs))\n",
        "\n",
        "num_words_output = min(len(word2idx_outputs) + 1, MAX_VOCAB_SIZE) # Se suma 1 por el primer <sos>\n",
        "max_out_len = max(len(sen) for sen in output_integer_seq)\n",
        "print(\"Sentencia de salida más larga:\", max_out_len)"
      ],
      "execution_count": null,
      "outputs": [
        {
          "output_type": "stream",
          "name": "stdout",
          "text": [
            "Palabras en el vocabulario: 2413\n",
            "Sentencia de salida más larga: 11\n"
          ]
        }
      ]
    },
    {
      "cell_type": "code",
      "metadata": {
        "id": "q0Ob4hAWJkcv",
        "outputId": "3dd6cd7c-d86c-49f3-e51b-178962f8560d",
        "colab": {
          "base_uri": "https://localhost:8080/"
        }
      },
      "source": [
        "# encoder_input_sequences, decoder_input_sequences, decoder_targets\n",
        "print(\"Cantidad de rows del dataset:\", len(input_integer_seq))\n",
        "\n",
        "encoder_input_sequences = pad_sequences(input_integer_seq, maxlen=max_input_len)\n",
        "print(\"encoder_input_sequences shape:\", encoder_input_sequences.shape)\n",
        "\n",
        "decoder_input_sequences = pad_sequences(output_input_integer_seq, maxlen=max_out_len, padding='post')\n",
        "print(\"decoder_input_sequences shape:\", decoder_input_sequences.shape)\n",
        "\n",
        "from keras.utils.np_utils import to_categorical\n",
        "decoder_output_sequences = pad_sequences(output_integer_seq, maxlen=max_out_len, padding='post')\n",
        "decoder_targets = to_categorical(decoder_output_sequences, num_classes=num_words_output)\n",
        "print(\"decoder_targets shape:\", decoder_targets.shape)"
      ],
      "execution_count": null,
      "outputs": [
        {
          "output_type": "stream",
          "name": "stdout",
          "text": [
            "Cantidad de rows del dataset: 12132\n",
            "encoder_input_sequences shape: (12132, 10)\n",
            "decoder_input_sequences shape: (12132, 11)\n",
            "decoder_targets shape: (12132, 11, 2414)\n"
          ]
        }
      ]
    },
    {
      "cell_type": "markdown",
      "metadata": {
        "id": "_CJIsLBbj6rg"
      },
      "source": [
        "### 3 - Preparar los embeddings\n",
        "Utilizar los embeddings de Glove o FastText para transformar los tokens de entrada en vectores"
      ]
    },
    {
      "cell_type": "code",
      "metadata": {
        "id": "9OcT-DLzkHS8",
        "outputId": "6f958b4f-7c64-4e0c-a892-f1b0bb608cef",
        "colab": {
          "base_uri": "https://localhost:8080/"
        }
      },
      "source": [
        "# Descargar los embeddings desde un gogle drive (es la forma más rápida)\n",
        "# NOTA: No hay garantía de que estos links perduren, en caso de que no estén\n",
        "# disponibles descargar de la página oficial como se explica en el siguiente bloque\n",
        "import os\n",
        "import gdown\n",
        "if os.access('gloveembedding.pkl', os.F_OK) is False:\n",
        "    url = 'https://drive.google.com/uc?id=1wlDBOrxPq2-3htQ6ryVo7K1XnzLcfh4r&export=download'\n",
        "    output = 'gloveembedding.pkl'\n",
        "    gdown.download(url, output, quiet=False)\n",
        "else:\n",
        "    print(\"Los embeddings gloveembedding.pkl ya están descargados\")"
      ],
      "execution_count": null,
      "outputs": [
        {
          "output_type": "stream",
          "name": "stdout",
          "text": [
            "Los embeddings gloveembedding.pkl ya están descargados\n"
          ]
        }
      ]
    },
    {
      "cell_type": "code",
      "metadata": {
        "id": "ZgqtV8GpkSc8"
      },
      "source": [
        "import logging\n",
        "import os\n",
        "from pathlib import Path\n",
        "from io import StringIO\n",
        "import pickle\n",
        "\n",
        "class WordsEmbeddings(object):\n",
        "    logger = logging.getLogger(__name__)\n",
        "\n",
        "    def __init__(self):\n",
        "        # load the embeddings\n",
        "        words_embedding_pkl = Path(self.PKL_PATH)\n",
        "        if not words_embedding_pkl.is_file():\n",
        "            words_embedding_txt = Path(self.WORD_TO_VEC_MODEL_TXT_PATH)\n",
        "            assert words_embedding_txt.is_file(), 'Words embedding not available'\n",
        "            embeddings = self.convert_model_to_pickle()\n",
        "        else:\n",
        "            embeddings = self.load_model_from_pickle()\n",
        "        self.embeddings = embeddings\n",
        "        # build the vocabulary hashmap\n",
        "        index = np.arange(self.embeddings.shape[0])\n",
        "        # Dicctionarios para traducir de embedding a IDX de la palabra\n",
        "        self.word2idx = dict(zip(self.embeddings['word'], index))\n",
        "        self.idx2word = dict(zip(index, self.embeddings['word']))\n",
        "\n",
        "    def get_words_embeddings(self, words):\n",
        "        words_idxs = self.words2idxs(words)\n",
        "        return self.embeddings[words_idxs]['embedding']\n",
        "\n",
        "    def words2idxs(self, words):\n",
        "        return np.array([self.word2idx.get(word, -1) for word in words])\n",
        "\n",
        "    def idxs2words(self, idxs):\n",
        "        return np.array([self.idx2word.get(idx, '-1') for idx in idxs])\n",
        "\n",
        "    def load_model_from_pickle(self):\n",
        "        self.logger.debug(\n",
        "            'loading words embeddings from pickle {}'.format(\n",
        "                self.PKL_PATH\n",
        "            )\n",
        "        )\n",
        "        max_bytes = 2**28 - 1 # 256MB\n",
        "        bytes_in = bytearray(0)\n",
        "        input_size = os.path.getsize(self.PKL_PATH)\n",
        "        with open(self.PKL_PATH, 'rb') as f_in:\n",
        "            for _ in range(0, input_size, max_bytes):\n",
        "                bytes_in += f_in.read(max_bytes)\n",
        "        embeddings = pickle.loads(bytes_in)\n",
        "        self.logger.debug('words embeddings loaded')\n",
        "        return embeddings\n",
        "\n",
        "    def convert_model_to_pickle(self):\n",
        "        # create a numpy strctured array:\n",
        "        # word     embedding\n",
        "        # U50      np.float32[]\n",
        "        # word_1   a, b, c\n",
        "        # word_2   d, e, f\n",
        "        # ...\n",
        "        # word_n   g, h, i\n",
        "        self.logger.debug(\n",
        "            'converting and loading words embeddings from text file {}'.format(\n",
        "                self.WORD_TO_VEC_MODEL_TXT_PATH\n",
        "            )\n",
        "        )\n",
        "        structure = [('word', np.dtype('U' + str(self.WORD_MAX_SIZE))),\n",
        "                     ('embedding', np.float32, (self.N_FEATURES,))]\n",
        "        structure = np.dtype(structure)\n",
        "        # load numpy array from disk using a generator\n",
        "        with open(self.WORD_TO_VEC_MODEL_TXT_PATH, encoding=\"utf8\") as words_embeddings_txt:\n",
        "            embeddings_gen = (\n",
        "                (line.split()[0], line.split()[1:]) for line in words_embeddings_txt\n",
        "                if len(line.split()[1:]) == self.N_FEATURES\n",
        "            )\n",
        "            embeddings = np.fromiter(embeddings_gen, structure)\n",
        "        # add a null embedding\n",
        "        null_embedding = np.array(\n",
        "            [('null_embedding', np.zeros((self.N_FEATURES,), dtype=np.float32))],\n",
        "            dtype=structure\n",
        "        )\n",
        "        embeddings = np.concatenate([embeddings, null_embedding])\n",
        "        # dump numpy array to disk using pickle\n",
        "        max_bytes = 2**28 - 1 # # 256MB\n",
        "        bytes_out = pickle.dumps(embeddings, protocol=pickle.HIGHEST_PROTOCOL)\n",
        "        with open(self.PKL_PATH, 'wb') as f_out:\n",
        "            for idx in range(0, len(bytes_out), max_bytes):\n",
        "                f_out.write(bytes_out[idx:idx+max_bytes])\n",
        "        self.logger.debug('words embeddings loaded')\n",
        "        return embeddings\n",
        "\n",
        "\n",
        "class GloveEmbeddings(WordsEmbeddings):\n",
        "    WORD_TO_VEC_MODEL_TXT_PATH = 'glove.twitter.27B.50d.txt'\n",
        "    PKL_PATH = 'gloveembedding.pkl'\n",
        "    N_FEATURES = 50\n",
        "    WORD_MAX_SIZE = 60\n",
        "\n",
        "class FasttextEmbeddings(WordsEmbeddings):\n",
        "    WORD_TO_VEC_MODEL_TXT_PATH = 'cc.en.300.vec'\n",
        "    PKL_PATH = 'fasttext.pkl'\n",
        "    N_FEATURES = 300\n",
        "    WORD_MAX_SIZE = 60"
      ],
      "execution_count": null,
      "outputs": []
    },
    {
      "cell_type": "code",
      "metadata": {
        "id": "Mosj2-x-kXBK"
      },
      "source": [
        "# Por una cuestion de RAM se utilizará los embeddings de Glove de dimension 50\n",
        "model_embeddings = GloveEmbeddings()"
      ],
      "execution_count": null,
      "outputs": []
    },
    {
      "cell_type": "code",
      "metadata": {
        "id": "b9FS8ca1ke_B",
        "outputId": "b4b82684-b45e-4aaf-f231-98a218654aa5",
        "colab": {
          "base_uri": "https://localhost:8080/"
        }
      },
      "source": [
        "# Crear la Embedding matrix de las secuencias de entrada del encoder\n",
        "\n",
        "print('preparing embedding matrix...')\n",
        "embed_dim = model_embeddings.N_FEATURES\n",
        "words_not_found = []\n",
        "\n",
        "# word_index provieen del tokenizer\n",
        "\n",
        "nb_words_enc = min(MAX_VOCAB_SIZE, len(word2idx_inputs)) # vocab_size\n",
        "embedding_matrix_enc_inputs = np.zeros((nb_words_enc, embed_dim))\n",
        "for word, i in word2idx_inputs.items():\n",
        "    if i >= nb_words_enc:\n",
        "        continue\n",
        "    embedding_vector = model_embeddings.get_words_embeddings(word)[0]\n",
        "    if (embedding_vector is not None) and len(embedding_vector) > 0:\n",
        "        \n",
        "        embedding_matrix_enc_inputs[i] = embedding_vector\n",
        "    else:\n",
        "        # words not found in embedding index will be all-zeros.\n",
        "        words_not_found.append(word)\n",
        "\n",
        "print('number of null word embeddings:', np.sum(np.sum(embedding_matrix_enc_inputs, axis=1) == 0))\n",
        "print('embedding_matrix_enc_inputs shape:', embedding_matrix_enc_inputs.shape)"
      ],
      "execution_count": null,
      "outputs": [
        {
          "output_type": "stream",
          "name": "stdout",
          "text": [
            "preparing embedding matrix...\n",
            "number of null word embeddings: 64\n",
            "embedding_matrix_enc_inputs shape: (2358, 50)\n"
          ]
        }
      ]
    },
    {
      "cell_type": "code",
      "metadata": {
        "id": "330jRqOiMZw6",
        "outputId": "b92d4175-21d4-427e-98bc-d35bb781517d",
        "colab": {
          "base_uri": "https://localhost:8080/"
        }
      },
      "source": [
        "# Crear la Embedding matrix de las secuencias de entrada del decoder\n",
        "\n",
        "print('preparing embedding matrix...')\n",
        "embed_dim = model_embeddings.N_FEATURES\n",
        "words_not_found = []\n",
        "\n",
        "# word_index provieen del tokenizer\n",
        "\n",
        "nb_words_dec = min(MAX_VOCAB_SIZE, len(word2idx_outputs)) # vocab_size\n",
        "embedding_matrix_inputs_dec = np.zeros((nb_words_dec, embed_dim))\n",
        "for word, i in word2idx_outputs.items():\n",
        "    if i >= nb_words_dec:\n",
        "        continue\n",
        "    embedding_vector = model_embeddings.get_words_embeddings(word)[0]\n",
        "    if (embedding_vector is not None) and len(embedding_vector) > 0:\n",
        "        \n",
        "        embedding_matrix_inputs_dec[i] = embedding_vector\n",
        "    else:\n",
        "        # words not found in embedding index will be all-zeros.\n",
        "        words_not_found.append(word)\n",
        "\n",
        "print('number of null word embeddings:', np.sum(np.sum(embedding_matrix_inputs_dec, axis=1) == 0))\n",
        "print('embedding_matrix_dec_inputs shape:', embedding_matrix_inputs_dec.shape)"
      ],
      "execution_count": null,
      "outputs": [
        {
          "output_type": "stream",
          "name": "stdout",
          "text": [
            "preparing embedding matrix...\n",
            "number of null word embeddings: 72\n",
            "embedding_matrix_dec_inputs shape: (2413, 50)\n"
          ]
        }
      ]
    },
    {
      "cell_type": "markdown",
      "metadata": {
        "id": "3vKbhjtIwPgM"
      },
      "source": [
        "### 4 - Entrenar el modelo\n",
        "Entrenar un modelo basado en el esquema encoder-decoder utilizando los datos generados en los puntos anteriores. Utilce como referencias los ejemplos vistos en clase."
      ]
    },
    {
      "cell_type": "code",
      "metadata": {
        "id": "JDSKSfkbK6sF",
        "outputId": "1a312aa1-e38a-45ad-86c6-06b49cfaaac2",
        "colab": {
          "base_uri": "https://localhost:8080/"
        }
      },
      "source": [
        "from keras.models import Model\n",
        "from keras.layers import Input, LSTM, Dense\n",
        "\n",
        "n_units = 128\n",
        "\n",
        "# define training encoder\n",
        "encoder_inputs = Input(shape=(max_input_len))\n",
        "encoder_embedding_layer = Embedding(input_dim=nb_words_enc, output_dim=embed_dim, input_length=max_input_len, weights=[embedding_matrix_enc_inputs], trainable=False)\n",
        "encoder_inputs_x = encoder_embedding_layer(encoder_inputs)\n",
        "\n",
        "encoder = LSTM(n_units, return_state=True)\n",
        "encoder_outputs, state_h, state_c = encoder(encoder_inputs_x)\n",
        "encoder_states = [state_h, state_c]\n",
        "\n",
        "# define training decoder\n",
        "decoder_inputs = Input(shape=(max_out_len))\n",
        "decoder_embedding_layer = Embedding(input_dim=nb_words_dec, output_dim=embed_dim, input_length=max_out_len, weights=[embedding_matrix_inputs_dec], trainable=False) # num_words_output ??\n",
        "decoder_inputs_x = decoder_embedding_layer(decoder_inputs)\n",
        "\n",
        "decoder_lstm = LSTM(n_units, return_sequences=True, return_state=True)\n",
        "decoder_outputs, _, _ = decoder_lstm(decoder_inputs_x, initial_state=encoder_states)\n",
        "\n",
        "# Dense\n",
        "decoder_dense = Dense(num_words_output, activation='softmax')\n",
        "decoder_outputs = decoder_dense(decoder_outputs)\n",
        "model = Model([encoder_inputs, decoder_inputs], decoder_outputs)\n",
        "\n",
        "model.compile(loss='categorical_crossentropy', optimizer=\"Adam\", metrics=['accuracy'])\n",
        "model.summary()"
      ],
      "execution_count": null,
      "outputs": [
        {
          "output_type": "stream",
          "name": "stdout",
          "text": [
            "Model: \"model\"\n",
            "__________________________________________________________________________________________________\n",
            " Layer (type)                   Output Shape         Param #     Connected to                     \n",
            "==================================================================================================\n",
            " input_1 (InputLayer)           [(None, 10)]         0           []                               \n",
            "                                                                                                  \n",
            " input_2 (InputLayer)           [(None, 11)]         0           []                               \n",
            "                                                                                                  \n",
            " embedding (Embedding)          (None, 10, 50)       117900      ['input_1[0][0]']                \n",
            "                                                                                                  \n",
            " embedding_1 (Embedding)        (None, 11, 50)       120650      ['input_2[0][0]']                \n",
            "                                                                                                  \n",
            " lstm (LSTM)                    [(None, 128),        91648       ['embedding[0][0]']              \n",
            "                                 (None, 128),                                                     \n",
            "                                 (None, 128)]                                                     \n",
            "                                                                                                  \n",
            " lstm_1 (LSTM)                  [(None, 11, 128),    91648       ['embedding_1[0][0]',            \n",
            "                                 (None, 128),                     'lstm[0][1]',                   \n",
            "                                 (None, 128)]                     'lstm[0][2]']                   \n",
            "                                                                                                  \n",
            " dense (Dense)                  (None, 11, 2414)     311406      ['lstm_1[0][0]']                 \n",
            "                                                                                                  \n",
            "==================================================================================================\n",
            "Total params: 733,252\n",
            "Trainable params: 494,702\n",
            "Non-trainable params: 238,550\n",
            "__________________________________________________________________________________________________\n"
          ]
        }
      ]
    },
    {
      "cell_type": "code",
      "metadata": {
        "id": "N6TG5j1hPn76",
        "outputId": "ffa46d90-e96e-4f77-b5c3-b4053c7116ee",
        "colab": {
          "base_uri": "https://localhost:8080/",
          "height": 533
        }
      },
      "source": [
        "from keras.utils.vis_utils import plot_model\n",
        "plot_model(model, to_file='model_plot.png', show_shapes=True, show_layer_names=True)"
      ],
      "execution_count": null,
      "outputs": [
        {
          "output_type": "execute_result",
          "data": {
            "text/plain": [
              "<IPython.core.display.Image object>"
            ],
            "image/png": "[encoded data removed]"
          },
          "metadata": {},
          "execution_count": 18
        }
      ]
    },
    {
      "cell_type": "code",
      "metadata": {
        "id": "EReQIknTP9MP",
        "outputId": "65e8d629-6aa0-40a2-edcd-4d1746a9b475",
        "colab": {
          "base_uri": "https://localhost:8080/"
        }
      },
      "source": [
        "hist = model.fit(\n",
        "    [encoder_input_sequences, decoder_input_sequences],\n",
        "    decoder_targets,\n",
        "    epochs=60, \n",
        "    validation_split=0.2)"
      ],
      "execution_count": null,
      "outputs": [
        {
          "output_type": "stream",
          "name": "stdout",
          "text": [
            "Epoch 1/60\n",
            "304/304 [==============================] - 16s 24ms/step - loss: 2.4837 - accuracy: 0.6201 - val_loss: 2.0294 - val_accuracy: 0.6692\n",
            "Epoch 2/60\n",
            "304/304 [==============================] - 6s 20ms/step - loss: 1.8421 - accuracy: 0.6856 - val_loss: 1.8706 - val_accuracy: 0.6808\n",
            "Epoch 3/60\n",
            "304/304 [==============================] - 6s 20ms/step - loss: 1.7111 - accuracy: 0.6959 - val_loss: 1.7948 - val_accuracy: 0.6908\n",
            "Epoch 4/60\n",
            "304/304 [==============================] - 6s 20ms/step - loss: 1.6305 - accuracy: 0.7038 - val_loss: 1.7385 - val_accuracy: 0.6958\n",
            "Epoch 5/60\n",
            "304/304 [==============================] - 6s 20ms/step - loss: 1.5700 - accuracy: 0.7086 - val_loss: 1.7054 - val_accuracy: 0.6985\n",
            "Epoch 6/60\n",
            "304/304 [==============================] - 6s 20ms/step - loss: 1.5230 - accuracy: 0.7119 - val_loss: 1.6765 - val_accuracy: 0.7019\n",
            "Epoch 7/60\n",
            "304/304 [==============================] - 6s 20ms/step - loss: 1.4829 - accuracy: 0.7164 - val_loss: 1.6550 - val_accuracy: 0.7055\n",
            "Epoch 8/60\n",
            "304/304 [==============================] - 6s 20ms/step - loss: 1.4488 - accuracy: 0.7193 - val_loss: 1.6329 - val_accuracy: 0.7070\n",
            "Epoch 9/60\n",
            "304/304 [==============================] - 6s 20ms/step - loss: 1.4179 - accuracy: 0.7218 - val_loss: 1.6196 - val_accuracy: 0.7092\n",
            "Epoch 10/60\n",
            "304/304 [==============================] - 7s 22ms/step - loss: 1.3896 - accuracy: 0.7239 - val_loss: 1.6089 - val_accuracy: 0.7107\n",
            "Epoch 11/60\n",
            "304/304 [==============================] - 6s 20ms/step - loss: 1.3636 - accuracy: 0.7264 - val_loss: 1.5967 - val_accuracy: 0.7135\n",
            "Epoch 12/60\n",
            "304/304 [==============================] - 6s 20ms/step - loss: 1.3386 - accuracy: 0.7286 - val_loss: 1.5881 - val_accuracy: 0.7166\n",
            "Epoch 13/60\n",
            "304/304 [==============================] - 8s 25ms/step - loss: 1.3164 - accuracy: 0.7305 - val_loss: 1.5804 - val_accuracy: 0.7160\n",
            "Epoch 14/60\n",
            "304/304 [==============================] - 6s 20ms/step - loss: 1.2954 - accuracy: 0.7318 - val_loss: 1.5700 - val_accuracy: 0.7202\n",
            "Epoch 15/60\n",
            "304/304 [==============================] - 6s 20ms/step - loss: 1.2754 - accuracy: 0.7340 - val_loss: 1.5668 - val_accuracy: 0.7218\n",
            "Epoch 16/60\n",
            "304/304 [==============================] - 7s 22ms/step - loss: 1.2563 - accuracy: 0.7356 - val_loss: 1.5669 - val_accuracy: 0.7214\n",
            "Epoch 17/60\n",
            "304/304 [==============================] - 6s 20ms/step - loss: 1.2381 - accuracy: 0.7377 - val_loss: 1.5615 - val_accuracy: 0.7217\n",
            "Epoch 18/60\n",
            "304/304 [==============================] - 6s 20ms/step - loss: 1.2208 - accuracy: 0.7386 - val_loss: 1.5622 - val_accuracy: 0.7265\n",
            "Epoch 19/60\n",
            "304/304 [==============================] - 6s 20ms/step - loss: 1.2049 - accuracy: 0.7402 - val_loss: 1.5635 - val_accuracy: 0.7246\n",
            "Epoch 20/60\n",
            "304/304 [==============================] - 6s 20ms/step - loss: 1.1897 - accuracy: 0.7415 - val_loss: 1.5598 - val_accuracy: 0.7277\n",
            "Epoch 21/60\n",
            "304/304 [==============================] - 6s 20ms/step - loss: 1.1739 - accuracy: 0.7429 - val_loss: 1.5617 - val_accuracy: 0.7262\n",
            "Epoch 22/60\n",
            "304/304 [==============================] - 6s 20ms/step - loss: 1.1593 - accuracy: 0.7449 - val_loss: 1.5617 - val_accuracy: 0.7291\n",
            "Epoch 23/60\n",
            "304/304 [==============================] - 6s 20ms/step - loss: 1.1457 - accuracy: 0.7463 - val_loss: 1.5692 - val_accuracy: 0.7278\n",
            "Epoch 24/60\n",
            "304/304 [==============================] - 7s 24ms/step - loss: 1.1323 - accuracy: 0.7471 - val_loss: 1.5690 - val_accuracy: 0.7281\n",
            "Epoch 25/60\n",
            "304/304 [==============================] - 6s 20ms/step - loss: 1.1195 - accuracy: 0.7486 - val_loss: 1.5760 - val_accuracy: 0.7267\n",
            "Epoch 26/60\n",
            "304/304 [==============================] - 6s 20ms/step - loss: 1.1059 - accuracy: 0.7496 - val_loss: 1.5756 - val_accuracy: 0.7287\n",
            "Epoch 27/60\n",
            "304/304 [==============================] - 6s 20ms/step - loss: 1.0943 - accuracy: 0.7510 - val_loss: 1.5795 - val_accuracy: 0.7312\n",
            "Epoch 28/60\n",
            "304/304 [==============================] - 6s 20ms/step - loss: 1.0817 - accuracy: 0.7530 - val_loss: 1.5845 - val_accuracy: 0.7288\n",
            "Epoch 29/60\n",
            "304/304 [==============================] - 6s 20ms/step - loss: 1.0705 - accuracy: 0.7536 - val_loss: 1.5859 - val_accuracy: 0.7299\n",
            "Epoch 30/60\n",
            "304/304 [==============================] - 6s 21ms/step - loss: 1.0583 - accuracy: 0.7561 - val_loss: 1.5956 - val_accuracy: 0.7295\n",
            "Epoch 31/60\n",
            "304/304 [==============================] - 6s 20ms/step - loss: 1.0473 - accuracy: 0.7568 - val_loss: 1.5972 - val_accuracy: 0.7281\n",
            "Epoch 32/60\n",
            "304/304 [==============================] - 6s 20ms/step - loss: 1.0366 - accuracy: 0.7582 - val_loss: 1.6041 - val_accuracy: 0.7289\n",
            "Epoch 33/60\n",
            "304/304 [==============================] - 6s 20ms/step - loss: 1.0253 - accuracy: 0.7597 - val_loss: 1.6106 - val_accuracy: 0.7299\n",
            "Epoch 34/60\n",
            "304/304 [==============================] - 6s 20ms/step - loss: 1.0146 - accuracy: 0.7616 - val_loss: 1.6130 - val_accuracy: 0.7298\n",
            "Epoch 35/60\n",
            "304/304 [==============================] - 6s 20ms/step - loss: 1.0042 - accuracy: 0.7629 - val_loss: 1.6182 - val_accuracy: 0.7279\n",
            "Epoch 36/60\n",
            "304/304 [==============================] - 6s 20ms/step - loss: 0.9944 - accuracy: 0.7644 - val_loss: 1.6225 - val_accuracy: 0.7308\n",
            "Epoch 37/60\n",
            "304/304 [==============================] - 6s 21ms/step - loss: 0.9841 - accuracy: 0.7658 - val_loss: 1.6360 - val_accuracy: 0.7280\n",
            "Epoch 38/60\n",
            "304/304 [==============================] - 6s 21ms/step - loss: 0.9736 - accuracy: 0.7669 - val_loss: 1.6405 - val_accuracy: 0.7296\n",
            "Epoch 39/60\n",
            "304/304 [==============================] - 6s 20ms/step - loss: 0.9643 - accuracy: 0.7689 - val_loss: 1.6501 - val_accuracy: 0.7294\n",
            "Epoch 40/60\n",
            "304/304 [==============================] - 6s 20ms/step - loss: 0.9549 - accuracy: 0.7700 - val_loss: 1.6499 - val_accuracy: 0.7292\n",
            "Epoch 41/60\n",
            "304/304 [==============================] - 6s 20ms/step - loss: 0.9448 - accuracy: 0.7718 - val_loss: 1.6578 - val_accuracy: 0.7302\n",
            "Epoch 42/60\n",
            "304/304 [==============================] - 6s 20ms/step - loss: 0.9354 - accuracy: 0.7734 - val_loss: 1.6609 - val_accuracy: 0.7288\n",
            "Epoch 43/60\n",
            "304/304 [==============================] - 6s 20ms/step - loss: 0.9269 - accuracy: 0.7744 - val_loss: 1.6732 - val_accuracy: 0.7297\n",
            "Epoch 44/60\n",
            "304/304 [==============================] - 6s 20ms/step - loss: 0.9174 - accuracy: 0.7761 - val_loss: 1.6786 - val_accuracy: 0.7285\n",
            "Epoch 45/60\n",
            "304/304 [==============================] - 6s 20ms/step - loss: 0.9085 - accuracy: 0.7776 - val_loss: 1.6878 - val_accuracy: 0.7278\n",
            "Epoch 46/60\n",
            "304/304 [==============================] - 7s 22ms/step - loss: 0.8995 - accuracy: 0.7791 - val_loss: 1.6858 - val_accuracy: 0.7277\n",
            "Epoch 47/60\n",
            "304/304 [==============================] - 6s 20ms/step - loss: 0.8905 - accuracy: 0.7808 - val_loss: 1.6929 - val_accuracy: 0.7282\n",
            "Epoch 48/60\n",
            "304/304 [==============================] - 6s 20ms/step - loss: 0.8818 - accuracy: 0.7822 - val_loss: 1.7099 - val_accuracy: 0.7292\n",
            "Epoch 49/60\n",
            "304/304 [==============================] - 6s 20ms/step - loss: 0.8736 - accuracy: 0.7831 - val_loss: 1.7129 - val_accuracy: 0.7284\n",
            "Epoch 50/60\n",
            "304/304 [==============================] - 6s 20ms/step - loss: 0.8645 - accuracy: 0.7844 - val_loss: 1.7138 - val_accuracy: 0.7279\n",
            "Epoch 51/60\n",
            "304/304 [==============================] - 6s 20ms/step - loss: 0.8566 - accuracy: 0.7857 - val_loss: 1.7248 - val_accuracy: 0.7271\n",
            "Epoch 52/60\n",
            "304/304 [==============================] - 6s 21ms/step - loss: 0.8490 - accuracy: 0.7876 - val_loss: 1.7319 - val_accuracy: 0.7269\n",
            "Epoch 53/60\n",
            "304/304 [==============================] - 6s 21ms/step - loss: 0.8409 - accuracy: 0.7893 - val_loss: 1.7388 - val_accuracy: 0.7269\n",
            "Epoch 54/60\n",
            "304/304 [==============================] - 6s 20ms/step - loss: 0.8324 - accuracy: 0.7907 - val_loss: 1.7443 - val_accuracy: 0.7270\n",
            "Epoch 55/60\n",
            "304/304 [==============================] - 6s 21ms/step - loss: 0.8245 - accuracy: 0.7925 - val_loss: 1.7522 - val_accuracy: 0.7268\n",
            "Epoch 56/60\n",
            "304/304 [==============================] - 6s 21ms/step - loss: 0.8165 - accuracy: 0.7941 - val_loss: 1.7566 - val_accuracy: 0.7252\n",
            "Epoch 57/60\n",
            "304/304 [==============================] - 6s 20ms/step - loss: 0.8089 - accuracy: 0.7951 - val_loss: 1.7673 - val_accuracy: 0.7282\n",
            "Epoch 58/60\n",
            "304/304 [==============================] - 6s 21ms/step - loss: 0.8015 - accuracy: 0.7962 - val_loss: 1.7743 - val_accuracy: 0.7261\n",
            "Epoch 59/60\n",
            "304/304 [==============================] - 6s 21ms/step - loss: 0.7935 - accuracy: 0.7981 - val_loss: 1.7818 - val_accuracy: 0.7272\n",
            "Epoch 60/60\n",
            "304/304 [==============================] - 6s 20ms/step - loss: 0.7859 - accuracy: 0.7996 - val_loss: 1.7883 - val_accuracy: 0.7276\n"
          ]
        }
      ]
    },
    {
      "cell_type": "code",
      "metadata": {
        "id": "oGdKfxXRQnkv",
        "colab": {
          "base_uri": "https://localhost:8080/",
          "height": 265
        },
        "outputId": "a5ddd1b4-0f36-48ff-915b-2522187803d4"
      },
      "source": [
        "import matplotlib.pyplot as plt\n",
        "import seaborn as sns\n",
        "\n",
        "# Entrenamiento\n",
        "epoch_count = range(1, len(hist.history['accuracy']) + 1)\n",
        "sns.lineplot(x=epoch_count,  y=hist.history['accuracy'], label='train')\n",
        "sns.lineplot(x=epoch_count,  y=hist.history['val_accuracy'], label='valid')\n",
        "plt.show()"
      ],
      "execution_count": null,
      "outputs": [
        {
          "output_type": "display_data",
          "data": {
            "text/plain": [
              "<Figure size 432x288 with 1 Axes>"
            ],
            "image/png": "[encoded data removed]"
          },
          "metadata": {
            "needs_background": "light"
          }
        }
      ]
    },
    {
      "cell_type": "markdown",
      "metadata": {
        "id": "Zbwn0ekDy_s2"
      },
      "source": [
        "### 5 - Inferencia\n",
        "Experimentar el funcionamiento de su modelo. Recuerde que debe realizar la inferencia de los modelos por separado de encoder y decoder."
      ]
    },
    {
      "cell_type": "code",
      "metadata": {
        "id": "IWWaeCiQQJAQ",
        "colab": {
          "base_uri": "https://localhost:8080/",
          "height": 312
        },
        "outputId": "6097d8b2-ff17-401c-9307-6b1e59330820"
      },
      "source": [
        "# Modelo encoder\n",
        "\n",
        "encoder_model = Model(encoder_inputs, encoder_states)\n",
        "plot_model(encoder_model, to_file='encoder_plot.png', show_shapes=True, show_layer_names=True)"
      ],
      "execution_count": null,
      "outputs": [
        {
          "output_type": "execute_result",
          "data": {
            "text/plain": [
              "<IPython.core.display.Image object>"
            ],
            "image/png": "[encoded data removed]"
          },
          "metadata": {},
          "execution_count": 21
        }
      ]
    },
    {
      "cell_type": "code",
      "metadata": {
        "id": "aJQjc_kJQQeQ",
        "colab": {
          "base_uri": "https://localhost:8080/",
          "height": 422
        },
        "outputId": "61b72656-28c3-4313-8b08-78b0af373bc5"
      },
      "source": [
        "# Modelo decoder\n",
        "\n",
        "# define inference decoder\n",
        "decoder_state_input_h = Input(shape=(n_units,))\n",
        "decoder_state_input_c = Input(shape=(n_units,))\n",
        "decoder_states_inputs = [decoder_state_input_h, decoder_state_input_c]\n",
        "\n",
        "# EN cada predicción habrá una sola palabra de entrada al decoder,\n",
        "# que es la realimentación de la palabra anterior\n",
        "# por lo que hay que modificar el input shup de la layer de Embedding\n",
        "decoder_inputs_single = Input(shape=(1,))\n",
        "decoder_inputs_single_x = decoder_embedding_layer(decoder_inputs_single)\n",
        "\n",
        "decoder_outputs, state_h, state_c = decoder_lstm(decoder_inputs_single_x, initial_state=decoder_states_inputs)\n",
        "decoder_states = [state_h, state_c]\n",
        "decoder_outputs = decoder_dense(decoder_outputs)\n",
        "decoder_model = Model([decoder_inputs_single] + decoder_states_inputs, [decoder_outputs] + decoder_states)\n",
        "\n",
        "plot_model(decoder_model, to_file='decoder_plot.png', show_shapes=True, show_layer_names=True)"
      ],
      "execution_count": null,
      "outputs": [
        {
          "output_type": "execute_result",
          "data": {
            "text/plain": [
              "<IPython.core.display.Image object>"
            ],
            "image/png": "[encoded data removed]"
          },
          "metadata": {},
          "execution_count": 22
        }
      ]
    },
    {
      "cell_type": "code",
      "metadata": {
        "id": "CqIJ-r1WQil0"
      },
      "source": [
        "# Armar lo conversores de indice a palabra:\n",
        "idx2word_input = {v:k for k, v in word2idx_inputs.items()}\n",
        "idx2word_target = {v:k for k, v in word2idx_outputs.items()}"
      ],
      "execution_count": null,
      "outputs": []
    },
    {
      "cell_type": "code",
      "metadata": {
        "id": "s4gCFCC-Qrbs"
      },
      "source": [
        "def translate_sentence(input_seq):\n",
        "    # Se transforma la sequencia de entrada a los stados \"h\" y \"c\" de la LSTM\n",
        "    # para enviar la primera vez al decoder\"\n",
        "    states_value = encoder_model.predict(input_seq)\n",
        "\n",
        "    # Se inicializa la secuencia de entrada al decoder como \"<sos>\"\n",
        "    target_seq = np.zeros((1, 1))\n",
        "    target_seq[0, 0] = word2idx_outputs['<sos>']\n",
        "\n",
        "    # Se obtiene el indice que finaliza la inferencia\n",
        "    eos = word2idx_outputs['<eos>']\n",
        "    \n",
        "    output_sentence = []\n",
        "    for _ in range(max_out_len):\n",
        "        # Predicción del próximo elemento\n",
        "        output_tokens, h, c = decoder_model.predict([target_seq] + states_value)\n",
        "        idx = np.argmax(output_tokens[0, 0, :])\n",
        "\n",
        "        # Si es \"end of sentece <eos>\" se acaba\n",
        "        if eos == idx:\n",
        "            break\n",
        "\n",
        "        # Transformar ídx a palabra\n",
        "        word = ''        \n",
        "        if idx > 0:\n",
        "            word = idx2word_target[idx]\n",
        "            output_sentence.append(word)\n",
        "\n",
        "        # Actualizar los estados dado la ultimo prediccion\n",
        "        states_value = [h, c]\n",
        "\n",
        "        # Actualizar secuencia de entrada con la salida (re-alimentacion)\n",
        "        target_seq[0, 0] = idx\n",
        "\n",
        "    return ' '.join(output_sentence)"
      ],
      "execution_count": null,
      "outputs": []
    },
    {
      "cell_type": "code",
      "metadata": {
        "id": "VfBYRm45QzUO"
      },
      "source": [
        "def responder(input_test):\n",
        "  integer_seq_test = input_tokenizer.texts_to_sequences([input_test])[0]\n",
        "  encoder_sequence_test = pad_sequences([integer_seq_test], maxlen=max_input_len)\n",
        "  return translate_sentence(encoder_sequence_test)"
      ],
      "execution_count": null,
      "outputs": []
    },
    {
      "cell_type": "code",
      "source": [
        "while True:\n",
        "  input_text = input(\"Me: \")\n",
        "  print(\"Bot:\", responder(input_text))"
      ],
      "metadata": {
        "id": "05hdesvOUw58"
      },
      "execution_count": null,
      "outputs": []
    },
    {
      "cell_type": "markdown",
      "source": [
        "## **Conclusión:**\n",
        "\n",
        "Inicialmente se entrenó el bot con el corpus propuesto sobre conversaciones en inglés. Se lo entrenó durante 30 epoch obteniendo un accuracy de entrenamiento de 0.755 y de 0.7099 en validación. Al interactuando con el bot los resultados no fueron muy bueno pero la estructura de las respuestas eran aceptable.\n",
        "\n",
        "Posteriormente se entrenó sobre el mismo corpus pero duplicando la cantidad de epoch, el accuracy logrado fue muy similar, 0.798 en train y 0.71 en valid. \n",
        "\n",
        "En la siguiente figura se comparan las respuestas obtenidas:\n",
        "\n",
        "<img src=\"https://drive.google.com/uc?id=1EocTxVc2tqCvMhHmih26IM-LKUDbWFqq&export=download\">\n",
        "\n",
        "Se observan algunas mejoras en el bot cuando se lo entrena con mas epoch. Por ej. idenditicó y respondió bien cuando se le preguntó cómo estaba y también respondió que era de ohio. Si bien tuvo mejoras respecto al entrenado con 30 epoch todavía no son muy buenos los resultados, posiblemente porque el vocabulario de entrenamiento es muy pequeño.\n"
      ],
      "metadata": {
        "id": "UbOQJFWvChQW"
      }
    },
    {
      "cell_type": "markdown",
      "source": [
        "Por último se intentó obtener mejores resultados con un corpus mas grande, se entrenó con el otro corpus que tiene el doble de filas. La mejora en cuanto a accuracy es marginal pero a nivel respuestas creo que tuvo un mejor desempeño.\n",
        "En la siguiente figura se puede observar las respuestas a las mismas oraciones utilizadas con los bot anteriores.\n",
        "\n",
        "<img src=\"https://drive.google.com/uc?id=11vT9lceUhDeDdDLCjXNPjiaD7XtLPQhO&export=download\">"
      ],
      "metadata": {
        "id": "b9yLjNKkFxxR"
      }
    },
    {
      "cell_type": "markdown",
      "source": [
        "Se puede concluir que los resultados dependen directamente del tamaño del corpus utilizado y de la temática tratada en ese corpus."
      ],
      "metadata": {
        "id": "4YG_BacVI1Gg"
      }
    }
  ]
}